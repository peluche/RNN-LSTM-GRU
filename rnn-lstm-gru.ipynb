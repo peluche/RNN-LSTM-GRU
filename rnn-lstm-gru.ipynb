{
 "cells": [
  {
   "cell_type": "markdown",
   "metadata": {},
   "source": [
    "# RNN / LSTM / GRU"
   ]
  },
  {
   "cell_type": "markdown",
   "metadata": {},
   "source": [
    "## setup"
   ]
  },
  {
   "cell_type": "code",
   "execution_count": 1,
   "metadata": {},
   "outputs": [],
   "source": [
    "from datetime import datetime\n",
    "from torchvision import datasets, transforms\n",
    "import os\n",
    "import wandb\n",
    "import requests\n",
    "import torch as t\n",
    "import torch.nn as nn\n",
    "import torch.nn.functional as F\n",
    "from torch.utils.data import TensorDataset, DataLoader\n",
    "from tqdm.notebook import tqdm\n",
    "\n",
    "device = 'cuda' if t.cuda.is_available() else 'cpu'"
   ]
  },
  {
   "cell_type": "markdown",
   "metadata": {},
   "source": [
    "## utils"
   ]
  },
  {
   "cell_type": "code",
   "execution_count": 2,
   "metadata": {},
   "outputs": [],
   "source": [
    "# download alice in wonderland\n",
    "path = f'data/alice.txt'\n",
    "if not os.path.exists(path):\n",
    "    url = 'https://www.gutenberg.org/cache/epub/11/pg11.txt'\n",
    "    book = requests.get(url).content\n",
    "    book = book.decode('ascii', 'ignore')\n",
    "    with open(path, 'w') as file:\n",
    "        file.write(book)\n",
    "\n",
    "with open(path, 'r') as file:\n",
    "    book = file.read()\n",
    "assert (start := book.find('\\nDown the Rabbit-Hole')) != -1\n",
    "assert (end := book.find('THE END')) != -1\n",
    "book = book[start: end]"
   ]
  },
  {
   "cell_type": "code",
   "execution_count": 3,
   "metadata": {},
   "outputs": [],
   "source": [
    "vocab = set(book)\n",
    "d_vocab = len(vocab)\n",
    "d_hidden = 100\n",
    "d_batch = 10000\n",
    "atoi = {a: i for i, a in enumerate(sorted(vocab))}\n",
    "itoa = {i: a for a, i in atoi.items()}"
   ]
  },
  {
   "cell_type": "code",
   "execution_count": 4,
   "metadata": {},
   "outputs": [],
   "source": [
    "def to_dataloader(text, seq_len=25, batch_size=d_batch):\n",
    "    x = [text[i:i+seq_len] for i in range(0, len(text)-seq_len-1, seq_len // 2)]\n",
    "    y = [text[i+1:i+seq_len+1] for i in range(0, len(text)-seq_len-1, seq_len // 2)]\n",
    "    x = t.tensor([[atoi[a] for a in s] for s in x])\n",
    "    y = t.tensor([[atoi[a] for a in s] for s in y])\n",
    "    dataset = TensorDataset(x, y)\n",
    "    return DataLoader(dataset, batch_size=batch_size, shuffle=True)\n",
    "\n",
    "dataloader = to_dataloader(book, 50)"
   ]
  },
  {
   "cell_type": "code",
   "execution_count": 5,
   "metadata": {},
   "outputs": [],
   "source": [
    "def train(model, dataloader, epochs=2001, d_vocab=d_vocab, opt=None, lr=3e-4, filename='', wnb=True):\n",
    "    model.train()\n",
    "    model = model.to(device)\n",
    "    if opt is None: opt = t.optim.Adam(model.parameters(), lr=lr)\n",
    "    if wnb: wandb.init(project=filename)\n",
    "    for epoch in tqdm(range(epochs)):\n",
    "        for xs, ys in dataloader:\n",
    "            out = model(F.one_hot(xs, num_classes=d_vocab).float().to(device))\n",
    "            loss = F.cross_entropy(out.permute(0, 2, 1), ys.to(device))\n",
    "            opt.zero_grad()\n",
    "            loss.backward()\n",
    "            opt.step()\n",
    "        if wnb:\n",
    "            wandb.log({'loss': loss.item()})\n",
    "        if wnb and epoch % 100 == 0:\n",
    "            wandb.log({'sample_html': wandb.Html(f'<p>{model.sample(d_sample=200)}</p>')})\n",
    "        if epoch % 50 == 0:\n",
    "            print(f'loss={loss.item():.4f}')\n",
    "        if epoch % 1000 == 0:\n",
    "            print(model.sample())\n",
    "        if epoch % 1000 == 0:\n",
    "            t.save(model.state_dict(), f'weights/{filename}_{datetime.now().strftime(\"%Y-%m-%d_%Hh%M\")}.pt')\n",
    "    if wnb: wandb.finish()"
   ]
  },
  {
   "cell_type": "markdown",
   "metadata": {},
   "source": [
    "## Recurrent Neural Networks (RNN)"
   ]
  },
  {
   "cell_type": "markdown",
   "metadata": {},
   "source": [
    "### model"
   ]
  },
  {
   "cell_type": "code",
   "execution_count": 6,
   "metadata": {},
   "outputs": [
    {
     "data": {
      "text/plain": [
       "'A;.]lyshH[ryyQq\\nGUFHYQ_*d, yE!VGS:UwiMui_LHcPI-J-RKuM e?S\\n,yi*t:hGDZ!-ys*Rngmz)XYLT.IM:AvKjhKx[pLReE'"
      ]
     },
     "execution_count": 6,
     "metadata": {},
     "output_type": "execute_result"
    }
   ],
   "source": [
    "class RNN(nn.Module):\n",
    "    def __init__(self, d_in=10, d_hidden=20, d_out=30):\n",
    "        super().__init__()\n",
    "        self.d_hidden = d_hidden\n",
    "        self.embed = nn.Linear(d_in, d_hidden)\n",
    "        self.hidden = nn.Linear(d_hidden, d_hidden)\n",
    "        self.unembed = nn.Linear(d_hidden, d_out)\n",
    "\n",
    "    def forward(self, xs, memory=None, return_memory=False):\n",
    "        # xs: (batch, d_context, d_vocab)\n",
    "        batch, d_context, _ = xs.shape\n",
    "        outs = []\n",
    "        if memory is None: memory = t.zeros(batch, self.hidden.in_features, device=xs.device)\n",
    "        for i in range(d_context):\n",
    "            x = xs[:, i]\n",
    "            memory = F.tanh(self.embed(x) + self.hidden(memory))\n",
    "            outs.append(self.unembed(memory))\n",
    "        if return_memory:\n",
    "            return t.stack(outs, dim=1), memory\n",
    "        return t.stack(outs, dim=1)\n",
    "\n",
    "    @t.no_grad()\n",
    "    def sample(self, seed='A', d_sample=100):\n",
    "        text = seed\n",
    "        x = F.one_hot(t.tensor([atoi[seed]]), num_classes=d_vocab).float().to(device)\n",
    "        h_prev = t.zeros(1, self.d_hidden, device=x.device)\n",
    "        while len(text) < d_sample:\n",
    "            h_prev = F.tanh(self.embed(x) + self.hidden(h_prev))\n",
    "            out = self.unembed(h_prev)\n",
    "            probs = out[0].softmax(-1)\n",
    "            next_sample = t.multinomial(probs, num_samples=1)\n",
    "            text += itoa[next_sample.item()]\n",
    "            x = F.one_hot(next_sample, num_classes=d_vocab).float().to(device)\n",
    "        return text\n",
    "\n",
    "rnn = RNN(d_vocab, d_hidden, d_vocab).to(device)\n",
    "rnn.sample()"
   ]
  },
  {
   "cell_type": "markdown",
   "metadata": {},
   "source": [
    "### train"
   ]
  },
  {
   "cell_type": "code",
   "execution_count": 7,
   "metadata": {},
   "outputs": [],
   "source": [
    "# train(rnn, dataloader, filename='rnn', epochs=50)"
   ]
  },
  {
   "cell_type": "code",
   "execution_count": 8,
   "metadata": {},
   "outputs": [],
   "source": [
    "# print(rnn.sample(d_sample=2000))"
   ]
  },
  {
   "cell_type": "markdown",
   "metadata": {},
   "source": [
    "## Long Short-Term Memory (LSTM)"
   ]
  },
  {
   "cell_type": "markdown",
   "metadata": {},
   "source": [
    "### model"
   ]
  },
  {
   "cell_type": "code",
   "execution_count": 9,
   "metadata": {},
   "outputs": [
    {
     "data": {
      "text/plain": [
       "'ADyCsofivY_DRhXFLBOUpi[WXw;KEZ,Yl_wKBRGp-ZC(o:!z:\\npo[O_FhIVjy\\nf!CqRH.(B\\nHm\\nYWnwe?_UFD?ljPuD)-d(mg!lZ'"
      ]
     },
     "execution_count": 9,
     "metadata": {},
     "output_type": "execute_result"
    }
   ],
   "source": [
    "class LSTMCell(nn.Module):\n",
    "    def __init__(self, d_in, d_hidden):\n",
    "        super().__init__()\n",
    "        self.d_hidden = d_hidden\n",
    "        self.W_f = nn.Linear(d_in + d_hidden, d_hidden)  # forget gate\n",
    "        self.W_i = nn.Linear(d_in + d_hidden, d_hidden)  # input gate\n",
    "        self.W_c = nn.Linear(d_in + d_hidden, d_hidden)  # cell state update\n",
    "        self.W_o = nn.Linear(d_in + d_hidden, d_hidden)  # output gate\n",
    "\n",
    "    def forward(self, x, h_prev, c_prev):\n",
    "        x = t.cat((x, h_prev), dim=1)\n",
    "        # handle long-term memory `C`\n",
    "        f_gate = t.sigmoid(self.W_f(x))\n",
    "        i_gate = t.sigmoid(self.W_i(x))\n",
    "        c_update = t.tanh(self.W_c(x))\n",
    "        c_prev = f_gate * c_prev + i_gate * c_update\n",
    "        # handle short-term memory `h`\n",
    "        o_gate = t.sigmoid(self.W_o(x))\n",
    "        h_prev = o_gate * t.tanh(c_prev)\n",
    "        return h_prev, c_prev\n",
    "\n",
    "class LSTM(nn.Module):\n",
    "    def __init__(self, d_in, d_hidden, d_out):\n",
    "        super().__init__()\n",
    "        self.d_hidden = d_hidden\n",
    "        self.lstm_cell = LSTMCell(d_in, d_hidden)\n",
    "        self.unembed = nn.Linear(d_hidden, d_out)\n",
    "\n",
    "    def forward(self, xs, h_prev=None, c_prev=None):\n",
    "        # xs: (batch, d_context, d_vocab)\n",
    "        batch, d_context, _ = xs.shape\n",
    "        outs = []\n",
    "        if h_prev is None: h_prev = t.zeros(batch, self.d_hidden, device=xs.device)\n",
    "        if c_prev is None: c_prev = t.zeros(batch, self.d_hidden, device=xs.device)\n",
    "        for i in range(d_context):\n",
    "            x = xs[:, i]\n",
    "            h_prev, c_prev = self.lstm_cell(x, h_prev, c_prev)\n",
    "            outs.append(self.unembed(h_prev))\n",
    "        return t.stack(outs, dim=1)\n",
    "\n",
    "    @t.no_grad()\n",
    "    def sample(self, seed='A', d_sample=100):\n",
    "        text = seed\n",
    "        x = F.one_hot(t.tensor([atoi[seed]]), num_classes=d_vocab).float().to(device)\n",
    "        h_prev = t.zeros(1, self.d_hidden, device=x.device)\n",
    "        c_prev = t.zeros(1, self.d_hidden, device=x.device)\n",
    "        while len(text) < d_sample:\n",
    "            h_prev, c_prev = self.lstm_cell(x, h_prev, c_prev)\n",
    "            out = self.unembed(h_prev)\n",
    "            probs = out[0].softmax(-1)\n",
    "            next_sample = t.multinomial(probs, num_samples=1)\n",
    "            text += itoa[next_sample.item()]\n",
    "            x = F.one_hot(next_sample, num_classes=d_vocab).float().to(device)\n",
    "        return text\n",
    "\n",
    "lstm = LSTM(d_vocab, d_hidden, d_vocab).to(device)\n",
    "lstm.sample()"
   ]
  },
  {
   "cell_type": "markdown",
   "metadata": {},
   "source": [
    "### train"
   ]
  },
  {
   "cell_type": "code",
   "execution_count": 10,
   "metadata": {},
   "outputs": [],
   "source": [
    "# train(lstm, dataloader, filename='lstm')"
   ]
  },
  {
   "cell_type": "code",
   "execution_count": null,
   "metadata": {},
   "outputs": [],
   "source": [
    "# print(lstm.sample(d_sample=2000))"
   ]
  },
  {
   "cell_type": "markdown",
   "metadata": {},
   "source": [
    "## Gated Recurrent Unit (GRU)"
   ]
  },
  {
   "cell_type": "markdown",
   "metadata": {},
   "source": [
    "### model"
   ]
  },
  {
   "cell_type": "code",
   "execution_count": 11,
   "metadata": {},
   "outputs": [
    {
     "data": {
      "text/plain": [
       "'AGj_;?sanBE-dBoWZ!*ZT]yfKNXFEYSvupGHs]GfOO-dovxhFDpjyNdax.IY GTyTVdmil,,SMNF?qKYca\\ns;)OfB*SrfOqJNDh?'"
      ]
     },
     "execution_count": 11,
     "metadata": {},
     "output_type": "execute_result"
    }
   ],
   "source": [
    "class GRUCell(nn.Module):\n",
    "    def __init__(self, d_in, d_hidden):\n",
    "        super().__init__()\n",
    "        self.d_hidden = d_hidden\n",
    "        self.W_r = nn.Linear(d_in + d_hidden, d_hidden)  # reset gate\n",
    "        self.W_z = nn.Linear(d_in + d_hidden, d_hidden)  # update gate\n",
    "        self.W_h = nn.Linear(d_in + d_hidden, d_hidden)  # hidden state update\n",
    "\n",
    "    def forward(self, x, h_prev):\n",
    "        cat = t.cat((x, h_prev), dim=1)\n",
    "        r_gate = t.sigmoid(self.W_r(cat))\n",
    "        z_gate = t.sigmoid(self.W_z(cat))\n",
    "        h_candidate = t.tanh(self.W_h(t.cat((x, r_gate * h_prev), dim=1)))\n",
    "        h_prev = (1 - z_gate) * h_prev + z_gate * h_candidate\n",
    "        return h_prev\n",
    "\n",
    "class GRU(nn.Module):\n",
    "    def __init__(self, d_in, d_hidden, d_out):\n",
    "        super().__init__()\n",
    "        self.d_hidden = d_hidden\n",
    "        self.gru_cell = GRUCell(d_in, d_hidden)\n",
    "        self.unembed = nn.Linear(d_hidden, d_out)\n",
    "\n",
    "    def forward(self, xs, h_prev=None):\n",
    "        # xs: (batch, d_context, d_vocab)\n",
    "        batch, d_context, _ = xs.shape\n",
    "        outs = []\n",
    "        if h_prev is None: h_prev = t.zeros(batch, self.d_hidden, device=xs.device)\n",
    "        for i in range(d_context):\n",
    "            x = xs[:, i]\n",
    "            h_prev = self.gru_cell(x, h_prev)\n",
    "            outs.append(self.unembed(h_prev))\n",
    "        return t.stack(outs, dim=1)\n",
    "\n",
    "    @t.no_grad()\n",
    "    def sample(self, seed='A', d_sample=100):\n",
    "        text = seed\n",
    "        x = F.one_hot(t.tensor([atoi[seed]]), num_classes=d_vocab).float().to(device)\n",
    "        h_prev = t.zeros(1, self.d_hidden, device=x.device)\n",
    "        while len(text) < d_sample:\n",
    "            h_prev = self.gru_cell(x, h_prev)\n",
    "            out = self.unembed(h_prev)\n",
    "            probs = out[0].softmax(-1)\n",
    "            next_sample = t.multinomial(probs, num_samples=1)\n",
    "            text += itoa[next_sample.item()]\n",
    "            x = F.one_hot(next_sample, num_classes=d_vocab).float().to(device)\n",
    "        return text\n",
    "\n",
    "gru = GRU(d_vocab, d_hidden, d_vocab).to(device)\n",
    "gru.sample()"
   ]
  },
  {
   "cell_type": "markdown",
   "metadata": {},
   "source": [
    "### train"
   ]
  },
  {
   "cell_type": "code",
   "execution_count": null,
   "metadata": {},
   "outputs": [],
   "source": [
    "# train(gru, dataloader, filename='gru', epochs=50)"
   ]
  },
  {
   "cell_type": "code",
   "execution_count": null,
   "metadata": {},
   "outputs": [],
   "source": [
    "# print(gru.sample(d_sample=2000))"
   ]
  },
  {
   "cell_type": "markdown",
   "metadata": {},
   "source": [
    "## MNIST"
   ]
  },
  {
   "cell_type": "code",
   "execution_count": 12,
   "metadata": {},
   "outputs": [],
   "source": [
    "batch_size=6400\n",
    "vocab_size=10\n",
    "hidden_size=100\n",
    "\n",
    "transform = transforms.Compose([transforms.ToTensor(), transforms.Normalize((0.5,), (0.5,))])\n",
    "trainset = datasets.MNIST('./mnist/', download=True, train=True, transform=transform)\n",
    "testset = datasets.MNIST('./mnist/', download=True, train=False, transform=transform)\n",
    "trainloader = DataLoader(trainset, batch_size=batch_size, shuffle=True)\n",
    "testloader = DataLoader(testset, batch_size=batch_size, shuffle=True)"
   ]
  },
  {
   "cell_type": "code",
   "execution_count": 23,
   "metadata": {},
   "outputs": [],
   "source": [
    "@t.no_grad()\n",
    "def accuracy(model, dataloader=testloader):\n",
    "    model.eval()\n",
    "    correct, total = 0, 0\n",
    "    for xs, ys in dataloader:\n",
    "        out = model(xs.squeeze().to(device))[:, -1]\n",
    "        correct += (out.argmax(-1) == ys.to(device)).sum()\n",
    "        total += len(xs)\n",
    "    model.train()\n",
    "    return correct / total"
   ]
  },
  {
   "cell_type": "code",
   "execution_count": 24,
   "metadata": {},
   "outputs": [],
   "source": [
    "def train_mnist(model, dataloader, epochs=2001, d_vocab=d_vocab, opt=None, lr=3e-4, filename='', wnb=True):\n",
    "    model.train()\n",
    "    model = model.to(device)\n",
    "    if opt is None: opt = t.optim.Adam(model.parameters(), lr=lr)\n",
    "    if wnb: wandb.init(project=filename)\n",
    "    for epoch in tqdm(range(epochs)):\n",
    "        for xs, ys in dataloader:\n",
    "            out = model(xs.squeeze().to(device))[:, -1]\n",
    "            loss = F.cross_entropy(out, ys.to(device))\n",
    "            opt.zero_grad()\n",
    "            loss.backward()\n",
    "            opt.step()\n",
    "        if wnb:\n",
    "            wandb.log({'loss': loss.item(), 'accuracy': accuracy(model)})\n",
    "        if epoch % 50 == 0:\n",
    "            print(f'loss={loss.item():.4f} accuracy={accuracy(model)}')\n",
    "        if epoch % 10000 == 0:\n",
    "            t.save(model.state_dict(), f'weights/{filename}_{datetime.now().strftime(\"%Y-%m-%d_%Hh%M\")}.pt')\n",
    "    if wnb: wandb.finish()"
   ]
  },
  {
   "cell_type": "code",
   "execution_count": null,
   "metadata": {},
   "outputs": [],
   "source": [
    "lstm_mnist = LSTM(28, d_hidden, vocab_size).to(device)\n",
    "train_mnist(lstm_mnist, trainloader, epochs=20)\n",
    "# gru_mnist = GRU(28, hidden_size, vocab_size).to(device)\n",
    "# train_mnist(gru_mnist, trainloader, epochs=30, wnb=False)"
   ]
  },
  {
   "cell_type": "markdown",
   "metadata": {},
   "source": [
    "## Stacked LSTM"
   ]
  },
  {
   "cell_type": "markdown",
   "metadata": {},
   "source": [
    "### model"
   ]
  },
  {
   "cell_type": "code",
   "execution_count": 7,
   "metadata": {},
   "outputs": [
    {
     "data": {
      "text/plain": [
       "\"A#]Epf7K*ahT9pN*rDDgPlwBM-iBT#2M9.Z?sqzFu'P*i1FK]u'dEc5z956S\\rkW!1-F/weG$,\\ns0Spff,[%N?GqdF'U!A\\r#atgOR\""
      ]
     },
     "execution_count": 7,
     "metadata": {},
     "output_type": "execute_result"
    }
   ],
   "source": [
    "class LSTMCell(nn.Module):\n",
    "    def __init__(self, d_in, d_hidden):\n",
    "        super().__init__()\n",
    "        self.d_hidden = d_hidden\n",
    "        self.W_f = nn.Linear(d_in + d_hidden, d_hidden)  # forget gate\n",
    "        self.W_i = nn.Linear(d_in + d_hidden, d_hidden)  # input gate\n",
    "        self.W_c = nn.Linear(d_in + d_hidden, d_hidden)  # cell state update\n",
    "        self.W_o = nn.Linear(d_in + d_hidden, d_hidden)  # output gate\n",
    "\n",
    "    def forward(self, x, h_prev, c_prev):\n",
    "        x = t.cat((x, h_prev), dim=1)\n",
    "        # handle long-term memory `C`\n",
    "        f_gate = t.sigmoid(self.W_f(x))\n",
    "        i_gate = t.sigmoid(self.W_i(x))\n",
    "        c_update = t.tanh(self.W_c(x))\n",
    "        c_prev = f_gate * c_prev + i_gate * c_update\n",
    "        # handle short-term memory `h`\n",
    "        o_gate = t.sigmoid(self.W_o(x))\n",
    "        h_prev = o_gate * t.tanh(c_prev)\n",
    "        return h_prev, c_prev\n",
    "\n",
    "class StackedLSTM(nn.Module):\n",
    "    def __init__(self, d_in, d_hidden, d_out, d_layers):\n",
    "        super().__init__()\n",
    "        self.d_hidden = d_hidden\n",
    "        self.d_layers = d_layers\n",
    "        self.lstm_cells = nn.ModuleList([LSTMCell(d_in if l == 0 else d_hidden, d_hidden) for l in range(d_layers)])\n",
    "        self.unembed = nn.Linear(d_hidden, d_out)\n",
    "\n",
    "    def forward(self, xs, h_prev=None, c_prev=None):\n",
    "        # xs: (batch, d_context, d_vocab)\n",
    "        batch, d_context, _ = xs.shape\n",
    "        outs = []\n",
    "        if h_prev is None: h_prev = t.zeros(self.d_layers, batch, self.d_hidden, device=xs.device)\n",
    "        if c_prev is None: c_prev = t.zeros(self.d_layers, batch, self.d_hidden, device=xs.device)\n",
    "        for i in range(d_context):\n",
    "            x = xs[:, i]\n",
    "            h_next, c_next = [], []\n",
    "            for lstm_cell, h, c in zip(self.lstm_cells, h_prev, c_prev):\n",
    "                h, c = lstm_cell(x, h, c)\n",
    "                h_next.append(h)\n",
    "                c_next.append(c)\n",
    "                x = h\n",
    "            outs.append(self.unembed(h))\n",
    "            h_prev = t.stack(h_next)\n",
    "            c_prev = t.stack(c_next)\n",
    "        return t.stack(outs, dim=1)\n",
    "\n",
    "    @t.no_grad()\n",
    "    def sample(self, seed='A', d_sample=100):\n",
    "        text = seed\n",
    "        h_prev = t.zeros(self.d_layers, 1, self.d_hidden, device=device)\n",
    "        c_prev = t.zeros(self.d_layers, 1, self.d_hidden, device=device)\n",
    "        while len(text) < d_sample:\n",
    "            x = F.one_hot(t.tensor([atoi[text[-1]]]), num_classes=d_vocab).float().to(device)\n",
    "            h_next, c_next = [], []\n",
    "            for lstm_cell, h, c in zip(self.lstm_cells, h_prev, c_prev):\n",
    "                h, c = lstm_cell(x, h, c)\n",
    "                h_next.append(h)\n",
    "                c_next.append(c)\n",
    "                x = h\n",
    "            h_prev = t.stack(h_next)\n",
    "            c_prev = t.stack(c_next)\n",
    "            out = self.unembed(h)\n",
    "            probs = out[0].softmax(-1)\n",
    "            next_sample = t.multinomial(probs, num_samples=1)\n",
    "            text += itoa[next_sample.item()]\n",
    "        return text\n",
    "\n",
    "stacked_lstm = StackedLSTM(d_vocab, d_hidden, d_vocab, 3).to(device)\n",
    "stacked_lstm.sample()"
   ]
  },
  {
   "cell_type": "markdown",
   "metadata": {},
   "source": [
    "### train"
   ]
  },
  {
   "cell_type": "code",
   "execution_count": null,
   "metadata": {},
   "outputs": [],
   "source": [
    "train(stacked_lstm, dataloader, filename='stacked_lstm_3_layers_long', epochs=1000000)"
   ]
  },
  {
   "cell_type": "code",
   "execution_count": null,
   "metadata": {},
   "outputs": [],
   "source": [
    "# t.save(stacked_lstm.state_dict(), f'weights/stacked_lstm_3_{datetime.now().strftime(\"%Y-%m-%d_%Hh%M\")}.pt')"
   ]
  },
  {
   "cell_type": "code",
   "execution_count": 14,
   "metadata": {},
   "outputs": [],
   "source": [
    "# t.save(atoi, 'weights/atoi.pt')\n",
    "# t.save(itoa, 'weights/itoa.pt')"
   ]
  },
  {
   "cell_type": "code",
   "execution_count": 11,
   "metadata": {},
   "outputs": [
    {
     "name": "stdout",
     "output_type": "stream",
     "text": [
      "Alice,\n",
      "idestions wint, said the Caterpillar angrily, but the Hatter in her\n",
      "wait the answeret! Healvertation about reason terms of\n",
      "chimney, he was no rest at find\n",
      "you do without at once, said the Hatter, ancomemations\n",
      "though stated up to proxe Ner nestytete of twents, the March Hare said downwar: in the fish as, and Alice\n",
      "called of the trademark came now, the leavinid Come, lets\n",
      "before Twong! it consined is streng, strangleth, a goed the Mock Turtle, all crieuding out a mently, freew hey senmed, and cans addatupal.\n",
      "\n",
      "Hid the Pinge do, astoge, But Im snaits\n",
      "an extraowed the Duchess began my time).\n",
      "\n",
      "To bires facesses, I think (she was round the table. Now Im harnt but\n",
      "thought they were minkey opened tone, she tried her again how when these\n",
      "llate on brough had you voice hear, I may you neitebeering that _hou__ wrorged Stull poe!\n",
      "\n",
      "And when the hodeled lead nothing.\n",
      "\n",
      "The book her they slowly of something hunder on a day draw an a\n",
      "Projend folles terd alwargo\n",
      "ang)ss\n",
      "to its liteyyeray arm way, and, she did not like to be\n",
      "goined fith, Alice began in a low, however, and all\n",
      "doing a Jenveraininal Citho\n",
      "ladnerplable to the last, and she could seem to tell the PunyooI\n",
      "others. Ive so such sole, _theyre_ be? vohhter of she had _wi_.oust in. astound, she said, just as if she Dormouse\n",
      "flill for, I ouses! she ran of them Two distering as well do, you know\n",
      "\n",
      "Sen a roy it werladg felt, and the Hatter should not to comy usuat, if the Queen had\n",
      "jlined the grin, which she depe! Ibling Alice travel a curroy?\n",
      "yaingsseffeevirg and Secovering their from time in a\n",
      "miskeral everyon is tone. Oh, I shouldnt like whiting, sir, she was\n",
      "pacle remaln, you peepren like keeping\n",
      "haverall other sidiver; Alice guedged\n",
      "to herself how she would mouse\n",
      "had long too ask added, and incarrute the Caterpillar;\n",
      "Why were my flaged for her sister, whose her reach by hands at all; and, its very\n",
      "creiting eFA\n",
      "cootton pigen to say.\n",
      "\n",
      "\n",
      "You can put the poor ofthing them to on opiviever.\n"
     ]
    }
   ],
   "source": [
    "print(stacked_lstm.sample(d_sample=2000))"
   ]
  },
  {
   "cell_type": "markdown",
   "metadata": {},
   "source": [
    "## visualize"
   ]
  },
  {
   "cell_type": "markdown",
   "metadata": {},
   "source": [
    "### lib"
   ]
  },
  {
   "cell_type": "code",
   "execution_count": 32,
   "metadata": {},
   "outputs": [],
   "source": [
    "from io import BytesIO\n",
    "from IPython.display import display, HTML\n",
    "import base64\n",
    "import json\n",
    "import matplotlib.pyplot as plt"
   ]
  },
  {
   "cell_type": "code",
   "execution_count": 33,
   "metadata": {},
   "outputs": [],
   "source": [
    "def saliency(self, text):\n",
    "    xs = F.one_hot(t.tensor([[atoi[c] for c in text]]), num_classes=d_vocab).float().to(device)\n",
    "    xs.requires_grad = True\n",
    "    _, d_context, _ = xs.shape\n",
    "    outs = []\n",
    "    h_prev = t.zeros(self.d_layers, 1, self.d_hidden, device=device)\n",
    "    c_prev = t.zeros(self.d_layers, 1, self.d_hidden, device=device)\n",
    "    for i in range(d_context):\n",
    "        x = xs[:, i]\n",
    "        h_next, c_next = [], []\n",
    "        for lstm_cell, h, c in zip(self.lstm_cells, h_prev, c_prev):\n",
    "            h, c = lstm_cell(x, h, c)\n",
    "            h_next.append(h)\n",
    "            c_next.append(c)\n",
    "            x = h\n",
    "        outs.append(self.unembed(h))\n",
    "        h_prev = t.stack(h_next)\n",
    "        c_prev = t.stack(c_next)\n",
    "    saliencies = [()] # nothing caused the first token\n",
    "    for idx, (out, tok) in enumerate(zip(outs, text[1:])):\n",
    "        tok_idx = atoi[tok]\n",
    "        loss = -out[0, tok_idx]\n",
    "        xs.grad = None\n",
    "        loss.backward(retain_graph=True)\n",
    "        grads = []\n",
    "        for i in range(idx + 1):\n",
    "            inp_idx = atoi[text[i]]\n",
    "            grads.append(xs.grad[0, i, inp_idx].item())\n",
    "        saliencies.append(grads)\n",
    "    return saliencies\n",
    "\n",
    "def stats(self, text):\n",
    "    xs = F.one_hot(t.tensor([[atoi[c] for c in text]]), num_classes=d_vocab).float().to(device)\n",
    "    batch, d_context, _ = xs.shape\n",
    "    outs = []\n",
    "    hs = []\n",
    "    h_prev = t.zeros(self.d_layers, batch, self.d_hidden, device=xs.device)\n",
    "    c_prev = t.zeros(self.d_layers, batch, self.d_hidden, device=xs.device)\n",
    "    for i in range(d_context):\n",
    "        x = xs[:, i]\n",
    "        h_next, c_next = [], []\n",
    "        for lstm_cell, h, c in zip(self.lstm_cells, h_prev, c_prev):\n",
    "            h, c = lstm_cell(x, h, c)\n",
    "            h_next.append(h)\n",
    "            c_next.append(c)\n",
    "            x = h\n",
    "        hs.append(h)\n",
    "        outs.append(self.unembed(h))\n",
    "        h_prev = t.stack(h_next)\n",
    "        c_prev = t.stack(c_next)\n",
    "    return t.stack(outs, dim=1), t.stack(hs, dim=1)\n",
    "\n",
    "StackedLSTM.saliency = saliency\n",
    "StackedLSTM.stats = stats"
   ]
  },
  {
   "cell_type": "code",
   "execution_count": 39,
   "metadata": {},
   "outputs": [],
   "source": [
    "def to_b64_img(activation, width=10):\n",
    "    size = activation.shape[0]\n",
    "    assert size % width == 0\n",
    "    activation = activation.detach().cpu()\n",
    "\n",
    "    activation = activation.view(-1, 10)\n",
    "    plt.figure(figsize=(2, 2))\n",
    "    plt.imshow(activation)\n",
    "    plt.axis('off')\n",
    "    plt.tight_layout()\n",
    "    buf = BytesIO()\n",
    "    plt.savefig(buf, format='png')\n",
    "    plt.close()\n",
    "    return base64.b64encode(buf.getvalue()).decode('utf-8')\n",
    "\n",
    "def norm_saliencies(saliencies):\n",
    "    maxi = max([s for saliency in saliencies for s in saliency])\n",
    "    mini = min([s for saliency in saliencies for s in saliency])\n",
    "    scale = max(maxi, abs(mini))\n",
    "    return [[s / scale for s in saliency] for saliency in saliencies]\n",
    "\n",
    "def to_ch(v):\n",
    "    token = itoa[v]\n",
    "    # prevent my json to explode\n",
    "    if token == '\\r': token = '\\\\\\\\r'\n",
    "    return token\n",
    "\n",
    "def to_probs(out, token, k=5):\n",
    "    probs = out.softmax(dim=-1)\n",
    "    tops = probs.topk(k)\n",
    "    pairs = [[to_ch(i.item()), v.item()] for i, v in zip(tops.indices, tops.values)]\n",
    "    if token not in [p for p, _ in pairs]:\n",
    "        pairs += [['...', 0.], [token, probs[atoi[token]].item()]]\n",
    "    return pairs\n",
    "\n",
    "def get_db(model, tokens):\n",
    "    model.eval()\n",
    "    db = {}\n",
    "    default_img = to_b64_img(t.zeros(100))\n",
    "    outs, activations = model.stats(tokens)\n",
    "    outs, activations = outs[0], activations[0]\n",
    "    db['default_image'] = default_img\n",
    "    db['tokens'] = list(tokens) if isinstance(tokens, str) else tokens\n",
    "    db['colors'] = norm_saliencies(model.saliency(tokens))\n",
    "    db['images'] = [default_img] + [to_b64_img(activation) for activation in activations]\n",
    "    db['probs'] = [[]] + [to_probs(out, token) for out, token in zip(outs, tokens[1:])]\n",
    "    return json.dumps(db)"
   ]
  },
  {
   "cell_type": "code",
   "execution_count": 40,
   "metadata": {},
   "outputs": [],
   "source": [
    "start_template = '''\n",
    "<style>\n",
    ".container {\n",
    "    display: flex;\n",
    "    width: 100%;\n",
    "    gap: 50px;\n",
    "    align-items: flex-start;\n",
    "}\n",
    ".infos {\n",
    "    flex: 0 0 auto;\n",
    "    display: flex;\n",
    "    flex-direction: column;\n",
    "    gap: 20px;\n",
    "}\n",
    ".current {\n",
    "    background-color: green;\n",
    "}\n",
    ".prob {\n",
    "    display: flex;\n",
    "    gap: 20px;\n",
    "}\n",
    ".activations {\n",
    "}\n",
    ".probs .token {\n",
    "    min-width: 8px;\n",
    "    min-height: 16px;\n",
    "}\n",
    ".tokens {\n",
    "    flex: 1 1 auto;\n",
    "    display: flex;\n",
    "    flex-wrap: wrap;\n",
    "    gap: 10px;\n",
    "}\n",
    ".token {\n",
    "    border: 1px solid grey;\n",
    "    padding: 3px 10px 3px 10px;\n",
    "}\n",
    "</style>\n",
    "    \n",
    "<div class=\"container\">\n",
    "    <div class=\"infos\">\n",
    "        <div class=\"activations\"><img /></div>\n",
    "        <div class=\"probs\"></div>\n",
    "    </div>\n",
    "    <div class=\"tokens\"></div>\n",
    "</div>\n",
    "<script>\n",
    "(() => { // start scope\n",
    "'''\n",
    "\n",
    "end_template = '''\n",
    "function handle_mouseover(event) {\n",
    "    el = event.target\n",
    "    idx = el.getAttribute('data-idx');\n",
    "    // image of the weights\n",
    "    document.querySelector('.activations img').src = \"data:image/png;base64,\" + db['images'][idx];\n",
    "    // probability for the top tokens\n",
    "    probs = document.querySelector('.infos .probs');\n",
    "    db['probs'][idx].forEach((vals) => {\n",
    "        div = document.createElement('div');\n",
    "        div.classList.add('prob');\n",
    "        prob = document.createElement('div');\n",
    "        prob.textContent = vals[1].toFixed(2);\n",
    "        token = document.createElement('div');\n",
    "        token.classList.add('token');\n",
    "        if (vals[0] === db['tokens'][idx]) { token.classList.add('current'); }\n",
    "        token.textContent = vals[0]\n",
    "        div.appendChild(prob);\n",
    "        div.appendChild(token);\n",
    "        probs.appendChild(div);\n",
    "    });\n",
    "    // saliency maps for tokens\n",
    "    document.querySelectorAll('.tokens .token').forEach((el, i) => {\n",
    "        if (i < idx) {\n",
    "            value = db['colors'][idx][i];\n",
    "            if (value < 0) {\n",
    "                const t = (value + 1) / 1;\n",
    "                red = Math.round(255 * t);\n",
    "                green = Math.round(255 * t);\n",
    "                blue = Math.round(255 * (1 - t) + 255 * t);\n",
    "            } else {\n",
    "                const t = value / 1;\n",
    "                red = Math.round(255);\n",
    "                green = Math.round(255 * (1 - t));\n",
    "                blue = Math.round(255 * (1 - t));\n",
    "            }\n",
    "            el.style.backgroundColor = `rgb(${red}, ${green}, ${blue})`;\n",
    "        }\n",
    "    });\n",
    "}\n",
    "\n",
    "function handle_mouseout(event) {\n",
    "    document.querySelector('.infos .activations img').src = \"data:image/png;base64,\" + db['default_image'];\n",
    "    document.querySelector('.infos .probs').innerHTML = '';\n",
    "    document.querySelectorAll('.token').forEach((el, i) => {\n",
    "        el.style.backgroundColor = '';\n",
    "    });\n",
    "}\n",
    "\n",
    "function start() {\n",
    "    el = document.querySelector('.container .tokens');\n",
    "    db['tokens'].forEach((token, idx) => {\n",
    "        span = document.createElement('span');\n",
    "        span.textContent = token;\n",
    "        span.setAttribute('class', 'token');\n",
    "        span.setAttribute('data-idx', idx);\n",
    "        span.addEventListener('mouseover', handle_mouseover);\n",
    "        span.addEventListener('mouseout', handle_mouseout);\n",
    "        el.appendChild(span);\n",
    "    });\n",
    "    document.querySelector('.activations img').src = \"data:image/png;base64,\" + db['default_image'];\n",
    "}\n",
    "\n",
    "start();\n",
    "})(); // end scope\n",
    "</script>\n",
    "'''\n",
    "\n",
    "def build_html_widget(model, tokens):\n",
    "    db_json = get_db(model, tokens)\n",
    "    db_str = f\"var db = JSON.parse('{db_json}');\"\n",
    "    return start_template + db_str + end_template\n",
    "\n",
    "def display_interactive(model, tokens):\n",
    "    html = build_html_widget(model, tokens)\n",
    "    display(HTML(html))"
   ]
  },
  {
   "cell_type": "markdown",
   "metadata": {},
   "source": [
    "### demo"
   ]
  },
  {
   "cell_type": "code",
   "execution_count": 41,
   "metadata": {},
   "outputs": [
    {
     "data": {
      "text/html": [
       "\n",
       "<style>\n",
       ".container {\n",
       "    display: flex;\n",
       "    width: 100%;\n",
       "    gap: 50px;\n",
       "    align-items: flex-start;\n",
       "}\n",
       ".infos {\n",
       "    flex: 0 0 auto;\n",
       "    display: flex;\n",
       "    flex-direction: column;\n",
       "    gap: 20px;\n",
       "}\n",
       ".current {\n",
       "    background-color: green;\n",
       "}\n",
       ".prob {\n",
       "    display: flex;\n",
       "    gap: 20px;\n",
       "}\n",
       ".activations {\n",
       "}\n",
       ".probs .token {\n",
       "    min-width: 8px;\n",
       "    min-height: 16px;\n",
       "}\n",
       ".tokens {\n",
       "    flex: 1 1 auto;\n",
       "    display: flex;\n",
       "    flex-wrap: wrap;\n",
       "    gap: 10px;\n",
       "}\n",
       ".token {\n",
       "    border: 1px solid grey;\n",
       "    padding: 3px 10px 3px 10px;\n",
       "}\n",
       "</style>\n",
       "    \n",
       "<div class=\"container\">\n",
       "    <div class=\"infos\">\n",
       "        <div class=\"activations\"><img /></div>\n",
       "        <div class=\"probs\"></div>\n",
       "    </div>\n",
       "    <div class=\"tokens\"></div>\n",
       "</div>\n",
       "<script>\n",
       "(() => { // start scope\n",
       "var db = JSON.parse('{\"default_image\": \"iVBORw0KGgoAAAANSUhEUgAAAMgAAADICAYAAACtWK6eAAAAOXRFWHRTb2Z0d2FyZQBNYXRwbG90bGliIHZlcnNpb24zLjguMywgaHR0cHM6Ly9tYXRwbG90bGliLm9yZy/H5lhTAAAACXBIWXMAAA9hAAAPYQGoP6dpAAACMUlEQVR4nO3VsQ3CABAEQWzRGiVQJSW4N94NoA3AyA5m8pcuWf0yM3MDPlrPHgBXJhAIAoEgEAgCgSAQCAKBIBAIAoEgEAgCgSAQCAKBIBAI91+OH+vzqB3wN9v79fWtDwJBIBAEAkEgEAQCQSAQBAJBIBAEAkEgEAQCQSAQBAJBIBAEAkEgEAQCQSAQBAJBIBAEAkEgEAQCQSAQBAJBIBAEAkEgEAQCQSAQBAJBIBAEAkEgEAQCQSAQBAJBIBAEAkEgEAQCQSAQBAJBIBAEAkEgEAQCQSAQBAJBIBAEAkEgEAQCQSAQBAJBIBAEAkEgEAQCQSAQBAJBIBAEAkEgEAQCQSAQBAJBIBAEAkEgEAQCQSAQBAJBIBAEAkEgEAQCQSAQBAJBIBAEAkEgEAQCQSAQBAJBIBAEAkEgEAQCQSAQBAJBIBAEAkEgEAQCQSAQBAJBIBAEAkEgEAQCQSAQBAJBIBAEAkEgEAQCQSAQBAJBIBAEAkEgEAQCQSAQBAJBIBAEAkEgEAQCQSAQBAJBIBAEAkEgEAQCQSAQBAJBIBAEAkEgEAQCQSAQBAJBIBAEAkEgEAQCQSAQBAJBIBAEAkEgEAQCQSAQBAJBIBAEAkEgEAQCQSAQBAJBIBAEAkEgEAQCQSAQBAJBIBAEAkEgEAQCQSAQBAJBIBAEAkEgEAQCQSAQBAJhmZk5ewRclQ8CQSAQBAJBIBAEAkEgEAQCQSAQBAJBIBAEAkEgEAQCQSAQdojZDIlbNNQ3AAAAAElFTkSuQmCC\", \"tokens\": [\"A\", \"l\", \"i\", \"c\", \"e\", \",\", \" \", \"s\", \"a\", \"i\", \"d\", \" \", \"A\", \"l\", \"i\", \"c\", \"e\", \" \", \"i\", \"n\", \" \", \"a\", \" \", \"l\", \"i\", \"t\", \"t\", \"l\", \"e\", \" \", \"p\", \"a\", \"p\", \"e\", \"r\", \" \", \"a\", \"l\", \"l\", \" \", \"a\", \"l\", \"o\", \"m\", \"e\", \"r\", \" \", \"f\", \"r\", \"o\", \"g\", \" \", \"t\", \"o\", \" \", \"t\", \"h\", \"e\", \" \", \"e\", \"n\", \"d\", \".\"], \"colors\": [[], [0.005247929526715742], [0.02594231888486095, -0.002165156337608748], [-0.024748352955539652, -0.026857539616918034, 0.0031887749797975037], [-0.019521917851578346, 0.0322052038304321, 0.03773431100927861, 0.01769262902790302], [0.003927440618225462, 0.006510836374473863, -0.10493768555290567, 0.03770733801182888, -0.017542543534684343], [-0.005476188164373067, 0.0034927985306438445, -0.002073630933655712, 0.002563898267914495, -0.004797513574914927, -0.0018097956249402483], [-0.0280237856539343, -0.022693764308083064, -0.02484841667980125, -0.004706273303119485, -0.011850924147134895, 0.01551432835015852, -0.010249777384960428], [-0.03504269977701353, -0.015467883601967863, -0.02630943183667985, -0.005148373489092267, -0.005700957591875334, 0.0058238066558101795, 0.016002350457923253, 3.57500213167829e-06], [-0.035932227326048595, -0.002831067099580382, -0.054428093323583594, 0.006437813776584612, -0.03079525407667324, 0.006803004483468512, 0.009698604307863437, -0.0013765148541641367, 0.002521345447510329], [-0.07635099956332893, 0.04130644667962038, -0.048127696088564126, -0.009429422392699066, -0.03221830073265137, 0.023041760788875997, 0.024704693923295756, -0.035338405543397094, -0.04125773298597743, 0.04032381565892114], [0.04986976172358463, -0.0283940113405285, 0.03052225189525579, -0.005001759038315948, 0.013192327120890706, -0.017027989501161443, -0.009015073387869846, -0.009484292922311307, 0.017287953320767196, 0.012670883486986428, 0.0026808660395226075], [0.05818746947824267, -0.03090409886207137, -0.007793970951684543, -0.014097727194918079, 0.024546659046455085, -0.030727329036171352, 0.05478035719822541, 0.045731128510486566, 0.02110992128293443, -0.07824538330159501, 0.005973098825574455, -0.01013225549811508], [0.011018425048253445, 0.03249814608585108, 0.04325585436373925, 0.0014960798516997873, 0.02883127184970247, -0.012068080798358737, -0.0001307517666283826, -0.02432599602668086, -0.004950761764118816, -0.006948896263006468, 0.012444872094457896, 0.020397004087654613, -0.00938187143266868], [-0.03706902955668843, 0.017172297661742705, -0.017978227490123223, 0.008444195407719, -0.00839210706144272, 0.02147034246057687, -0.015313824426255559, 0.015906274546598487, -2.7519038147997902e-05, -0.03499657801038192, -0.01878918977492061, -0.02780327201313114, 0.019296046754164523, -0.020224727742694803], [0.14173998886359584, -0.08227796955705018, 0.0048490094518938345, -0.019583276273257903, 0.012907797525767468, -0.04894183166717913, 0.04411104089850886, 0.014625349869773836, 0.059775077257188926, -0.026084614466602415, 0.02264305822194776, -0.011867396206646185, -0.011862681685201501, -0.016921956673961742, -0.0057577488524465205], [-0.1741691945356688, 0.08334728882819707, -0.08960340932874096, 0.027369893338569942, -0.08500299726886794, 0.11780053918541467, -0.05434792930062865, -0.0184421662760743, -0.08299510166167552, 0.004970918336696648, -0.031403414221911584, -0.012030880387978367, -0.05821110365382578, -0.024053930491784642, -0.007309710569765308, 0.006596302846242691], [-0.04133100135264677, -0.008815830101364533, -0.03286407006180575, 0.016288315302349497, -0.04424720992380219, 0.05450327939325976, -0.028331308508109422, -0.015358017387389249, 0.005257480697007124, 0.04948604348236133, -0.050772378100299984, 0.019242575138429897, -0.06811896670447704, -0.02382589138065573, -0.036261519137303334, 0.003565787568730476, -0.01269146346820182], [-0.3263572331074185, 0.05645089452972593, -0.13033814231342647, 0.03695856986349507, -0.10056455561613255, 0.12001614423322886, -0.008031075751448895, 0.04621454308444805, 0.0032946536337686264, 0.05772120118779698, -0.06410861772936212, 0.02656530993956369, 0.00901124403776042, -0.039119946307545624, 0.01254679599063612, -0.01959185345228529, 0.012434589169071803, -0.0020842962641611264], [0.5532982230846547, -0.12425780452639276, 0.2222929462119431, -0.07137852082197514, 0.1776216736129234, -0.2458261416106186, 0.06284079399202623, -0.09820425482986624, 0.03840079960544573, -0.03616515758916229, 0.11251902361382775, -0.017979143950297014, 0.054395819391296035, 0.08135861062376783, -0.012429620299649372, -0.0015927820444538898, 0.0030630031850826444, -0.05213165406607944, 0.04157725460507107], [0.011620688761404478, -0.018003781387347907, -0.0064445782216118585, 0.001732976227426819, -0.009977690654399397, 0.005424261308876309, 0.012220162721339262, -0.00962201024045331, 0.014162541519279415, 0.018836018063712635, -0.009210828473537476, 0.002326877998480049, -0.01625564369901736, -0.00010967343496055749, -0.003016612940030076, 0.0035630457580893963, -0.0037964902684041353, -0.030060327706779254, 0.015559442818052861, 0.0036827349016618047], [-0.009911016158121436, -0.03814223671835233, -0.057467971533697315, 0.00660176628117741, -0.06274792871926184, 0.04926906850826445, 0.011609693257953744, -0.010682320344737596, 0.02810387498740372, 0.03890758189520411, -0.031199199038031724, 0.033819748271402696, -0.09833969714665171, -0.050646697901136635, -0.02641826854753901, -0.00036003359977158743, -0.03444420283629486, -0.03264080098457699, 0.026665327235226178, -0.011312520953428643, 0.0050978919760722346], [0.15730942796090114, -0.018166291577416095, 0.0730688609603146, -0.017245467115309585, 0.06584347683834643, -0.07494320369284195, 0.0037843688714249172, -0.02747734930326418, -0.005116940822834279, -0.02039860082773714, 0.04167962764747984, -0.038174591396029654, 0.06923198538056272, 0.06275037530457162, -6.45660322878205e-05, 0.014051570102178446, 0.0015833969068702054, 0.03548809538420594, -0.017687382596203286, -0.001282099774575021, -0.002364119538543327, 0.007453973815723517], [-0.305811407191895, 0.08121035401362724, -0.04000052726739514, 0.048647482423343553, -0.017641886606342323, 0.05372880595009547, -0.0543211622039228, 0.01875214782736765, -0.026654359992661858, 0.1262582150359543, -0.07112544054684654, -0.06106575597709673, 0.18244086530635448, 0.049537409662057934, -0.02695797880724202, 0.038704749476123915, 0.05328707618359822, -0.021121776724786122, -0.01602606235094401, 0.01739902062301851, 0.00920288312718497, 0.03738212788002656, 0.002085195313610249], [-0.6887326591200948, 0.11025795891157798, -0.23056615114503423, 0.10233195915446011, -0.19673370364245682, 0.259197125980895, -0.07561705626855529, 0.0819408091075632, 0.008928642513352058, 0.1954345749175105, -0.21266998519452535, 0.03260743295225816, 0.001233585673442389, -0.09314060646893305, -0.02672476189799467, -0.008632339231084262, 0.04267046643704831, -0.10943519568806699, 0.051332484645456686, -0.015392130295928624, -0.018355768709029788, -0.008356871287326978, 0.00551828124071428, 0.0014384657451410655], [0.16468214415829713, -0.05563573752193045, 0.06719781926081149, -0.02563431963288624, 0.05514010617049809, -0.07852070085706386, 0.039296980574597115, -0.039199908467026166, 0.027143448948888815, 0.014785876751206014, 0.063252756970588, 0.008713490366429039, 0.020241276510326367, -0.0008176076303747362, -0.021304045311728883, 0.047170968188900285, -0.04246883712427555, 0.10358921332027626, -0.08418844585149567, 0.03804906057583736, 0.009428425187135516, 0.0733557654792142, -0.020192940301380552, 0.026449476640681722, -0.008562094779261483], [0.009999982437877726, -0.07539099340084078, -0.0288402224761575, 0.0005064916063552435, -0.030240404056389995, 0.004032899143840483, 0.034076484294052745, -0.02207357511840504, 0.06108557493301362, 0.09266492730331069, -0.0052596870647823495, 0.04445159265436581, -0.005136078994183748, -0.038082848484182946, -0.021381994892369624, 0.030708775764238964, -0.061700277473457375, 0.09693520376260598, -0.03177733199145261, -0.009141513603014323, 0.07699037385761423, -0.05782390932357326, 0.0602554840653818, -0.017560890905872838, -0.03352579266134221, 0.06249835683131836], [-0.004306065843989571, -0.08019871117438679, -0.061740032466106314, 0.013096286535673959, -0.06603578813314075, 0.046244334096000456, 0.00556371061562869, -0.025031111198675002, 0.05646277217655981, 0.09920853368956047, -0.04926620204692793, 0.02289888787759774, -0.04163704656618926, -0.017647754777543222, -0.024369739841584005, 0.03196965943532488, -0.0508749045589493, 0.09636178230267764, -0.03762975784134629, -0.009647726637774889, 0.029486322861409904, -0.008554126218609423, -0.0004915284763151163, 0.023040616222976134, 0.016948653118451548, -0.029603304763461225, 0.0457347337921394], [0.25584775876636545, -0.022350925439061132, 0.1003077691276139, -0.04028798489221459, 0.08949250553590392, -0.11226105824261857, 0.030928584901516464, -0.028179616181634493, -0.02441840306935835, -0.08931359797580997, 0.0940146510894814, -0.020312974379164846, 0.023885727751738285, 0.044666653962725344, 0.017417983677803933, -0.006737352930347089, 0.009280083794335679, 0.009778537197140192, 0.011998582232073878, -0.010705964613494427, -0.011311514664008744, 0.003992311969018317, -0.018695597793648374, 0.004405524482486648, -0.004058613017868632, 0.05172240413261364, -0.019682463910040592, -0.006849031878925841], [0.1738196638924704, 0.019739859751717617, 0.08276758537694531, -0.03258327998754583, 0.0788825613212788, -0.0862672762835933, 0.018154428061025428, -0.01294492324666231, -0.04420646176285919, -0.10125627714660004, 0.08712643952880866, -0.022695167259230167, 0.029741898169082136, 0.03377483566698276, 0.015536618115002105, -0.011692982127492448, 0.009425339703929265, -0.010778153010575707, 0.012682966025246822, 0.002137846228156757, -0.009301986990625783, 0.022329081792495976, -0.008128420374710286, -0.005494931692630077, -0.00967264264642046, 0.006969888550368328, -0.01876017593774466, -0.04907817025779096, -0.0017686586244796767], [-0.45774086672747333, -0.08281407049783085, -0.24364260863161757, 0.0823497522085479, -0.23310165327800444, 0.2282607410747276, 0.0005767804681423909, 0.00445926104403143, 0.12453706245688197, 0.31816296486735796, -0.19970881597544307, 0.09586164535849662, -0.07524316474126594, -0.12528451445536265, -0.057938608149729086, 0.05433781594056106, -0.06685386004950661, 0.10976750333962933, -0.010999144058495836, -0.0408184982520238, 0.054878551666714036, -0.0653400252959157, 0.0830661253065095, -0.002335239435919167, -0.053307387686392656, 0.06196550185520607, -0.001567575857063865, 0.002038992675424204, 0.011293445864414926, 0.005296650285580295], [0.18222269126321963, 0.014616915004495903, 0.08163677041695627, -0.029941718785124246, 0.07691201045685095, -0.08041620695624763, 0.004710540696968366, -0.005984961332647751, -0.03510296813593131, -0.10510396453404096, 0.06943866935473453, -0.029944599376903976, 0.019977337998909613, 0.04108764282244541, 0.0167563721031784, -0.016456334346634145, 0.012033637843038713, -0.016740311845154888, 0.0006591748301601472, 0.004830441544859555, -0.005915532409261561, -0.007497422909954033, 0.004909619464742041, -0.009222020793875753, 0.003786790223800382, 0.005198030894478049, 0.025509983844462417, 0.014250840640252805, -0.0008547505096649002, 0.039889098629524646, -0.009280336123678682], [-0.45579141463339007, -0.03604004260772727, -0.2062495639748953, 0.08307826133859061, -0.1981395454745116, 0.2140493102405825, -0.027269252284771547, 0.009506461569070252, 0.09024186312558298, 0.2755555282815572, -0.19924302812006645, 0.05451102287613786, -0.04804245721786269, -0.09038793961020002, -0.05016432090543358, 0.048682408841684774, -0.02694928252876474, 0.0631435649800139, -0.017607194349631414, -0.02583372037290159, 0.01985710003901617, -0.021785885350590024, 0.08703502767305998, -0.02897473218369124, -0.027059796725096185, 0.06744274425157422, -0.0002981484405885112, 0.05082249272645529, 0.005525266221587312, 0.005413085137615983, 0.008765370288667999, 0.004410150184002594], [0.22582592844278962, 0.02579246351600309, 0.12170190610796885, -0.0404413405737186, 0.11412324879398686, -0.11551078564618275, 0.007268675762688653, -0.0073668298584824, -0.04504170014908829, -0.13531010428428578, 0.09770051664130185, -0.03542192050002713, 0.035440403119743474, 0.0543054047411109, 0.025668262976107116, -0.019252797504773666, 0.02419312746919402, -0.039769878061542197, -0.0005441815356610399, 0.023567810947266156, -0.02954643376681765, 0.05372127240523075, -0.07239671211232523, 0.02714583093788677, 0.015799773396138174, -0.036391656481981505, -0.026007343147235667, -0.03977493676021074, -0.004274022036062829, -0.022420717716701247, 0.0006995384411844121, 0.019385080658184742, -0.00348703558077898], [0.02389001129466512, 0.009743955965340202, 0.021633117091796526, -0.005315236864985957, 0.020582419726163315, -0.018076121182034992, 1.6028464526289406e-05, 0.0020596655138378217, -0.0068305714641916804, -0.0224228473763562, 0.014866394035241164, -0.006650545075790853, 0.008530830164345936, 0.00883436419626685, 0.006604347610356339, -0.004234526437978497, 0.007795646418522088, -0.014797455640097773, 0.002351982497144843, 0.004769328387301399, -0.013294532616615722, 0.02070439774920611, -0.029679990678752207, 0.012967289719626168, 0.0007659144318495991, -0.016232362784514457, -0.02016146171118214, -0.034110954500941815, 0.0001354741102826993, 0.013597470141969775, -0.02459913749389565, 0.01014903338079009, -0.019525228412558555, 0.00979712680449797], [0.061202272207566036, 0.02877038376991827, 0.04273758200501784, -0.015775189452907998, 0.04294288523302474, -0.04124902863296117, 0.008661810289029738, -0.0016049599632059408, -0.032853900179965326, -0.062109151940860786, 0.04696585067528984, -0.009299734194251445, 0.01893834467752229, 0.013543169876672721, 0.010888623806260158, -0.01053850674966862, 0.014585749302682815, -0.024744303574243124, 0.01820241706479527, 0.0016290904706067401, -0.02910393893775241, 0.02832167760174565, 0.013825495122655476, -0.018243803114317385, -0.012666945130600822, 0.08039760321844663, -0.023005942133977917, -0.014397946628589293, -0.005914822354490348, 0.060216952365387745, -0.013558633628129368, -0.046259368887573996, 0.04389088455605539, -0.06119539673762787, 0.03780977565054946], [-0.1802093534167573, -0.011982734940015866, -0.09183998395427614, 0.029149800300502043, -0.08462171753841542, 0.08427952665114632, 0.0009281985348264556, 0.0016906065981256734, 0.023719981690175418, 0.10111602240458478, -0.06218260198465708, 0.024929571852415514, -0.016560269812334796, -0.04295318027021929, -0.018244729667664893, 0.018161999959950288, -0.015494823291944322, 0.03310349831016048, 0.0017874213297667555, -0.02056764331983701, 0.01816398427790367, -0.02017520053925001, 0.03967157862404688, -0.013415736493234182, -0.015426263390815438, 0.022720509199806727, 0.013255857593554838, 0.030353879589890935, -0.0004173078187052832, -0.08147040261589224, 0.015184519768409304, 0.006745920520859441, -0.019098969462739555, 0.05226731843268677, -0.028214665736695097, -0.0044004642698420495], [-1.0, -0.0654800620253786, -0.46182861823321336, 0.17577993586878163, -0.43473550394166693, 0.4692258971781747, -0.05668127727579266, 0.04891284407225485, 0.19200943622922906, 0.5558047537717786, -0.4178348156033683, 0.12602909999250683, -0.11346178256106289, -0.20382981843268677, -0.09341565756461569, 0.0819311681080257, -0.06608802232577729, 0.11146586149517207, -0.015690224107214375, -0.06142923538637638, 0.055329385475906864, -0.09140885202018506, 0.18872368023275343, -0.032785092996080296, -0.102459149292412, 0.15624247452967424, 0.00554261588255357, 0.07451972642170022, 0.025102284222480033, -0.13716246812172012, 0.04658396131714464, 0.011542840112500936, -0.0072725136919957415, 0.04049847197424416, -0.063470204305215, 0.044156383472129274, -0.03204772004087655], [0.12156780416465342, 0.03796026083344745, 0.06535779331893266, -0.03209796385965547, 0.0677110167717864, -0.0760735745531873, 0.02829337028673011, -0.009666991478454547, -0.06521947646627169, -0.1037381643407688, 0.09818885668403877, -0.016438475485053707, 0.03683487600091985, 0.019764513337846464, 0.0187225061947863, -0.013829480916957565, 0.0193451056343487, -0.0262180260368354, 0.026449714839581518, -0.0044361143687390026, -0.028217754247853465, 0.048366908343001246, -0.026677378484648042, -0.01328705458420646, 0.016602465334389267, 0.005713181939226498, -0.01794008740526951, -0.010625980249031702, -0.024013051119583278, -0.08169220212702735, 0.04408702318232438, 0.042201315536188146, 0.0544360386699361, -0.027678375044248475, 0.015199917914236768, -0.029325831306085747, -0.022268964831184, -0.0182235582264695], [0.08505670102759813, 0.009376536181040207, 0.04471849654022154, -0.01571376542559926, 0.04195829613662378, -0.04366491050826962, 0.00659652287742979, -0.0036822501769938946, -0.01778547007705048, -0.04990381205444694, 0.03949468969869696, -0.009907662196494228, 0.01213659427088851, 0.015925150800089917, 0.008282042516000506, -0.006669366826144194, 0.006572756481270946, -0.01039743042331255, 0.0033484096246728197, 0.0058581355582671656, -0.010674813042124547, 0.018210178715386067, -0.012971894225477303, -0.0005935946862427943, 0.0023125070854079516, 0.002105655312223043, -0.007559220384690416, -0.0181904021507988, -0.005542843988279645, 0.018140753829269364, -0.013602920455778657, -0.011351469501497343, 0.005321913499401838, 0.009553721845697498, 0.005288145777403694, -0.019425249470956207, 0.04951371896470199, -0.02522405230750945, 0.015884079657587872], [-0.24586909815797156, -0.006527326097039163, -0.10974729276857209, 0.04089624798782489, -0.10157238727297627, 0.1108356437280857, -0.012463836158560691, 0.014336214759482093, 0.03730722845648405, 0.12357758113942727, -0.09397911504344748, 0.030427569851221775, -0.023202793338311555, -0.04839680432356034, -0.01971333489118105, 0.015211333293714262, -0.011103055300579558, 0.014887138535188195, 0.0066261766218196, -0.016618034054852605, 0.00625973335207703, -0.018144100725674968, 0.04858637431237226, -0.007265366211025815, -0.028322995770233502, 0.05079514830021265, -0.004521589419705493, 0.01207492800741049, 0.003734868414890483, -0.023742257324575796, 0.005251189117168666, 0.0003759979095624181, 0.004077017415488645, -0.011280779940713505, -0.012816863077135749, 0.004045788631339805, -0.013914794477144533, 0.01593071516676184, -0.008294472259436875, 0.0016122631313805007], [-0.19918544050808876, 0.006342414107899095, -0.08162463438487516, 0.02838146552559435, -0.0731497193936215, 0.07916445155147421, 0.00031501804497970385, 0.010260328788767476, 0.01737954887227759, 0.08785447226105178, -0.055134663931228185, 0.028039926657347572, -0.009347628322188316, -0.04465401730922771, -0.013614438785628095, 0.011969905506900178, -0.007938006091916677, 0.008495751339081543, 0.014392742588219183, -0.014484765080977936, -0.007090824453224519, 0.012102150306251114, 0.029489968515757626, -0.0075957268893775244, -0.023392843762192556, 0.04231204976370669, -0.028759923204674707, -0.022414645663391203, -0.010573455372992023, -0.03277079904345782, -0.0022590354696733236, 0.02129204049090613, 0.01727159228616683, 0.007410069014699537, -0.010692501329069116, -0.042457318794426116, 0.09290544359579246, -0.06517880097617947, 0.017973721897374548, 0.03150059533575871, -0.033802971398045056], [0.055718057446792014, 0.009869721956480173, 0.02568437168136448, -0.010740024028213085, 0.025545390697872716, -0.0264011767671613, 0.00034929143498122834, -0.0007382026140835463, -0.016953879363803843, -0.04210496609985556, 0.025973123251054858, -0.01204453342406962, 0.007863948943721109, 0.015793444976215636, 0.008676153698203447, -0.008188190130846288, 0.008426103393825626, -0.01642122019526173, 0.001104634276676339, 0.004361779658266131, -0.005056812254372525, 0.004856374440757431, -0.02267516662618631, 0.005897622072495149, 0.007894072525347592, -0.016565287128991083, -0.0019110281387186418, 0.002205784389784481, 0.0016623439454038433, -0.022352766433947686, 0.0072279351716259405, -0.011650642273053778, -0.007179592906775895, -0.009576618210281666, -0.006510398835393095, 0.011648305703337563, -0.012525371210780348, 0.0068029605781628295, -0.020697439515243436, -0.026096023790175678, 0.02668678935982471, 0.024117666865192663], [-0.19676953844643286, -0.00612175764868779, -0.08638589933569153, 0.03202756599159214, -0.08029663110855023, 0.08613742962231828, -0.005016357804784778, 0.008563969081621315, 0.02769721496231451, 0.10276780661931327, -0.07092013731883964, 0.026036635556006296, -0.015976643144458024, -0.04157763814567243, -0.01679945582452024, 0.015282043040845539, -0.00848966919259778, 0.016691404362576514, 0.007197247886247187, -0.015697521471814045, 0.0021039383372085736, -0.004746208963578015, 0.03787106543864772, -0.010839821292688472, -0.020308170028474053, 0.04171970158441834, -0.006386037309376284, 0.009116412889289674, -0.002682031801087285, -0.03827969766988184, 0.01974196115048615, 0.03541140745028022, 0.00781371723675065, 0.002015078918929045, 0.003224124806776282, -0.04085273429728256, 0.01660762496479501, -0.05359481301305621, 0.006511741732156561, 0.013723847779437186, 0.008760767801451609, -0.02467724049077694, 0.012586393529775024], [-0.21438430671362388, -0.018902633010265645, -0.09749028794451951, 0.03971191902077159, -0.0934512985796563, 0.10186828682829525, -0.014782054466318192, 0.009980307814345031, 0.04892925557272382, 0.12895694397432683, -0.09693069816985729, 0.027506538761662865, -0.026008388800033075, -0.04419695803048429, -0.023072740776292636, 0.02035027673059979, -0.016798095264702766, 0.029168220342541323, -0.007674564164646955, -0.011065092855583318, 0.01772879286934233, -0.023595367330156918, 0.03899933691885928, -0.00510198173006364, -0.01741969548006687, 0.019012087423356475, 0.0017667849529432018, 0.0185924314277852, 0.0034937018696917983, -0.020918538560122373, 0.0019969571301731957, 0.01821120620047078, -0.012046603533999624, 0.027063387876305814, -0.007513931809549402, -0.02787361335942163, 0.002142906440801356, -0.03160231232187567, -0.01707621266656159, 0.07591033159870704, -0.074949275746152, 0.03148399206498906, 9.240653801880528e-05, 0.008176514347486816], [-0.1461159206653937, -0.007505111889694046, -0.061746681848953155, 0.026050705440172187, -0.059015485189357626, 0.06588022810249626, -0.007528681973624034, 0.00798540817763469, 0.03001561292856423, 0.08225860681258543, -0.06072182502667828, 0.01961935936930745, -0.014802621326407748, -0.030972809151488687, -0.01459043051665422, 0.012457172645270645, -0.009964570537880569, 0.018403812215937718, 0.0006811229410733065, -0.009922160031225856, 0.005769061786210754, -0.011003980707342534, 0.037891457686831914, -0.009184144140856134, -0.01898035246654557, 0.036513416492471945, 0.0004760511936974509, 0.006929779287321811, 0.0005011689711939207, 0.0011195892060128184, -0.000971557295152176, -0.00019001257447954752, 0.0046449335538113114, 0.0023934321336613966, 4.675227457744323e-05, -0.009402026491270454, 0.015973324508938836, -0.011879417176546888, 0.0002103529689837579, 0.053691917418783056, 0.004227642136513323, -0.02774078517462967, 0.06918516920357916, -0.017810438570199396, 0.04870028183370842], [0.06196973695089905, -0.0037863067607791867, 0.02108495077115077, -0.008701005110537209, 0.019111658600740534, -0.021782956311576434, -0.0013046804751510907, -0.0024636306615437487, -0.005036390735984538, -0.02811093213446885, 0.015141180689772337, -0.008587664825564119, -0.0003417168865982678, 0.01410285553648529, 0.004588485965805297, -0.005252382634961074, 0.0017013901449282852, -0.004373153151072687, -0.004874999878881916, 0.004563562891938122, 0.0037255937975590346, -0.009383292551528477, -0.007233238125098509, 0.0033961263650815593, 0.007145810549675856, -0.014347991474578768, 0.010886764643660906, 0.011900548245047401, 0.005795792042832522, 0.008376223433959315, -0.00042796028041420446, -0.02341807871512768, -0.009623881514861028, -0.009012613681434245, 0.0033619877189491987, 0.021392832942310328, -0.0270671465741992, 0.043562420385045694, -0.033667894454148244, 0.0015436802682814023, 0.01911897009578341, 0.02266638556504978, -0.01255680841896651, 0.004175809399861506, -0.034870784767672906, -0.009708743910182704], [0.18976437526322998, 0.006988333825341908, 0.09256507755433195, -0.029938557603115094, 0.08436721614442702, -0.08751848261971634, 0.007430233157157659, -0.008042943305109051, -0.020619574717261942, -0.09383235222301747, 0.0696131359183916, -0.024744911183301077, 0.01968477524682251, 0.03688397727243365, 0.01378725915265142, -0.010321204756743209, 0.004686945884762764, -0.00374610514519313, -0.01013986272314796, 0.013783610470351584, -0.0006128317706947204, 0.008774659036442655, -0.031802443807668355, 0.006690064392833427, 0.023183220655833434, -0.05044603753304101, 0.006730610185643341, -0.006990642134171708, -0.0006837734084922187, 0.027465661408096243, -0.011242402666277367, -0.0015717425715048874, -0.009664197687968808, 0.018332885465571457, 0.0026672185546769023, -0.028930687592211235, -0.005673393134445596, 0.047055118740940365, -0.034707743676667034, 0.01869261627013144, 0.001260573810652707, 0.06377580945638328, -0.01945358302822342, -0.051487709582733666, -0.0024844912329885613, 0.00047117660082579923, -0.020272450286678432], [0.14613068092264203, 0.002480458000769988, 0.060670470958790135, -0.024517602817949506, 0.05674190898896437, -0.06365842988328739, 0.007215769364682354, -0.00884773664212868, -0.023610153829656942, -0.07425258837421418, 0.055755063058919585, -0.018572840577594382, 0.012333945087321295, 0.029159013349473798, 0.012106939517181328, -0.009822731167591255, 0.006108114201111573, -0.009508206678806468, -0.0048507737386601175, 0.009496615678106243, -0.0006993905131070762, 0.005681780561807043, -0.03218218130117643, 0.006886249447701534, 0.020496308805252456, -0.04149413530085086, 0.005280938242050132, -0.0009336009060601676, -9.211617002734361e-05, 0.0038408247862992515, -0.0007559708263475114, 0.0011518995998904447, -0.007731480075913586, 0.006611351768259439, -0.0004726977682700978, 0.0024379480763541323, -0.010670704111103073, 0.015575636305969474, 0.00034016430415076523, -0.0027034510296975083, -0.009867372265638122, 0.011927135683261028, -0.011739646906870205, -0.008120649135604454, -0.010024863120415277, -0.008954787870556744, -0.008231460071243273, 0.002003041547621047], [0.07850539153116513, 0.0030115663531699996, 0.036196817856487665, -0.014257042895503839, 0.033790253999157666, -0.03836888902741209, 0.01026558935091042, -0.006340010923236327, -0.014205645426968701, -0.03847419312746919, 0.03701072331074185, -0.006395493603834695, 0.010334919361194152, 0.010656193155245608, 0.005057537448904317, -0.002856515018481005, 0.0006345531636931908, 0.002624665986602079, 0.0009178660267244632, 0.002145486760662913, -0.0026272879408052317, 0.009864874205142383, -0.006556382325544741, -0.0032285867465486192, 0.010443374550086688, -0.016335620998258485, -0.000377850070022402, -0.007927490518876335, -0.005392046926313695, 0.018193815662150954, -0.00738464178680504, 0.01338982832561192, 0.0024666485204860745, 0.01572745681575065, 0.002331508998912198, -0.03427295397641976, 0.004157643705799974, -0.002160426676403484, -0.002245372340408352, -0.011819593926590167, -0.014069509709148647, -0.01892949498280446, 0.0008319793004348624, -0.00180522518355042, -0.0067758735278500536, 0.004502273103839863, -0.0010942154719390392, -0.000891403806947301, -0.0005118922112835546], [-0.3237023246920694, -0.017637974492208393, -0.1442631369519326, 0.05665729185776409, -0.13591611458352174, 0.14877192721804355, -0.019832755304003163, 0.01699228590844377, 0.06028026482549952, 0.17773027616215226, -0.13492542517292433, 0.04098378002759554, -0.034278202426754244, -0.06415725067761531, -0.029643760222366342, 0.024879905363173384, -0.017607912983600288, 0.027642453438978448, 0.0003776696545421543, -0.018241297988600042, 0.013840422926587584, -0.024527118662132866, 0.057627605169255254, -0.008201366264479263, -0.03407749764869425, 0.05535624139254145, -0.004090958611689607, 0.013651396959839182, 0.003965660439151566, -0.021899776722848232, 0.005130671576363176, 0.018310763247411627, -0.0009780633549321869, 0.007674090290140794, -0.0027091804197597533, -0.012473903090029171, 0.009489689742299474, -0.05857542685242843, 0.009415303051981945, 0.04777929588082239, -0.03292238236365656, -0.02247091106961157, 0.030632364383273172, 0.03863587365865759, 0.035930563971019513, -0.027350302488379122, 0.027323658528392664, -0.026480192186946895, -0.026074422379779805, 0.018284050653843868], [-0.03346674153917508, -0.003328732982505381, -0.014276841665073292, 0.005910589782090802, -0.0138472065486449, 0.014558023354473553, 0.00023610103363788342, 0.00046380555605797134, 0.007773664495476966, 0.0222422825171374, -0.012854508596477176, 0.005756137981920784, -0.0028050095529870626, -0.009052164791974038, -0.004512993063648038, 0.00479166054347461, -0.004181458549192676, 0.008597052486441234, -0.0009044644999058509, -0.002511592918403231, 0.0030909925651260014, -0.0009758519405701012, 0.007003689075181063, -0.0019977496966395707, -0.0015616930507610738, -0.0006857562124695429, -0.0013692808242295599, -0.0004538634645319416, -0.0018749182957587354, -0.00014025529398568773, -0.003216182740705237, 0.013787821342427634, -0.001792776263083983, 0.015444047562910347, -0.0019266097279784713, -0.024899358946201607, 0.00863031554975337, -0.020601475638146963, 0.0027613333623478435, 0.028955325029262128, -0.0330309889501549, -0.006708993130828202, 0.009601888489324813, -0.0016690614571732913, 0.007231236144091117, 0.005626024356200858, -0.0019389823188186498, -0.011466297520276782, 0.008829093540950185, -0.0007852333340909942, 0.007181202263325573], [-0.24865449112317484, 0.0017317524301132502, -0.10736394724806793, 0.04052672478612161, -0.09835096920306238, 0.11082098036530506, -0.018547545065616934, 0.0182927307832432, 0.03019140977251763, 0.11098875313615093, -0.09509220639038393, 0.025569186364235347, -0.02241056802120826, -0.041120292220795364, -0.014708419717442812, 0.008965908529361608, -0.0005472126418938734, -0.006235595022466597, 0.012150603596012083, -0.014362793113839372, -0.0058480110957084795, -0.010378436079688594, 0.04034299672625892, -0.005439319314749405, -0.03764280225906222, 0.08132437457850906, -0.0065381520351714, 0.007626468677894367, 0.005615372020656609, -0.03279543042460448, 0.021718341832054757, -0.02594624916670758, 0.018773664455104273, -0.0533305373896372, 0.006413769818148463, 0.055950470939411245, 0.012263331225340358, -0.010530741061808334, 0.01880377239231149, -0.022646074062255342, 0.06451997915477017, -0.012562696776514849, 0.04344888025523295, 0.023691819716861445, 0.04152003034734729, 0.016670274303393372, 0.010670555741449386, -0.005173408597187735, -0.009380567394624036, -0.024744533698603945, -0.011867129746859974, 0.00867026029406825], [0.2282150553332007, 0.004956979663789116, 0.09877886324702405, -0.03896772509876776, 0.09197261633149793, -0.10307297574537684, 0.01698993218033223, -0.014936048036401313, -0.03600010593795137, -0.11352434408904989, 0.09267838755978389, -0.02518526222226816, 0.021667123012694467, 0.039951244318754374, 0.016937960410212418, -0.012646048223730617, 0.005512525103741677, -0.0056121871196892145, -0.0057600228444856716, 0.012838387779411346, -0.003069662913432545, 0.015652701724592332, -0.03831416383950142, 0.0037255319768699988, 0.030449744553884953, -0.05914778247321191, 0.0020598416397192387, -0.010515524593107832, -0.005633052737720887, 0.026647702535276045, -0.015093362260638366, 0.010000268074694008, -0.007782835657777784, 0.027266307096680008, -0.002529770724273227, -0.03536622636743932, -0.008646932950966232, 0.028996373966781994, -0.004466167802808131, 0.032677352403887146, -0.058719872280172294, 0.037973624195452936, -0.03307739332565068, -0.027286606487665982, -0.036656598254866044, 0.03464425357669779, -0.0344349897873231, 0.02926621496619029, -0.010916422425320205, 0.013227539176048204, -0.002419338534978257, 0.02561278483743692, -0.014380644910198208], [0.035196887136032085, 0.001061087909484095, 0.015545732250871405, -0.005687999470794716, 0.01440822652602327, -0.015421446928316181, 0.0008743575089336699, -0.0015722792760174565, -0.004917027854252634, -0.01829615640640382, 0.012594211702138655, -0.00483485377575132, 0.0029462925370750534, 0.007543049101755986, 0.0030100152846985547, -0.002623092208489764, 0.0016619241955417564, -0.002836241112758676, -0.0014146801719521521, 0.0026976661271798028, -0.0005235859100263811, 0.0009518100007686961, -0.006691421420040101, 0.0016396731632523209, 0.00383303008056452, -0.007230562929403983, 0.0010423677216913124, -0.0005577793116261734, 0.0005951856227504334, 0.0037282200413610183, -0.0011593286804071634, -0.004350260823758007, -0.001559855336155977, -0.001494277463202711, -2.3548793641671986e-06, 0.006918219575460119, -0.005591822123074061, 0.010477590408998008, -0.0025932648615119673, -0.004738319634339658, 0.00377936089095432, 0.01032630887469349, -0.011619960034261884, -0.0013988359078462556, -0.007088386447112416, -0.0009298871858721729, -0.0005470057318326103, 0.00830922343282888, 0.0021975433134419757, 0.0008687472814036585, -0.004598319744960841, -0.012366609625431827, 0.010857364237931471, -0.00790454066047145], [-0.34743943449804787, 0.004119095856727964, -0.14461886884106465, 0.0568852118694431, -0.13287477488185334, 0.15162677736751942, -0.02575772684932781, 0.025465044997790807, 0.043639976331911356, 0.15657874677987385, -0.131961843281596, 0.03496913265240208, -0.027078148133554168, -0.05689025441903369, -0.020988926335011975, 0.01415852241750405, -0.0003533685725054842, -0.00684869829953439, 0.016827186819316366, -0.020174021656559498, -0.006704627833194236, -0.013464384581247948, 0.052876950162653515, -0.004940702402530625, -0.05218221682914792, 0.11049468017074097, -0.007855649326971028, 0.00876746966880179, 0.007611527752836424, -0.05569462513468331, 0.03630252972076306, -0.027582112409209884, 0.02653565215790439, -0.07121770830372669, 0.010121079326854753, 0.07837341319160042, 0.03980956038334035, -0.05259661831848049, 0.024223774381877894, -0.09260444900637953, 0.15120735351494372, -0.07308341127954958, 0.09018263638219312, 0.01708562354173826, 0.08830361849159861, -0.052076686641999485, 0.03763676250390808, -0.03399842368850108, -0.0283188373826608, -0.014997099625599777, -0.008101120358432015, -0.060219180938145156, 0.04801982428511262, -0.01620233660201437, -0.030305549436849353], [0.06572124850459538, -0.0020654430988045805, 0.03183962907828815, -0.008873769965105072, 0.027816415343949522, -0.028797766550221048, 0.0017957295257144997, -0.004133191983145531, -0.001143030728142546, -0.02441637030417111, 0.019190490324764418, -0.007905637788454831, 0.0054234790879129965, 0.012027512295907953, 0.002431925227265974, -0.0006264764799176527, -0.0012221680230008088, 0.005757697881919234, -0.006920424429259287, 0.0049679211687604485, 0.004596870365214628, -0.0013981507075153288, -0.007645056771276087, 0.001912857400290748, 0.007976385889646245, -0.020049532451895127, 0.0028120437380819803, 0.0008864855926404776, 0.00030173012944777905, 0.012676822310403365, -0.009724146093279658, 0.003045126912777538, -0.009410705611352415, 0.017422763804877797, -0.0034542100565476113, -0.01249941964251109, -0.018106669181616405, 0.01631680833176149, -0.011764891952979053, 0.018714572960242263, -0.03173418972970319, 0.01779160470803759, -0.031887202243300716, 0.0033296078083375753, -0.029081804607784114, 0.00024331159694356092, 0.005270110285283152, 0.014601271594547037, 0.0018315300128998835, 0.005506478283365933, -0.02624557434518719, -0.062420748399949356, 0.021237714992674777, -0.020204694811495044, 0.015400113996341265, -0.006861845162963575], [0.08864701248517515, 0.0040711908786293435, 0.040668174559905325, -0.01403131411183947, 0.03758911868667947, -0.03910448760267584, 0.0005534248641539562, -0.0032398360933184158, -0.012780209716771011, -0.04754567120735675, 0.030762818653606153, -0.014215417637764554, 0.008480265382642713, 0.021301667360000415, 0.008391184040706013, -0.00725267303575535, 0.006326730829914035, -0.009970646628460101, -0.0030828165897539912, 0.006547180379064077, -0.001718172317202127, 0.0011956103596496555, -0.019195589396127838, 0.005782699682541426, 0.007826214604450944, -0.014949555730790995, 0.005776974834407355, 0.0016687330505333717, 0.002727852791142037, -0.0019392133263321698, 0.0049842559611091445, -0.013890233748213913, -0.003432258160694307, -0.01130752180448505, 0.0017385289869489612, 0.024788091799110637, -0.0024382069662600542, 0.021982536710084002, -0.005498365390329674, -0.02576122716197396, 0.038282027174376454, 0.013618561847092779, -0.009176473328828818, -0.006074036114021534, -0.008675207967825869, -0.009951213231779318, 0.0058611625010658395, 0.012510128499828174, -0.01868684095612877, 0.013336338542164596, -0.03695139563561479, -0.061252209193863864, 0.009915729670248747, 0.0018937064863094578, -0.08487496737886253, 0.018136633795756796, 0.004841840775259096], [0.14507440203194158, -0.0032328304214392575, 0.06262199417212075, -0.022293850560308408, 0.056466211930163636, -0.06261876031926081, 0.008208497596371237, -0.010137276852040855, -0.013155420421865594, -0.06145968851012482, 0.050227496098382764, -0.01573702312580261, 0.010737911526953458, 0.024870609550177124, 0.007713847301424478, -0.004677346267237526, -0.0005822968922391407, 0.005628651104661528, -0.009981846014019984, 0.009129728813378672, 0.005175596797250264, 0.0020315648565542, -0.020461014995387824, 0.002550601268526222, 0.020493878369020644, -0.04533559318147171, 0.005077734898835716, -0.0003551555689126374, -0.00174876207728981, 0.022474389177275535, -0.014870035652319395, 0.010321712443381332, -0.014324904349011288, 0.031124981913032694, -0.004228677443807669, -0.03312431043437144, -0.021644288216469992, 0.0271385840391557, -0.013634230489975944, 0.050958661751748624, -0.0726780129011754, 0.040626098137300753, -0.044680376641715265, -0.001553088115505957, -0.04381500811329676, 0.02670632570687744, -0.013698508866812741, 0.018967096092181522, 0.004893520852658396, 0.0027565471793697467, -0.021234091543309245, -0.016195896147863542, 0.0019500102465899608, -0.0026276588649394475, -0.08407719485348264, 0.026288438035341935, -0.0008510208296459605, -0.018573123186458547], [-0.1109800407085957, 0.002027535913934458, -0.051045991928044876, 0.016123499831403626, -0.045504250114335475, 0.04831420178983461, -0.003817416950136815, 0.006589528308041724, 0.0065684315563318595, 0.04611629209418659, -0.03530030583123826, 0.01308163225674967, -0.008652577053710541, -0.020396263248703552, -0.005666228999739031, 0.003296399248163527, 0.0005181383718402714, -0.004875508574837411, 0.009494446655073782, -0.008245009652303893, -0.005567985579357861, 0.0009223443679040952, 0.015478005036574432, -0.002897638645486397, -0.01514877984026624, 0.03379474546146313, -0.005813375360770401, -0.001498919187631938, -0.00026339603487046177, -0.019235618923101966, 0.011809394774545953, -0.004461761123161912, 0.01208422382040675, -0.021194677699932045, 0.002129855462522512, 0.016048175485247493, 0.027261779298949147, -0.0234556091722887, 0.016890406422229918, -0.02087408014851984, 0.041730424572178626, -0.02003049268898943, 0.03571400887294939, -0.0023769696626651407, 0.03320150302698317, -0.002116296545276201, 0.0020417127857417852, -0.005472212967903385, -0.00860628067517357, -0.00297855763783561, 0.021913362134675558, 0.011221463368077536, 0.001422007942237655, -0.01804685299688129, 0.03531261142863787, 0.008936638325573162, 0.004841596015796382, 0.030542198025161556, 0.007565368641462047], [-0.06248056458468447, 0.005968832441042946, -0.025842592272601602, 0.0077818374428968605, -0.022310249948968915, 0.024585608603841156, -0.000405047135928727, 0.005044112013880456, 0.0002920265522332237, 0.019444109575369684, -0.014767332563129976, 0.008244296064921877, -0.0038759841046240623, -0.012701976517948731, -0.001842199128345443, -0.00010581399457697813, 0.0013269061483415542, -0.006524400590636377, 0.008894010815683468, -0.004779215155618975, -0.008081193910215003, 0.006658598419102163, 0.010551649071169632, -0.004239703226779564, -0.011159840505246512, 0.02953987320389955, -0.009229768314023343, -0.007275129842624005, -0.002315036939400908, -0.00832922103792062, 0.00461127029616117, -0.00857378267442942, 0.015195006575904542, -0.020220486591097594, 0.003355855106596834, 0.009895177949919771, 0.017670795474511586, -0.010426121278929458, 0.019744605562000833, 0.024775644897278945, -0.002579736980774846, 0.011731873144470942, 0.012869123512023958, -0.005376631117432219, 0.01814926641198494, 0.03513585169591157, -0.004208190824449187, 0.03380593879111878, -0.023814171187331888, -0.018906058633426266, 0.03992356076187474, 0.009810201501735057, 0.012681846692281257, -0.023918258050638342, 0.07726404420713195, -0.018550851589327656, -0.0007294387113423371, 0.05190332225291265, -0.010808970497895452, 0.02521501689839517], [-0.021898062901950552, 0.0008664128564868585, -0.008795438862497706, 0.0033415298651358204, -0.007959615576851525, 0.009062025822698628, -0.0010577774746685564, 0.00157988347309822, 0.002033196670415406, 0.009158830461165989, -0.007255469349534519, 0.0024260444395979267, -0.0012962801789931503, -0.0038751289604806224, -0.0011918333678789027, 0.00077874588360003, 8.690314042438808e-05, -0.0006475163313606696, 0.0017408759021682399, -0.00149352388161983, -0.0010954826698996044, 0.00019141483172095556, 0.0036968126080373317, -0.0006395723097372157, -0.0035332933529264713, 0.008054010470093199, -0.0013258172210618212, -0.0005258719192504923, 3.874733907352982e-05, -0.0032020798013954097, 0.0020836161104170596, -0.001424518871529886, 0.002766378435231862, -0.004670583336186337, 0.000639541588639705, 0.0038459165401117257, 0.003916770619627202, -0.00450468537235898, 0.002352748064371517, -0.0071087070337632, 0.010119208052447037, -0.006959570803532902, 0.007471637879051158, 0.0006676853942409805, 0.007107962157542653, -0.0023207193962053543, 0.0015896921454841364, -0.004577532853684186, 0.0011234593073111397, -0.0012295448713435257, 0.000667559608063493, -0.0022693781971137076, 0.0033722315332871252, -0.009031194204935675, 0.013627194538575626, 0.0014456447672788674, 0.0017607839303432132, -0.0021492101324482775, 0.024001787137711585, -0.046374483552487085, 0.029827706294781393], [-0.03431802201571499, 0.00032809021892336035, -0.016578650490996567, 0.00528565982871642, -0.014770065794573394, 0.0157936014204083, -0.0027326561325154578, 0.002211937188484286, 0.0017953251679423362, 0.014007340805619363, -0.012563278143321128, 0.0027333407020230273, -0.0027213999728534, -0.004464847615685535, -0.0012975705912532719, 0.000563584021997305, 0.0014303960004224598, -0.003499489547832277, 0.0026133260535981437, -0.00234875066291965, -0.0014642227674868675, -0.001678139257617197, 0.0030500778668166163, 0.0007168341667536025, -0.00502097896437255, 0.010480993827176443, 0.0006982962238288043, 0.0021439308979339516, 0.0014803246598519711, -0.009006799004054064, 0.006815806160356468, -0.00436992434479961, 0.0022678965192115892, -0.011044156585335604, 0.0008001974103661577, 0.014491027895271291, 0.008184971922405618, -0.003304714509332875, 0.003675644951782083, -0.026234298251507034, 0.03471541852596384, -0.012170606247690683, 0.01444769588185593, -0.0011057884310912384, 0.010683299382588453, -0.009834618907598852, 0.0022932028813507865, -0.007050081843527062, -0.002285984243506133, 0.005510303091547185, 0.002136726138203163, 0.0012910826991859572, 0.006868732744710208, 0.00035787801327664146, 0.00876309225935936, 0.00789813048584178, -0.008337798721606691, 0.002796620611649557, 0.016400916767006272, -0.02066841760352851, -0.022347501834535256, -0.013041069810203117]], \"images\": [\"iVBORw0KGgoAAAANSUhEUgAAAMgAAADICAYAAACtWK6eAAAAOXRFWHRTb2Z0d2FyZQBNYXRwbG90bGliIHZlcnNpb24zLjguMywgaHR0cHM6Ly9tYXRwbG90bGliLm9yZy/H5lhTAAAACXBIWXMAAA9hAAAPYQGoP6dpAAACMUlEQVR4nO3VsQ3CABAEQWzRGiVQJSW4N94NoA3AyA5m8pcuWf0yM3MDPlrPHgBXJhAIAoEgEAgCgSAQCAKBIBAIAoEgEAgCgSAQCAKBIBAI91+OH+vzqB3wN9v79fWtDwJBIBAEAkEgEAQCQSAQBAJBIBAEAkEgEAQCQSAQBAJBIBAEAkEgEAQCQSAQBAJBIBAEAkEgEAQCQSAQBAJBIBAEAkEgEAQCQSAQBAJBIBAEAkEgEAQCQSAQBAJBIBAEAkEgEAQCQSAQBAJBIBAEAkEgEAQCQSAQBAJBIBAEAkEgEAQCQSAQBAJBIBAEAkEgEAQCQSAQBAJBIBAEAkEgEAQCQSAQBAJBIBAEAkEgEAQCQSAQBAJBIBAEAkEgEAQCQSAQBAJBIBAEAkEgEAQCQSAQBAJBIBAEAkEgEAQCQSAQBAJBIBAEAkEgEAQCQSAQBAJBIBAEAkEgEAQCQSAQBAJBIBAEAkEgEAQCQSAQBAJBIBAEAkEgEAQCQSAQBAJBIBAEAkEgEAQCQSAQBAJBIBAEAkEgEAQCQSAQBAJBIBAEAkEgEAQCQSAQBAJBIBAEAkEgEAQCQSAQBAJBIBAEAkEgEAQCQSAQBAJBIBAEAkEgEAQCQSAQBAJBIBAEAkEgEAQCQSAQBAJBIBAEAkEgEAQCQSAQBAJBIBAEAkEgEAQCQSAQBAJhmZk5ewRclQ8CQSAQBAJBIBAEAkEgEAQCQSAQBAJBIBAEAkEgEAQCQSAQdojZDIlbNNQ3AAAAAElFTkSuQmCC\", \"iVBORw0KGgoAAAANSUhEUgAAAMgAAADICAYAAACtWK6eAAAAOXRFWHRTb2Z0d2FyZQBNYXRwbG90bGliIHZlcnNpb24zLjguMywgaHR0cHM6Ly9tYXRwbG90bGliLm9yZy/H5lhTAAAACXBIWXMAAA9hAAAPYQGoP6dpAAAEnElEQVR4nO3dS4vWZQDG4RmPY5mLDPGQSlmgmFnoIhIqIyuEFkUESi2CoChaCCXUwqgIN0EUFrWIxIJ2Qe2SgkwtapG2KCJLslJkOphgHtCZty8Q98J7IInr2r83zyx+86we/sODwWAwBPyrSf/1AeBCJhAIBAKBQCAQCAQCgUAgEAgEAoFAIBAIBAKBQCAQCAQCgWBK8+Plm1+aqHNU7nlgV71xdnxyvfHsnH31xqO/3lRvPDPvw3rj6cPr640diz+tN0bH/q435i44ct6/dYNAIBAIBAKBQCAQCAQCgUAgEAgEAoFAIBAIBAKBQCAQCAQCgUAgEAgEgurB1NlZ/adFzs2oJ4Z2Hllab0x/5dJ6Y+m6G+uNB2/7pN5Y++6T9cbYzPF6Y93mJfXG5C+/rTd2njr/37pBIBAIBAKBQCAQCAQCgUAgEAgEAoFAIBAIBAKBQCAQCAQCgUAgEAgEAkH1YGrxls/7A8ybW28MTp+pN77fNqveuOrl0/XG9sEt9cZE/NsbOdp/cevgPdPrjQWzV9YbDTcIBAKBQCAQCAQCgUAgEAgEAoFAIBAIBAKBQCAQCAQCgUAgEAgEAoFAIKgeTA2vvqY+wPodu+qNF/feWW9M+q1/IDS6uv9c1tVbvq43Djy3ot645FA9MTQR/3/v3/rBBJzj/L+45QaBQCAQCAQCgUAgEAgEAoFAIBAIBAKBQCAQCAQCgUAgEAgEAoFAIBAIBNWDqWPLLqkP8PvZfmN42li9cfF3U+uNE4sG9catXxytN566aG+98fCiB+qNt1ZtrzceeuPxeuORref/WzcIBAKBQCAQCAQCgUAgEAgEAoFAIBAIBAKBQCAQCAQCgUAgEAgEAoFAIKgeTP25vD/Az6curTeev+H9euPtbevrjcWv/lBvvP7Runpjx+E76o2zc/rHX69dvrbeODV3vN5ouEEgEAgEAoFAIBAIBAKBQCAQCAQCgUAgEAgEAoFAIBAIBAKBQCAQCAQCQfVganykf1Tz1TvX1hu756+oN8Y29H/LgT0r641px/v/WSfn94+MRkb7cxw8ftkFcY6GGwQCgUAgEAgEAoFAIBAIBAKBQCAQCAQCgUAgEAgEAoFAIBAIBAKBQCAQVA+mZu8brg9w+6bd9cZXG5bWG6Nr+sc9x24+XW8M/zGj3rjyvTP1xo/3Tq83Xliys9544pv7642GGwQCgUAgEAgEAoFAIBAIBAKBQCAQCAQCgUAgEAgEAoFAIBAIBAKBQCAQVA+mrn9sf32AfXdfWW8MnTxeT/y1bHa9MX5iar0xEX66a6TeGB7rv7i16eON9caUsf5RXsMNAoFAIBAIBAKBQCAQCAQCgUAgEAgEAoFAIBAIBAKBQCAQCAQCgUAgEAiqB1OfHb6iPsCe3W/WGxvX3FdvLNx5rt4YXTWt3hjq3ykNDSb3I1df90u9cWD/wnpj5iEPpuCCJRAIBAKBQCAQCAQCgUAgEAgEAoFAIBAIBAKBQCAQCAQCgUAgEAgEguHBYDABT3Tg/8kNAoFAIBAIBAKBQCAQCAQCgUAgEAgEAoFAIBAIBAKBQCAQCASCfwBjt5lkvSpQDgAAAABJRU5ErkJggg==\", \"iVBORw0KGgoAAAANSUhEUgAAAMgAAADICAYAAACtWK6eAAAAOXRFWHRTb2Z0d2FyZQBNYXRwbG90bGliIHZlcnNpb24zLjguMywgaHR0cHM6Ly9tYXRwbG90bGliLm9yZy/H5lhTAAAACXBIWXMAAA9hAAAPYQGoP6dpAAAExElEQVR4nO3dy4vWZRzG4fdVyw7mKZUytVEpMTfpQiKCFmk5FoRTUEltDFtFYNquRS0qshYF1iYrkQ4uolCKxA4YCWrRaMGYQUkyhcKMlho2mjO//oG4F+93oIjr2v9unlE+86wept00TdMC/tGYf/sA8F8mEAgEAoFAIBAIBAKBQCAQCAQCgUAgEAgEAoFAIBAIBAKBYFzl43nbnikfYNLuS8sbT6zfVt74+o+55Y37pu4vb3SNO1/eWHFgTXnjhUXvlTeWXHymvNF7/oryxvK5hzv+1g0CgUAgEAgEAoFAIBAIBAKBQCAQCAQCgUAgEAgEAoFAIBAIBAKBQCAQCEoPpq5/rL98gAsLZpc3nvt+RXlj5kO/lDdOHphQ3pg85mR549SPU8obh+bPKm9svG5aeWPslEnljeUDnX/rBoFAIBAIBAKBQCAQCAQCgUAgEAgEAoFAIBAIBAKBQCAQCAQCgUAgEAgEpQdTw4Mnygd4cM+35Y23F47Co6sj+8obq99YV94YmjFc3li46Xh5Y9OfK8sb8z87Wt5o7jpV3qhwg0AgEAgEAoFAIBAIBAKBQCAQCAQCgUAgEAgEAoFAIBAIBAKBQCAQCASC0oOpsdOnlw9w94S95Y0371hV3nj0h7nlja736w/IWv3HyhNrv+ktb1zUvlDeeGXJ0vLGz1vmlTcq3CAQCAQCgUAgEAgEAoFAIBAIBAKBQCAQCAQCgUAgEAgEAoFAIBAIBAKBoPRgamjxteUDjDRNeePMNaUfo9VqtVo9M/vKG3vOLypvbO37uLxxaqT+b9o17rLyxuSDu8sbzy7rKW+07un8UzcIBAKBQCAQCAQCgUAgEAgEAoFAIBAIBAKBQCAQCAQCgUAgEAgEAoFAIGg3Tecvlm5f+nT5AB9t31re+HKo/mBq4023lTem7ThX3tj7Rf3RVXukPNGa80n9Z3ly85byxtLxQ+WNCTOPdvytGwQCgUAgEAgEAoFAIBAIBAKBQCAQCAQCgUAgEAgEAoFAIBAIBAKBQCAQlF4a7dzxVvkAu86OL2+8vKy7vHH61qvLG+tnbC5vDG69qrwx5tUz5Y3fe+fUzzEKL7d6Vj1c3ti1v/Nv3SAQCAQCgUAgEAgEAoFAIBAIBAKBQCAQCAQCgUAgEAgEAoFAIBAIBAKBoPRgqrv7gfIB3vnw9fLG6cX1x07t4fJEa7ip/75p+o/Vz7Gy/sNMnH2ivDFwYWJ5o/3XKPzHFLhBIBAIBAKBQCAQCAQCgUAgEAgEAoFAIBAIBAKBQCAQCAQCgUAgEAgEAkHpwdTp58+VD7D6zjXljac+qP9lp0e2ry1vfHV2fnmjNW9WeeLyTQPljeMvXVne2PD5/eWNBX0HyxsVbhAIBAKBQCAQCAQCgUAgEAgEAoFAIBAIBAKBQCAQCAQCgUAgEAgEAoFA0G6apun0451HbigfYGx7pLzx4o03lzdGw+C79b909dvhqeWNKYfa5Y17131a3njtu1vKG+1fLylv/LTh8Y6/dYNAIBAIBAKBQCAQCAQCgUAgEAgEAoFAIBAIBAKBQCAQCAQCgUAgEAgEgtKDKfi/c4NAIBAIBAKBQCAQCAQCgUAgEAgEAoFAIBAIBAKBQCAQCAQCgeBv6hatMB8KCRQAAAAASUVORK5CYII=\", \"iVBORw0KGgoAAAANSUhEUgAAAMgAAADICAYAAACtWK6eAAAAOXRFWHRTb2Z0d2FyZQBNYXRwbG90bGliIHZlcnNpb24zLjguMywgaHR0cHM6Ly9tYXRwbG90bGliLm9yZy/H5lhTAAAACXBIWXMAAA9hAAAPYQGoP6dpAAAEv0lEQVR4nO3d32vVdRzH8bPp0lY6JLMVROjQrSHRhRVShEIm1E1kIzNCKKIgvOmHQaB0lRCuAofZTRdlZUYG3TQNwgIvopsIxKUUqwgcEeaP5vyxffsH4nVx3oNCHo/772vfbTz3udmH09E0TdMC/lXnf/0C8H8mEAgEAoFAIBAIBAKBQCAQCAQCgUAgEAgEAoFAIBAIBAKBYG7l4f5X3yy/QPdE/b/tH99ysLwx3eoob7y7f31544dndpU3Bj5+rrzx+cP13+1A17zyxvnmYnlj4U2/tf2sEwQCgUAgEAgEAoFAIBAIBAKBQCAQCAQCgUAgEAgEAoFAIBAIBAKBQCAQlC5MLfilftlpsrd+UWnLohPljQeHnixv9O/4qbwxG5edZubPlDf2n15V3vhw9N7yRnPz+fLGzxvbf9YJAoFAIBAIBAKBQCAQCAQCgUAgEAgEAoFAIBAIBAKBQCAQCAQCgUAgEAg6mqZp+9bTus6h8gsc331neaPr9JzyxndPvFHeWP32C+WNzRu/LG/sfW9deWP6rjPljaapX4Zbun2qvDF69LW2n3WCQCAQCAQCgUAgEAgEAoFAIBAIBAKBQCAQCAQCgUAgEAgEAoFAIBAIBILSJ0zN7b2h/ALX33KqvHHdK6Vvo9VqtVp3tJ4vbyw7WL9k9PWB28sbk0/XP2Gq9eu15Ym+T+uXnc6tWFTeqHCCQCAQCAQCgUAgEAgEAoFAIBAIBAKBQCAQCAQCgUAgEAgEAoFAIBAIBILSTaOxrUvLL3Bo5c7yxv2bXyxvPHXfV+WNb7YtKG9sP/5teePkdE9546FrzpU3Tg1NljdWfVK/yFbhBIFAIBAIBAKBQCAQCAQCgUAgEAgEAoFAIBAIBAKBQCAQCAQCgUAgEAgEHU3TNO0+vHrjcPkFjry1p7zRt+/Z8sasWHKhPDFv7OryxsXB+kWlBUe6yxtTa86WN47d/X55o7P3RPvPlr86XMEEAoFAIBAIBAKBQCAQCAQCgUAgEAgEAoFAIBAIBAKBQCAQCAQCgUBQ+oSpz4brF6YmZ7rKG7NhYORkeeOdw3vLG2sm6p+WNfPH/PLGjfvGyhs/9q0obzyw9pHyxuix9p91gkAgEAgEAoFAIBAIBAKBQCAQCAQCgUAgEAgEAoFAIBAIBAKBQCAQCASC0oWpe/bWL/fs2PBBeWP5R3+XN87etqS8sX7P1vJGs3imvNH/8vfljUurBsobhzbsLG88evSl8kaFEwQCgUAgEAgEAoFAIBAIBAKBQCAQCAQCgUAgEAgEAoFAIBAIBAKBQCAQlC5MXVp8ufwCw9s2lTcmHitPzJL6ZadlB6bKG2MjK8sbAyOT5Y3xyz3ljZmryhMlThAIBAKBQCAQCAQCgUAgEAgEAoFAIBAIBAKBQCAQCAQCgUAgEAgEAoFA0NE0TdPuw4fHl5df4K/p7vLG7lsHyxudPQvLG2fW1n8efw7OKW9cWli/uDXdXd/ovFD/+zvw+nh544vfd7X9rBMEAoFAIBAIBAKBQCAQCAQCgUAgEAgEAoFAIBAIBAKBQCAQCAQCgUAgEJQuTMGVzgkCgUAgEAgEAoFAIBAIBAKBQCAQCAQCgUAgEAgEAoFAIBAIBIJ/APEWriT/XMcuAAAAAElFTkSuQmCC\", \"iVBORw0KGgoAAAANSUhEUgAAAMgAAADICAYAAACtWK6eAAAAOXRFWHRTb2Z0d2FyZQBNYXRwbG90bGliIHZlcnNpb24zLjguMywgaHR0cHM6Ly9tYXRwbG90bGliLm9yZy/H5lhTAAAACXBIWXMAAA9hAAAPYQGoP6dpAAAExklEQVR4nO3dT4iVZRjG4TOOYmNIliKBGdSY5qKmMkJwEZop6jAQFIj/oEIrEhLUTS3aSIWUEqQmLdJKSKNaSJCUWYSiUAQJYglp6DQhFVqDWTZ9rWoV9+I8A4Vc1/67eRfzm3f1cjqapmlawL8a8V8fAP7PBAKBQCAQCAQCgUAgEAgEAoFAIBAIBAKBQCAQCAQCgUAgEIysfLzk8MryAc793lXeeOy6A+WNoab+v+LpY33ljfOnxpU33ul7sbzRP3RVeWPRmIvljeEw4toT7X87jOeAy45AIBAIBAKBQCAQCAQCgUAgEAgEAoFAIBAIBAKBQCAQCAQCgUAgEAhKD6Z+6uusn+CaMeWJRR/XH+YsmLe4vLHu7Q/KG/fNGChv3Lr7ifLGht7d5Y2FN99V3rjU013e2P9J+9+6QSAQCAQCgUAgEAgEAoFAIBAIBAKBQCAQCAQCgUAgEAgEAoFAIBAIBAJBR9M0Tbsfd2/cVD7AiRXbyhvzJ91e3tjX/0V5YzgeXX21qv7LTtM3nilvjH/rl/JGZ0fbf1r/+H7OUHlj3+DOtr91g0AgEAgEAoFAIBAIBAKBQCAQCAQCgUAgEAgEAoFAIBAIBAKBQCAQCASC0i9MTd3+XfkAA0sGyxvnls0sb8x7oKe8MeKKP8obXQP1X+06/uzE8sbmCQfKGy/3LixvTPv0VHmjwg0CgUAgEAgEAoFAIBAIBAKBQCAQCAQCgUAgEAgEAoFAIBAIBAKBQCAQCEoPpv48+0P5ABM6u8obY0//Vt5YvWNPeWPLTVPLG0/uOl3eeL2//oCs78oL5Y2ZH7b/y05/WzFlTnmj9Wv7n7pBIBAIBAKBQCAQCAQCgUAgEAgEAoFAIBAIBAKBQCAQCAQCgUAgEAgEAkHtwdQt3eUDjOo4WN44f+Po8saWqdPKG1+/cmd5Y+dDt5U3TvXWH6HN3riyvDHrucPljfdPHilvVLhBIBAIBAKBQCAQCAQCgUAgEAgEAoFAIBAIBAKBQCAQCAQCgUAgEAgEAkHpwdSOPVvLB3jvwoTyxvijg+WN1shR5YmP5m0ubzy+6cHyxqFlW8obd/+8vryxYeLR8kb3m4+WN06uaf9bNwgEAoFAIBAIBAKBQCAQCAQCgUAgEAgEAoFAIBAIBAKBQCAQCAQCgUAgKD2Yun/t2vIB1j+zq7zx7cKx5Y1Li+8ob8w/NL28MaV1obyxdPKs8sbk0Z+XN7585GJ5Y9q2s+WN1pr2P3WDQCAQCAQCgUAgEAgEAoFAIBAIBAKBQCAQCAQCgUAgEAgEAoFAIBAIBILSg6k3nn+hfIBVS1eXN5Zv3V/eOLigu7xxfP315Y1zPV3ljaf27i1vvNQzo7xxqan//x068U15o8INAoFAIBAIBAKBQCAQCAQCgUAgEAgEAoFAIBAIBAKBQCAQCAQCgUAgEAhKD6bmvruufIDNr75W3tg+957yxo+zJ5U3xh3rKG+0Wk15YWgYHirde2SgvLHss4fLGzdcfaa8UeEGgUAgEAgEAoFAIBAIBAKBQCAQCAQCgUAgEAgEAoFAIBAIBAKBQCAQCAQdTdPUX+jAZcoNAoFAIBAIBAKBQCAQCAQCgUAgEAgEAoFAIBAIBAKBQCAQCASCvwAk+KLnjr8tSQAAAABJRU5ErkJggg==\", \"iVBORw0KGgoAAAANSUhEUgAAAMgAAADICAYAAACtWK6eAAAAOXRFWHRTb2Z0d2FyZQBNYXRwbG90bGliIHZlcnNpb24zLjguMywgaHR0cHM6Ly9tYXRwbG90bGliLm9yZy/H5lhTAAAACXBIWXMAAA9hAAAPYQGoP6dpAAAE00lEQVR4nO3dzYtWdRzG4fM8vqVuimIYd5YT4RRkgpFW0ELJlySEwLLaBC5ciJXVoqCshRQpaYWGFREGhYsciJAyokVijVlGZNA0+IIpJqhYgYp1+gfiXjxfoRiua3/u5zeLz5zVj9Np27ZtgH/V/a8PAP9nAoFAIBAIBAKBQCAQCAQCgUAgEAgEAoFAIBAIBAKBQCAQCMZXHp6+ZUP5AJvu3l7e+PzcYHljzTVflDd+uNhX3pg/+Wx5Y+ef08obd04+Ut64otMpb/SNm1re6PaP9P5s+ddhDBMIBAKBQCAQCAQCgUAgEAgEAoFAIBAIBAKBQCAQCAQCgUAgEAgEAkHpwtT4c/W+ts66pbyxa2RPeWPJvBXljdNbJ5Q31rf1S0YnT1xZ3pi58Vx5oz18rLzR7a9fQtv1S+H3y78OY5hAIBAIBAKBQCAQCAQCgUAgEAgEAoFAIBAIBAKBQCAQCAQCgUAgEAhKF6amHq9f7hl9a6C8sXiw9Gc0TdM0H/04VN5YOvOu8saxlTeVN27YPFze+OnV2eWNJXPqX6kamXO4vFHhDQKBQCAQCAQCgUAgEAgEAoFAIBAIBAKBQCAQCAQCgUAgEAgEAoFAIBAISjeN+oZ/Lx9g1Zqd5Y1tk+aVN+6ZUd9o2wvljUln2vLGtC8nlzdG9tb/d+5/pf71sA+PbihvVHiDQCAQCAQCgUAgEAgEAoFAIBAIBAKBQCAQCAQCgUAgEAgEAoFAIBAIBILShanR5VPLBxiceLK8cem6aeWN1z+oX9xaPf2O8sanz28sb8z++NHyxqHlb5Q3Xpp/fXljwZanyhsH1/f+rDcIBAKBQCAQCAQCgUAgEAgEAoFAIBAIBAKBQCAQCAQCgUAgEAgEAoFAIOi0bdvzJ40W3vh0+QA7dm8vbzx3sv51qIO3TyxvHHlvoLwx/ZGj5Y2fnx0sb/TtK080m158rbxx66QJ5Y1u/0jvz5Z/HcYwgUAgEAgEAoFAIBAIBAKBQCAQCAQCgUAgEAgEAoFAIBAIBAKBQCAQlL4wtXHXu+UDdGtHaJqmab5fO6u8Me78t+WN7+a+U95YNnFheaPtv1DeuGr4dHnjgaHV5Y3uxU55Y/TJwu+Xfx3GMIFAIBAIBAKBQCAQCAQCgUAgEAgEAoFAIBAIBAKBQCAQCAQCgUAgEJRuK92/+YnyAc7f9kd5Y8avZ8sbv62cW96Y+dns8kbnmfqXrgYe+qq8cam80DTf3Pd+eWPBurWX4SS98waBQCAQCAQCgUAgEAgEAoFAIBAIBAKBQCAQCAQCgUAgEAgEAoFAIBAIBKULU7sff7l8gBUP179CtGhof3lj0yeLyhud0/XLTn3D5Ylm2cFT5Y3t65aWN6Z095U3rn57b3mjebP3R71BIBAIBAKBQCAQCAQCgUAgEAgEAoFAIBAIBAKBQCAQCAQCgUAgEAgEAkGnbdu214eHRm8uH+Dvy9DotnsXlzeaU2fKE4e29Jc3rl11vLzx4J4D5Y0XDiwpb1w6MaW8MfDY1+WN3X/t6PlZbxAIBAKBQCAQCAQCgUAgEAgEAoFAIBAIBAKBQCAQCAQCgUAgEAgEAoFAULowBWOdNwgEAoFAIBAIBAKBQCAQCAQCgUAgEAgEAoFAIBAIBAKBQCAQCP4B1g2m0t6nhYsAAAAASUVORK5CYII=\", \"iVBORw0KGgoAAAANSUhEUgAAAMgAAADICAYAAACtWK6eAAAAOXRFWHRTb2Z0d2FyZQBNYXRwbG90bGliIHZlcnNpb24zLjguMywgaHR0cHM6Ly9tYXRwbG90bGliLm9yZy/H5lhTAAAACXBIWXMAAA9hAAAPYQGoP6dpAAAE0UlEQVR4nO3dT2jXdRzH8d/mOjgrMC1kWpCmNIkyFyX9YUTCZKkUBR0sDxbFiAoCo3OMDoEGFnQIOogVObCICGcdzKQSMQkFnYpE5hIsV9TBqfPbyVu8Dr+3Ucjjcf+89kF88j19+HU0TdO0gH/U+V9fAP7PBAKBQCAQCAQCgUAgEAgEAoFAIBAIBAKBQCAQCAQCgUAgEHRVDi+/f7h8gU+2vlve2H12Rnlj4VUT5Y2x87PKGyu6J8sb+ybPlTfmd10ob+yZnFneuBz/Hp1zjrZ/tvzX4QomEAgEAoFAIBAIBAKBQCAQCAQCgUAgEAgEAoFAIBAIBAKBQCAQCASC0oOprtN/li/w6I33lDdGT+4vbwz2ry1vrPnsq/JGq1V/ILRhfKC88fszs8sbU4faf6h0yaZZ15U3tp9u/6wvCAQCgUAgEAgEAoFAIBAIBAKBQCAQCAQCgUAgEAgEAoFAIBAIBAKBQCAoPZgaG7qhfIHDT4yUNwZ6+sobo+PbyhsLtwyVN4b/6ihv3PTaN+WNo5sWlTdW31f679VqtVqtQ31nyhsVviAQCAQCgUAgEAgEAoFAIBAIBAKBQCAQCAQCgUAgEAgEAoFAIBAIBAKBoPSipfNC/XHPrSPPlzcWzThQ3hjoWVLemN/6trzRNbenvLHt5N7yxuKPlpU3jjx5c3nj45/fL29U+IJAIBAIBAKBQCAQCAQCgUAgEAgEAoFAIBAIBAKBQCAQCAQCgUAgEAgEgo6maZp2Dw90P1W+wMixneWNxxf0lzdW7R8vb3y+sv5LVyO7tpY3XvnlgfLG23P3lDfWn7qzvHHg7mnljR3nPmz7rC8IBAKBQCAQCAQCgUAgEAgEAoFAIBAIBAKBQCAQCAQCgUAgEAgEAoFAICg9mBo+uLJ8gaXdP5Y3err+KG+8etfD5Y3e0YnyxuFH6r8wNfbSvPLGgvX1B1NrD/9U3lhzzW/ljc45R9s/W/7rcAUTCAQCgUAgEAgEAoFAIBAIBAKBQCAQCAQCgUAgEAgEAoFAIBAIBAJBV+XwqXPXli+wYvZkeWPwofovXU392v6jmkvemPN9eWPwxNLyRtNZfzA1rXdheaN/+tfljcHl68ob2w+2f9YXBAKBQCAQCAQCgUAgEAgEAoFAIBAIBAKBQCAQCAQCgUAgEAgEAoFAIBCUHkzt3dBXvsCD6+q/qDT99JnyxrGNy8obz564+jLc47byxi0vf1femCovtFr9u14ob3QPTr8MN2mfLwgEAoFAIBAIBAKBQCAQCAQCgUAgEAgEAoFAIBAIBAKBQCAQCAQCgUAg6Giapmn38Pbji8sXGPr06fLGm6s2lzfeuWNJeePI67eXN+buvFje2LJpY3lj3doXyxtffvBeeWOgZ0l544uLI22f9QWBQCAQCAQCgUAgEAgEAoFAIBAIBAKBQCAQCAQCgUAgEAgEAoFAIBAIBKUHUxPj88oX2H12Znnjrd76Q6Vmqv6bSn37zpc3fnhsfnnjudEd5Y3Np+4tbxyfmFXeuH71WHnDgyn4lwgEAoFAIBAIBAKBQCAQCAQCgUAgEAgEAoFAIBAIBAKBQCAQCAQCgaD0YAqudL4gEAgEAoFAIBAIBAKBQCAQCAQCgUAgEAgEAoFAIBAIBAKBQCD4G68rtgqLGRedAAAAAElFTkSuQmCC\", \"iVBORw0KGgoAAAANSUhEUgAAAMgAAADICAYAAACtWK6eAAAAOXRFWHRTb2Z0d2FyZQBNYXRwbG90bGliIHZlcnNpb24zLjguMywgaHR0cHM6Ly9tYXRwbG90bGliLm9yZy/H5lhTAAAACXBIWXMAAA9hAAAPYQGoP6dpAAAE0ElEQVR4nO3dTYhWZRzG4XlHiXKyskTCbOHH6KCItSiEMgpRgyQSSYVEKs2MMs1ZSAguhAqqIYsgchEJTTUE5cYPSColraBCjMDBSlEYJZFAhRbKnFbRJu7F+x8o5Lr2555nFr/3rB5Oq2mapgP4V53/9QHg/0wgEAgEAoFAIBAIBAKBQCAQCAQCgUAgEAgEAoFAIBAIBALB6MrDk/tfLh9g731vlzc+u3BHeWPx2KP1jX0byhsnHt5R3pg6sK68sXr+l+WNteN+LG+MH9VV3ui89Xj7z5b/OlzFBAKBQCAQCAQCgUAgEAgEAoFAIBAIBAKBQCAQCAQCgUAgEAgEAoFAULowNf21P8sHWL/q3vLG8TfvLm/sn9VT3vho4TvljakDz5Y3bjswXN64edGl8sbcgd7yxnVn67/hP7/a/rPeIBAIBAKBQCAQCAQCgUAgEAgEAoFAIBAIBAKBQCAQCAQCgUAgEAgEAoGg1TRN0+7DC0avKB/gl767yhut+v2gjmYEfio6L7fKGzfNPF/e2DJjT3njvaH6Rbaffp1U3pj+5Pfljc+HP2n7WW8QCAQCgUAgEAgEAoFAIBAIBAKBQCAQCAQCgUAgEAgEAoFAIBAIBAKBQFD6wtSo7snlA0zoOVfeGPf4xfLGlWkTyxutQ0fKGx2do8oTvX0r6+cYAT07L5Q39g4dqR+kwBsEAoFAIBAIBAKBQCAQCAQCgUAgEAgEAoFAIBAIBAKBQCAQCAQCgUAgEJQuTA2uG18+wLYp7X/9529bNz9a3tj04O7yxp75s8obu3/YV944cflAeWP16g3ljUX9h8sbUwfWlTdOFP4VbxAIBAKBQCAQCAQCgUAgEAgEAoFAIBAIBAKBQCAQCAQCgUAgEAgEAoFAULow1brSKh9gSdeZ8kbPkrfKG8t2PV/eeOmrgfLG/WueKm+cXlj/SlXHQ/WJNTceK29sXH6yfpCO3raf9AaBQCAQCAQCgUAgEAgEAoFAIBAIBAKBQCAQCAQCgUAgEAgEAoFAIBAIBKULUysWfF0+wJjOa8oby3bVv0I06Yvh8saK5X+UN7YsqF92+m5pX3lj5ZQHyhtzOjaWN2ZsGyxv7Dvf/rPeIBAIBAKBQCAQCAQCgUAgEAgEAoFAIBAIBAKBQCAQCAQCgUAgEAgEAoGg1TRN0+7D9yx9vXyA4afPlTdueGSovNHM7i5vDK69trzReal+YWraC9+WN0bCqsHT5Y0P588tb+w9tb3tZ71BIBAIBAKBQCAQCAQCgUAgEAgEAoFAIBAIBAKBQCAQCAQCgUAgEAgEAkHpC1MzXzxaPsA3H99Z3jj7yoTyxpih+m/F7Om/lTfO7Jxc3th+8nB5Y/0Tz5U3Hht7pLyxtff28kaFNwgEAoFAIBAIBAKBQCAQCAQCgUAgEAgEAoFAIBAIBAKBQCAQCAQCgUAgKF2Y2n9oTvkAbzzzfnnj3XnzyhvHNtcvKnVf/3t541TXlPLG4k83lTf6dnxQ3ui/eEt5Y+LBtj+A9o8N7T/qDQKBQCAQCAQCgUAgEAgEAoFAIBAIBAKBQCAQCAQCgUAgEAgEAoFAIBAIWk3TjMCNFLg6eYNAIBAIBAKBQCAQCAQCgUAgEAgEAoFAIBAIBAKBQCAQCAQCgeAvTnCfe1FbM2QAAAAASUVORK5CYII=\", \"iVBORw0KGgoAAAANSUhEUgAAAMgAAADICAYAAACtWK6eAAAAOXRFWHRTb2Z0d2FyZQBNYXRwbG90bGliIHZlcnNpb24zLjguMywgaHR0cHM6Ly9tYXRwbG90bGliLm9yZy/H5lhTAAAACXBIWXMAAA9hAAAPYQGoP6dpAAAEzElEQVR4nO3dW2jWdRzH8edZuoUNLOmiCFdNcdmBFmQnOqBBzaEXUdgBtKjA6ICIEVEXBRUdpEYgJIQFIwIhEBRx8yLDE86irCCQLKMojdBAIpg7PN15FZ+L5xsU8Xrd/z/8GXs/v6s/v2ar1Wo1gL/V8W+/APyXCQQCgUAgEAgEAoFAIBAIBAKBQCAQCAQCgUAgEAgEAoFAIJhReXjPD/PKL3BN52R544rRx8sbG277oLyx+OxT5Y3pxnR5Y6JV35jVMbO80dWsb+z8s74x0PtN2886QSAQCAQCgUAgEAgEAoFAIBAIBAKBQCAQCAQCgUAgEAgEAoFAIBAIBAJBs3I/yGUvDJVfoOfVg+WN7l3nljcOHZxf3nh66bbyxvrR5eWNvle+LW88tP+z8samvt7yxvjgteWN3dueaftZJwgEAoFAIBAIBAKBQCAQCAQCgUAgEAgEAoFAIBAIBAKBQCAQCAQCgUAgKN0wNT6nfpPRyI/1D3OW3nFfeePIzo3ljcGrlpQ3zlrXLG98t3ZBeaO/a2t94/NLyxtbdpT+RcucIBAIBAKBQCAQCAQCgUAgEAgEAoFAIBAIBAKBQCAQCAQCgUAgEAgEAoGgdMPUnd0Pll+gb8/p8saXz/WXN05c2VneuHDfH+WNxoGvyhNHhm4obwwtGy5vvHN1f3ljx5H95Y2OC9q/ccsJAoFAIBAIBAKBQCAQCAQCgUAgEAgEAoFAIBAIBAKBQCAQCAQCgUAgEAhq1/fM7ym/wMDsLeWN7UsWlTd23f9GeePRDbeXN0Z+OVTeODqxt7yx4uuHyxsnXjuvvLFwY3954/CL7T/rBIFAIBAIBAKBQCAQCAQCgUAgEAgEAoFAIBAIBAKBQCAQCAQCgUAgEAgEpQ+mmpPT5RcYmDVe3pjubPuSrDNWX39PeaNjpP57M2/zY+WNi7dPlDdODs4sb6xf9mF54+7uU+WNRmNt2086QSAQCAQCgUAgEAgEAoFAIBAIBAKBQCAQCAQCgUAgEAgEAoFAIBAIBAJB6YOp4dH3yy8wb/O68sY/YfLY8fLG1gWfljcu/+Kp8sbHw5vKG7c8sbq8MfeuE+WNgZ4byxs7T7f/rBMEAoFAIBAIBAKBQCAQCAQCgUAgEAgEAoFAIBAIBAKBQCAQCAQCgUAgEJQ+mFq1ZGX5BVZ9tLu8MfL6reWNn56/qbxxcmpveaPv3fpHRoMvLS5vzPp9rLwx9+367WE/r72uvFHhBIFAIBAIBAKBQCAQCAQCgUAgEAgEAoFAIBAIBAKBQCAQCAQCgUAgEAgEzVar1Wr34fFjveUXWH5J/QahOZ+cU94YG+srb7Q62/5TnrHwrV/LG8336h8qTd87Vd44/OZF5Y3Gb13liaNr2r/FzAkCgUAgEAgEAoFAIBAIBAKBQCAQCAQCgUAgEAgEAoFAIBAIBAKBQCAQCEo3TD17fFH5BYa/31XeWNlzc3mjb+HJ8sbRFeeXNxpT9Q+Vpp6cXd54+cBweaN3xmR544Flj5Q3Gmvaf9QJAoFAIBAIBAKBQCAQCAQCgUAgEAgEAoFAIBAIBAKBQCAQCAQCgUAgEAhKN0zB/50TBAKBQCAQCAQCgUAgEAgEAoFAIBAIBAKBQCAQCAQCgUAgEAgEfwG4qLBixfI0GgAAAABJRU5ErkJggg==\", \"iVBORw0KGgoAAAANSUhEUgAAAMgAAADICAYAAACtWK6eAAAAOXRFWHRTb2Z0d2FyZQBNYXRwbG90bGliIHZlcnNpb24zLjguMywgaHR0cHM6Ly9tYXRwbG90bGliLm9yZy/H5lhTAAAACXBIWXMAAA9hAAAPYQGoP6dpAAAEw0lEQVR4nO3dS4iWZRzG4e+biRRNI7LwTKPmKazIIgoRQio0iiRo0a4iCDKYENPAWhUIFkqRQRltWmhgg0SQWiQtwjBwKg1P1BQ65XSAkJiYg2+7VnEvvr9QyHXt35tnGH7fu3p4203TNC3gX3X91weA/zOBQCAQCAQCgUAgEAgEAoFAIBAIBAKBQCAQCAQCgUAgEAgEl1Ue/u3srPIBruqeVN7o2fd4eWPvXa+XN268fGJ5Y7QZL290tdrlje72pfPb2TX9VOfPXsRzwCVHIBAIBAKBQCAQCAQCgUAgEAgEAoFAIBAIBAKBQCAQCAQCgUAgEAgE7cr3QVbPW18+wNjAj+WNk2/dVt7o2X2hvLF9Z/3S1dq+3vLGrIP1v2Xd1t3ljbcX9pQ32hMmlDf2D7/b8bPeIBAIBAKBQCAQCAQCgUAgEAgEAoFAIBAIBAKBQCAQCAQCgUAgEAgEAoGg9IWp8TOD5QP88N6y8sbChw+XN/YN9pc3Vq95rLwxY0HH99f+ccWxX8obayadK2983T+3vHHwxZvLGxXeIBAIBAKBQCAQCAQCgUAgEAgEAoFAIBAIBAKBQCAQCAQCgUAgEAgEAoGgdGFq4IX6l52Or3ijvHHfvAfLG5uHxssb5+dPKW9Mfv/L8saJV+r/l2X71pU3Fj91tLxx7f7vyhsV3iAQCAQCgUAgEAgEAoFAIBAIBAKBQCAQCAQCgUAgEAgEAoFAIBAIBAKBoHRhqmfLV+UDDD36Z3nj+NPTyxvPT91T3ji8p7u8ceq128sbBx54ubwx0tR/O68+Vf9a1j1bN5Q3Wis6f9QbBAKBQCAQCAQCgUAgEAgEAoFAIBAIBAKBQCAQCAQCgUAgEAgEAoFAIBCULkyN3LGkfIBvRr4ob/St3V7e2HjDqvLG8iPnyxunP22XN9Ytvbe8MXbLwvLGlJfOlDf6N+0ob7Raz3T8pDcIBAKBQCAQCAQCgUAgEAgEAoFAIBAIBAKBQCAQCAQCgUAgEAgEAoFAIGg3TdPxZ4CGzs4sH2Ba9+TyxvxdT5Y3Fu38vbzxwYFd5Y37b7q7vHFi8/XljdkfXyhvnFl1EX5/6x+pan3fu77jZ71BIBAIBAKBQCAQCAQCgUAgEAgEAoFAIBAIBAKBQCAQCAQCgUAgEAgEAkHpC1Mr39xQPsCEW+sXleZ8Ml7eaA2eK08cGx0pb1y4bkZ5Y0HvofLGxbBt28nyxo4lS+sH6e38UW8QCAQCgUAgEAgEAoFAIBAIBAKBQCAQCAQCgUAgEAgEAoFAIBAIBAKBQFC6MDU8Z7R8gLkPnS5vPPFt/WLOsx8+Ut5Y27ekvLHoj6Hyxk97F5c3ZmyqX0J77p07yxuzxz4vb1R4g0AgEAgEAoFAIBAIBAKBQCAQCAQCgUAgEAgEAoFAIBAIBAKBQCAQCASCdtM0TacP/3x2ZvkAh/66prxxdHhOeeOz5VeWN0ZXLitvTDxdvzA1Pm1qeWNgY/23c2RoUnlj8au/ljc+Or6l42e9QSAQCAQCgUAgEAgEAoFAIBAIBAKBQCAQCAQCgUAgEAgEAoFAIBAIBAJB6cIUXOq8QSAQCAQCgUAgEAgEAoFAIBAIBAKBQCAQCAQCgUAgEAgEAoFA8Dd/L6/2wASITwAAAABJRU5ErkJggg==\", \"iVBORw0KGgoAAAANSUhEUgAAAMgAAADICAYAAACtWK6eAAAAOXRFWHRTb2Z0d2FyZQBNYXRwbG90bGliIHZlcnNpb24zLjguMywgaHR0cHM6Ly9tYXRwbG90bGliLm9yZy/H5lhTAAAACXBIWXMAAA9hAAAPYQGoP6dpAAAEwklEQVR4nO3dTYiVZRzG4XNGm1LRgibUNo4ezQGJkhbVYiiCpCzLoBZRQh8QZpTjQogIauHGIIr8gIh2MowQLSaGREICI6UJg4lixqiUzHIK+kBEJX3bVKu4F+c/UMh17d97nln8zrt6eNtN0zQt4F/1/NcHgP8zgUAgEAgEAoFAIBAIBAKBQCAQCAQCgUAgEAgEAoFAIBAIBLMrD58+uaR8gLk9veWNt39bVN54b/qG8sbsngvljXc6H5Q3Ons3ljdGH3itvLGqd05549Fjt5c3hm95q+tnvUEgEAgEAoFAIBAIBAKBQCAQCAQCgUAgEAgEAoFAIBAIBAKBQCAQCAQCQenC1I17NpcPsPT5Q+WN+Qf7yhs/7+gvb2zb3v3FnL/NxGWnVt+58sT6j58ubyx/YrK80b6yfqGu9UP3j3qDQCAQCAQCgUAgEAgEAoFAIBAIBAKBQCAQCAQCgUAgEAgEAoFAIBAIBILShallL46XDzA9urK80RqcKk98dLL+Zae1q9eUNxY8VP/NWrj18/LG2PFPyhsvHa5/teuz+68pb1R4g0AgEAgEAoFAIBAIBAKBQCAQCAQCgUAgEAgEAoFAIBAIBAKBQCAQCASCdtM0TbcP37XqhfIBJjdeXd6Yf6zeec/58kTr/IL6Rv/I9+WNyWcX1w/Srk+s2PppeWP9ROHzUH/ZNPBh1896g0AgEAgEAoFAIBAIBAKBQCAQCAQCgUAgEAgEAoFAIBAIBAKBQCAQCASC0hempp6qX3aaenBXeWNg7zPljYtX/VHeWDDRW95YO3akvNE5s6i88eriw+WN/evmlTeeG32svLFpoPtnvUEgEAgEAoFAIBAIBAKBQCAQCAQCgUAgEAgEAoFAIBAIBAKBQCAQCAQCQekLU7fdvb18gC07h8sbM+HNwcHyRnuk/nszOd5f3ljx8kR5oz3nivLG8n2/lzfeuHa8vNGz6Kvuny3/dbiECQQCgUAgEAgEAoFAIBAIBAKBQCAQCAQCgUAgEAgEAoFAIBAIBAKBoPSFqePrZpUPcN+8M+WNzsjG8sa8R+q/FRPX7S5vdI7U/5ej264vb7QvlidaUwfrG2PNTeWNb4e6f9YbBAKBQCAQCAQCgUAgEAgEAoFAIBAIBAKBQCAQCAQCgUAgEAgEAoFAIBCULkzNOl3va9n+J8sbs8+1yxtn+7r+0NY/OgceL2+06v9Ka/mWw/WRGXDvF7+UN96/Y2X9IEPdP+oNAoFAIBAIBAKBQCAQCAQCgUAgEAgEAoFAIBAIBAKBQCAQCAQCgUAgEAhKF6a+3LCzfIB1S24ub5xds7q88d2d9a9ltX66vDwxsOPH8sbwiUPljXs2D5U3Fl42Ut64cGq6vFHhDQKBQCAQCAQCgUAgEAgEAoFAIBAIBAKBQCAQCAQCgUAgEAgEAoFAIBAI2k3TdP1ppXe/rl9UmgmvDz1c3pj7za/ljeZE/bLTxVVL6+eYVf/du3X3eHljz4HB8sbKXafKG/uOvtL1s94gEAgEAoFAIBAIBAKBQCAQCAQCgUAgEAgEAoFAIBAIBAKBQCAQCAQCgaB0YQoudd4gEAgEAoFAIBAIBAKBQCAQCAQCgUAgEAgEAoFAIBAIBAKBQCD4E7PMn/yXeZewAAAAAElFTkSuQmCC\", \"iVBORw0KGgoAAAANSUhEUgAAAMgAAADICAYAAACtWK6eAAAAOXRFWHRTb2Z0d2FyZQBNYXRwbG90bGliIHZlcnNpb24zLjguMywgaHR0cHM6Ly9tYXRwbG90bGliLm9yZy/H5lhTAAAACXBIWXMAAA9hAAAPYQGoP6dpAAAEvUlEQVR4nO3dzYuVdRzG4RmPNeZQWk4vmOW7FYQVkakobcwJCq0IxJ2UwiQKJkRk9LJIqCgxjGGIWiUtspJeQRRkFsZsTAkic5yISEfJKMHU0cbTPxD34nyFQq5r/9znt/mc3+rhaW82m8024F+N+a8PAP9nAoFAIBAIBAKBQCAQCAQCgUAgEAgEAoFAIBAIBAKBQCAQCMZWHn5w7zPlA+y648vyxqYTc8sbwyMTyhvv3dJf3lj6w6PljeOnri5vbJ77WXnjpsap8sb23xeWN3rv3d7ys24QCAQCgUAgEAgEAoFAIBAIBAKBQCAQCAQCgUAgEAgEAoFAIBAIBAKBQFB6YarRc2X5AN2Dd5c3jmydX964bfNQeWN4/5nyxhe3f1zeeOyJ1eWNvpHl5Y3mge/LG2PGN8obbacLv1//dbh8CQQCgUAgEAgEAoFAIBAIBAKBQCAQCAQCgUAgEAgEAoFAIBAIBAKBoPTC1OGeG8oHOLLy0/JG9+TyRNvXxw7Wz3Hz4vJGZ39XeaNt4LvyxFdHvy1vvPzbXeWNA8snlTcq3CAQCAQCgUAgEAgEAoFAIBAIBAKBQCAQCAQCgUAgEAgEAoFAIBAIBAKBoPTC1Jx3T5YP8PrS2eWNn19dUN54eOGt5Y3GzPrXkM6tqW9MGThb3pjz0dr6xvt/ljeGXusob1S4QSAQCAQCgUAgEAgEAoFAIBAIBAKBQCAQCAQCgUAgEAgEAoFAIBAIBAJB6YWp0cND5QM8N2mwvNH/9rTyxqEXZpY3Zm0YKG9c1X9jeePomQnljaEVfeWNtYvmlzcu3neuvNG2ovVH3SAQCAQCgUAgEAgEAoFAIBAIBAKBQCAQCAQCgUAgEAgEAoFAIBAIBAKBoPTCVKOrq3yAz/8aX97o27+zvLFm6uLyxvXfTCxvnHzgj/JG88L58sa8VU+XN5Zt3Fve6D12qLxR4QaBQCAQCAQCgUAgEAgEAoFAIBAIBAKBQCAQCAQCgUAgEAgEAoFAIBAIBKUXpg69NKN8gGWdu8sb3ZMXlTeOb1hQ3tg1rbe80f33PeWNwW33lzdmfDJS3ljQWf962KwPe8obP21s/Vk3CAQCgUAgEAgEAoFAIBAIBAKBQCAQCAQCgUAgEAgEAoFAIBAIBAKBQCAovTA17kSjfICDI/UXc45smV/e6Kh/2KntQnO0vDH0Zv1lp9nrB8obl8LqPU+WNzrOtF+Ck7TODQKBQCAQCAQCgUAgEAgEAoFAIBAIBAKBQCAQCAQCgUAgEAgEAoFAIBAI2pvNZrPVh88OTysfYMm6deWNZ9/4oLzxYu+q8sbpqRfLG9cM1v+z9j2/tbxx58715Y0dj2wrb2yaPq+8sfvijpafdYNAIBAIBAKBQCAQCAQCgUAgEAgEAoFAIBAIBAKBQCAQCAQCgUAgEAgEgtIXpjrarygf4K0t75Q3XnloZXljysiv5Y3zU64rb4yOq3+1a8/ZieWNHx/vLW889cuS8sbY6deWNyrcIBAIBAKBQCAQCAQCgUAgEAgEAoFAIBAIBAKBQCAQCAQCgUAgEAgEAoGg9IUpuNy5QSAQCAQCgUAgEAgEAoFAIBAIBAKBQCAQCAQCgUAgEAgEAoFA8A9Z8aO3+ksc6gAAAABJRU5ErkJggg==\", \"iVBORw0KGgoAAAANSUhEUgAAAMgAAADICAYAAACtWK6eAAAAOXRFWHRTb2Z0d2FyZQBNYXRwbG90bGliIHZlcnNpb24zLjguMywgaHR0cHM6Ly9tYXRwbG90bGliLm9yZy/H5lhTAAAACXBIWXMAAA9hAAAPYQGoP6dpAAAEtklEQVR4nO3dzYvVZRzG4XN0aNJiMkoDrYZmIEOC6NXpnSCjkRiohSJFBAkJJVJaWdhCooKMIAaiEheBGwkpejGhVuKiyKgMRyYba+FY2dCieWnKcU7/QNyL8x0o4rr2v5tn8znP6uE0W61WqwH8o3n/9gHgv0wgEAgEAoFAIBAIBAKBQCAQCAQCgUAgEAgEAoFAIBAIBAJBR+Xj147eWT7Auq6h8sYN7z1R3hjsf7u8sfHg/eWN43ftKm/07tlQ3nhrYGd545KO38sbqw8+Vt44vu7Ztr91g0AgEAgEAoFAIBAIBAKBQCAQCAQCgUAgEAgEAoFAIBAIBAKBQCAQCASCZuX/QVbd9Hz5AN+vWVjeaDTrE0u+qG/8srK+0ZytbzQW/1meWHnZj+WNQweuKG9c8G3972s+37257W/dIBAIBAKBQCAQCAQCgUAgEAgEAoFAIBAIBAKBQCAQCAQCgUAgEAgEAoGg9A9Tjc8O10+wtq88MRePnU5dX99YeLL+e3PeHT+XN57u3V/emAs9/WPljUPPddYPsrv9T90gEAgEAoFAIBAIBAKBQCAQCAQCgUAgEAgEAoFAIBAIBAKBQCAQCAQCgaD0YGr+RUvKB1jQPV7eWPTMSHmjY/qq8kbXV6PljTOv/lTeePzlB8sbc2H59qPljReOfTIHJ2mfGwQCgUAgEAgEAoFAIBAIBAKBQCAQCAQCgUAgEAgEAoFAIBAIBAKBQCAQlB5MDW/tKR9gaOVgeWPFSxvLG605+Kno+rpZ3jj18LXljY/ve6W8sWlgfXlj1+GPyhu37N1S3vhhU/vfukEgEAgEAoFAIBAIBAKBQCAQCAQCgUAgEAgEAoFAIBAIBAKBQCAQCAQCQenBVOdv9b6mZk+XNzqWTpU3ZkYXljeue/dYeeP9nUvLG/e++WR5Y/qh2fLGnvEryxsja98obzQam9v+0g0CgUAgEAgEAoFAIBAIBAKBQCAQCAQCgUAgEAgEAoFAIBAIBAKBQCAQCEoPpqYvrD+qOX9+/aHSzMn6RsdU/d+hti8+Ut7Y3XtreeO7Na+XN/q2PVreGGzcXd7Y984f5Y1PD7b/rRsEAoFAIBAIBAKBQCAQCAQCgUAgEAgEAoFAIBAIBAKBQCAQCAQCgUAgEJQeTHWN1PvaP9VZ3jjnRP0cZ4+1yhsnZibKG436MRqrl11T3li8aKi8Md5/aXnjzIKzyhsVbhAIBAKBQCAQCAQCgUAgEAgEAoFAIBAIBAKBQCAQCAQCgUAgEAgEAoFAUHowNdk3VT7AjkceKG9M3lP/p6vJZeWJxu17t5Q3uvedLm98OPpleWPV+g3ljW9urv/T1YrRjeWNCjcIBAKBQCAQCAQCgUAgEAgEAoFAIBAIBAKBQCAQCAQCgUAgEAgEAoFAIGi2Wq22/9No4mR3+QBjs3+VNzZcPVDeGN52eXlj+Ysj5Y3GvGZ5YnhrT3njthuPlDd+nT63vDGx4+LyxoEPnmr7WzcIBAKBQCAQCAQCgUAgEAgEAoFAIBAIBAKBQCAQCAQCgUAgEAgEAoFAICg9mIL/OzcIBAKBQCAQCAQCgUAgEAgEAoFAIBAIBAKBQCAQCAQCgUAgEAj+BujVpUg2Vc9GAAAAAElFTkSuQmCC\", \"iVBORw0KGgoAAAANSUhEUgAAAMgAAADICAYAAACtWK6eAAAAOXRFWHRTb2Z0d2FyZQBNYXRwbG90bGliIHZlcnNpb24zLjguMywgaHR0cHM6Ly9tYXRwbG90bGliLm9yZy/H5lhTAAAACXBIWXMAAA9hAAAPYQGoP6dpAAAEsklEQVR4nO3dTYiVZRzG4XOOOk1URhQ4JGGTckwCDSSZTbUQkWyIgihaJFkWE0GNChJtgsI+BIesYPqwTUVg0AemWLYoa9FIiLRKUpgRI5dGpeUM42nnKu7F+R9I5Lr27z0Pw/zmXT28zU6n02kA/6n1fx8ALmYCgUAgEAgEAoFAIBAIBAKBQCAQCAQCgUAgEAgEAoFAIBAI5lYeHty5o3yAd+55t7zx+P6N5Y0P1o2XN1b0TZc3js80yxvPDa8vb3x24MPyRqsH/383nFhd3vhoqPu/MW8QCAQCgUAgEAgEAoFAIBAIBAKBQCAQCAQCgUAgEAgEAoFAIBAIBAKBQNCsfB/kjru3lw9wcs2c8kanr/6Jk2XbTpQ3jm69sbzREz344sv5K2fLG+0nfixvtFYsK298deSF7n9++afDJUwgEAgEAoFAIBAIBAKBQCAQCAQCgUAgEAgEAoFAIBAIBAKBQCAQCASlL0z1f32kfIC949+VNzYPP1re2Hf4y/LG2utvLW/8+eBQeeOVl98qb/Q16hemHhp/sryx9L2z5Y0KbxAIBAKBQCAQCAQCgUAgEAgEAoFAIBAIBAKBQCAQCAQCgUAgEAgEAoFAULow1Qvtef3ljekFV5Q3Pvlrfnnj+Fj9stOSzRPljQ1DI+WNRrM+0d50qLzx6cn6RqPxfNdPeoNAIBAIBAKBQCAQCAQCgUAgEAgEAoFAIBAIBAKBQCAQCAQCgUAgEAgEgman0+l0+/CS7WPlA/S1/yhv/D11VXljdO3+8sbeW64pb0ztXl7eGFv5cXnj6S8eKW905nX9p3VBc7p+c2tydEvXz3qDQCAQCAQCgUAgEAgEAoFAIBAIBAKBQCAQCAQCgUAgEAgEAoFAIBAIBILSham7Fm0qH2DPxJ7yxsS58kTjxfaq8sYvO1eWN3pxQejmVyfLG0e3DpY3evGVqh/u31HeGFj4W9fPeoNAIBAIBAKBQCAQCAQCgUAgEAgEAoFAIBAIBAKBQCAQCAQCgUAgEAgEgtKFqcGd9cssF4vWufrtnmPrx8sbi3ePlDd6YeHB8+WNX9fUf6dX/zynvPHT691f7PMGgUAgEAgEAoFAIBAIBAKBQCAQCAQCgUAgEAgEAoFAIBAIBAKBQCAQCARzKw8v2jdTPsAbu94sbzzw9pbyxmW/d31v7ILTs2fLG4+t/qa8cXD55eWNXvj8tYnyxn3To/WDFHiDQCAQCAQCgUAgEAgEAoFAIBAIBAKBQCAQCAQCgUAgEAgEAoFAIBAIBILSF6ZmTi0uH2DdDbeVNya3rSpvzPbXL0z1wtJdp8sbL+19v7yxaeSp8sbUvfX/v61/6huTz3R/oc4bBAKBQCAQCAQCgUAgEAgEAoFAIBAIBAKBQCAQCAQCgUAgEAgEAoFAIBCULkydO3VT+QCtRrO8Mdy+vbxx/syZ8sbcgQX1cwxcW9449vD88sa6Ow+XNzZe9315Y3Rj/eLWtwee7fpZbxAIBAKBQCAQCAQCgUAgEAgEAoFAIBAIBAKBQCAQCAQCgUAgEAgEAoFAULowBZc6bxAIBAKBQCAQCAQCgUAgEAgEAoFAIBAIBAKBQCAQCAQCgUAgEPwL6KauX4Q1zYIAAAAASUVORK5CYII=\", \"iVBORw0KGgoAAAANSUhEUgAAAMgAAADICAYAAACtWK6eAAAAOXRFWHRTb2Z0d2FyZQBNYXRwbG90bGliIHZlcnNpb24zLjguMywgaHR0cHM6Ly9tYXRwbG90bGliLm9yZy/H5lhTAAAACXBIWXMAAA9hAAAPYQGoP6dpAAAEqklEQVR4nO3dSavWZQDG4XO0U2qDJFRUFKk5LSox0wLpNC3KRKKiiBYt2hSBpBBk0KaILArEXYFQEBrWwkat1g0olkkoNigNai4KSjNyevsCcS/OLRRxXfv35uFwfjyrh//wYDAYDAH/aNy/fQD4LxMIBAKBQCAQCAQCgUAgEAgEAoFAIBAIBAKBQCAQCAQCgUBwWvPjYwem1we48au76o1JI0frjeNPX1BvLHv59XpjdOIv9cZrv8+sN+ZO+L7emDHyZ70xaXh8vXHORT+O+bduEAgEAoFAIBAIBAKBQCAQCAQCgUAgEAgEAoFAIBAIBAKBQCAQCAQCgUBQPZhaMnu0PsBZ43+tN3atmlVvTJnZP8zZdmRqvXHTxP7v8d7S+fXGJZv6h1tPTZtXbwyfVv2LDg0NDQ19WLync4NAIBAIBAKBQCAQCAQCgUAgEAgEAoFAIBAIBAKBQCAQCAQCgUAgEAgEguo1yslDh+oDvLtvW72x5OLf6o0P9m+vN269tH+otHjJsnrjxydO1hvHBv1DpQMb59QbF927p95ouEEgEAgEAoFAIBAIBAKBQCAQCAQCgUAgEAgEAoFAIBAIBAKBQCAQCAQCQf8qpjQy3H/ZafrWCfXGgz8sqjcG86fVGxPf2lpvjBtdWG+s3df/PS68Y1e98czeLfVGww0CgUAgEAgEAoFAIBAIBAKBQCAQCAQCgUAgEAgEAoFAIBAIBAKBQCAQCKoHU9+9eG19gL8G/QOhHc9dVW+sXPVqvbHms8P1xnfr5tYbz85fX29MGD5Wb6xYd0+98eSC8+qNzQfH/ls3CAQCgUAgEAgEAoFAIBAIBAKBQCAQCAQCgUAgEAgEAoFAIBAIBAKBQCCoHkydvafv64zhkXrjpRdW1xsrLruu3tjw06f1xtXr+3Osvb//0tWxm+fVGyfu7r8e9v6XH9UbDTcIBAKBQCAQCAQCgUAgEAgEAoFAIBAIBAKBQCAQCAQCgUAgEAgEAoFAIKgeTH28cvUpOMLp9cJj1yytN07ccEm9MXnc9nrj3J31xNA3axbUG1M3Hq83Pr99db2xaNnyeuOTDWP/rRsEAoFAIBAIBAKBQCAQCAQCgUAgEAgEAoFAIBAIBAKBQCAQCAQCgUAgEFQPphauebQ+wOFZR+uN2Ud21RunHzxUb5wKk/f+VW9MeeWL/iCDQT3xwJ47642zN31VbzTcIBAIBAKBQCAQCAQCgUAgEAgEAoFAIBAIBAKBQCAQCAQCgUAgEAgEAoGgejD19iPP1wd4aOpovfHw7v7B1PJ3rqg3pr3xUL0xZ+++emPFtzvqjecvv7Le2Lllar0x/Y9P642GGwQCgUAgEAgEAoFAIBAIBAKBQCAQCAQCgUAgEAgEAoFAIBAIBAKBQCAQDA8GY/+U0MmfZ5zKs4zZ4tnX1xsnDvVfmBo/5xT8PfYf7DcuPL+euO3NLfXG6Jm7643Hb7mv3tj89dgf9rlBIBAIBAKBQCAQCAQCgUAgEAgEAoFAIBAIBAKBQCAQCAQCgUAgEAgEAkH1YAr+79wgEAgEAoFAIBAIBAKBQCAQCAQCgUAgEAgEAoFAIBAIBAKBQCD4G7KJnm6PU6zIAAAAAElFTkSuQmCC\", \"iVBORw0KGgoAAAANSUhEUgAAAMgAAADICAYAAACtWK6eAAAAOXRFWHRTb2Z0d2FyZQBNYXRwbG90bGliIHZlcnNpb24zLjguMywgaHR0cHM6Ly9tYXRwbG90bGliLm9yZy/H5lhTAAAACXBIWXMAAA9hAAAPYQGoP6dpAAAEuklEQVR4nO3dzYuVdRzG4XOmYirsRXvPSmHGmamIXkQKsYIWISEoVDpR26bwpcBNi5CEFmmRFDal0MJNkS7CsJCCLJJAnGpTmcMwUmLTYkgq01FpePoH4l6c70Ai17V/7vkNnA/P6sfTbpqmaQH/qev/PgCcywQCgUAgEAgEAoFAIBAIBAKBQCAQCAQCgUAgEAgEAoFAIBBcWHl42f515QP8cfqS8sbxk5eWN+bPOV7eOPztvPLG6ODb5Y3Pp7rLG4svPlHemG7Vb1LMatf/l4tuGO/4WW8QCAQCgUAgEAgEAoFAIBAIBAKBQCAQCAQCgUAgEAgEAoFAIBAIBAKBQFC6MHXom/nlAzTt8kTr8Krh8sZD61aXNzZver+80berfo7enafKG58O/1De+OmRq8sb7Xb9B7J3ovNnvUEgEAgEAoFAIBAIBAKBQCAQCAQCgUAgEAgEAoFAIBAIBAKBQCAQCAQCQenCVP+Wo+UDHHrxpvLG8ruWljeW7dtX3njjhSfKG9cOTZY3zl4xu7zx+OyR8sbQ9qfKGzev/au8UeENAoFAIBAIBAKBQCAQCAQCgUAgEAgEAoFAIBAIBAKBQCAQCAQCgUAgEAhKF6aaU1PlA3SdqTd6/OGe8saut3rLG2d76l9DmrviWHljbNM15Y0nd68pb/SuP1DeOLb71vJGhTcIBAKBQCAQCAQCgUAgEAgEAoFAIBAIBAKBQCAQCAQCgUAgEAgEAoFAIChdmBrd0F8+wPiqbeWNnubZ8sYXj71W3nj6liXljQ1HvitvXNn1ZXnjxgua8kb3ytLPq9VqtVp37LqvvFHhDQKBQCAQCAQCgUAgEAgEAoFAIBAIBAKBQCAQCAQCgUAgEAgEAoFAIBAI2k3TdHwzZul1q8sH2DSyp7yx4uPnyxvts/WvQzXd9UtG7TP1c/S/Ml7e+HloQXnjqkPT5Y39w9vLG13Xj3X+bPmvw3lMIBAIBAKBQCAQCAQCgUAgEAgEAoFAIBAIBAKBQCAQCAQCgUAgEAgEpQtTf0/MKx+gu13/ClHfzvrFrYGtv5U3Pvn6o/JGzwf1r2XNhPb0DFwgm4GvVC1470R547ORjR0/6w0CgUAgEAgEAoFAIBAIBAKBQCAQCAQCgUAgEAgEAoFAIBAIBAKBQCAQCEq3le7eUf+y09bBd8sbfS/9WN44vaivvHH/2mfKG60l9Yne9QfKGycfvbe8Mblyqr6x8PLyRoU3CAQCgUAgEAgEAoFAIBAIBAKBQCAQCAQCgUAgEAgEAoFAIBAIBAKBQCAoXZj6Z1b9C0JbBu4sb4y9ent541zR//JoeePB70+WN/ZsLE+0Nt/zYXnjncEF9YNs6/xRbxAIBAKBQCAQCAQCgUAgEAgEAoFAIBAIBAKBQCAQCAQCgUAgEAgEAoFA0G6apuNbT7//Ord8gEVfrSlv9D33S3ljcnl/eWPOjoPljfbC28obEw9cVt6YXvxneeP00fo5Bt6cKG/sPfJ6x896g0AgEAgEAoFAIBAIBAKBQCAQCAQCgUAgEAgEAoFAIBAIBAKBQCAQCASC0oUpON95g0AgEAgEAoFAIBAIBAKBQCAQCAQCgUAgEAgEAoFAIBAIBAKB4F/hbKeJ3uNZ7gAAAABJRU5ErkJggg==\", \"iVBORw0KGgoAAAANSUhEUgAAAMgAAADICAYAAACtWK6eAAAAOXRFWHRTb2Z0d2FyZQBNYXRwbG90bGliIHZlcnNpb24zLjguMywgaHR0cHM6Ly9tYXRwbG90bGliLm9yZy/H5lhTAAAACXBIWXMAAA9hAAAPYQGoP6dpAAAEvUlEQVR4nO3d22vXdRzH8W0eJopFHjpMUsI1lBCmlCBBUBdT7CBBFxLdpBBF2AExL4tIKy/axdIKCQyhUKw7z0ShYZBBC6OlYxkUyw4XLfAwdfv2D8TrYu9Aicfj/vva5+a5z9WHX2vTNE0L8K/arvUB4HomEAgEAoFAIBAIBAKBQCAQCAQCgUAgEAgEAoFAIBAIBAKBYHLl4849r5UP8PSS4+WN3UPLyxtv3vVxeeOPsRvKGw/N+KW8caUZL298cemW8saD00fKG1NaJ5U32m4dnPi35b8O/2MCgUAgEAgEAoFAIBAIBAKBQCAQCAQCgUAgEAgEAoFAIBAIBAKBQCCoPZh65Xz5AEeGZpU3jp59v7zx+Npnyxv799bP0dIytbywprunvLH+xMnyxiNd95U3xi9eKm8cvTrxb90gEAgEAoFAIBAIBAKBQCAQCAQCgUAgEAgEAoFAIBAIBAKBQCAQCAQCgaD0YOqvpXPKBzjx2b7yxsqOe8sbR4Z31c8x7+7yxnODA+WNZvRyeeOeacPljZd3P1zemLet/gtTFW4QCAQCgUAgEAgEAoFAIBAIBAKBQCAQCAQCgUAgEAgEAoFAIBAIBAKBQFB6MHXT52fLB+gfHS1vzDg2t7yx+v7HyhuTFtf/3/Qtqj8Q2j50sLzRP3pzeWP+SxfKG117fi5vVLhBIBAIBAKBQCAQCAQCgUAgEAgEAoFAIBAIBAKBQCAQCAQCgUAgEAgEAkHpwdTVc7+VD9Dd3l7euLjqfHnjh74F5Y2u9V+XN54682N5Y+2pdeWNk8v2ljemHjpQ3ujtXFzeaBmf+KduEAgEAoFAIBAIBAKBQCAQCAQCgUAgEAgEAoFAIBAIBAKBQCAQCAQCgUBQejDVNnNm+QD7L0wrb5z7aH55o2tN/bHTA6fqD7d2Lqk/EJo1eqa8sf3728sbcyf/Xd44PNxf3qhwg0AgEAgEAoFAIBAIBAKBQCAQCAQCgUAgEAgEAoFAIBAIBAKBQCAQCASC0oOp57/5qnyAVdNHyxs7XrhY3hibMrW8sXl2f3nj2JzV5Y2OT0bKG3s3Ly9v7Hy7t7yxdMum8sa3fRP/1g0CgUAgEAgEAoFAIBAIBAKBQCAQCAQCgUAgEAgEAoFAIBAIBAKBQCAQCFqbpmkm+vGdW98qH+C25b+WN34/3lHeuHzjeHljQfdweaN9Q3t5Y2xgsLzxXxg50FnemPVi/RyHBl6f8LduEAgEAoFAIBAIBAKBQCAQCAQCgUAgEAgEAoFAIBAIBAKBQCAQCAQCgUBQ+oWp0+veKR9g2avPlDfe2LirvPHuihXljYFtd5Q35nfW/2ftOPhleWNTzxPljW2L9pU3tpzuLm9UuEEgEAgEAoFAIBAIBAKBQCAQCAQCgUAgEAgEAoFAIBAIBAKBQCAQCAQCQenB1MJPnywfoHfjB+WN91b2lDfG/vypvLFw94LyRtulK+WNoSuzyxtbD39Y3nj08IbyxqLp35U3KtwgEAgEAoFAIBAIBAKBQCAQCAQCgUAgEAgEAoFAIBAIBAKBQCAQCAQCgaC1aZrmWh8CrlduEAgEAoFAIBAIBAKBQCAQCAQCgUAgEAgEAoFAIBAIBAKBQCAQ/ANSE6e5z7XFtwAAAABJRU5ErkJggg==\", \"iVBORw0KGgoAAAANSUhEUgAAAMgAAADICAYAAACtWK6eAAAAOXRFWHRTb2Z0d2FyZQBNYXRwbG90bGliIHZlcnNpb24zLjguMywgaHR0cHM6Ly9tYXRwbG90bGliLm9yZy/H5lhTAAAACXBIWXMAAA9hAAAPYQGoP6dpAAAE0klEQVR4nO3dTYiVZRzG4TPH0YoslcqkjJQRE6yg/ISgpJKcFlkEYYRluInapEkY0SaJJCOLInURWJZhaGCK0oeLFpUlovSB1DhYVlJQCdIwZY5vi7ZxL85fUOS69u89D8z8eFYP09U0TdMC/lf7dB8AzmQCgUAgEAgEAoFAIBAIBAKBQCAQCAQCgUAgEAgEAoFAIBAIuisfT12+unyAxQ/sKG+89MUt5Y1Nc9aWNy5q/13e6Bk+srwx1Jwsbww2x8sbXx8fXt6Yfe6w8kZ7XF/n35Z/OpzFBAKBQCAQCAQCgUAgEAgEAoFAIBAIBAKBQCAQCAQCgUAgEAgEAoFAUHowNXZv/YHQzudGlzcOHXmtvDHvjgfLG9u2vl7eeOPYxeWNdd/fWN4YtbT0p/GfE0Plid9njy1v7Fnf+bduEAgEAoFAIBAIBAKBQCAQCAQCgUAgEAgEAoFAIBAIBAKBQCAQCAQCgUBQehVzeO6I8gFWvPpDeWPuPYvKG8s3bShvzJ96c3ljwof1R2gjew+VNw6sm14/xyUD5Y3x9+4rb7TWd/6pGwQCgUAgEAgEAoFAIBAIBAKBQCAQCAQCgUAgEAgEAoFAIBAIBAKBQCAQlB5M9Ww6Vj7AgvuPljdeGXdOeWPVlGnljVb7r/JE/4z6g6kfN19d3mgfHlbeuOLFE+WN9X27yhsVbhAIBAKBQCAQCAQCgUAgEAgEAoFAIBAIBAKBQCAQCAQCgUAgEAgEAoFAUHow1bfwgvIB/mmGyhsXfvNHeWPER2PKG4M3/Vre2PLT7vLG9E+vKW/0L1hb3th/V/3x1w1vLytv9Bcm3CAQCAQCgUAgEAgEAoFAIBAIBAKBQCAQCAQCgUAgEAgEAoFAIBAIBAKBoKtpmqbTj+eNfah8gEd2f1LemDL8t/LGoiWPlTdWPr+mvLFi8szyRnv0qPLGgad7yhur524sb9x5/p/ljfa4vs6/Lf90OIsJBAKBQCAQCAQCgUAgEAgEAoFAIBAIBAKBQCAQCAQCgUAgEAgEAoGg9GDq3f7rygc4FQ9ibhs/rbzROln/T1fvH9lf3pg3cVZ5o29l/fcy+ckvyxvfPXNteWPKy7+UN3YeXNXxt24QCAQCgUAgEAgEAoFAIBAIBAKBQCAQCAQCgUAgEAgEAoFAIBAIBAKBQNBd+fjxzQvLB/jg1n3lje4rLy1vHFx8WXlj4vYZ5Y3uFaVfSavVarUmLfmsvHGyvNBqzZr5bXnj0OyrTsFJOucGgUAgEAgEAoFAIBAIBAKBQCAQCAQCgUAgEAgEAoFAIBAIBAKBQCAQCASl1zl7Fr5QPsCMDUvLG8t2bC1vrNo2v7zRHhhW3rj84xPlje0/7y1vzHn04fLGjglryhu3bzxa3mi92fmnbhAIBAKBQCAQCAQCgUAgEAgEAoFAIBAIBAKBQCAQCAQCgUAgEAgEAoFAUHowdeD4iPIBnr37rfLGE1vuK2/0PLWnvDHYe31547xdX5U33hsYU9440jtU3pj8Tv3R1aSuz8sbFW4QCAQCgUAgEAgEAoFAIBAIBAKBQCAQCAQCgUAgEAgEAoFAIBAIBAKBQNDVNE1zug8BZyo3CAQCgUAgEAgEAoFAIBAIBAKBQCAQCAQCgUAgEAgEAoFAIBAI/gUrE6vJkWJOsgAAAABJRU5ErkJggg==\", \"iVBORw0KGgoAAAANSUhEUgAAAMgAAADICAYAAACtWK6eAAAAOXRFWHRTb2Z0d2FyZQBNYXRwbG90bGliIHZlcnNpb24zLjguMywgaHR0cHM6Ly9tYXRwbG90bGliLm9yZy/H5lhTAAAACXBIWXMAAA9hAAAPYQGoP6dpAAAEtElEQVR4nO3dTYiVZRzG4feMhgMhY5khGNPCUVERCkSiTVQWQfaxMckKgmCwgrQGrDHETd8thMqIMXGlkUEfQyBBUCGYqaEgWpriQqdghMpoUhz1tGkZ9+L8B5K4rv1782x+51k9nFa73W43wL/q+q8PAFcygUAgEAgEAoFAIBAIBAKBQCAQCAQCgUAgEAgEAoFAIBAIBJMrH68/9GD5ACfGZpQ3Lrdb5Y27px8ub3zz+7zyxtbeXeWN2R+uKm8cWv5WeeOXSxfKG9d21X/Dp88a6fhbNwgEAoFAIBAIBAKBQCAQCAQCgUAgEAgEAoFAIBAIBAKBQCAQCAQCgUAgKD2YGh66rXyA6zftLm8c33hLeaNZUp/4bm/9wdTsbxfWDzIB//iy6tTS8saxdxaUN6b8cbm8seuzzr91g0AgEAgEAoFAIBAIBAKBQCAQCAQCgUAgEAgEAoFAIBAIBAKBQCAQCASC0oOpK+Wx05wXDpQ3Lnw5tbwxc3f9pdL447+WN9bN3Vne2HD4vvJGs/xseWL6k7/Vz1HgBoFAIBAIBAKBQCAQCAQCgUAgEAgEAoFAIBAIBAKBQCAQCAQCgUAgEAgEpQdTk6b1lA/QulSeaLp6Z5U3vj9+TXljwZ6R8sbFj06XNwY2PlremAjdo/Xf3+H92ybgJG93/KUbBAKBQCAQCAQCgUAgEAgEAoFAIBAIBAKBQCAQCAQCgUAgEAgEAoFAIBCUHkwd3TC/fIBtD2wqbzzS9XR5Y9KU8+WNH5+9obxxbMVweWPz2TPljUXdp8obIxfrj9Dm7niqvHFydeffukEgEAgEAoFAIBAIBAKBQCAQCAQCgUAgEAgEAoFAIBAIBAKBQCAQCAQCQenBVPeZel/n21eVN95Ytr28sfbzleWNJ5Z+Vd6Yt73++Ktvx5/ljTdXXl3eePXeD8obJ1a8V95omoGOv3SDQCAQCAQCgUAgEAgEAoFAIBAIBAKBQCAQCAQCgUAgEAgEAoFAIBAIBILSg6mZd5wuH2DJBPyz06Id/eWNvuf2lDfW/Xy0vLFl8u3ljcWbD5Y3WrdOLW8MNg+XN7YOHixvfPFX59+6QSAQCAQCgUAgEAgEAoFAIBAIBAKBQCAQCAQCgUAgEAgEAoFAIBAIBAJB6cFU66XrygfYOVTfmDN4oLzR3LywPHHnkd7yRtd4q7yx76ZJ5Y2mKbwy+sfz9wyXNz59eX55o8INAoFAIBAIBAKBQCAQCAQCgUAgEAgEAoFAIBAIBAKBQCAQCAQCgUAgEAhKD6ZG15wrH2DLsrvKGz+9NqO80bTrE82h+r8y9X08Vt545eTe8sZj768pb/T3vFveeP3F+8sbFW4QCAQCgUAgEAgEAoFAIBAIBAKBQCAQCAQCgUAgEAgEAoFAIBAIBAKBQFB6MDV2sqd8gLU7h8obg+v7yxuji8sTzbQf6v8O1dp/pLzx0CfPlDcu3zhe3vj6XP33t29gX3mjWd35p24QCAQCgUAgEAgEAoFAIBAIBAKBQCAQCAQCgUAgEAgEAoFAIBAIBAKBQNBqt9sT8d9K8L/kBoFAIBAIBAKBQCAQCAQCgUAgEAgEAoFAIBAIBAKBQCAQCAQCwd/I150NSXW2bgAAAABJRU5ErkJggg==\", \"iVBORw0KGgoAAAANSUhEUgAAAMgAAADICAYAAACtWK6eAAAAOXRFWHRTb2Z0d2FyZQBNYXRwbG90bGliIHZlcnNpb24zLjguMywgaHR0cHM6Ly9tYXRwbG90bGliLm9yZy/H5lhTAAAACXBIWXMAAA9hAAAPYQGoP6dpAAAEvUlEQVR4nO3dT2jXdRzH8d9Px6RCsH9geahpMwmrtRrSwYRu04xKwYvgSfBQYZqHDl48dRCEyrIukWYIKyoi1x86RWZ/RhKF2JzR/HNQC9FMV85vt7rE6/B7Lwp5PO7f1z5se/6+pw+/dtM0TQv4R9P+6wPA/5lAIBAIBAKBQCAQCAQCgUAgEAgEAoFAIBAIBAKBQCAQCASCrsrD74zdXT7Agu5T5Y3Jpl3eWPrB+vLG9w+9UN6YCjPapT9rq9Vqtaa365+dE80f5Y3fLtc3rp9zvONnvUEgEAgEAoFAIBAIBAKBQCAQCAQCgUAgEAgEAoFAIBAIBAKBQCAQCAQCQelmzY5lg+UDTP4wVt7YffSz8sYNX0wvb9x54cnyxlSYeaT+ubf5idfLG6/Mn1ve6LppdnljuPP7Ut4gkAgEAoFAIBAIBAKBQCAQCAQCgUAgEAgEAoFAIBAIBAKBQCAQCAQCgaB0YerQuhvLBxhesbO8sbpnSXlj/0/byxtLH11T3nh+aEd5Y/CtjeWN85e7yxsn311Q3jg3Oqu8UeENAoFAIBAIBAKBQCAQCAQCgUAgEAgEAoFAIBAIBAKBQCAQCAQCgUAgEAjaTdM0nT48ePPj5QMcerqnvHHN8Xrn0ybKE63Z+86UN37tmVneOPFAu7zR6vi/4m+3bdhf3vjwxIHyxrTZo50/W/7pcAUTCAQCgUAgEAgEAoFAIBAIBAKBQCAQCAQCgUAgEAgEAoFAIBAIBAJB6RumJk//XD7AV6veLm/cN7ShvLHzkRfLG1vm9pc3Pt17oLwxMvF7eWNhd/3S1bEV9Vtovbs2lTfGChPeIBAIBAKBQCAQCAQCgUAgEAgEAoFAIBAIBAKBQCAQCAQCgUAgEAgEAoGg9A1TW75bXj7AXVeNlzemwvb5t5c3Du/qqx/k5IzyRO8z35Q3ftxcv/x1bf+p8sb+vjfLG75hCv4lAoFAIBAIBAKBQCAQCAQCgUAgEAgEAoFAIBAIBAKBQCAQCAQCgUAgKH3D1ImJWeUDfHt2Tnlj5Mve8kZv/7nyxtiDr5Y35u1ZV94Y313/fdy68vPyxuhzi8oby9YuLW8MH+38WW8QCAQCgUAgEAgEAoFAIBAIBAKBQCAQCAQCgUAgEAgEAoFAIBAIBAKBQFC6MPXJR/eUD/De6q3ljadWPlbeOLSpp7xxevJ8eWP5kq/LGwfvvVTemArvP7ytvLF+/eIpOEnnvEEgEAgEAoFAIBAIBAKBQCAQCAQCgUAgEAgEAoFAIBAIBAKBQCAQCAQCQenC1Mia+oWYVQMryhtnFt9S3mja5YnWoqGN5Y0F246VN84OzyhvXLf2Ynlj34W55Y3DWwfKGxXeIBAIBAKBQCAQCAQCgUAgEAgEAoFAIBAIBAKBQCAQCAQCgUAgEAgEAoGg3TRN0+nDe48sLB/gzOTV5Y3X+u8ob7Q6/zX8ZbKvt7zRdXC8vHFxYF5549mXXypvvPHL/eWNgwP1v8vHl/Z0/Kw3CAQCgUAgEAgEAoFAIBAIBAKBQCAQCAQCgUAgEAgEAoFAIBAIBAKBQCAoXZiCK503CAQCgUAgEAgEAoFAIBAIBAKBQCAQCAQCgUAgEAgEAoFAIBAI/gR1QbB8TmAuQgAAAABJRU5ErkJggg==\", \"iVBORw0KGgoAAAANSUhEUgAAAMgAAADICAYAAACtWK6eAAAAOXRFWHRTb2Z0d2FyZQBNYXRwbG90bGliIHZlcnNpb24zLjguMywgaHR0cHM6Ly9tYXRwbG90bGliLm9yZy/H5lhTAAAACXBIWXMAAA9hAAAPYQGoP6dpAAAEzElEQVR4nO3dS4iWZRzG4W/G8YBMqZ3wkEEeslJokaXuIoiiAgnLqHaJ1GRlRhYUFHQiMrICQ2hZEhiBJhkTBdEkaYdhEEYim9KsQSLSjGJodL5WtYp78f4HCrmu/XP7yPDjXT18He12u90C/lXnf30B+D8TCAQCgUAgEAgEAoFAIBAIBAKBQCAQCAQCgUAgEAgEAoFA0FU5/NGhheULLJ30Z3njm5Nj5Y3b+9eUN/queK28MWPC1PLG1uNzyht3T/+xvLFnpP53WT65PNGaOGuo8VlfEAgEAoFAIBAIBAKBQCAQCAQCgUAgEAgEAoFAIBAIBAKBQCAQCAQCgUBQejD17KIryxdoj9YfTG07sqe8MaFvWnnjzGVTyhsX7lpb3pgyPLG8sXPn8fLG2MCB8kbX3PPLG+8dbn7WFwQCgUAgEAgEAoFAIBAIBAKBQCAQCAQCgUAgEAgEAoFAIBAIBAKBQCAQlB5MtZbUf2Gq991t5Y3rF99Y3vhw/6byxg3zri5vDA5tKW/cfM0d5Y0Hdu0obzwyuKq8MfWN+kO2Cl8QCAQCgUAgEAgEAoFAIBAIBAKBQCAQCAQCgUAgEAgEAoFAIBAIBAKBQFB6MPXbgu7yBbYen1Pe+O6+S8obH/wxUN7onHdBeeOybevLG6d6xsobPe+sKW8seHBveaN3eKC80Wo91PikLwgEAoFAIBAIBAKBQCAQCAQCgUAgEAgEAoFAIBAIBAKBQCAQCAQCgUAgKD2YOrqio3yBNdO+L29sml5/IHRu14nyRuuXX8sTz9z0fv0e42B1d/3/8vMtv5c3Fr7e/LHT34Y2Nj/rCwKBQCAQCAQCgUAgEAgEAoFAIBAIBAKBQCAQCAQCgUAgEAgEAoFAIBAIOtrtdrvp4YVvPVW+wIuXby9vnN1Zf5jzxPyl5Y2fdiwqb7R6zypPnLd1X3mja+7s8sb8t4+WN16Z/Xl5o3PmweZny/86nMYEAoFAIBAIBAKBQCAQCAQCgUAgEAgEAoFAIBAIBAKBQCAQCAQCgUBQejB18Mis8gW+Gj2nvPHoljvLG6NTyxOtA+teLW8sfbynvHFsceM/6T866j/a1fry1s3ljZV33V/e+HjXw43P+oJAIBAIBAKBQCAQCAQCgUAgEAgEAoFAIBAIBAKBQCAQCAQCgUAgEAgEgq7K4Wu3byxfYPfqF8obM1/6tLxx6Mnl5Y3R9qnyxrFL64+dFmzYW94YD4dXdZQ3Ju/+Yhxu0pwvCAQCgUAgEAgEAoFAIBAIBAKBQCAQCAQCgUAgEAgEAoFAIBAIBAKBQCAoPZi67qr+8gXuve2e8sb0vh/KGyc/qz9Uunj7uvLGjMH6I6PHvh0ob6x9s/5LV/0jw+WNVvMfQBsXviAQCAQCgUAgEAgEAoFAIBAIBAKBQCAQCAQCgUAgEAgEAoFAIBAIBAKBoKPdbv4i5cTw3PIFPhmZVt7YfNGS8kZrrP7rUIeeXlHemP/8YHlj1b6vyxsru4fKG2d0TipvLHtufXlj/8sbGp/1BYFAIBAIBAKBQCAQCAQCgUAgEAgEAoFAIBAIBAKBQCAQCAQCgUAgEAgEpQdTcLrzBYFAIBAIBAKBQCAQCAQCgUAgEAgEAoFAIBAIBAKBQCAQCAQCwV8F2rC+wpYzpQAAAABJRU5ErkJggg==\", \"iVBORw0KGgoAAAANSUhEUgAAAMgAAADICAYAAACtWK6eAAAAOXRFWHRTb2Z0d2FyZQBNYXRwbG90bGliIHZlcnNpb24zLjguMywgaHR0cHM6Ly9tYXRwbG90bGliLm9yZy/H5lhTAAAACXBIWXMAAA9hAAAPYQGoP6dpAAAEvUlEQVR4nO3dQWiXdRzH8ee/f06rdYhIpaxRkrNTpocIpKykiCYqgZEXoW6FpFLUOkiIMyhLT+EhWHhISuokQWCEZBIsskOhw2WHFCEIMiVlrj2dokt8Dv/vIJHX6/589oPx/j+nH0+nbdu2Af5T3/99ALiaCQQCgUAgEAgEAoFAIBAIBAKBQCAQCAQCgUAgEAgEAoFAILiu8vDW48+UD7B9wdfljeUHt5Y3Zm6aLm80U/Xfm8m1+8obSw6+UN44vH53eWNBt7+8MTk9U95YducvPT/rDQKBQCAQCAQCgUAgEAgEAoFAIBAIBAKBQCAQCAQCgUAgEAgEAoFAIBAIOpXvgwzt2FM+wKIvL5U3Tq+bW95oOvWJ5ir50sqSsd/LG49+OF7e+Hzzw+WNcw/OK2+c2Nn7hTpvEAgEAoFAIBAIBAKBQCAQCAQCgUAgEAgEAoFAIBAIBAKBQCAQCAQCgUBQ+sLU4Oi35QOcemt5eWNo10/ljYnXF5c3OvWPITW71hwob8wbvlLeOD01v7zxx8sXyhuDr1wsbzQ7e3/UGwQCgUAgEAgEAoFAIBAIBAKBQCAQCAQCgUAgEAgEAoFAIBAIBAKBQCAQlC5MdRfWL9VcP1i/VHNl6aLyxj376+eYjZ+bVwc21I/xZ7d+kFkw9N6v5Y3Pjnw6CycZ7flJbxAIBAKBQCAQCAQCgUAgEAgEAoFAIBAIBAKBQCAQCAQCgUAgEAgEAoFAULowdXJb/aLSzG9/lTdOr69fEFq98mR544fd95U3vn9qT3ljy5nHyxvv33GkvDG+ti1vLP7oxfLGzy/1/qw3CAQCgUAgEAgEAoFAIBAIBAKBQCAQCAQCgUAgEAgEAoFAIBAIBAKBQCDotG3b862Wxx7q/cs9/9g89nF5440Ta8ob5ydvLm+8OXygvDFy6NnyRmemPNG0s/CRqkPr3y1v3Nt/Q3mjb+Gp3p8t/3W4hgkEAoFAIBAIBAKBQCAQCAQCgUAgEAgEAoFAIBAIBAKBQCAQCAQCgaD0hamzW6bLB7ile7G8MRuXnbpTnfLGhoHz5Y2R+jGayY37yhurNz5X3hhutpU3Fh+8VN44fLT3Z71BIBAIBAKBQCAQCAQCgUAgEAgEAoFAIBAIBAKBQCAQCAQCgUAgEAgEAkHpwtTlczeWD3B/f/3SVd90/ZbRXSPflDdWLV9X3mh6/t7Xv564bVl5o9s5Xt44uv+r8sbzO+pfD6vwBoFAIBAIBAKBQCAQCAQCgUAgEAgEAoFAIBAIBAKBQCAQCAQCgUAgEAgEpQtT7dyZ8gGeXrKqvDEzWr9lNPnOA+WN5sf6xPzx+sYnZ+qXv1aMbS1vfDd1orwxsX2ovFHhDQKBQCAQCAQCgUAgEAgEAoFAIBAIBAKBQCAQCAQCgUAgEAgEAoFAIBAIShemxp/cWz7AsUduLW/sWzlQ3ph47e7yxtK9Z8sb7ZzSv6RpmqZZ8UH9stMXm94ubxy7fHt5Y86F+tfDKrxBIBAIBAKBQCAQCAQCgUAgEAgEAoFAIBAIBAKBQCAQCAQCgUAgEAgEAkGnbdv655ngGuUNAoFAIBAIBAKBQCAQCAQCgUAgEAgEAoFAIBAIBAKBQCAQCASCvwFlNKF0AggtEgAAAABJRU5ErkJggg==\", \"iVBORw0KGgoAAAANSUhEUgAAAMgAAADICAYAAACtWK6eAAAAOXRFWHRTb2Z0d2FyZQBNYXRwbG90bGliIHZlcnNpb24zLjguMywgaHR0cHM6Ly9tYXRwbG90bGliLm9yZy/H5lhTAAAACXBIWXMAAA9hAAAPYQGoP6dpAAAEs0lEQVR4nO3dS4iWZRzG4fm+CSdzEUMuzLJmEp1pwpICUSqKCNQiSAQXBXZYhHggQxe1bSEdsIzKIloERZk7IXHoYAcohdBNo5SHSoRwKgisJGacedu1invx/T9Q5Lr27z0vw/zmWT28raZpmh7gf7Uv9AvAxUwgEAgEAoFAIBAIBAKBQCAQCAQCgUAgEAgEAoFAIBAIBALBZZWHD54aKL/AbTN6yxvDXz5e3tixZFd5496Zf5Y3DvzTV97Y+Na68sbYkzvLG90weq7++7jvhrGOn3WCQCAQCAQCgUAgEAgEAoFAIBAIBAKBQCAQCAQCgUAgEAgEAoFAIBAIBIJW5fsggzu2l1+gfb5V3nhsxf7yxqdb7yxvnFpZun/WNUPbTpY3JkeuLW/0fv1dfWP2VeWNfb+81vGzThAIBAKBQCAQCAQCgUAgEAgEAoFAIBAIBAKBQCAQCAQCgUAgEAgEAoFAULrh056oX3Y6vvaN8sb9yx4ob+w/8HZ5Y/ncxeWNDcePlTeePfpIeePy1ePljXZrXnnjzKE55Y0KJwgEAoFAIBAIBAKBQCAQCAQCgUAgEAgEAoFAIBAIBAKBQCAQCAQCgUAgKH1hasWNz5Rf4IPP3i1vLD3wRHnj4aFvyxvvfHx3eWOq/3x5o3324vjS1YL3/y5vjO6p/3205xzv/NnyT4dLmEAgEAgEAoFAIBAIBAKBQCAQCAQCgUAgEAgEAoFAIBAIBAKBQCAQCEo3a6Z+OFF+gd6e+leqJk7PKm+cvr6/vLHwxR/LG3sO7ytv7D13ZXnjwVl/lTcG++oX2ebvWlfe+Glz5886QSAQCAQCgUAgEAgEAoFAIBAIBAKBQCAQCAQCgUAgEAgEAoFAIBAIBAJB6cJU701D5RcYmzhU3rh65NfyxpHnby5v3Lr3cHljePeG8sY1X0yXN7bcVf/f2a7fhevpwn26EicIBAKBQCAQCAQCgUAgEAgEAoFAIBAIBAKBQCAQCAQCgUAgEAgEAoFAIGg1TdN0+vDgK9u7+S4XVGuqvnHioTfLG/M/rH9R6YqBs+WNuauOljdOvLy0vDHw0WR54/NPnu74WScIBAKBQCAQCAQCgUAgEAgEAoFAIBAIBAKBQCAQCAQCgUAgEAgEAoFAICh9YWrmeL2vgxtfKm+sWbSyvHFyy3B5Y7Kp37pae89X5Y1vbplR3uiGY2t2ljcWNuu78Cadc4JAIBAIBAKBQCAQCAQCgUAgEAgEAoFAIBAIBAKBQCAQCAQCgUAgEAgEgtKFqb7bfy+/wOp5y8obJ1+oX3Zqejv+0NZ/hndvKG8MvT5e3nj11HvljfWPbipv3LG1/oWpniX1iQonCAQCgUAgEAgEAoFAIBAIBAKBQCAQCAQCgUAgEAgEAoFAIBAIBAKBQCBoNU3T8U2h6TMLyi9wbnqivLHquvqlq57p+teh2otHyht/bKv/Pn77fnZ5Y9Py0fLG5v6fyxuLdtS/MHXkuac6ftYJAoFAIBAIBAKBQCAQCAQCgUAgEAgEAoFAIBAIBAKBQCAQCAQCgUAgEAhKF6bgUucEgUAgEAgEAoFAIBAIBAKBQCAQCAQCgUAgEAgEAoFAIBAIBALBv1KKpOuK1ucrAAAAAElFTkSuQmCC\", \"iVBORw0KGgoAAAANSUhEUgAAAMgAAADICAYAAACtWK6eAAAAOXRFWHRTb2Z0d2FyZQBNYXRwbG90bGliIHZlcnNpb24zLjguMywgaHR0cHM6Ly9tYXRwbG90bGliLm9yZy/H5lhTAAAACXBIWXMAAA9hAAAPYQGoP6dpAAAErElEQVR4nO3dT2jXdRzH8d93s9QRURFlORB0bdYhQlIjikWHJoHgwajoz6GLw0hMqkPXgghs/YEWHhSNBRuYHbpIFFL0h7BDp9C0QtEFErEwlPbv16lO8Tr83j9oyONx/772YeO57+nDt2m32+0W8J96/u8DwFImEAgEAoFAIBAIBAKBQCAQCAQCgUAgEAgEAoFAIBAIBAKBYFnl4YGpV8sH+HH4UHlj7ZEd5Y3xLQfLGwutprwxvGKmvHHXF6PljeP3j5c3ru1ZUd74qz1f3rjm1jMdP+sNAoFAIBAIBAKBQCAQCAQCgUAgEAgEAoFAIBAIBAKBQCAQCAQCgUAgEAiayvdBRvqeKh9gcXauvHH6jY3ljaHxC+WNkztvKm+0uvC1loEXjpc3nvih80tG/5gc3lDeWJz5o7zxyeWJjp/1BoFAIBAIBAKBQCAQCAQCgUAgEAgEAoFAIBAIBAKBQCAQCAQCgUAgEAgEpS9MNf23lA9w+tmbyxsDe74tb5x4e1N5Y/0rP5U3Rr/+qrzR2lqfmJ67vrxxeWJleaPd7itvVHiDQCAQCAQCgUAgEAgEAoFAIBAIBAKBQCAQCAQCgUAgEAgEAoFAIBAIBILSF6YGXh8rH2Dv9kPljd1H61+6auab8kbPbH2j/9h8eePsQ73ljW7o6cLv9NST79XPsepU58+WfzpcwQQCgUAgEAgEAoFAIBAIBAKBQCAQCAQCgUAgEAgEAoFAIBAIBAKBQFD6wtTC8o7vWv3rut5L5Y1mrn4xp33jbH3jwtXljU/37ytvDH3+THnj9AMHyxvbTo2UN9ZNjpY3ftnd+bPeIBAIBAKBQCAQCAQCgUAgEAgEAoFAIBAIBAKBQCAQCAQCgUAgEAgEAoGgdGHqtg8ulg+w+dG58sabW98vbzz/8dPljZOPj5c3Bqd2ljfWvzNd3li3q35R6btH6l8g23i+/vuo8AaBQCAQCAQCgUAgEAgEAoFAIBAIBAKBQCAQCAQCgUAgEAgEAoFAIBAIBKULU6vfPVM+wO2HnytvNAvlia7obZbG/5tVk7+XN+bvPV/euLu1p7wxeGCmvNF6rPNHl8ZfFJYogUAgEAgEAoFAIBAIBAKBQCAQCAQCgUAgEAgEAoFAIBAIBAKBQCAQlC5MHTsxVD7AZ9v2lje2TLxY3phf2S5vrP1wR3mjacoTrXP3/Fkf6YLFvsXyxrmHb+jCSTrnDQKBQCAQCAQCgUAgEAgEAoFAIBAIBAKBQCAQCAQCgUAgEAgEAoFAIBAIShem1qz+rXyA0TX3lTfmx+qXnVpduKjUzNVHBl/+vrxx4OyX5Y0H979U3ti+6ZvyxpFLm8sbFd4gEAgEAoFAIBAIBAKBQCAQCAQCgUAgEAgEAoFAIBAIBAKBQCAQCAQCgaB0YeroHYfLB1g+fVV5Y6S/t7zx82ubyhuD+34tb1wcubO8MfLWhvLG1K6x8sbAsvr/348WXZiCJUsgEAgEAoFAIBAIBAKBQCAQCAQCgUAgEAgEAoFAIBAIBAKBQCAQCARNu93uwueZ4MrkDQKBQCAQCAQCgUAgEAgEAoFAIBAIBAKBQCAQCAQCgUAgEAgEgr8BX1CgFV7u1HUAAAAASUVORK5CYII=\", \"iVBORw0KGgoAAAANSUhEUgAAAMgAAADICAYAAACtWK6eAAAAOXRFWHRTb2Z0d2FyZQBNYXRwbG90bGliIHZlcnNpb24zLjguMywgaHR0cHM6Ly9tYXRwbG90bGliLm9yZy/H5lhTAAAACXBIWXMAAA9hAAAPYQGoP6dpAAAErklEQVR4nO3d3WvWZRzH8c2ZlkzRcESjBunsiQqpwNJObJFPK6EwgsgeDkYUUVqKgR10khk0ooOQOkpIDIqQMlwFhRiKaCywVrmVRSw9C4Jc5vbrH4jPwf0dFPF6nf8+XPfBm+vo4m5vmqZpA/7RjH/7APBfJhAIBAKBQCAQCAQCgUAgEAgEAoFAIBAIBAKBQCAQCAQCgWBm5eO/fl1cPkBHe73R3s8eKW9c/PGF5Y3t298qb0yHTfs3ljfG7ttV3jgyMVneuGFWfaOz+6eWv3WDQCAQCAQCgUAgEAgEAoFAIBAIBAKBQCAQCAQCgUAgEAgEAoFAIBAIBILSg6mVjz9WPsBFHxwvbzSvzC5vzB89W97oaJ8qb/zw5yXljSVbvixvLFrwaP0cD9XP0dHVVd44cKb1b90gEAgEAoFAIBAIBAKBQCAQCAQCgUAgEAgEAoFAIBAIBAKBQCAQCAQCgaD0YGrOR8PlAxz4pf5galV3/V+IhsaHyxtrr7+9vLH16OfljVd3rilvnOh7rbyx7pMN5Y32nQvLGxVuEAgEAoFAIBAIBAKBQCAQCAQCgUAgEAgEAoFAIBAIBAKBQCAQCAQCgUBQejDVTNYfKv0xda68MeO6q8sb17yxvLwxt78pb7x81zQ8EBqoT3x6dn55Y9adP5c3Nn57qLzR1rat5S/dIBAIBAKBQCAQCAQCgUAgEAgEAoFAIBAIBAKBQCAQCAQCgUAgEAgEAoGg9GCqbar+YOrgxNzyxozffi9vjAzsLW+s6l5a3lh5ov5bds37qrzRM7OzvLFpcFl5Y/dV9UdoD061/q0bBAKBQCAQCAQCgUAgEAgEAoFAIBAIBAKBQCAQCAQCgUAgEAgEAoFAIBCUHkydebL+r0yr5wyXN5545vLyxnQ8dnrxx6Pljfvfeaq8se/YHeWN07e2lzeaC+qPnYbGh8sbFW4QCAQCgUAgEAgEAoFAIBAIBAKBQCAQCAQCgUAgEAgEAoFAIBAIBAKBQFB6MDX83OvTdY6SRe9NlDdGB28pb9w0e7i8sfj54+WNfae+KG+s73+4vHFg/9vljbV9G+rn+Lr1b90gEAgEAoFAIBAIBAKBQCAQCAQCgUAgEAgEAoFAIBAIBAKBQCAQCAQCgaD0YKr/+zXlA+ztfb+8cW7+rPJG7+Yj5Y0X+q4tb4y+dGN5457bLi1vNKe+KW9MNlP1jZGT5Y0KNwgEAoFAIBAIBAKBQCAQCAQCgUAgEAgEAoFAIBAIBAKBQCAQCAQCgUAgKD2YGrzi3fIB7r1sRXnjgZEPyxs71q8rbwx1vVneOLyts7yx4+TB8sa2ZXeXN3qHBsobV7YdK29UuEEgEAgEAoFAIBAIBAKBQCAQCAQCgUAgEAgEAoFAIBAIBAKBQCAQCAQCQXvTNE2rH0+dXjKdZ2nZ6p6byxvN+fPljfGty8sbPbvHyhvNgnnljaV7vitvPL3wcHljxZ5nyxtjWza3/K0bBAKBQCAQCAQCgUAgEAgEAoFAIBAIBAKBQCAQCAQCgUAgEAgEAoFAIBCUHkzB/50bBAKBQCAQCAQCgUAgEAgEAoFAIBAIBAKBQCAQCAQCgUAgEAgEfwN/UaVZ/y3cswAAAABJRU5ErkJggg==\", \"iVBORw0KGgoAAAANSUhEUgAAAMgAAADICAYAAACtWK6eAAAAOXRFWHRTb2Z0d2FyZQBNYXRwbG90bGliIHZlcnNpb24zLjguMywgaHR0cHM6Ly9tYXRwbG90bGliLm9yZy/H5lhTAAAACXBIWXMAAA9hAAAPYQGoP6dpAAAEuklEQVR4nO3dy4uVdRzH8TOjM6JZTdqiIJiaUlOilCS7CBJIDmMKSUERtSghiYIuQrRxLWQOBoVYFEgL7bLKsKsQQQkqEnRhnDHTmBaVoKLppOPTPxCfxfkeKOT12j+f82ze57d6+HU1TdO0gH/V/V+/APyfCQQCgUAgEAgEAoFAIBAIBAKBQCAQCAQCgUAgEAgEAoFAIJhaefj0b/3lF5jR3VveGPjgqfLGxsEd5Y2XP36kvPHFmk3ljRePPlDe2D7wUXmjp2tKeaMTpl/7S9vPOkEgEAgEAoFAIBAIBAKBQCAQCAQCgUAgEAgEAoFAIBAIBAKBQCAQCAQCQemDqYeWPlh+gQtHfy1vbB19u7wxfNsd5Y2LWy6UN5Z/uL680TfSVd7Ys35WeeNiB/5/tzzzcHnjq93tP+sEgUAgEAgEAoFAIBAIBAKBQCAQCAQCgUAgEAgEAoFAIBAIBAKBQCAQCASlD6aantLjrVar1RrbvKS8MXzLtPLGGyOfljfu23lreWPW9+WJ1uz9x8sbKzacLG8M/lj/oG58WU95o8IJAoFAIBAIBAKBQCAQCAQCgUAgEAgEAoFAIBAIBAKBQCAQCAQCgUAgEAhqXzydOl1+gc/WbC9vrP3kufLGurGryxtXjpQnWn8uauobC+u3Qy3Y+Wx5Y+qZ+k1XQ0P7yhsVThAIBAKBQCAQCAQCgUAgEAgEAoFAIBAIBAKBQCAQCAQCgUAgEAgEAoFAUPpgauSlgfILjJ6fXd44tqJ+09Xh+bvKGyveub28sfLgufLGXZeNlTcGZ0yUNzrhxh3ryhuvLWr/WScIBAKBQCAQCAQCgUAgEAgEAoFAIBAIBAKBQCAQCAQCgUAgEAgEAoFAIOhqmqbtK436t71SfoEjq7eVN27Yvba80Xegt7xx6u6z5Y3W79PKE1f9UL/Z6cT8+k1Xk5dPljeOrHqzvNF9zWj7z5Z/HS5hAoFAIBAIBAKBQCAQCAQCgUAgEAgEAoFAIBAIBAKBQCAQCAQCgUAgKF3N9PXQ5g68wszyQvfJ+g1Tp+ZcLG/sX/Z6eWPx+y+UN5Y+va+8MfLk3PLGocevKG8sf/SJ8saeL9t/1gkCgUAgEAgEAoFAIBAIBAKBQCAQCAQCgUAgEAgEAoFAIBAIBAKBQCAQCEo3TN28Ybj8Amf7z5c3eo7XP5ia8lf9Vqbpf9RvZTo5t75x0/N7yxudsGv8QHnj/usWlzc+n3yv7WedIBAIBAKBQCAQCAQCgUAgEAgEAoFAIBAIBAKBQCAQCAQCgUAgEAgEAoGg9KXRPau+K7/AsSVnyhtjm+8sb0z21j9U+ruvPNGat/Hn8sZPb9U/Mpq39Vx5Y/XKBeWNw5vqt1RVOEEgEAgEAoFAIBAIBAKBQCAQCAQCgUAgEAgEAoFAIBAIBAKBQCAQCAQCQemDqW/Hry+/wMJvxssbXfceLG80ExPljY6YM1CemHKifuPWocdmljf2rnm1vLH03fXljQonCAQCgUAgEAgEAoFAIBAIBAKBQCAQCAQCgUAgEAgEAoFAIBAIBAKBQCDoapqmfrUSXKKcIBAIBAKBQCAQCAQCgUAgEAgEAoFAIBAIBAKBQCAQCAQCgUAg+AfsEKJ+84UkJAAAAABJRU5ErkJggg==\", \"iVBORw0KGgoAAAANSUhEUgAAAMgAAADICAYAAACtWK6eAAAAOXRFWHRTb2Z0d2FyZQBNYXRwbG90bGliIHZlcnNpb24zLjguMywgaHR0cHM6Ly9tYXRwbG90bGliLm9yZy/H5lhTAAAACXBIWXMAAA9hAAAPYQGoP6dpAAAEtUlEQVR4nO3d22vXdRzH8d/UpWkTL8LKIis1w3bRQRstAvNCJSKoyBp27iJaXQTVqGR1Y3QlTCI7mVB0gmSYMJFEgogSzKigXM4pGzWKDiBUIJv79Q/E62LvgRKPx/3v9fvcPPlcffi2NJvNZgP4TzNO9wHgTCYQCAQCgUAgEAgEAoFAIBAIBAKBQCAQCAQCgUAgEAgEAoFgVuXHB0cWlw9w7eyzyhuX9T9S3nht/Y7yxtq54+WN4+N/lTfW7H+ivLH1xvfLG51zfitvnDtzXnljxvlDU/9t+d/hf0wgEAgEAoFAIBAIBAKBQCAQCAQCgUAgEAgEAoFAIBAIBAKBQCAQCASlB1OblnWWD9CcmChvbDr8cXmj74abyhudh3aXNx4dvqu80fpLa3njn8nZ5Y3r33uqvDFvrKW88V3f1H/rBoFAIBAIBAKBQCAQCAQCgUAgEAgEAoFAIBAIBAKBQCAQCAQCgUAgEAgEpQdTM9raygfY8/2n5Y31F68sb+wd/aS8cfMVa8sbD331eXljxwvLyxuX3P17eWNydrO8sWCo/qCuwg0CgUAgEAgEAoFAIBAIBAKBQCAQCAQCgUAgEAgEAoFAIBAIBAKBQCAQCEoPphqnTpUPcLI5Xt5oab+8vLHr78HyxpHeK8sbzw6sKG/Mer7+VaaNu68pb5x3oDzR2L/99fpIo2fKv3SDQCAQCAQCgUAgEAgEAoFAIBAIBAKBQCAQCAQCgUAgEAgEAoFAIBAIBILSg6nR7vbyAcYm9pQ3Rm5ZUN54cuCe8sbSp78sbwy93FHe2HTnzvLGffPrX5hqbKhPrLtoVXljX+EjVW4QCAQCgUAgEAgEAoFAIBAIBAKBQCAQCAQCgUAgEAgEAoFAIBAIBAKBQFB6MNWchrwubT2nvNH3wJvljS1L61+H6hocK2+89Vx5ovHh5vrXod5dckF542jXnPLGsZ+m4wtTU+cGgUAgEAgEAoFAIBAIBAKBQCAQCAQCgUAgEAgEAoFAIBAIBAKBQCAQCASlB1MvPvjOdJ2jpHvXw/WRLfWJjW2vlDc++ubX8kb/1wPljdvWdJU3jt3xdnmjfWt3eeOHl6b+WzcIBAKBQCAQCAQCgUAgEAgEAoFAIBAIBAKBQCAQCAQCgUAgEAgEAoFAICg9mOrZeW/5AG0b3ihvTMeXrpZv/7O88czqVeWN412Lyhu3Xlg/R6NxtLzw+M8d5Y2Fh06WNyrcIBAIBAKBQCAQCAQCgUAgEAgEAoFAIBAIBAKBQCAQCAQCgUAgEAgEAoGg9GDqyP2vlg+wbtFV5Y3ewf7yxubJ28sbP352XXlj2d4T5Y2Ob8fLGwdXLyxvLD57tLwx/MXh8kaFGwQCgUAgEAgEAoFAIBAIBAKBQCAQCAQCgUAgEAgEAoFAIBAIBAKBQCAQlB5MTYfHho6UN7ataC9vLBk/UN4Y6+ksb8wc+6O8cfXckfLGB9tWljfmn2gpbwz3Li9vVLhBIBAIBAKBQCAQCAQCgUAgEAgEAoFAIBAIBAKBQCAQCAQCgUAgEAgEAkFLs9lsnu5DwJnKDQKBQCAQCAQCgUAgEAgEAoFAIBAIBAKBQCAQCAQCgUAgEAgEgn8B9b2bHiU0yPQAAAAASUVORK5CYII=\", \"iVBORw0KGgoAAAANSUhEUgAAAMgAAADICAYAAACtWK6eAAAAOXRFWHRTb2Z0d2FyZQBNYXRwbG90bGliIHZlcnNpb24zLjguMywgaHR0cHM6Ly9tYXRwbG90bGliLm9yZy/H5lhTAAAACXBIWXMAAA9hAAAPYQGoP6dpAAAEy0lEQVR4nO3dTYiVZRzG4XPGUdRkUKIQNStErSgJ+46kIHRQM7IkCiQrtITBheQmiBSiiCKiQIrcSKRghSA1htMHFGWFQS3FqTEjRdCQSsHK8W2Vq7gX5z+gDNe1f+/zcuDHu3p42k3TNC3gf3Wd7xeAC5lAIBAIBAKBQCAQCAQCgUAgEAgEAoFAIBAIBAKBQCAQCASC7srDvx2eXn6BKWMmljdm7Vhb3njr3i3ljbsnDJc3Dvxzqrzx2ak55Y1pY0+UNxZP/LO8MbY9przRNXWw82fLvw6jmEAgEAgEAoFAIBAIBAKBQCAQCAQCgUAgEAgEAoFAIBAIBAKBQCAQCEoHph667PaReo+S5rX6xitLlpc3Tvd/WN5Yv29VeePa6UfKG9f0HC1vvLm0fnDrxA2XlDe+3db5s74gEAgEAoFAIBAIBAKBQCAQCAQCgUAgEAgEAoFAIBAIBAKBQCAQCAQCgaB0YKrVbpdfYM/h78sbvffPK29sHtha3lj43obyxrP3vF/e2HbVjPLGj1/VDyp1b6nfljW5b2x5o8IXBAKBQCAQCAQCgUAgEAgEAoFAIBAIBAKBQCAQCAQCgUAgEAgEAoFAIBC0m6ZpOn140biHyy/Q/Un9YM7Z1ePLGz89NrW8cWZCx3/lOTMHhssbhxaPKW+066/Ratf/jtauB14tb1w389eOn/UFgUAgEAgEAoFAIBAIBAKBQCAQCAQCgUAgEAgEAoFAIBAIBAKBQCAQCASlG6YGX7qx/ALjjtVvIbqydbK8ceai+ume2Ru+K2+c3l2/HWrTzC/LG4/0HC9vDDdnyxsLnlpf3vhme+fP+oJAIBAIBAKBQCAQCAQCgUAgEAgEAoFAIBAIBAKBQCAQCAQCgUAgEAgEgtINU3csf7n8Ars3v17eePznpeWN/TvnljeeXP1BeWP7LzeVN3ruO1LeOPj0/PJG34r+8sa6KYfKG11TBzt/tvzrMIoJBAKBQCAQCAQCgUAgEAgEAoFAIBAIBAKBQCAQCAQCgUAgEAgEAoGgdMPULRv3lV9gUtf48sYfd/1e3mj3lSdaCyZ2fjDnP9u21g9/fTS0s7yx5M5p5Y11a+qHnRY++Gh549MvOn/WFwQCgUAgEAgEAoFAIBAIBAKBQCAQCAQCgUAgEAgEAoFAIBAIBAKBQCAQlA5M7Rq4tfwCG1d+Xd44uKl+K9MVz+wtbzzRu7K8cezm8kSrd9r19ZHWUHlh1o615Y2uZe3yRun3z+uvwwVOIBAIBAKBQCAQCAQCgUAgEAgEAoFAIBAIBAKBQCAQCAQCgUAgEAgE7aZpmk4fPnt0dvkFRuJwT9/ggfLG88+tKm8cn9/xX3nO7HdOljeWvf15eWP3onnljTf27ihvrLl8QXnj4+F3O37WFwQCgUAgEAgEAoFAIBAIBAKBQCAQCAQCgUAgEAgEAoFAIBAIBAKBQCAQlG6YGgkjcdhp85y55Y3JTf2mq4v3XFre+PvqGeWN/hW3lTf2vzCpvPHDX/X/Y+jF+i1mFb4gEAgEAoFAIBAIBAKBQCAQCAQCgUAgEAgEAoFAIBAIBAKBQCAQCAQCgaB0wxSMdr4gEAgEAoFAIBAIBAKBQCAQCAQCgUAgEAgEAoFAIBAIBAKBQCD4F4z8pgdXvDeWAAAAAElFTkSuQmCC\", \"iVBORw0KGgoAAAANSUhEUgAAAMgAAADICAYAAACtWK6eAAAAOXRFWHRTb2Z0d2FyZQBNYXRwbG90bGliIHZlcnNpb24zLjguMywgaHR0cHM6Ly9tYXRwbG90bGliLm9yZy/H5lhTAAAACXBIWXMAAA9hAAAPYQGoP6dpAAAEsElEQVR4nO3d32vXVRzH8c1fDWeSYL9GEFoaEhO7WVvURRddrOWF2rrwIrDERpI6ocIoAsGCoi2KFS0YVjQqDIwubHmxrmoVwjTBIKHGaBQFE0IxNb/9A/G62HugxONx/3l5vHjuXB2+zY1Go9EE/KcFV/oAcDUTCAQCgUAgEAgEAoFAIBAIBAKBQCAQCAQCgUAgEAgEAoFAsKjy8cCpB8oH2LPil/LGqs92lDfaxut/Kw68PFze+PDPrvo52r4sb3x9/sbyRtui2fJGxzWLyxsLbvpp7t+W/3X4HxMIBAKBQCAQCAQCgUAgEAgEAoFAIBAIBAKBQCAQCAQCgUAgEAgEAkHpwdSRO68rH+BI04byRtNw/SdOls6cL2+cuby0vPHCzWPljd4n95Y3+gdGyxsvrruvvDEfxs7N/Vs3CAQCgUAgEAgEAoFAIBAIBAKBQCAQCAQCgUAgEAgEAoFAIBAIBAKBQCAoPZiaD2Mzk+WN7jWt5Y3+49+VN15bu768se1U/ReVWj6v/19Gn727vLF4rP5/ubhrRXmjwg0CgUAgEAgEAoFAIBAIBAKBQCAQCAQCgUAgEAgEAoFAIBAIBAKBQCAQCK74g6n50LhwsbzxevfG8sbZzdeXN97ZdVd5Y9/p98obB3+/t7xxqe/a8sZbX7xb3mhq2j/nL90gEAgEAoFAIBAIBAKBQCAQCAQCgUAgEAgEAoFAIBAIBAKBQCAQCAQCgaD0YGpqf1f5AGu+2lDeWP3PD+WNU/0ryxtrd9Z/2enT6W/KG0Oz7eWN0VXj5Y32l7aWN/purT/cOnp57t+6QSAQCAQCgUAgEAgEAoFAIBAIBAKBQCAQCAQCgUAgEAgEAoFAIBAIBAJB6cFU66/1AxzbfrC8sXqwr7zROlX/W9F9cra8sbn3ifJG87cnyxvjCzvKG+deWV7eGJuZLG9UuEEgEAgEAoFAIBAIBAKBQCAQCAQCgUAgEAgEAoFAIBAIBAKBQCAQCAQCQenB1KHnXp2HIywrL6zZPVE/Ruf68kT7junyxtHfzpQ3Dk/Xf+nqoS3byhs/PjJU3rjto53ljZ/3zP1bNwgEAoFAIBAIBAKBQCAQCAQCgUAgEAgEAoFAIBAIBAKBQCAQCAQCgUAgKD2Y6hl+pnyA0e2D5Y3TA53ljdv31h9dtS38q7zRaFlS3ujpfay80TxxvLxxx6H6Y6cbjpUnStwgEAgEAoFAIBAIBAKBQCAQCAQCgUAgEAgEAoFAIBAIBAKBQCAQCAQCgaD0YGrk8TfLB3j60b7yxuDI++WNoU8eLm+sWzJZ3vijc2V54/sDb5c3ero2ljdObnmjvLFpd0d5o+mDuX/qBoFAIBAIBAKBQCAQCAQCgUAgEAgEAoFAIBAIBAKBQCAQCAQCgUAgEAgEpQdTnS0Lywd4auTj8sa+E5vKG7dMnChvdD+4tbxx4f7m8sbhs8vKG1ODy8sbfzculTemn7+nvFHhBoFAIBAIBAKBQCAQCAQCgUAgEAgEAoFAIBAIBAKBQCAQCAQCgUAgEAgEzY1Go3GlDwFXKzcIBAKBQCAQCAQCgUAgEAgEAoFAIBAIBAKBQCAQCAQCgUAgEAj+BcFnmJMVXEcjAAAAAElFTkSuQmCC\", \"iVBORw0KGgoAAAANSUhEUgAAAMgAAADICAYAAACtWK6eAAAAOXRFWHRTb2Z0d2FyZQBNYXRwbG90bGliIHZlcnNpb24zLjguMywgaHR0cHM6Ly9tYXRwbG90bGliLm9yZy/H5lhTAAAACXBIWXMAAA9hAAAPYQGoP6dpAAAEx0lEQVR4nO3dzatVZRjG4bN3VpIYFkImZIlICioZaWZJSR2LiAzNsKETFT8yByFWNMooIpGSEulDSkhQGhiWiiFWShRlZIRgecT0mBJIlB9ZntU/EPdgP4Ii1zVf934nv/2OFqvVNE3TBfyv9sU+AFzKBAKBQCAQCAQCgUAgEAgEAoFAIBAIBAKBQCAQCAQCgUAgEPSrPHzX9mXlA+we91F5Y/jmueWNG3fW/yueW7GuvHFP/5PljYm755U39t79dnnj87MDyxsPXfN3eaM95EDnz5Z/HS5jAoFAIBAIBAKBQCAQCAQCgUAgEAgEAoFAIBAIBAKBQCAQCAQCgUAgaFW+D9LdnnUhz9KxT45+V94Y+9ai8kbfuD/LG1NuPljeuG/Q/vLG+pnd5Y3W0ePljebMmfLGttMfdPysGwQCgUAgEAgEAoFAIBAIBAKBQCAQCAQCgUAgEAgEAoFAIBAIBAKBQCAQlL4wdWT55PIBfli0urzxyIj6OTbsX1neeGrh4vLGjsdHlTcOzzlV3jiwbkB5Y8zwq8sb56adLm9UuEEgEAgEAoFAIBAIBAKBQCAQCAQCgUAgEAgEAoFAIBAIBAKBQCAQCAQCQemFqaF76l//2Tf3n/JG37iR5Y05L40vb5ya2CpvjF5xrLzx/q+7yxt3bpxU3vj3lYHlja09W8sbFW4QCAQCgUAgEAgEAoFAIBAIBAKBQCAQCAQCgUAgEAgEAoFAIBAIBAKBQFB6Yaq9a2/5ADM2LylvjPz6q/LGsvU95Y1106eVN+Z/uq28MWHL0vJGz+w15Y3Ppl9R3uh+ck79HDs7f9YNAoFAIBAIBAKBQCAQCAQCgUAgEAgEAoFAIBAIBAKBQCAQCAQCgUAgEAhaTdM0nT485dFXywfYtXZteWPGz93ljWNrRpQ3Zj27vbyxY+bt5Y3mSP0rVe3B15c3el8fUN7YO2FDeaM95EDnz5Z/HS5jAoFAIBAIBAKBQCAQCAQCgUAgEAgEAoFAIBAIBAKBQCAQCAQCgUAgKH1hauUbqy/AEa4qL5ydN6i8cd3Rn8obx5+5trzRd/BweWP2vkPljY1T6y9u/XFoUHnj4eVPlDe2/tj5s24QCAQCgUAgEAgEAoFAIBAIBAKBQCAQCAQCgUAgEAgEAoFAIBAIBAKBQFB6YWrBC0vKBzgx+Xx5Y3TXyfJGV7tVnti0a1J5o/VyeaLrw1Hn6iNdv5UXmiuHlTd6Hxhc3qhwg0AgEAgEAoFAIBAIBAKBQCAQCAQCgUAgEAgEAoFAIBAIBAKBQCAQCASC0gtTYxbuKx+gd95N5Y1pm74pb3y8+P7yxi1jessb51+7obyxrff78sbYVQvKGz2PvVneeHDobeWNrlVLO37UDQKBQCAQCAQCgUAgEAgEAoFAIBAIBAKBQCAQCAQCgUAgEAgEAoFAIBAISi9MvTPsy/IBnn73jvLGlvlTyxv9vvi2vNHe07+88ct715U3nj8xtrzx1631r1S9+Puo8kbfvePLGxVuEAgEAoFAIBAIBAKBQCAQCAQCgUAgEAgEAoFAIBAIBAKBQCAQCAQCgUDQapqmudiHgEuVGwQCgUAgEAgEAoFAIBAIBAKBQCAQCAQCgUAgEAgEAoFAIBAIBP8B43CsdyNFjAsAAAAASUVORK5CYII=\", \"iVBORw0KGgoAAAANSUhEUgAAAMgAAADICAYAAACtWK6eAAAAOXRFWHRTb2Z0d2FyZQBNYXRwbG90bGliIHZlcnNpb24zLjguMywgaHR0cHM6Ly9tYXRwbG90bGliLm9yZy/H5lhTAAAACXBIWXMAAA9hAAAPYQGoP6dpAAAEu0lEQVR4nO3dT2jXdRzH8f1+lk3aJczcxcG02QqNcP3H6BAVFgUh6xB1CYIo1kDFAuuidBHKg+2yAotCUAkqKFFCDxVBRg4q/02Q9QciEHKVtsp9u0SneB1+70ExHo/79/X7XJ6/7+nDt9U0TdMF/Kv2f30A+D8TCAQCgUAgEAgEAoFAIBAIBAKBQCAQCAQCgUAgEAgEAoFAcEnl4YlvlpUPsKT9Z3njjo9GyhtLF58rb4z0Hy5vDPecLW/c8Nmj5Y2DQ+PljUtbrfLGlQsuL2+0eyc7f7b86zCPCQQCgUAgEAgEAoFAIBAIBAKBQCAQCAQCgUAgEAgEAoFAIBAIBAKBoFX5Psjd7eG5PEvHJnfeUt5Ydf1UeePL433ljfaF+n/WwFs/lze+f77+2Zi+jefLG7M93eWNAxPbOn7WGwQCgUAgEAgEAoFAIBAIBAKBQCAQCAQCgUAgEAgEAoFAIBAIBAKBQCAQlL4wNRdO77i1vDEweqS88dWOm8obC6frX1TaMryvvNG1rj5xZuaq8sbRXfUvkM2s+7G8UeENAoFAIBAIBAKBQCAQCAQCgUAgEAgEAoFAIBAIBAKBQCAQCAQCgUAgEAhKF6YWXN1fPkBP/7nyRntR/StE/e/9Ud7o/vq78sburcvLG5Pb15Q35sLKXT+VN/afPlA/SIE3CAQCgUAgEAgEAoFAIBAIBAKBQCAQCAQCgUAgEAgEAoFAIBAIBAKBQCAoXZg6+fTS8gGa6d/LG6e2rS5vLFz2a3lj2cu95Y2DX9QvCK3ZOlTeOPLCWHljZO3t5Y0Ve54sb5wZ7fxZbxAIBAKBQCAQCAQCgUAgEAgEAoFAIBAIBAKBQCAQCAQCgUAgEAgEAoFA0Gqapun04XX9G8oH2HDog/LG4vb58sb6dwq3av527OGd5Y3VbzxT3hgYmypvnNjUV97Yfv/u8sb6nunyRrt3svNny78O85hAIBAIBAKBQCAQCAQCgUAgEAgEAoFAIBAIBAKBQCAQCAQCgUAgEAhKX5i6b/9E+QBru38rb1y3p37ZaWDz5+WNl+5aVd64uKjj+2v/ePzwx+WN8cGB8sbmrkfKG68+d7S8cfBC5896g0AgEAgEAoFAIBAIBAKBQCAQCAQCgUAgEAgEAoFAIBAIBAKBQCAQCASC0oWp9x+8sXyA2XfrjQ6+8kN5o7lmRXnj3MWT5Y3WbHmia3zl8vrIHBykPdMqb0w9O1TeqPAGgUAgEAgEAoFAIBAIBAKBQCAQCAQCgUAgEAgEAoFAIBAIBAKBQCAQCASlC1Pjh94sH+CJwXvKG6de7C1vdNU/7NR1/NObyxvXvna2vPH6t5+UNx7Ysqm8ceKxsfLGyr1PlTcqvEEgEAgEAoFAIBAIBAKBQCAQCAQCgUAgEAgEAoFAIBAIBAKBQCAQCAQCQenC1J1v1y/VrN5/prxx2Yf1zmeuqH9RaXD8l/LG1ENLyhu37dtY3rh35Gh5Yy6s2HuhPjLa+aPeIBAIBAKBQCAQCAQCgUAgEAgEAoFAIBAIBAKBQCAQCAQCgUAgEAgEAoGg1TTNHHxbCeYnbxAIBAKBQCAQCAQCgUAgEAgEAoFAIBAIBAKBQCAQCAQCgUAgEPwFznGfvWVjx6wAAAAASUVORK5CYII=\", \"iVBORw0KGgoAAAANSUhEUgAAAMgAAADICAYAAACtWK6eAAAAOXRFWHRTb2Z0d2FyZQBNYXRwbG90bGliIHZlcnNpb24zLjguMywgaHR0cHM6Ly9tYXRwbG90bGliLm9yZy/H5lhTAAAACXBIWXMAAA9hAAAPYQGoP6dpAAAEvUlEQVR4nO3b32vVdRzH8bOd3SQrDamEyJw5NUIzoiCoJJCyQgMlMaQisFpEJS2i6AcIdhdJWBREXhSWNyKKlnpRVBddCMPyItNhNdm0IIncRZub3/6BeF2cd1DI43H/fe0D43k+V5+upmmaFvCPuv/rA8D/mUAgEAgEAoFAIBAIBAKBQCAQCAQCgUAgEAgEAoFAIBAIBIKeysfv/7i8fIAnZo6VN/r2P17eWLztXHnjqV17yxvbx+4ob3z/y9XljZMrtpc3RqbGyxtze3rLG91zTnT+bfmvw0VMIBAIBAKBQCAQCAQCgUAgEAgEAoFAIBAIBAKBQCAQCAQCgUAgEAgEpQdTb+55oHyAXS99W97o3toubxx75tLyxpmpWeWNo0N95Y1FLx8pb+w9OqO88W7/svJGe9bM8saBs51/6waBQCAQCAQCgUAgEAgEAoFAIBAIBAKBQCAQCAQCgUAgEAgEAoFAIBAIBKUHU/3vjJQPsHd0qLyxatkV5Y0dQ3vKGw/13Vne2Df8VnljzR8vlDfm9HxT3rjkq6vKGxPPzS5vVLhBIBAIBAKBQCAQCAQCgUAgEAgEAoFAIBAIBAKBQCAQCAQCgUAgEAgEAkHpwdTU6Fj5AOPNRHmjq13vfP3aJ8sb7UWT5Y1N86bKG5NbL5Q3Tp2vP1SauG+8vPH5iYPljVZrc8dfukEgEAgEAoFAIBAIBAKBQCAQCAQCgUAgEAgEAoFAIBAIBAKBQCAQCAQCQenBVKtpygfYMLymvPHrqnnljdsHDpc3jt99WXnj4NiR8sb8QzeXN9b2/lneeHHLkvLGgh1LyxsnBzv/1g0CgUAgEAgEAoFAIBAIBAKBQCAQCAQCgUAgEAgEAoFAIBAIBAKBQCAQCEoPptr988sH2Lngk/LGjddvKm/8cEv98dfukQPljet2PlveWPzG8fo5Xhkob8xdcrq88eUNe8obrdbzHX/pBoFAIBAIBAKBQCAQCAQCgUAgEAgEAoFAIBAIBAKBQCAQCAQCgUAgEAgEpQdTH33xcfkAN339dHnj39C+fGZ54/T0ZHmjq/5uq/Xpd/vLG+tXXlneeHt//THcymvvKm8cmuj8WzcIBAKBQCAQCAQCgUAgEAgEAoFAIBAIBAKBQCAQCAQCgUAgEAgEAoFAICg9mHpkxaPlA+w48EF54/UHHytvTP9+trwxr2dGeWPhh/VzrBu8rbzRah0rL7x6anV547eNC8sbFW4QCAQCgUAgEAgEAoFAIBAIBAKBQCAQCAQCgUAgEAgEAoFAIBAIBAKBQFB6MLVk53D5AK/Nv7W8cW5db3lj1s+zyxvtrvrvTXNypLzx2ehQeeOeDRvLG1uu2VbeuLd/sLxR4QaBQCAQCAQCgUAgEAgEAoFAIBAIBAKBQCAQCAQCgUAgEAgEAoFAIBAIBF1N0zSdfnzhTH/5AD+dHy9vDPQtL2+0LkyXJ7qXLi5vNO12/Rx/TdY33qv/X3b37ytvrL7/4fLGwaHNHX/rBoFAIBAIBAKBQCAQCAQCgUAgEAgEAoFAIBAIBAKBQCAQCAQCgUAgEAgEpQdTcLFzg0AgEAgEAoFAIBAIBAKBQCAQCAQCgUAgEAgEAoFAIBAIBAKB4G8Isabz9rQAUQAAAABJRU5ErkJggg==\", \"iVBORw0KGgoAAAANSUhEUgAAAMgAAADICAYAAACtWK6eAAAAOXRFWHRTb2Z0d2FyZQBNYXRwbG90bGliIHZlcnNpb24zLjguMywgaHR0cHM6Ly9tYXRwbG90bGliLm9yZy/H5lhTAAAACXBIWXMAAA9hAAAPYQGoP6dpAAAEtklEQVR4nO3d32vVdRzH8XM2lVkjNEIRk6ztbNOoLvoNdSUkRETGsvBKuoiVhRdponUTdVFdVF5IdWM3XXSiaATSuokkMEgjC6spaVupCWEXQlLb3OkfiNfFeQ+KeDzuvy8+N08+Vx++zU6n02kA/6jn3z4A/JcJBAKBQCAQCAQCgUAgEAgEAoFAIBAIBAKBQCAQCAQCgUAgWFT5+MLZNeUD9Pf0lTcG2mPljZFXpsob7cPj5Y2lzSXljam5i+WNgcX95Y1LnfnyxuAnj5U3prfu6vpbNwgEAoFAIBAIBAKBQCAQCAQCgUAgEAgEAoFAIBAIBAKBQCAQCAQCgUAgKD2YeviuzeUDzE39XN5ovF6fmBlcVd64cXx7eaM52yxvtHYeKW888cP35Y19raHyxvCio+WNxtbuP3WDQCAQCAQCgUAgEAgEAoFAIBAIBAKBQCAQCAQCgUAgEAgEAoFAIBAIBILSg6m56V/KB/jxtTvKG60d9QdCB6a/LG+MvLOtvLHq0KXyRu+a1eWNjZd9Ud7Yf3BleeP83rXljQo3CAQCgUAgEAgEAoFAIBAIBAKBQCAQCAQCgUAgEAgEAoFAIBAIBAKBQCAoPZhatHLFQp2jpGf58vLG8MFHyxtLLtT/DrX0o8PljclXby9vrH/vqfLG8Isnyhv3ffZpeaPR2NH1l24QCAQCgUAgEAgEAoFAIBAIBAKBQCAQCAQCgUAgEAgEAoFAIBAIBAKBQFB6MHVm80D5AK2bpssbx/fUz/HBnXvLG8/uHi1vHDjzdXnjuvdvK2+cGn2rvPHX5tnyxvp2/eHW7uu7/9YNAoFAIBAIBAKBQCAQCAQCgUAgEAgEAoFAIBAIBAKBQCAQCAQCgUAgEAhKD6aWH58pH2DnNRPljSfPbylv7Lq2/lemn96t/+lqoD1W3hjefbR+jrn6OVas+628cfKRN8sbjcbTXX/pBoFAIBAIBAKBQCAQCAQCgUAgEAgEAoFAIBAIBAKBQCAQCAQCgUAgEAgEpQdTE/vfKB+gZwEanTl9eXmjd3iwvPHd3W+XN0ba28ob4yc/L288eMuy8sbkM2vLG4PHHi9vnOr+vZQbBBKBQCAQCAQCgUAgEAgEAoFAIBAIBAKBQCAQCAQCgUAgEAgEAoFAIBCUHkxtWrehfICxr46UN3r/bJY3Oqd/LW8sbvaWNxbC/atvXYCVc+WFK1tXlDcuHrqqvFHhBoFAIBAIBAKBQCAQCAQCgUAgEAgEAoFAIBAIBAKBQCAQCAQCgUAgEAgEpQdTx59fXz7AvtaF8sbV98yWN068cEN5Y6Bd3xh67tvyxsdnj5Y37t3wUHlj2cv1P3/9vmm+vFHhBoFAIBAIBAKBQCAQCAQCgUAgEAgEAoFAIBAIBAKBQCAQCAQCgUAgEAgEzU6n0+n24/lzrfIBxv/oL2/s+eaB8saa0WPljZ6+vvJGs7/+yOjc6FB5Y9v2D8sbN/dNlzf2bNxS3piYfKnrb90gEAgEAoFAIBAIBAKBQCAQCAQCgUAgEAgEAoFAIBAIBAKBQCAQCAQCgaD0YAr+79wgEAgEAoFAIBAIBAKBQCAQCAQCgUAgEAgEAoFAIBAIBAKBQCD4G0GQmWmaiweiAAAAAElFTkSuQmCC\", \"iVBORw0KGgoAAAANSUhEUgAAAMgAAADICAYAAACtWK6eAAAAOXRFWHRTb2Z0d2FyZQBNYXRwbG90bGliIHZlcnNpb24zLjguMywgaHR0cHM6Ly9tYXRwbG90bGliLm9yZy/H5lhTAAAACXBIWXMAAA9hAAAPYQGoP6dpAAAEvElEQVR4nO3d68vfcwDG8e/NNGViIaFpDreZGHIYI1KrNZqwLKUsTaIljaf8A7K1YiWr0Ug5Fa2tkQeTcoocctzBxNgcas2GDbt//gFdD3YpHrxez39Xn7a993n06Ts2Go1GA/CPDvuvDwD/ZwKBQCAQCAQCgUAgEAgEAoFAIBAIBAKBQCAQCAQCgUAgEAgmNT+e/sjy+gBf3fxYvXHGs3fVG+dftK3eePr09fXG5LHqr2QYhmGYsWlJvbH1mifqjY2/Ta43lq67vd7Yfu/9h/xbNwgEAoFAIBAIBAKBQCAQCAQCgUAgEAgEAoFAIBAIBAKBQCAQCAQCgUAgGGu+DzL/lHvqA/y1c1e9sXnNxfXG2Sv21RsXPvVZvXH8Ef05Xrt6er1x65sf1RtrZ0yrNw4/87R6Y+Pmhw75t24QCAQCgUAgEAgEAoFAIBAIBAKBQCAQCAQCgUAgEAgEAoFAIBAIBAKBQFB9zmi0/0B9gFe+/7DemD/j6Hpj1+Lz6o0PFp9Tb4xW7q03hj0/1BO3TPmp3nj+9f4h29YNJ9UbDTcIBAKBQCAQCAQCgUAgEAgEAoFAIBAIBAKBQCAQCAQCgUAgEAgEAoFAIKgeTB3cvbs+wMrd0+uNHXf3j52mresfCG1fdEK9cercLfXGxBWz6o3xF/6Fr3at6v9MZ6/9uN5ouEEgEAgEAoFAIBAIBAKBQCAQCAQCgUAgEAgEAoFAIBAIBAKBQCAQCAQCQfVgahgbqw+w+osr6o1jv56oNz6//5h6Y+aKn/tzrL6w3hgO9P/vbb/hsXrjt4V/1Bs3TptdbwwHD/2nbhAIBAKBQCAQCAQCgUAgEAgEAoFAIBAIBAKBQCAQCAQCgUAgEAgEAoFAUD2Y2rns8voAz120vN64/ptl9cZZd7xXb8z5eH+9cXDWkfXG2KTuHdwwDMO8pf3DrS1P9htffbem3mi4QSAQCAQCgUAgEAgEAoFAIBAIBAKBQCAQCAQCgUAgEAgEAoFAIBAIBAJB9bJm4eJN9QGOGOu/DnXYH/2XrvYvuLTeeOD4x+uNecMF9cbXz8ysN/7ccVS9cfKJP9Yb185dVG9s/OTQf+sGgUAgEAgEAoFAIBAIBAKBQCAQCAQCgUAgEAgEAoFAIBAIBAKBQCAQCATVg6m3rzyuPsDRb51Xb4yv+aneOPjl1npj26P7+o2HL6s3xpd8Wm9M7N1bb+xeP15v/DJzar3RcINAIBAIBAKBQCAQCAQCgUAgEAgEAoFAIBAIBAKBQCAQCAQCgUAgEAgEgurB1LbVp9UHmDi3f5izdMuGeuO+l2+rN+a+ekm9cc6qnfXG+i/fqDeum3N9vXHgz+qf1zAMwzD1xXfqjYYbBAKBQCAQCAQCgUAgEAgEAoFAIBAIBAKBQCAQCAQCgUAgEAgEAoFAIBBUL1o2X7W2PsCeHb/XG4tuurPeOOPdt+uNbx+cU29M/NB/LeulX6fUGws2vF9vjE/eVW+sOH1BvdFwg0AgEAgEAoFAIBAIBAKBQCAQCAQCgUAgEAgEAoFAIBAIBAKBQCAQCASCsdFoNPqvDwH/V24QCAQCgUAgEAgEAoFAIBAIBAKBQCAQCAQCgUAgEAgEAoFAIBD8DeoIrIrZZMQkAAAAAElFTkSuQmCC\", \"iVBORw0KGgoAAAANSUhEUgAAAMgAAADICAYAAACtWK6eAAAAOXRFWHRTb2Z0d2FyZQBNYXRwbG90bGliIHZlcnNpb24zLjguMywgaHR0cHM6Ly9tYXRwbG90bGliLm9yZy/H5lhTAAAACXBIWXMAAA9hAAAPYQGoP6dpAAAExUlEQVR4nO3d32tXdRzH8fPdjLVYRCSmCeGkpUsMSSxRL5Qs6aaGdBHVlV1MUjBoRZeWIBRSF5IUQUER9mNE3pRexJBAsh/qVflj5E3piLxQCjanO/0D8br4vi8KeTzuz2sfBs/vufpwOm3btg3wr3r+6wPA/5lAIBAIBAKBQCAQCAQCgUAgEAgEAoFAIBAIBAKBQCAQCASCeZWHH/92Z/kAXw4dKW8sHR8tbwzcfaW8cXLNx+WN3k79N+v87F/ljcGbBsobf17/u7zx0PiL5Y3zu7rf8AaBQCAQCAQCgUAgEAgEAoFAIBAIBAKBQCAQCAQCgUAgEAgEAoFAIBAIBKULUz8fW1o+wPq3t5c3ekemyxuL9pb+FU3TNM1HHy4sb+w5vLW8MTT2Y3mjWbmsPDGzoL+8sbh/rrzR7Or+UW8QCAQCgUAgEAgEAoFAIBAIBAKBQCAQCAQCgUAgEAgEAoFAIBAIBAKBQFC6JTT/VFs+wIWN9Qsxy7edLm+sPV7/wtRna4fLG3NvXitvtNfqG1ffqH+l6va+P8obk4eGyhsV3iAQCAQCgUAgEAgEAoFAIBAIBAKBQCAQCAQCgUAgEAgEAoFAIBAIBAKBoNO2bde3nh67a2f5AB/88EV545ln6+eYd2KyvNFOz9Q3Zq+WN84eeLC80TNd/+3su1TfeP+5/eWNdUt+7fpZbxAIBAKBQCAQCAQCgUAgEAgEAoFAIBAIBAKBQCAQCAQCgUAgEAgEAoFAUPrC1OmXB8sH2D31cHmj7emUNzYemypvvHd4c3nju6f2lTfWfL2mvDHxZP0ci3r7yxvLP91R3jj/QvfPeoNAIBAIBAKBQCAQCAQCgUAgEAgEAoFAIBAIBAKBQCAQCAQCgUAgEAgEgtIXph5dvbt8gFfGD5Y3DlzcVN64vOFSeWPVyfJEc+qB+uWvnoGB8sZvoyvLG/O3/F7emFhxqLzRs/Bc98+W/zrcwAQCgUAgEAgEAoFAIBAIBAKBQCAQCAQCgUAgEAgEAoFAIBAIBAKBQFD6wtSZ528pH2D9zbPljdGJe8sbC7bOlTdev/Pd8sY9+7aXN7Y9MlHeOLrqeHljcnH9S1cb3hktbxz7vPtnvUEgEAgEAoFAIBAIBAKBQCAQCAQCgUAgEAgEAoFAIBAIBAKBQCAQCAQCQenC1PBLZ8sH+GZT/dLV4Gs/lTeur1tR3lg6Xr/c06l/YKo5en9/faS5Xl44OLK/vDF2dEd5o8IbBAKBQCAQCAQCgUAgEAgEAoFAIBAIBAKBQCAQCAQCgUAgEAgEAoFAIBCULkxd+eSO8gHeGrqvvNE7vKS8ce6JvvJGp37HqFm250x546sLp8obm5/eVt7obb4vb0yt7S1vVHiDQCAQCAQCgUAgEAgEAoFAIBAIBAKBQCAQCAQCgUAgEAgEAoFAIBAIBIJO27Zttw/PTQ2VDzBybkt5Y2bL5fLG3PR0eWN28+ryRmeuPNH0XbxS3vhl7Lb6OW6dKW8M7q3fQjty4tWun/UGgUAgEAgEAoFAIBAIBAKBQCAQCAQCgUAgEAgEAoFAIBAIBAKBQCAQCASlC1Nwo/MGgUAgEAgEAoFAIBAIBAKBQCAQCAQCgUAgEAgEAoFAIBAIBALBP/F5rJhqMNy3AAAAAElFTkSuQmCC\", \"iVBORw0KGgoAAAANSUhEUgAAAMgAAADICAYAAACtWK6eAAAAOXRFWHRTb2Z0d2FyZQBNYXRwbG90bGliIHZlcnNpb24zLjguMywgaHR0cHM6Ly9tYXRwbG90bGliLm9yZy/H5lhTAAAACXBIWXMAAA9hAAAPYQGoP6dpAAAEs0lEQVR4nO3dSavWZQDG4dc5JCNRVCIKZ00sOzQKEVQkRNCMiyJQooICk7ZthHYlFjRuChflogGyKEloWDSAhCaVmVomUhoUNCjm9PYF4l6cOyjiuvb/m4eDP5/VwztmOBwOB8DfGvtvHwD+ywQCgUAgEAgEAoFAIBAIBAKBQCAQCAQCgUAgEAgEAoFAIBCMbz5euG5DfYBd9z1Tb6w6cFW9cdO07fXG0omH6o25E86sNw6e/KPeOHd8f44tRyfVGw+8uare+G7Nw6P+1g0CgUAgEAgEAoFAIBAIBAKBQCAQCAQCgUAgEAgEAoFAIBAIBAKBQCAQCKoHU7Nf7h8IrVi3rN7Yu2FJvXF4Xf9/xaYvttQbp4an64175l5Tb5z1/pR64/frjtQbCxb+Wm8M1oz+UzcIBAKBQCAQCAQCgUAgEAgEAoFAIBAIBAKBQCAQCAQCgUAgEAgEAoFAIKgeTB1ZNL0+wIcfvl5vrDinnhgs+Kz6UwwGg8Fg5eyr6409j43UG/NOfFpvbNs9u964+N3v6429b0ytNxpuEAgEAoFAIBAIBAKBQCAQCAQCgUAgEAgEAoFAIBAIBAKBQCAQCAQCgUBQvRKavHVnfYB/4heVjtx+eb3xzcqf6o1xM/6sN+Y91D92emx/v3HXjsX1xu535tcbLz74ZL0xGKwd9ZduEAgEAoFAIBAIBAKBQCAQCAQCgUAgEAgEAoFAIBAIBAKBQCAQCAQCgUBQPZganjxZH+CDYxPqjSlvfV5vfL3+onpj0VO/1Bur3ut/lenxH6+vN3ZetqneOHrJ8XrjlvOurDe2Fv9M3SAQCAQCgUAgEAgEAoFAIBAIBAKBQCAQCAQCgUAgEAgEAoFAIBAIBAKBoHowNW7WzPoAx4b9g6lbth+oN167oP91qP2vLKk3Xlx4fr0xbuYZ9caKw8vqjT0bR+qNbw++UG803CAQCAQCgUAgEAgEAoFAIBAIBAKBQCAQCAQCgUAgEAgEAoFAIBAIBAKBoHowtevRWfUBlk/qf5XpziuvqjeO3jyn3vhq+fP1xg2L76g3dt87rd4Ye2JuvfHE8o31xg3X9n+PLV+O/ls3CAQCgUAgEAgEAoFAIBAIBAKBQCAQCAQCgUAgEAgEAoFAIBAIBAKBQCCoHkzNX72jPsDIs2vqjcVn/1xvTPztZL1xani63vhm9fR6Y97aT+qNf8LaCXfXGzOW9edouEEgEAgEAoFAIBAIBAKBQCAQCAQCgUAgEAgEAoFAIBAIBAKBQCAQCAQCQfVgau/6S+sDLH5kX71x/8cf1RtPz19Qb4xsu7PeWPD8oXrj7R921BtzXr2v3th56xP1xm1rr6g3Bi+N/lM3CAQCgUAgEAgEAoFAIBAIBAKBQCAQCAQCgUAgEAgEAoFAIBAIBAKBQCCoHkztW/lcfYDNN06uN55demG9MRgcqxfGbp1ab4z5o39AtvlI/zcdO+14vXFqMKw3xs8+v95ouEEgEAgEAoFAIBAIBAKBQCAQCAQCgUAgEAgEAoFAIBAIBAKBQCAQCAQCwZjhcNi/aoH/KTcIBAKBQCAQCAQCgUAgEAgEAoFAIBAIBAKBQCAQCAQCgUAgEAj+Aq79oNDe7M2OAAAAAElFTkSuQmCC\", \"iVBORw0KGgoAAAANSUhEUgAAAMgAAADICAYAAACtWK6eAAAAOXRFWHRTb2Z0d2FyZQBNYXRwbG90bGliIHZlcnNpb24zLjguMywgaHR0cHM6Ly9tYXRwbG90bGliLm9yZy/H5lhTAAAACXBIWXMAAA9hAAAPYQGoP6dpAAAEwElEQVR4nO3dTYiVZRzG4TODmVM0tjDKStCZPJqIGX1CqZtoFjFQm0RqE0KJWU41BCW0CGnRYhZpg1TgosikCMMizRZFGESWWBsnP8kmpBo/QBkYdU672sS9OH/BkOvav/c8KL/zrF7ejlar1WoA/6nzUh8A/s8EAoFAIBAIBAKBQCAQCAQCgUAgEAgEAoFAIBAIBAKBQCAQTKk8/PbIkvIBVlzza3lj0ddPlTd23b+hvPHAx4PljUPLN5U3ereuKm/88uhweWO8NVHeuO3DgfLGkbUvtP2sGwQCgUAgEAgEAoFAIBAIBAKBQCAQCAQCgUAgEAgEAoFAIBAIBAKBQCAQdFS+D7J49VD5AGdnlSca57onyxsz9tR/K3a/trG8MX/r0+WNWwa/L28cW3dPeWPK2fJEY9b7h8obn//e/v+LGwQCgUAgEAgEAoFAIBAIBAKBQCAQCAQCgUAgEAgEAoFAIBAIBAKBQCAQlL4wNXPb4fIB9r84p7wx44d65yf7xssbC95bU954vv/T8sZN/SfLGy/vu7W80bz+eHljfOvU8kaFGwQCgUAgEAgEAoFAIBAIBAKBQCAQCAQCgUAgEAgEAoFAIBAIBAKBQCAQXPIvTD2+Zmd548tls8sb55v1T11NOfBbeePCX2PljYND95Y3LoZrRzrKG9++8kZ5o2vm0bafdYNAIBAIBAKBQCAQCAQCgUAgEAgEAoFAIBAIBAKBQCAQCAQCgUAgEAgEgtIXpk43237X6t+NC13ljZF1zfLG5PTz5Y35AxPljXeP7S5vbD9T/7LTyun1jYuh94NnyhtHBtp/1g0CgUAgEAgEAoFAIBAIBAKBQCAQCAQCgUAgEAgEAoFAIBAIBAKBQCAQCEpfmHrwysfKB9hy+KvyxonJyfJG30eD5Y2flte/hnTHOwPljev21l/+Gl1W/+3c/PCm8sbSaeWJRucNB9p/tv7n4fIlEAgEAoFAIBAIBAKBQCAQCAQCgUAgEAgEAoFAIBAIBAKBQCAQCASC0hemRjYsLh9g38Se8sbKT54sb8x7/XB546oVU8sbE931l792vLmxvHH75rXljSe2rSpvzH1pb3nji/H2n3WDQCAQCAQCgUAgEAgEAoFAIBAIBAKBQCAQCAQCgUAgEAgEAoFAIBAIBILSC1ML1o+WD/Ddfb3ljdmfnStvXPhzrLwxZ+fK8kZnR3mi8cjNd5c3eqbVX1TaP7ywvNFY1KxvFLhBIBAIBAKBQCAQCAQCgUAgEAgEAoFAIBAIBAKBQCAQCAQCgUAgEAgEAkHphamxt7rKB9j17JLyxtH+K8objYfuKk90nqofY96rI+WN7aM/ljeWPre6vHGwb7i80TxVP0eFGwQCgUAgEAgEAoFAIBAIBAKBQCAQCAQCgUAgEAgEAoFAIBAIBAKBQCAQdLRarVa7D08en1s+wNCJnvLGlqG+8saJhW3/M/zjxm/qG3/cWf/NOt9VP8fVPafLG2dGu8sb84dPlTd2/Ly+7WfdIBAIBAKBQCAQCAQCgUAgEAgEAoFAIBAIBAKBQCAQCAQCgUAgEAgEAoGg9MIUXO7cIBAIBAKBQCAQCAQCgUAgEAgEAoFAIBAIBAKBQCAQCAQCgUAg+BsCXrkkc45+6QAAAABJRU5ErkJggg==\", \"iVBORw0KGgoAAAANSUhEUgAAAMgAAADICAYAAACtWK6eAAAAOXRFWHRTb2Z0d2FyZQBNYXRwbG90bGliIHZlcnNpb24zLjguMywgaHR0cHM6Ly9tYXRwbG90bGliLm9yZy/H5lhTAAAACXBIWXMAAA9hAAAPYQGoP6dpAAAEvElEQVR4nO3dS4iVdRzG8bkUktWQdIMiGZtmdBERUjm1iCIyyqFNiS3CRSu70ZRkQRQtalM5ShZCEoVFlDCbpAbtQgkFaTNFNGA6YHbDGqSwZryMc067VvEszm/AiM9n/z68Z/E9/9Wft73ZbDbbgH/VcapfAP7LBAKBQCAQCAQCgUAgEAgEAoFAIBAIBAKBQCAQCAQCgUAgEJxWebh70/ryC2wZ2FLeOHTynPLGkx/eWd7YuPyN8sbtZ06XN74+fry8ceW8eeWNuTD8V1d5Y+Vloy0/6wSBQCAQCAQCgUAgEAgEAoFAIBAIBAKBQCAQCAQCgUAgEAgEAoFAIBAIBKULUwvG28sv8NzgFeWNiaFl5Y0lmyfLGw+fWF3fKC+0tfVsO1reuPu198obb13eXd5oNuqfr1l5svVnnSAQCAQCgUAgEAgEAoFAIBAIBAKBQCAQCAQCgUAgEAgEAoFAIBAIBAKBoHRh6tzx+sWcHT9/Vd5Ycc1F5Y13v9he3rjt4qXljXv3T5Q3nvqxfnHr/cP1i2zzP+4sb0zNnNovXTlBIBAIBAKBQCAQCAQCgUAgEAgEAoFAIBAIBAKBQCAQCAQCgUAgEAgEAkHpwlTHsZnyC/w2O1XeOPzKGeWN4akF5Y2Jof7yxua++le7poYa5Y09u/vKG73rxsobOw7uLm+0tW1o+UknCAQCgUAgEAgEAoFAIBAIBAKBQCAQCAQCgUAgEAgEAoFAIBAIBAKBQCAoXZhqjo6XX2Bytt7o5N7z6hvdXeWNxc/uK29s/2m0vHGk8Vl5Y0Hn/PJGT/ua+sbb9a92HRhs/VknCAQCgUAgEAgEAoFAIBAIBAKBQCAQCAQCgUAgEAgEAoFAIBAIBAKBQCAoXZhq6+gsv8DZHbPljZ13vFDeuL/nhvLGxNaF5Y2+bfeVN3of/bK8sf/5q8obc2H1TbvmYGVty086QSAQCAQCgUAgEAgEAoFAIBAIBAKBQCAQCAQCgUAgEAgEAoFAIBAIBAJBe7PZbLb68DPfDpRf4NWPbixvzIW+J74pb4xMfF7e6Hmn/lWm5hz87S3Z9Gt547sHLixvdE63lzcmHn+k5WedIBAIBAKBQCAQCAQCgUAgEAgEAoFAIBAIBAKBQCAQCAQCgUAgEAgEAoGg9IWpXfdcXX6BkeH15Y0HF11f3vhjVf237Jv5oLyxYWBreePlvsXljdnW79H9Y/DmsfLGxp23ljcqnCAQCAQCgUAgEAgEAoFAIBAIBAKBQCAQCAQCgUAgEAgEAoFAIBAIBAKBoPSFqbGDC8sv8NiiZeWNH56+rrxxoqtR3micNVve6FtTv2T0+vefljeWv7iuvHHsgvqlq8bp9Y0DD61t+VknCAQCgUAgEAgEAoFAIBAIBAKBQCAQCAQCgUAgEAgEAoFAIBAIBAKBQCAoXZhqHOotv8Dvs9PljbsuqV+Ymgt/ruovbxw9v/6fdeTS+uWva/v3ljfe7P6kvLFi6S3ljZFfXmr5WScIBAKBQCAQCAQCgUAgEAgEAoFAIBAIBAKBQCAQCAQCgUAgEAgEAoFAIChdmIL/OycIBAKBQCAQCAQCgUAgEAgEAoFAIBAIBAKBQCAQCAQCgUAgEAj+BtSttr3d2GtBAAAAAElFTkSuQmCC\", \"iVBORw0KGgoAAAANSUhEUgAAAMgAAADICAYAAACtWK6eAAAAOXRFWHRTb2Z0d2FyZQBNYXRwbG90bGliIHZlcnNpb24zLjguMywgaHR0cHM6Ly9tYXRwbG90bGliLm9yZy/H5lhTAAAACXBIWXMAAA9hAAAPYQGoP6dpAAAEzElEQVR4nO3dT2jXdRzH8d+WlmUpZOKYKIlFlJSSkTbKOpRmgR2CDhbFCOyPQmCxQwQWFZERCh36cyjwFGQHyyHDDrEo1qGyCFJb/qEaYpgEujn/7NdJusTr8H0PCnk87t/X7wPbk+/pw7ej3W63W8C/6vyvDwD/ZwKBQCAQCAQCgUAgEAgEAoFAIBAIBAKBQCAQCAQCgUAgEAimVB4+8nt3+QAzOy8ub/x5bry88fiq3vLGk5/0lzfWTB8tbyzYsa68cfCB98obe8brf5fuKWfLG11zRxo/6w0CgUAgEAgEAoFAIBAIBAKBQCAQCAQCgUAgEAgEAoFAIBAIBAKBQCAQCEoXpnpXrC0f4OzBw+WN/e/cWt644UTzSzXnLbnkaHljwcAz5Y3r3/yjvLGpZ1F5Y2jx1PLGZNg90fxZbxAIBAKBQCAQCAQCgUAgEAgEAoFAIBAIBAKBQCAQCAQCgUAgEAgEAoFAULowNRmXnQZG9pQ3VtU/dNXqn4Rz3LH+2fLGzi1byxt9LzxY3tg+vKS8cd1g/QLZqaeuLG9UeINAIBAIBAKBQCAQCAQCgUAgEAgEAoFAIBAIBAKBQCAQCAQCgUAgEAgEgtKFqSldc8oH6B+dVt44s/KW8sbHJw6UN67Yd7y8sfHq28obw1vnlzdaY+PliZMr6l+6GhjZXd5otV5p/KQ3CAQCgUAgEAgEAoFAIBAIBAKBQCAQCAQCgUAgEAgEAoFAIBAIBAKBQCAoXZja27egfIB7L91V3th459TyxrJpI+WN59fOKm988diX5Y2hU/vLG2umj5Y3fjpU37h/2UPljV2FD6F5g0AgEAgEAoFAIBAIBAKBQCAQCAQCgUAgEAgEAoFAIBAIBAKBQCAQCASCjna73W768MqlL5YP8OnObeWNzlZHeeO+uTeXN1468E15Y8OrG8obV22rn+PgpqXljTPz6l+pOnDP++WNzq6fmz9b/nW4gAkEAoFAIBAIBAKBQCAQCAQCgUAgEAgEAoFAIBAIBAKBQCAQCAQCgaD0hakPdrxbPsDUjsvLGzduebq8MW9280s15y2fdlF54/iixvfX/tnYXL/81T04Ud74rLf+/7F69aPljYHvmj/rDQKBQCAQCAQCgUAgEAgEAoFAIBAIBAKBQCAQCAQCgUAgEAgEAoFAIBAIShem3jrWUz7A8MnZ5Y3uN74qb5zrrF92Gp04Xd64q+fH8sZvy0+UNybDztdnlTcmftg7CSdpzhsEAoFAIBAIBAKBQCAQCAQCgUAgEAgEAoFAIBAIBAKBQCAQCAQCgUAgEHS02+3GnzT69vD88gH6HnmivPHr3ZeVN07PrH9RqdVRn7hm49fljXX7filvbH754fLGscX1r2UtfG6ovLF74qPGz3qDQCAQCAQCgUAgEAgEAoFAIBAIBAKBQCAQCAQCgUAgEAgEAoFAIBAIBILShamJI9eWD/D5WL3R1xbeVN6YDEfX17+4NWfor/JG59iZ8sbtH35f3th+aEl5Y8bbM8obg/19jZ/1BoFAIBAIBAKBQCAQCAQCgUAgEAgEAoFAIBAIBAKBQCAQCAQCgUAgEAgEpQtTcKHzBoFAIBAIBAKBQCAQCAQCgUAgEAgEAoFAIBAIBAKBQCAQCAQCwd/5vrZXRzuEogAAAABJRU5ErkJggg==\", \"iVBORw0KGgoAAAANSUhEUgAAAMgAAADICAYAAACtWK6eAAAAOXRFWHRTb2Z0d2FyZQBNYXRwbG90bGliIHZlcnNpb24zLjguMywgaHR0cHM6Ly9tYXRwbG90bGliLm9yZy/H5lhTAAAACXBIWXMAAA9hAAAPYQGoP6dpAAAEuElEQVR4nO3dQWjWdRzH8efZpgu1tIPMzMSaBkZEzYIID0rBFLXIS1DUoQmCJEF1jILoVsPKKKlDQmBRUllB2woMMjIIEptRhpZiwzAKzcTSPU8Xj/E5PN9BIa/X/f95fhu8+Z3+/JvtdrvdAP5V1399APg/EwgEAoFAIBAIBAKBQCAQCAQCgUAgEAgEAoFAIBAIBAKBQNBTefidQzeVD7BmxsnyxrWjG8sbCz7sLm+88dxweePZEyvKG9+d7CtvbLpqd3ljenOyvDHQ+1t5Y96VEx0/6waBQCAQCAQCgUAgEAgEAoFAIBAIBAKBQCAQCAQCgUAgEAgEAoFAIBAIBM3K90EGB54sH6C179vyxuEdN5Y3+h8YL2/sOvJFeeNM61x54951G8ob7WazvvH1gfJG18yZ5Y3RP7Z3/vvlX4eLmEAgEAgEAoFAIBAIBAKBQCAQCAQCgUAgEAgEAoFAIBAIBAKBQCAQCEpfmGqPHywfYHRiX3ljcH55ojEyBedYsWFTeeO1l7eUN1r7vy9vnHhvcXlj0Zy55Y2z61vljQo3CAQCgUAgEAgEAoFAIBAIBAKBQCAQCAQCgUAgEAgEAoFAIBAIBAKBQCAovTDVvK7+Us2x85+WN3rm9ZU3lm/eWN6Y/c3P5Y0NDz5c3njh8IvljbUjy8obfU90lzc+2r+jvFHhBoFAIBAIBAKBQCAQCAQCgUAgEAgEAoFAIBAIBAKBQCAQCAQCgUAgEAgEpRemGs1m+QBzu3vLG+3LZpU33twyXN4YWri8vDGyd1d54+C58kTjxztfqW+sPl3eGJxf/59+XPhIlRsEAoFAIBAIBAKBQCAQCAQCgUAgEAgEAoFAIBAIBAKBQCAQCAQCgUAgENS+MHX0ePkAe85eUt74YPfb5Y1V9zxU3jgzcqq8sXZB/SW0qdDdv6i88cNTs+sbE9vLGxVuEAgEAoFAIBAIBAKBQCAQCAQCgUAgEAgEAoFAIBAIBAKBQCAQCAQCgUBQemHq3fGx8gF6m9PKG6uvua280TPtUHnj8xs+K2/cvnKovHFkqPBJpQv6t06WN4Zveau8sequ+8sbY192/qwbBAKBQCAQCAQCgUAgEAgEAoFAIBAIBAKBQCAQCAQCgUAgEAgEAoFAIBCUXphaunNz/QRz/i5PdD09vbzR/9je8sZf7XPljZ/W1V8gW3xf/W+ZCs8fuaO88fuyWVNwks65QSAQCAQCgUAgEAgEAoFAIBAIBAKBQCAQCAQCgUAgEAgEAoFAIBAIBAJB6YWpqXjZqfuX3vLGM3e/Xt54devK8sbSnbeWN5Y8Uvgc0gWjE/vKG2sGBssb119+rLwxvu1oeaPxUuePukEgEAgEAoFAIBAIBAKBQCAQCAQCgUAgEAgEAoFAIBAIBAKBQCAQCAQCQbPdbrc7fbh1fEn5AO//OaO8sW3ZzeWNyVOnyhs9ixaWNxqTrfLE+rGvyhu/nr+0vHHg9BXljeOPXl3e+GTP4x0/6waBQCAQCAQCgUAgEAgEAoFAIBAIBAKBQCAQCAQCgUAgEAgEAoFAIBAIBKUXpuBi5waBQCAQCAQCgUAgEAgEAoFAIBAIBAKBQCAQCAQCgUAgEAgEAsE/SEWqnuAhRzgAAAAASUVORK5CYII=\", \"iVBORw0KGgoAAAANSUhEUgAAAMgAAADICAYAAACtWK6eAAAAOXRFWHRTb2Z0d2FyZQBNYXRwbG90bGliIHZlcnNpb24zLjguMywgaHR0cHM6Ly9tYXRwbG90bGliLm9yZy/H5lhTAAAACXBIWXMAAA9hAAAPYQGoP6dpAAAExklEQVR4nO3d3WuWdRzH8fveTHM4EyoQpKyWG4ugZyqiFIIKgxiMMmL0AEXSiYLagRRRB4GVUichBKIhMTUowSKjTooMH0oqomW1MQihMMoKrbRd/QPxObi/NxTyep1fn/02eO86+nG1m6ZpWsC/6vmvDwD/ZwKBQCAQCAQCgUAgEAgEAoFAIBAIBAKBQCAQCAQCgUAgEAhmVR7+9egF5QM8PL28vHHwwGB5Y/0db5Y3+ntPljfumXe8vDEwvrK88fHdG8sbfe3e8sbTP95Y3th45c6On/UGgUAgEAgEAoFAIBAIBAKBQCAQCAQCgUAgEAgEAoFAIBAIBAKBQCAQCATtyvdBbrv+mfIBfh6eV944dlX9EyeDW+sXlU5v+r28MfnZovLGTN9MeeOK4enyxuTugfLG/Om/yxv7dq3t+FlvEAgEAoFAIBAIBAKBQCAQCAQCgUAgEAgEAoFAIBAIBAKBQCAQCAQCgUBQ+sJU6/BX5QMcu+/a8saSdYfKG0eeq5+jd/+C8sbYnR+UN67pmypvbP5+WXnjstGJ8sZvY/3ljQpvEAgEAoFAIBAIBAKBQCAQCAQCgUAgEAgEAoFAIBAIBAKBQCAQCAQCgUBQujDVnj27fICZBafKGz3nzC9vDL3yU3mjffLP8sbBTQvLG9vX31ze6IahDZPljbcP7+7CSV7o+ElvEAgEAoFAIBAIBAKBQCAQCAQCgUAgEAgEAoFAIBAIBAKBQCAQCAQCgUDQbpqm6fThi1/cWD7A2K0flje2v1+/IDSy9EB54609N5Q3Jh55ubxxYuav8kZfT/0yXDcMjK8sb0ytXtPxs94gEAgEAoFAIBAIBAKBQCAQCAQCgUAgEAgEAoFAIBAIBAKBQCAQCAQCgaB0Yer2/gfLB3jii/qFqcWzTpQ3lr6+trxxZEX9stPQ+GPljbk/1P/vnVg4U954daT+97jp7Prv0rPwm86fLf90OIMJBAKBQCAQCAQCgUAgEAgEAoFAIBAIBAKBQCAQCAQCgUAgEAgEAoFgVuXhbRPvlg9wbs/c8sbgjvplp0vX7C9v9N5b/3/TtMsTrUOrXipvjCxZWt64v1W//DX41Jfljb3HO3/WGwQCgUAgEAgEAoFAIBAIBAKBQCAQCAQCgUAgEAgEAoFAIBAIBAKBQCAQlC5Mja2oX4jZtXNzeaPvaBe+QjRnTnnjoz/qX2VqdeHC1F2Lrqsf46zT5Y3zPylPtL598vL6SIE3CAQCgUAgEAgEAoFAIBAIBAKBQCAQCAQCgUAgEAgEAoFAIBAIBAKBQCBoN03TdPrw4i0bygcYfv6X8sbXj55X3uiKLlx2WvL4p+WNd6YPlDeWLxstbzy797Xyxugbq8obU6vXdPysNwgEAoFAIBAIBAKBQCAQCAQCgUAgEAgEAoFAIBAIBAKBQCAQCAQCgUAgKH1hqn2yt3yAre9tK2/csmVdeeNUf/3rUPO/68KXri65sLwxMH51eWPFjn3ljYc+f6C8cdGeU+WN1urOH/UGgUAgEAgEAoFAIBAIBAKBQCAQCAQCgUAgEAgEAoFAIBAIBAKBQCAQCASlL0zBmc4bBAKBQCAQCAQCgUAgEAgEAoFAIBAIBAKBQCAQCAQCgUAgEAgE/wDqeab6CYC/zAAAAABJRU5ErkJggg==\", \"iVBORw0KGgoAAAANSUhEUgAAAMgAAADICAYAAACtWK6eAAAAOXRFWHRTb2Z0d2FyZQBNYXRwbG90bGliIHZlcnNpb24zLjguMywgaHR0cHM6Ly9tYXRwbG90bGliLm9yZy/H5lhTAAAACXBIWXMAAA9hAAAPYQGoP6dpAAAEtUlEQVR4nO3dTYiVZRzG4fc0jvRtkn1Ooo1NwZDRBxYSTG7SGioCq7UuIkoJK4g2gctCxDZWBm0kGNOwxASdiKiFJShk9DE4k0JiRAsLNJnG5px2ruJenP+BIq5r/948qD+f1cNpdTqdTgP8o4v+7QPAf5lAIBAIBAKBQCAQCAQCgUAgEAgEAoFAIBAIBAKBQCAQCASCOZWPF72zqXyAsZVvlTfWHllT3piZLv1RNE3TNIdXbC1vzO+7tLzx+OSq8sZHQwfKG73w6+wf5Y3rB37u+ls3CAQCgUAgEAgEAoFAIBAIBAKBQCAQCAQCgUAgEAgEAoFAIBAIBAKBQCBoVX4fZNUdr5YP0P52orxxbNuy8sbwxpPljYmXF5c3eqFvulXeuHKqfo6r3/2yvNGaU3/INj4z1vW3bhAIBAKBQCAQCAQCgUAgEAgEAoFAIBAIBAKBQCAQCAQCgUAgEAgEAoFAUHqNMj1wefkAn41/Xd54ePDi8sa+41+VN4a3PlfeuHP0h/LG6fU3ljc27PqgvPH+0/eWN47sXFreqHCDQCAQCAQCgUAgEAgEAoFAIBAIBAKBQCAQCAQCgUAgEAgEAoFAIBAIBILSg6m540fKB/ht9lx5o71vQXljx5n55Y2Zq7r+sa4LTj9wprwxuemK8sa6vWvLG7e8eKi88c2pN8sbTfNC11+6QSAQCAQCgUAgEAgEAoFAIBAIBAKBQCAQCAQCgUAgEAgEAoFAIBAIBAJB6cFU0+nBA6F2u7wxdfSm8sa29kh5Y3B3/fHX/p8OlzeOnf+8vHFr/2XljcG5z5Q3luy4r7xxYkP337pBIBAIBAKBQCAQCAQCgUAgEAgEAoFAIBAIBAKBQCAQCAQCgUAgEAgEAkHpwVTfddeWD3BD39zyRtOqT1zy5O/ljT3f7S5vLNmxrryx8JPZ8sbJB/vKG60e/L0svedEfaTADQKBQCAQCAQCgUAgEAgEAoFAIBAIBAKBQCAQCAQCgUAgEAgEAoFAIBAISg+mXjr4afkAS3c9X95o6j901XSm/yxv9Lfqj4x68fhrzZY95Y2x4YXljanNy8obZzcOlDeawj9TNwgEAoFAIBAIBAKBQCAQCAQCgUAgEAgEAoFAIBAIBAKBQCAQCAQCgUAgKD2Y2vzo6vIBjo6/Ud54anhleeOvu24rb8x2DpY3tjyyvbzx9uhD5Y2mfbw8sXjv+fLGicd68AtkBW4QCAQCgUAgEAgEAoFAIBAIBAKBQCAQCAQCgUAgEAgEAoFAIBAIBAKBQFB6MPXKxzvLB3ji5pHyxuTrw+WNXhj68Nn6xvpD5Y2p9+aVNxYcWF7emPfjufJG0/T3YKN7bhAIBAKBQCAQCAQCgUAgEAgEAoFAIBAIBAKBQCAQCAQCgUAgEAgEAoFA0Op0Op1uP27/MlQ+wGynXd4YHbi7vNE3NFjeaLr/o7zg7O3XlDdOjdT/37t/+fflje2LvihvjK6o/4rZ/onXuv7WDQKBQCAQCAQCgUAgEAgEAoFAIBAIBAKBQCAQCAQCgUAgEAgEAoFAIBAISg+m4P/ODQKBQCAQCAQCgUAgEAgEAoFAIBAIBAKBQCAQCAQCgUAgEAgEgr8BUxeko1rthJUAAAAASUVORK5CYII=\", \"iVBORw0KGgoAAAANSUhEUgAAAMgAAADICAYAAACtWK6eAAAAOXRFWHRTb2Z0d2FyZQBNYXRwbG90bGliIHZlcnNpb24zLjguMywgaHR0cHM6Ly9tYXRwbG90bGliLm9yZy/H5lhTAAAACXBIWXMAAA9hAAAPYQGoP6dpAAAEuUlEQVR4nO3dT2jXdRzH8d9ca7WyJKKyFFauaWYIjYkM6pCEgUIZRLcg8iBelrUO0a3DKoqIJBMP5UGEeYk6NGSUERjGDi37Y/RPDHVGkUaia/9+XTzG6/B7L4p4PO7fFx9+8ORz+vBrazabzQbwtxb92weA/zKBQCAQCAQCgUAgEAgEAoFAIBAIBAKBQCAQCAQCgUAgEAgEl1U+nplcUT7AbGOuvNE//lh5Y+mLHeWNHftGyhsPdP1Z3ug59Hh5Y/zeN8obn09fXd6454rZ8kbH0h9a/tYNAoFAIBAIBAKBQCAQCAQCgUAgEAgEAoFAIBAIBAKBQCAQCAQCgUAgEAhKD6Y2da8vH6A5M13e+GP34vLGLUe/LG/cf+XF8sbuc8vLG43JzvLEhxdvKm/s6b2tvPFCeaHRGJtv/Vs3CAQCgUAgEAgEAoFAIBAIBAKBQCAQCAQCgUAgEAgEAoFAIBAIBAKBQCAoPZhqzs6UD3Dw9ER5Y+PN5YnG6AKco2f/9vLGKw/uq5/juc/KG0OLHy1v3HfkWHnj2GtryhsVbhAIBAKBQCAQCAQCgUAgEAgEAoFAIBAIBAKBQCAQCAQCgUAgEAgEAoFAUHow1Wir93V4qvD3P5ecfHagvHHg/PHyRu9bv5U33hzqKW/8uP+O8sbg2rHyxuidS8obn5zeXd5oNJ5u+Us3CAQCgUAgEAgEAoFAIBAIBAKBQCAQCAQCgUAgEAgEAoFAIBAIBAKBQCAoPZhqv/aa8gHWdTbLG5f/Xp5obO76pbyx9+dfyxs7TxwubyxZVN+4of2q8kbH18vLGxuX9ZU3xmZb/9YNAoFAIBAIBAKBQCAQCAQCgUAgEAgEAoFAIBAIBAKBQCAQCAQCgUAgEAhKD6Zm1nSXD9DR1l7eeGTbB+WNLcvWlTfeO3WwvPHQig3ljfmpqfLG96+uL2/c1Vf/166DJ+u/aYUbBAKBQCAQCAQCgUAgEAgEAoFAIBAIBAKBQCAQCAQCgUAgEAgEAoFAIBCUHkyNjby9UOco+fiJ+mOntv76OTrbJsobZ7beXd44t7rwl0qXrHrmi/LGyLcflTdW7xosb3zzfOvfukEgEAgEAoFAIBAIBAKBQCAQCAQCgUAgEAgEAoFAIBAIBAKBQCAQCAQCQenB1MBT28oHmNwwV95YefRoeeOnob7yxlxzvryxEI+dVg5OlDfmZ6bLG6ve317e6B3+tLzR8GAK/hkCgUAgEAgEAoFAIBAIBAKBQCAQCAQCgUAgEAgEAoFAIBAIBAKBQCAoPZh6eXhX+QDDG7aUNx6eOFHeeOnd+j879R5YgAdCO46UNzZ9dba8sWfvpvJGe9fF8kZjvv6grsINAoFAIBAIBAKBQCAQCAQCgUAgEAgEAoFAIBAIBAKBQCAQCAQCgUAgEAjams1ms9WP58/cXj7AsekL5Y0nuwfKG+09t5Y3zvbfWN647tDx8saFtcvLG1tff6e8MX6+/pt+t/n68sboqZ0tf+sGgUAgEAgEAoFAIBAIBAKBQCAQCAQCgUAgEAgEAoFAIBAIBAKBQCAQCASlB1Pwf+cGgUAgEAgEAoFAIBAIBAKBQCAQCAQCgUAgEAgEAoFAIBAIBALBX6+SqzaYBWuJAAAAAElFTkSuQmCC\", \"iVBORw0KGgoAAAANSUhEUgAAAMgAAADICAYAAACtWK6eAAAAOXRFWHRTb2Z0d2FyZQBNYXRwbG90bGliIHZlcnNpb24zLjguMywgaHR0cHM6Ly9tYXRwbG90bGliLm9yZy/H5lhTAAAACXBIWXMAAA9hAAAPYQGoP6dpAAAEy0lEQVR4nO3dT2jXdRzH8e/mWpHC0lXowQLnsD80qDCIwlBDCdpldUgyKYqwIBAtkcjyFhhGsSisCKKDhaCWRJTrEpXCJMKMpEEp1BodrGahmf5+nbrF6/B7C4U8HvfPax+UJ9/Th19Xu91uN8C/6v6vLwD/ZwKBQCAQCAQCgUAgEAgEAoFAIBAIBAKBQCAQCAQCgUAgEAh6KofHj11ZvsBQ74zyxqJ9D5c3munSP0XTNE1zeGS0vHFxd295Y+CdteWN4SUHyxsjs+sbSy4qTzTdcyc6P1v/83D+EggEAoFAIBAIBAKBQCAQCAQCgUAgEAgEAoFAIBAIBAKBQCAQCAQCQVfl90GWLX+2fIHeyenyxo6P3ypvrFp6b3njhbH6Pe7YtaG8sfimb8sb0w/1lzfOftP5Q6V/dPXUH7J9dHpHx2d9QSAQCAQCgUAgEAgEAoFAIBAIBAKBQCAQCAQCgUAgEAgEAoFAIBAIBAJB6TXK0Tvrv4bU7r60vLFq2eryxujYm+WNu7duLG/s3/RceeO++beUN05+2FfeGOybVd6YumdOeaPCFwQCgUAgEAgEAoFAIBAIBAKBQCAQCAQCgUAgEAgEAoFAIBAIBAKBQCAQlB5MzV50vHyB4xP1BzFn+usPc1bsfry8MfjqwfLG7Rc+Ud6Y8W79/2X660vKGz//Pre8ceTzV8obTbOt45O+IBAIBAKBQCAQCAQCgUAgEAgEAoFAIBAIBAKBQCAQCAQCgUAgEAgEAoGg9GCqtbe/fIGxJ+u/qLTidP2RUXvOn/WNv06XN8Y3vFje+K1Vv8fli2eWN249NFLeGHh7bXnj+3Wdn/UFgUAgEAgEAoFAIBAIBAKBQCAQCAQCgUAgEAgEAoFAIBAIBAKBQCAQCARd7Xa73enhlUObyxd4ZPd75Y1z4enR+8sbJxa0yhsL1x0obzRdXeWJ9s1D5Y3rRr8qb2yb90V5o3vuROdny38dzmMCgUAgEAgEAoFAIBAIBAKBQCAQCAQCgUAgEAgEAoFAIBAIBAKBQCAoPZhqTQ2ey7t0bOXImvJGz0+/lDfe37+3vHHt6KPljZPzzpY3rt76Q3njyPr55Y2BnSfLG2OfPdXxWV8QCAQCgUAgEAgEAoFAIBAIBAKBQCAQCAQCgUAgEAgEAoFAIBAIBAKBQNBTObx89YPlC3y3uv5rSFd9ebi8MbHl+vLGJ6fKE82py+q/UjW47mB540yr/uiq1TevvPHj0pnljQpfEAgEAoFAIBAIBAKBQCAQCAQCgUAgEAgEAoFAIBAIBAKBQCAQCAQCgUBQ+oWpa/ZsqV9gf195Y3B4orxxaHygvNGuv/1qFq4/UN54+din5Y3h1zeWN954YLS88cyCG8sb+1o7Oz7rCwKBQCAQCAQCgUAgEAgEAoFAIBAIBAKBQCAQCAQCgUAgEAgEAoFAIBAISg+mWlOD5Qvs+WNWeWPz9jXljSt2TZY3WpNT5Y2jm24ob/T+Wp5onn9se3njtanbyhsn7rqgvPHB5Esdn/UFgUAgEAgEAoFAIBAIBAKBQCAQCAQCgUAgEAgEAoFAIBAIBAKBQCAQCASlB1NwvvMFgUAgEAgEAoFAIBAIBAKBQCAQCAQCgUAgEAgEAoFAIBAIBALB30csufz8Vq51AAAAAElFTkSuQmCC\", \"iVBORw0KGgoAAAANSUhEUgAAAMgAAADICAYAAACtWK6eAAAAOXRFWHRTb2Z0d2FyZQBNYXRwbG90bGliIHZlcnNpb24zLjguMywgaHR0cHM6Ly9tYXRwbG90bGliLm9yZy/H5lhTAAAACXBIWXMAAA9hAAAPYQGoP6dpAAAEyElEQVR4nO3dT2jXdRzH8e/mluJhBSKVGpFz6paVQo3sr4GwDpFREKiXdejPoQzEIAw0hTp1CNTwENhBigpCVGglgUFolIV4qSUain+wDEqYZOK+3TrF6/B7B4Y8Hvfvax/Gnvucvny72rZtG+BfdV/tA8D/mUAgEAgEAoFAIBAIBAKBQCAQCAQCgUAgEAgEAoFAIBAIBIKeysOLdm8oH+DI8AfljU2/DpU37pp+srwxt/d8eWOwt7e8sWDfc+WNPcu2ljcm2tKfV9M0TTM8tf776L7paOfPln86XMMEAoFAIBAIBAKBQCAQCAQCgUAgEAgEAoFAIBAIBAKBQCAQCAQCgUBQeqNl9ur6S0YjE4vLGz9tHy5vLNx6obzx4q5d5Y25Pb+XNwa2Xy5vHLt/Rnlj28D88saUmTPLG2PnOn/WDQKBQCAQCAQCgUAgEAgEAoFAIBAIBAKBQCAQCAQCgUAgEAgEAoFAIBAIap8AatvyAT47c7i8MTKrPNG0S24vb6zZPVre+Pypt8obzddHyhMv719d3njw4Hh54/zo9eWNCjcIBAKBQCAQCAQCgUAgEAgEAoFAIBAIBAKBQCAQCAQCgUAgEAgEAoFAIOhq287fenp00WvlA/ywtq+8cd253vJG/87z5Y32xOnyxpnnF5c3Dq3bUt7Y+MuS8sbhVQvKG9vGdpQ3+m852/GzbhAIBAKBQCAQCAQCgUAgEAgEAoFAIBAIBAKBQCAQCAQCgUAgEAgEAoFAUPrC1JW+aeUD7F1ef7nnlTtHyhvjrw+VN+atPVreuDB4ubwx2UyWN968sf6VqmNjB8obL9z6QHljX+HX4QaBQCAQCAQCgUAgEAgEAoFAIBAIBAKBQCAQCAQCgUAgEAgEAoFAIBAIBKUXpv7on14+wLHLM8oblz65obwxb/1EeaN3/83ljfnLvi1vPN7cU944/ep95Y2JeX+VN34+8255o8INAoFAIBAIBAKBQCAQCAQCgUAgEAgEAoFAIBAIBAKBQCAQCAQCgUAgEAi62rZtO3340tm55QN0N13ljccWPlzeaP+8VN4YO/FNeWNk1uLyxobj35c3Nq8aLW+s2flReePtZ1aWN774cn3Hz7pBIBAIBAKBQCAQCAQCgUAgEAgEAoFAIBAIBAKBQCAQCAQCgUAgEAgEAkHpC1MrBh8pH2D5gVPljZMv3VHeuDKt4/fG/nFx8qvyxpTBgfLG5vp7bE3THCkvrNkzWt6YvvTq/g93g0AgEAgEAoFAIBAIBAKBQCAQCAQCgUAgEAgEAoFAIBAIBAKBQCAQCASC0hemfjs9u3yAh7asK2+88ex75Y1tA/PLG5uOf1fe2Nh/d3lj76lD5Y0n7l1R3nj/4MfljafnLC1v7Jvs/BxuEAgEAoFAIBAIBAKBQCAQCAQCgUAgEAgEAoFAIBAIBAKBQCAQCAQCgUBQ+sJUX/e08gH+i5ed3hlaVN7omTOzvDG6s/5yT/9tZ8sbn14cL2/sOPBheePJH1eWN3qnnitvVLhBIBAIBAKBQCAQCAQCgUAgEAgEAoFAIBAIBAKBQCAQCAQCgUAgEAgEAkHpC1NwrXODQCAQCAQCgUAgEAgEAoFAIBAIBAKBQCAQCAQCgUAgEAgEAoHgb1iurBiLqSKfAAAAAElFTkSuQmCC\", \"iVBORw0KGgoAAAANSUhEUgAAAMgAAADICAYAAACtWK6eAAAAOXRFWHRTb2Z0d2FyZQBNYXRwbG90bGliIHZlcnNpb24zLjguMywgaHR0cHM6Ly9tYXRwbG90bGliLm9yZy/H5lhTAAAACXBIWXMAAA9hAAAPYQGoP6dpAAAEyUlEQVR4nO3dTYhWZRzGYV9n1BBbSEI2+DHpODIEVgihpUhYSWjhMiGiWsgQhqHlQg2yVR9orQQbkjIyoSKQFpm0qKxM0gbDpEZJicYCCczMqGZO2xZxL96/UAzXtX/u92GGH2d1OK2maZpxwL8a/19fAP7PBAKBQCAQCAQCgUAgEAgEAoFAIBAIBAKBQCAQCAQCgUAgEHRWDs9/6oXyBU727yxvzDn4cHlj79KB8kZX5+XyxqzOKeWNkWa0vHElnPnrt/LG3An1v8f46UPtny3/OoxhAoFAIBAIBAKBQCAQCAQCgUAgEAgEAoFAIBAIBAKBQCAQCAQCgUAgaFW+D7Li6gfLFxi9dKm8cWB4sLyxYPsj5Y3Na98ob2w7vqq8cV/v0fLG/p3LyhvXfnS+vPHzwmvKG0f2bGz7rCcIBAKBQCAQCAQCgUAgEAgEAoFAIBAIBAKBQCAQCAQCgUAgEAgEAoFAICh9YerUkwvKF1h91+HyxuKN/eWNrdteL2/seHpNeWPRuhPljU9vnFjeuLiv/iLbTQ+dK2+MLj1b3hi3p/2jniAQCAQCgUAgEAgEAoFAIBAIBAKBQCAQCAQCgUAgEAgEAoFAIBAIBAKBoPTCVO+u4fIFnn/gy/JG37zF5Y3dN8wvb0ztGCxv/HT4uvLG0Cu95Y3WuQnljeFnZpU33ju7t7xR4QkCgUAgEAgEAoFAIBAIBAKBQCAQCAQCgUAgEAgEAoFAIBAIBAKBQCAQCFpN0zTtHu55bkf9Bt31Lxn1rD1T3rj89tTyxsQ7619D2nT6q/LGkqt+L29MatVfmPr2z/r/duW+x8sbp5/Y0PZZTxAIBAKBQCAQCAQCgUAgEAgEAoFAIBAIBAKBQCAQCAQCgUAgEAgEAoFAUHphatndz5Yv8OrAi+WN5YfWlTe6d7XKGxc2/VremLrqVHnjSuicPbO8cdv+b8obm6fVN8ZPH2r/bPnXYQwTCAQCgUAgEAgEAoFAIBAIBAKBQCAQCAQCgUAgEAgEAoFAIBAIBAJBZ+Xw+7t3lS8woTWlvNExNLm+8cmR8saRm78ob6ycsaq88fWWrvLG/EcHyxsvf3B7eePjrdPKGwcutn/WEwQCgUAgEAgEAoFAIBAIBAKBQCAQCAQCgUAgEAgEAoFAIBAIBAKBQCAQlF6YumfOreULbDhxrLwxd/f35Y1mzuzyxvE/DpU3TvXXv+zU2/9ZeaPtz479w+TuX+r36Lv+CtykfZ4gEAgEAoFAIBAIBAKBQCAQCAQCgUAgEAgEAoFAIBAIBAKBQCAQCAQCgaD0wtTyo+fLF9h+/5ryxmh3R3nju3snlTdWv7u+vDFvS/1lpwPDg+WNFTMWljeO3fJaeWNJ37ryRoUnCAQCgUAgEAgEAoFAIBAIBAKBQCAQCAQCgUAgEAgEAoFAIBAIBAKBQCBoNU3T9seERn+cV77ASxe6yhvvLOwubzQjI+WNH9bXXzKaOXCyvHHhjt7yxpLNn5c33vpwUXmj57HD5Y2Do2+2fdYTBAKBQCAQCAQCgUAgEAgEAoFAIBAIBAKBQCAQCAQCgUAgEAgEAoFAIBCUXpiCsc4TBAKBQCAQCAQCgUAgEAgEAoFAIBAIBAKBQCAQCAQCgUAgEAgEfwMc+rIuVGqgwwAAAABJRU5ErkJggg==\", \"iVBORw0KGgoAAAANSUhEUgAAAMgAAADICAYAAACtWK6eAAAAOXRFWHRTb2Z0d2FyZQBNYXRwbG90bGliIHZlcnNpb24zLjguMywgaHR0cHM6Ly9tYXRwbG90bGliLm9yZy/H5lhTAAAACXBIWXMAAA9hAAAPYQGoP6dpAAAEwklEQVR4nO3dy4uWZRzG8fdxMgelqCiV6YBapq4akkQHLApSsMCIcNGATZFBQUGLKFxGdrASAstqo0RRVBgSRSWlBopNElp0sDSxnCIqOitj6tM/ENfi/Q0U8vns32vuzXfu1cPdtG3bdoB/Ne6/PgD8nwkEAoFAIBAIBAKBQCAQCAQCgUAgEAgEAoFAIBAIBAKBQCA4pfLjhUsfLR9g2zPPljeW7F1S3nh55sbyxoRmfHljfNNT3hgLh08crW+0f5c3zu6ZVN4YN/Wr7n9b/utwEhMIBAKBQCAQCAQCgUAgEAgEAoFAIBAIBAKBQCAQCAQCgUAgEAgEAkFTeR/k6p5l9ROMwfMkF3xQ/6hmZHByeeO5Lc+XN9470lfeWPXkYHlj+vX7yxuj1x4ubxzrv6i88e62lV3/1g0CgUAgEAgEAoFAIBAIBAKBQCAQCAQCgUAgEAgEAoFAIBAIBAKBQCAQCEovTP2yfH75AMMPrStvLO7rL2+MbJxY3li+aKi88cPqprwx9Ykd5Y2vr5xT3rhs81/ljZGFn5Y3KtwgEAgEAoFAIBAIBAKBQCAQCAQCgUAgEAgEAoFAIBAIBAKBQCAQCAQCgaD0wdQ5739XPsD0N28tb8zur79kdP6N9ReVOr0TyhNT7zitvLH+2+3ljQWv1j+G++S1M8obwwfrH9RVuEEgEAgEAoFAIBAIBAKBQCAQCAQCgUAgEAgEAoFAIBAIBAKBQCAQCAQCQdO2bdvtj2esebx8gKFFW8sbOy6fUt74fM3M8sbFt+wqbzx4YLi80X9q6Tu4TqfT6fQ09f+dW4/UNx6edWl5452jL3b9WzcIBAKBQCAQCAQCgUAgEAgEAoFAIBAIBAKBQCAQCAQCgUAgEAgEAoFAICh9WTNj45HyAeZdV3/Zad6u+sbqFReWN75cP7e8sXJ6eaLTaZryxKH7FpQ3hgbfLm+89U39I7QKNwgEAoFAIBAIBAKBQCAQCAQCgUAgEAgEAoFAIBAIBAKBQCAQCAQCgUAgKH0wNe6Bn8oHGOj9o7wxd/tt5Y1pWz4qbxx4YXd5Y9HATeWNH+8dLW+c/tKJ8sZdZ35R3hi4+87yxs7uH5hyg0AiEAgEAoFAIBAIBAKBQCAQCAQCgUAgEAgEAoFAIBAIBAKBQCAQCASC0gdT7VUj5QNs2ntueWPGzfvKG/seqb+oNNp+WN44eM3E8sa0pXvKG2Nhzvz6x06zP/55DE7SPTcIBAKBQCAQCAQCgUAgEAgEAoFAIBAIBAKBQCAQCAQCgUAgEAgEAoFAIGjatm27/fG0tY+VDzDpUE95Y9WKDeWNtUPLyhv7b+gtb8y6f2954+k9r5c3br9isLzxxvZN5Y3Fff3ljc0nXun6t24QCAQCgUAgEAgEAoFAIBAIBAKBQCAQCAQCgUAgEAgEAoFAIBAIBAKBQFB6YeqpJRvKB/j1eP1FpXWX9Jc3msO7yxvnnTWvvHH8t9/LG7tHJ5c3PrtnSnnj+2N/ljc6TVPfKHCDQCAQCAQCgUAgEAgEAoFAIBAIBAKBQCAQCAQCgUAgEAgEAoFAIBAIBILSC1NwsnODQCAQCAQCgUAgEAgEAoFAIBAIBAKBQCAQCAQCgUAgEAgEAoHgH6b7qol9k038AAAAAElFTkSuQmCC\", \"iVBORw0KGgoAAAANSUhEUgAAAMgAAADICAYAAACtWK6eAAAAOXRFWHRTb2Z0d2FyZQBNYXRwbG90bGliIHZlcnNpb24zLjguMywgaHR0cHM6Ly9tYXRwbG90bGliLm9yZy/H5lhTAAAACXBIWXMAAA9hAAAPYQGoP6dpAAAEwklEQVR4nO3d32vVdRzH8Z1NXUkoNSMb6sWWaBCRESQI/S6pURdFlhlJ3SRUZE0huvAq6BcqFGQFQXRjLAu7CWtYdmF0oUUoBJ3pZmWCYYNIy3R++wfidXHeg0Iej/vPax8Gz/O9+vJtNU3TdAH/qvu/vgD8nwkEAoFAIBAIBAKBQCAQCAQCgUAgEAgEAoFAIBAIBAKBQCCYUTl84+4N5Qv09pwtb/xwcEF5Y/i2T8obW3YNlTcOPfhmeWNwZF15Y999W8obc7ovKG9MnD1V3li88FjHZz1BIBAIBAKBQCAQCAQCgUAgEAgEAoFAIBAIBAKBQCAQCAQCgUAgEAgEAkGr8n2QpZu2li+w6NX95Y32S8vKG63L/ipvTP0+q7zRfar+m7V4+8nyxsAb7fLGxOrLyxtHh+obB7Y+0/FZTxAIBAKBQCAQCAQCgUAgEAgEAoFAIBAIBAKBQCAQCAQCgUAgEAgEAoFAUHph6vaeVeULjG2+vrzRO1nv/HTfufLGhcfq93hy7cfljf6Zk+WN5767t7yxYuF4eePH5fUvTI1OjXR81hMEAoFAIBAIBAKBQCAQCAQCgUAgEAgEAoFAIBAIBAKBQCAQCAQCgUAgEMyoHG7Nqn9RqW/JifLGvLW/lTea+ZeWN1rHjpc3dm6uf1Gp/crd5Y3p8Gf/zPLGp0e/nYabdM4TBAKBQCAQCAQCgUAgEAgEAoFAIBAIBAKBQCAQCAQCgUAgEAgEAoFAIBCUXphqv7isfIGb+g6WN/Y8f1V5o3fRH+WNM2NLyhvtR7aVN16f/LW88dTFR8ob42fq/9PB9zfU77G+87OeIBAIBAKBQCAQCAQCgUAgEAgEAoFAIBAIBAKBQCAQCAQCgUAgEAgEAoGg1TRN0+nhlXMfK1/gg+9HyxsH/65/yWjNzifKG6tv2Vve2P75ivLGgi/OlTd+vrn+29lccqa8cfiOd8ob3fPbnZ8t/3U4jwkEAoFAIBAIBAKBQCAQCAQCgUAgEAgEAoFAIBAIBAKBQCAQCAQCgaD0hamTO+aVL7D5xLXljfd231DeuOLZr8sbL/xyoLyxvav+wtSXb71d3ljZf015Y2zL8vLGXVffWt7Ydbzzs54gEAgEAoFAIBAIBAKBQCAQCAQCgUAgEAgEAoFAIBAIBAKBQCAQCAQCgaD0wtTsoZ/KFxie+Ka88dXIdeWN6TA4sq4+0qpPTMfLTl2t+kXOza5/6WpqoL+8UeEJAoFAIBAIBAKBQCAQCAQCgUAgEAgEAoFAIBAIBAKBQCAQCAQCgUAgEAhKL0zN2TO3fIEHVtxf3hh7enZ5o2tV/WtIXU19YvHGfeWN147sLW88vGlDeWP8nm3ljcFT0/ASWoEnCAQCgUAgEAgEAoFAIBAIBAKBQCAQCAQCgUAgEAgEAoFAIBAIBAKBQCAovTB1aLKvfIGNn42WN95dM1TeaD90UXlj4KPT5Y2eefX/6Z0fDpc3rnx0orwxsOPx8sbSlw+XN7rWd37UEwQCgUAgEAgEAoFAIBAIBAKBQCAQCAQCgUAgEAgEAoFAIBAIBAKBQCAQtJqmmYbvIsH5yRMEAoFAIBAIBAKBQCAQCAQCgUAgEAgEAoFAIBAIBAKBQCAQCAT/AKDUqfhRlv8wAAAAAElFTkSuQmCC\", \"iVBORw0KGgoAAAANSUhEUgAAAMgAAADICAYAAACtWK6eAAAAOXRFWHRTb2Z0d2FyZQBNYXRwbG90bGliIHZlcnNpb24zLjguMywgaHR0cHM6Ly9tYXRwbG90bGliLm9yZy/H5lhTAAAACXBIWXMAAA9hAAAPYQGoP6dpAAAEoklEQVR4nO3du6vXBRzG8XPUVChqCK3Mgo4eL6GYRFktBV20NKLMbCsaxDLoBg2KOBQEQQRGFwnauqI2SJBIUEEhDWGDlZ20RUxwqFTQ0uOvfyCewUdI5PXafw/fc3nznT78hgeDwWAI+E8T/u8HgPOZQCAQCAQCgUAgEAgEAoFAIBAIBAKBQCAQCAQCgUAgEAgEgknNh7fvX1w/wKLJh+uNO3e8UG8ceGhLvbHt+KX1xspLjtYbfw9O1RtThi+qN84XE64cO/vPnsPngAuOQCAQCAQCgUAgEAgEAoFAIBAIBAKBQCAQCAQCgUAgEAgEAoFAIBAIqoOpt+eM9k8wmF1PbP9tc70x66Nn6o1XV3xQb5yLY6cHF9xTb+zbOLfemP387npj4hXT643Pfz/7z3qDQCAQCAQCgUAgEAgEAoFAIBAIBAKBQCAQCAQCgUAgEAgEAoFAIBAIBILqYOrX15bUD/DL6rfqjfsXLKs3Pvm+P7rauOiueuPYdz/XG+fi2GnTfVvrjR9uv7be2LFzVr3R8AaBQCAQCAQCgUAgEAgEAoFAIBAIBAKBQCAQCAQCgUAgEAgEAoFAIBAIBNXB1Jz1e+oHOL16vN44MzKj3th49+p6Y+SLQ/XGh/Ov7jcOvFFvHD59Wb3x4xP94dapJ/v/j4Y3CAQCgUAgEAgEAoFAIBAIBAKBQCAQCAQCgUAgEAgEAoFAIBAIBAKBQCCoDqaGp06pH+Cnf87UGxOOnaw3Xtr1cb2x/rqb642dh/bUGyNbn643Djy8pd547rH+6GrO2t31xtCas/+oNwgEAoFAIBAIBAKBQCAQCAQCgUAgEAgEAoFAIBAIBAKBQCAQCAQCgUAgqA6mlnx1pH6AGZNO1xv71k6rNzaM3lZvnNh5Tb0x793+OUY3fVtvLDz4VL2xec179cbyR/tjuIY3CAQCgUAgEAgEAoFAIBAIBAKBQCAQCAQCgUAgEAgEAoFAIBAIBAKBQCCoDqb2HruqfoDp0y6uN+a+sr/eGD/dH259vfDTemPpssX1xraD/bcyrVpxfb2x/Nn+2GnpzBvrjV3Fn9YbBAKBQCAQCAQCgUAgEAgEAoFAIBAIBAKBQCAQCAQCgUAgEAgEAoFAIBBUB1PHV/RHRqf2jtcb40f6b7oanlT9KoaGhoaGTg36n2XivNn1xsqZg3pjeEp/hDb65eP1xsiZPfVGwxsEAoFAIBAIBAKBQCAQCAQCgUAgEAgEAoFAIBAIBAKBQCAQCAQCgUAgEFRXQvs2za8f4IEbJtcb68a+qTfeHJ1Tb0wYGq43xvcdqDf++Gy03pj4/uX1xtgd79Qb9069pd5oeINAIBAIBAKBQCAQCAQCgUAgEAgEAoFAIBAIBAKBQCAQCAQCgUAgEAgEgupgav/q/iDmr1Un6o1HZt5ab5wLN728rt748/X+26Hmbjhab4y9eLLeGB+cqTeGJ/cHdQ1vEAgEAoFAIBAIBAKBQCAQCAQCgUAgEAgEAoFAIBAIBAKBQCAQCAQCgUAwPBgM+gsduEB5g0AgEAgEAoFAIBAIBAKBQCAQCAQCgUAgEAgEAoFAIBAIBAKB4F+To5/XyC7GHwAAAABJRU5ErkJggg==\", \"iVBORw0KGgoAAAANSUhEUgAAAMgAAADICAYAAACtWK6eAAAAOXRFWHRTb2Z0d2FyZQBNYXRwbG90bGliIHZlcnNpb24zLjguMywgaHR0cHM6Ly9tYXRwbG90bGliLm9yZy/H5lhTAAAACXBIWXMAAA9hAAAPYQGoP6dpAAAExElEQVR4nO3dzYuVdRzG4XPGdGoiiSi00ijHGcokLYI0iBYtHMKGgagkEMZNhEGY0KaIwEVgkPamyEAhUlkUBoYtrF2QtCiMKBtfCh3zpUBIMLOc8/QPxL043wOFXNf+d59nGD48qx9Pu2mapgX8q77/+gHg/0wgEAgEAoFAIBAIBAKBQCAQCAQCgUAgEAgEAoFAIBAIBALBZZXDZ0/MLz/A1MVOeWPlx+vLG0ce21be2H1uoLwxeuUf5Y1emG7q/5eLrenyRn97Znmjb+6h7s+Wfx0uYQKBQCAQCAQCgUAgEAgEAoFAIBAIBAKBQCAQCAQCgUAgEAgEAoFAIChdmHp43rJePUfJvqlXyhsTvw+VNx6/6qfyxuAH68obC9d/Vd546uBkeWPL0HB54+Dbd5c3jo53f9YbBAKBQCAQCAQCgUAgEAgEAoFAIBAIBAKBQCAQCAQCgUAgEAgEAoFAIBCULkz1DdS/qPTmgb3ljdU33Vfe6MUFoaU9uOz08kPvlTfemlhR3rh91hfljcVf31remLHqTHmjNd79UW8QCAQCgUAgEAgEAoFAIBAIBAKBQCAQCAQCgUAgEAgEAoFAIBAIBAKBQNBumqbp9vDInLXlBziw4ZbyxqINx8obzZ8X6hs3zilvdL6vX9w6vOme8kYvtDv1jU2jO8obY4Pfdn3WGwQCgUAgEAgEAoFAIBAIBAKBQCAQCAQCgUAgEAgEAoFAIBAIBAKBQCAQlL4wNfncYPkBPhp5vbzx6Pmnyxs7xraWNzYsuKu88ekv35Q3Rn6cV9747LZPyhujh0bKGy++Ol7eGHuj+7PeIBAIBAKBQCAQCAQCgUAgEAgEAoFAIBAIBAKBQCAQCAQCgUAgEAgEAoGg9IWpY8evLz/ArHa7vHFqekZ545F3nylvbF01Ud5Y+/4T5Y2bn99X3ji8aVl544UHd5U3xmf/Wt7om3uo+7PlX4dLmEAgEAgEAoFAIBAIBAKBQCAQCAQCgUAgEAgEAoFAIBAIBAKBQCAQCEpfmNp5dkn5AZ695kh5Y/mHT5Y3FvbgktEDa6brz7Ftqryx58T+8sairfeWN3phyca15Y3vNnd/1hsEAoFAIBAIBAKBQCAQCAQCgUAgEAgEAoFAIBAIBAKBQCAQCAQCgUAgEJQuTH1+x9XlB1g3Vb9kdMXpHnTegy9d7b9wof4cnU55YsUNS8sb89v1C2QzV9f/t3Nf+7K80drc/dfDvEEgEAgEAoFAIBAIBAKBQCAQCAQCgUAgEAgEAoFAIBAIBAKBQCAQCAQCQenC1Mldw+UHWDm/PNF6aXJ7eWPLxvrfsrS/v7xx8eTp8saayaPlje2Lh8obO44vL2+0Wsd7sNE9bxAIBAKBQCAQCAQCgUAgEAgEAoFAIBAIBAKBQCAQCAQCgUAgEAgEAoFA0G6apun2cOdU/VLN7nMD5Y2/m9K9r1ar1WpNDC8ob3Tuv7O8cf7aWeWN2T+cKW8Mv/NzeWPw8t/KG3uWXFfe2PvXzq7PeoNAIBAIBAKBQCAQCAQCgUAgEAgEAoFAIBAIBAKBQCAQCAQCgUAgEAgEgtKFKbjUeYNAIBAIBAKBQCAQCAQCgUAgEAgEAoFAIBAIBAKBQCAQCAQCgeAfbTWtb1P7KPcAAAAASUVORK5CYII=\", \"iVBORw0KGgoAAAANSUhEUgAAAMgAAADICAYAAACtWK6eAAAAOXRFWHRTb2Z0d2FyZQBNYXRwbG90bGliIHZlcnNpb24zLjguMywgaHR0cHM6Ly9tYXRwbG90bGliLm9yZy/H5lhTAAAACXBIWXMAAA9hAAAPYQGoP6dpAAAEwElEQVR4nO3dT4hVdRzG4XvHYUYsNHORLiZCZ0AxIidMrYUhRJBahKBERFEggRXZSEUFCkVR1kQFQS1alCTN9AdTJIjAKDXDwjIJVGwiKYkCgxTFxtOyTbyL+xWUeJ79efndxeee1Y/TbpqmaQH/qet8HwAuZAKBQCAQCAQCgUAgEAgEAoFAIBAIBAKBQCAQCAQCgUAgEAi6Kw/P+XBD+QD7Fr5V3pg9sqa88dmKF8obl3b1lDcmnYON/5MzzXh5o3fGkY6f9QaBQCAQCAQCgUAgEAgEAoFAIBAIBAKBQCAQCAQCgUAgEAgEAoFAIBAIBKULU1M3X1w+wLIV15Q3ekZPlDdWDQ2VNx54eqS88cT2VeWN2S/+XN74Y3FfeWPapz+WN+Z9/Et545kZnT/rDQKBQCAQCAQCgUAgEAgEAoFAIBAIBAKBQCAQCAQCgUAgEAgEAoFAIBAI2k3TNJ0+fNPg+vIBDt41ubzR6vgX/OublS+VN26/ell5Y+PebeWNoYHF5Y2tY7vLG48dm1/e2Dl8bXnjq7c7vwznDQKBQCAQCAQCgUAgEAgEAoFAIBAIBAKBQCAQCAQCgUAgEAgEAoFAIBAIShemBp4dLh9g/IpT5Y3Wsd7yxKx1e8ob7Z6e8kZz+nR54/DwwvLGuTDx9/r/7/P3vFneWD5zf8fPeoNAIBAIBAKBQCAQCAQCgUAgEAgEAoFAIBAIBAKBQCAQCAQCgUAgEAgEgu7Kw+P1+0GtLde/Vt645YO15Y05eyeUN7btmFfeGFxwqLzRfFv/5NaR214vb8wcva+88eBHd5c3lj/U+bPeIBAIBAKBQCAQCAQCgUAgEAgEAoFAIBAIBAKBQCAQCAQCgUAgEAgEAoGg9IWpHWMD5QMcH59U3pjf+1t5494ld5Y3fnqu/lvO7p9S3rh8w67yxq8PX1feeOP+V8sbCyfWL7J1Te/8Epo3CAQCgUAgEAgEAoFAIBAIBAKBQCAQCAQCgUAgEAgEAoFAIBAIBAKBQCAofWFqz8lZ5QOsvuT78sbgyLryRv/hL8sbBxbtK28sXXdreeOHVxaUN/rfPVneuKNvTXmj+0S7vHHo8c6f9QaBQCAQCAQCgUAgEAgEAoFAIBAIBAKBQCAQCAQCgUAgEAgEAoFAIBAIBKUvTN04YWX5ANuPfl3eWLChfjHnz/7yROvvyePljemf1/+zJr9Tv/zVnje3vLF00xfljW1zp5Y3Pjk72vGz3iAQCAQCgUAgEAgEAoFAIBAIBAKBQCAQCAQCgUAgEAgEAoFAIBAIBAKBoPSFqSXf/VU+wM1988sbqw9sKW9s3Fr/slPXqfr/zZSRveWN947WL0wNblpU3ujtOlPeaLXrX5iq8AaBQCAQCAQCgUAgEAgEAoFAIBAIBAKBQCAQCAQCgUAgEAgEAoFAIBAIBKULU49OO1Q+wJUHJ5Y3jo9fVN6Y+cju8sbYU/VLRn07e8sbN6xfW97Y/OTL5Y2reiaUN95vXVbeqPAGgUAgEAgEAoFAIBAIBAKBQCAQCAQCgUAgEAgEAoFAIBAIBAKBQCAQCATtpmma830IuFB5g0AgEAgEAoFAIBAIBAKBQCAQCAQCgUAgEAgEAoFAIBAIBAKB4B/b3abzxnw5TgAAAABJRU5ErkJggg==\", \"iVBORw0KGgoAAAANSUhEUgAAAMgAAADICAYAAACtWK6eAAAAOXRFWHRTb2Z0d2FyZQBNYXRwbG90bGliIHZlcnNpb24zLjguMywgaHR0cHM6Ly9tYXRwbG90bGliLm9yZy/H5lhTAAAACXBIWXMAAA9hAAAPYQGoP6dpAAAEvElEQVR4nO3dT2jXdRzH8W2msE0kQWIlQzJLJaKJBRZkEELamvSXFDz2Fw8hYhAd6lqoCSLkpT8IOXDdcrEs6GQpYcEq/8zEFI3oj7OlRjG/3TrF6/B7LxR5PO7f1+8D47nv6cO3vWmapg34Tx1X+gBwNRMIBAKBQCAQCAQCgUAgEAgEAoFAIBAIBAKBQCAQCAQCgUBwXeXhb0/NLR9g8Yyu8sb8D54rb2xf9V55o7/rz/LGVLh57zPljQMrt5U3bpjWXd6YCh09Y60/O4XngGuOQCAQCAQCgUAgEAgEAoFAIBAIBAKBQCAQCAQCgUAgEAgEAoFAIBAIShemNvatKh9gcvx8eaPZebm8sWNgoLxx/75d5Y1PLs0pb8ycc6G8sWdiUXlj+OGl5Y2jL9xY3jixsfVnvUEgEAgEAoFAIBAIBAKBQCAQCAQCgUAgEAgEAoFAIBAIBAKBQCAQCAQCQenC1OULl8oHGDn7dXnjlsFl5Y3hT/eUNx5avra8cfS168sbC9Z9Vd549szJ8sbJofrlr1/erF+YqvAGgUAgEAgEAoFAIBAIBAKBQCAQCAQCgUAgEAgEAoFAIBAIBAKBQCAQCATtTdM0rT68fOCN8gF+eKzln//XrNEZ5Y2ebfvLG9Nmzy5vTJ47V974a9+88sapb+oXlTp/qv//ff3pt8sbA/NHW37WGwQCgUAgEAgEAoFAIBAIBAKBQCAQCAQCgUAgEAgEAoFAIBAIBAKBQCAQlL4w1bX/ePkAozs/Km+s3r2+vLH2yNnyxu5F5Ym2sXeX1ke+m16eOPHUW+WNwYn6BbIdK1eVNwaOtf6sNwgEAoFAIBAIBAKBQCAQCAQCgUAgEAgEAoFAIBAIBAKBQCAQCAQCgUAgKH1havuRB8oH6J3+a3ljRed4eeOJOx4sbwyNjtTP0Ve/IDT523h5o72jvbzx/OEj5Y1Huv8ob3T0jLX+bPnX4RomEAgEAoFAIBAIBAKBQCAQCAQCgUAgEAgEAoFAIBAIBAKBQCAQCASC0hemto70lw/w/RR8yaj/nsfLG5PnTpc3ujpmlDcuT9QvCB3fcnd549ZNX5Y3Brp+L28sfKf+9bCxl1t/1hsEAoFAIBAIBAKBQCAQCAQCgUAgEAgEAoFAIBAIBAKBQCAQCAQCgUAgEJQuTC3Y8EX5AIcfvVjeOH/XTeWNH1+cW9549ee/yxsds2aVN6bi7zJ535L6OT6+s7xx2yuflzfaXJiC/4dAIBAIBAKBQCAQCAQCgUAgEAgEAoFAIBAIBAKBQCAQCAQCgUAgEAhKF6bWjx0rH2DjkvpXql46uKu8sXnTuvLG0Ly+8kbv+Fh5Y/jMofLGwsFl5Y1DK7aWN9a03VveqPAGgUAgEAgEAoFAIBAIBAKBQCAQCAQCgUAgEAgEAoFAIBAIBAKBQCAQCASlC1Oru+tfh2o7eKA8sWVD/bJT54cHyxu9p28vb6wZPVne2HtxZnnjsyc3lzfen1hc3rjSvEEgEAgEAoFAIBAIBAKBQCAQCAQCgUAgEAgEAoFAIBAIBAKBQCAQCAQCQXvTNM2VPgRcrbxBIBAIBAKBQCAQCAQCgUAgEAgEAoFAIBAIBAKBQCAQCAQCgUDwD0trqir1qnmhAAAAAElFTkSuQmCC\", \"iVBORw0KGgoAAAANSUhEUgAAAMgAAADICAYAAACtWK6eAAAAOXRFWHRTb2Z0d2FyZQBNYXRwbG90bGliIHZlcnNpb24zLjguMywgaHR0cHM6Ly9tYXRwbG90bGliLm9yZy/H5lhTAAAACXBIWXMAAA9hAAAPYQGoP6dpAAAErklEQVR4nO3d32vVdRzH8XNmy2hGYRLlLNRNEyJyRNjQiChXXTUvBOumkgj1ZjXrJsirIAgddGEYDAKh2FaBEFMQiy6KuYtCMMi2dNEPvRldjUXMdfoH4nWx92JePB733xcfODzP9+rDt9lqtVoN4D+1rfQB4EYmEAgEAoFAIBAIBAKBQCAQCAQCgUAgEAgEAoFAIBAIBAKB4KbKw29f7C8f4Mi6i+WNrWOHyhvPP/FteePj73eUN2aeGS5vdI0dKG+c3XO0fo72NeWNywtz5Y0t915b8rPeIBAIBAKBQCAQCAQCgUAgEAgEAoFAIBAIBAKBQCAQCAQCgUAgEAgEAoGgWfk+yCMvDpUPMNuzDJ8nadYnbv2j/l9x/NAH5Y2XT9UvO53sr59jcr67vHHuyfrG1JubyxtXBg8v+VlvEAgEAoFAIBAIBAKBQCAQCAQCgUAgEAgEAoFAIBAIBAKBQCAQCAQCgUBQ+sLU2lM/lA8w2/NAeWM5LkzNd/5T3tj/+cHyxqbxv8sbJ3ftLG98uGGivHHtzO3ljUbfYn1jcOmPeoNAIBAIBAKBQCAQCAQCgUAgEAgEAoFAIBAIBAKBQCAQCAQCgUAgEAgEgtKFqba1d5QPsGr9fHljw3B7eWPP++fKG2d21b+GNPXWtvLGzDcPlTe6GvWNV3d/Wd747MJkeaPCGwQCgUAgEAgEAoFAIBAIBAKBQCAQCAQCgUAgEAgEAoFAIBAIBAKBQCAQlC5MXRroLB/gbO/R8kbf1TfKG493/FTeGJ+/u7yx8XT9C1Pr3vmlvDGy6avyxu/X58obD47Vf9uZ15b+rDcIBAKBQCAQCAQCgUAgEAgEAoFAIBAIBAKBQCAQCAQCgUAgEAgEAoFAIChdmFp9X/1CzPTCneWNib3Hyhu9nx4ub1y6cry8sW20p7yx+oWO8kbXwIHyxpbtv5U3Lu87Ud5oNJb+23qDQCAQCAQCgUAgEAgEAoFAIBAIBAKBQCAQCAQCgUAgEAgEAoFAIBAIBILShanFH28rH2B371/lja2j9ctO3YPnyxvt+1aVN5bD+MQX5Y2n128vb0wPPVre2HmifnFrYmTpz3qDQCAQCAQCgUAgEAgEAoFAIBAIBAKBQCAQCAQCgUAgEAgEAoFAIBAIBILShamNR+qXjK7vXyxvNFvliUaj2SxPdI3WL/csh+W47NTWUf9KVau9/sOsGZssbzRcmIL/h0AgEAgEAoFAIBAIBAKBQCAQCAQCgUAgEAgEAoFAIBAIBAKBQCAQCEoXpqaGHy4f4LnNN5c3Wu+WJxo/H9tRH1kG9w//Wd44ffVCeaNv70vljfP9Q+WN3oX618MqvEEgEAgEAoFAIBAIBAKBQCAQCAQCgUAgEAgEAoFAIBAIBAKBQCAQCAQCQenC1Myzw+UD/Do9V944+Nhd5Y1LA53lje7X61/cavv6nvJG10j9S1fvffRJeeOp714pb9wyu7L/4d4gEAgEAoFAIBAIBAKBQCAQCAQCgUAgEAgEAoFAIBAIBAKBQCAQCAQCgaDZarVaK30IuFF5g0AgEAgEAoFAIBAIBAKBQCAQCAQCgUAgEAgEAoFAIBAIBAKB4F9YhJqS6+AMgQAAAABJRU5ErkJggg==\", \"iVBORw0KGgoAAAANSUhEUgAAAMgAAADICAYAAACtWK6eAAAAOXRFWHRTb2Z0d2FyZQBNYXRwbG90bGliIHZlcnNpb24zLjguMywgaHR0cHM6Ly9tYXRwbG90bGliLm9yZy/H5lhTAAAACXBIWXMAAA9hAAAPYQGoP6dpAAAEr0lEQVR4nO3dy4uWZRzG8eeVNLRahFFWi2BGyYbCFiJRDZlimppEIFkMbjogCoE2mbtatKomiVoVQUcIgxKp5rATMiU7SIImKVOCIYlRjMkkzjz9A3Et5jdgyOezfy/uzfe9VzdPp23btgH+04xLfQD4PxMIBAKBQCAQCAQCgUAgEAgEAoFAIBAIBAKBQCAQCAQCgUBwReXHk6cXTNc5Sro+2VTeuOaWv8ob+xe/V96YM2NWeaPvl6XljX3HussboyvfKW9Mhxnzfp76b6fxHHDZEQgEAoFAIBAIBAKBQCAQCAQCgUAgEAgEAoFAIBAIBAKBQCAQCAQCQenB1OpFK8oHGN1Sf3T1zPovyxtvDq0qbwz2XFfe6N/7aHmjmeiUJ15f/mF5Y/Udy8obp/oWljcO75z6b90gEAgEAoFAIBAIBAKBQCAQCAQCgUAgEAgEAoFAIBAIBAKBQCAQCAQCgaD0YKoza2b5AOM3XCxvvDFcf+z01fpXyxtPLu0rb/R/PlTe2Dm4pryxZs658sbekT/LG83Gs/WNAjcIBAKBQCAQCAQCgUAgEAgEAoFAIBAIBAKBQCAQCAQCgUAgEAgEAoFAICg9mJo8+0f5AE/dc6K8MXL6tvLG1+M3lTeObZ5X3rjYM7e80b5Wnmi+OH91eeNoX3d545XBd8sbTfPSlH/pBoFAIBAIBAKBQCAQCAQCgUAgEAgEAoFAIBAIBAKBQCAQCAQCgUAgEAgEpQdTbduWD/Dc3CPljV1vLy9vrN1R/5LRW/0Hyhtn9txa3miO1yfWXXW+vLH16frjr2fn95Y3Ri5M/bduEAgEAoFAIBAIBAKBQCAQCAQCgUAgEAgEAoFAIBAIBAKBQCAQCAQCgUBQejC148jB8gHOTf5T3hjrmixvPLxwWXnj9u/+Lm/s3ntteWP+tvrDre5mU3mj6dQnhk5+Wx8pcINAIBAIBAKBQCAQCAQCgUAgEAgEAoFAIBAIBAKBQCAQCAQCgUAgEAgEgtKDqVMX6497emaNlTea+oeumsmx+jkGbjxU3tjdLClvDP9WP8eDqxaWNwaHPp6Gc2wobwwfmvpv3SAQCAQCgUAgEAgEAoFAIBAIBAKBQCAQCAQCgUAgEAgEAoFAIBAIBAKBoPRg6qO7F5UP0PvDr+WNBdvrXyG68MDi8sZE+315o+vT8fLGym13ljeazrHyxOOj95c32iPHyxsVbhAIBAKBQCAQCAQCgUAgEAgEAoFAIBAIBAKBQCAQCAQCgUAgEAgEAoFAUHow9dmPw+UDrLv53vLGYz+dLG/s6q1/LeuFM/UHZJ2J+ueytp84XN4YWHJfeWPD9QfKG1tf3ljeqHCDQCAQCAQCgUAgEAgEAoFAIBAIBAKBQCAQCAQCgUAgEAgEAoFAIBAIBILSg6krOzPLB9hz6mB5Y8XmLeWN2We+KW/s23FXeeP5D94vbwysfaS88cT++mO4F48+VN6Y/ful/Q93g0AgEAgEAoFAIBAIBAKBQCAQCAQCgUAgEAgEAoFAIBAIBAKBQCAQCASCTtu29U8awWXKDQKBQCAQCAQCgUAgEAgEAoFAIBAIBAKBQCAQCAQCgUAgEAgEgn8BR5CiqptqtpYAAAAASUVORK5CYII=\", \"iVBORw0KGgoAAAANSUhEUgAAAMgAAADICAYAAACtWK6eAAAAOXRFWHRTb2Z0d2FyZQBNYXRwbG90bGliIHZlcnNpb24zLjguMywgaHR0cHM6Ly9tYXRwbG90bGliLm9yZy/H5lhTAAAACXBIWXMAAA9hAAAPYQGoP6dpAAAEwklEQVR4nO3dzYuVdRzG4TMvIklvgpjglKkzA0EubNKCwk2IUHbIWjRhRRA5bTJByES35SYlCSQsalWUTGQpTlBhhKRZopOWVjMFhhpiGGQmDM3pH4h7cb5CIde1f+7z48CHZ/Xj6Wi1Wq0G8K86/+sDwP+ZQCAQCAQCgUAgEAgEAoFAIBAIBAKBQCAQCAQCgUAgEAgEgu7Kw/d+vrp8gN39I+WNecND5Y1pp7rKG8ee3Vbe2HHhuvLGh+cWljdWzfqsvHHH1InyxtSOKeWNzlk/tv9s+dfhCiYQCAQCgUAgEAgEAoFAIBAIBAKBQCAQCAQCgUAgEAgEAoFAIBAIBIKOyvdBlnYPlg/QPaenvPHgni/LG8O3zy9vDB0ZLW/sv9Bb3tg1fmt546ZN9c/GtA6fKG909c0tb3x0fFPbz3qDQCAQCAQCgUAgEAgEAoFAIBAIBAKBQCAQCAQCgUAgEAgEAoFAIBAIBILSF6bGXlpUPsCCgZ/LGy+OPFDe6J/7e3lj87r6RaX3t24pbxwdrF+62rN3uLyx9sxt9XPsmlneqPAGgUAgEAgEAoFAIBAIBAKBQCAQCAQCgUAgEAgEAoFAIBAIBAKBQCAQCASlC1NdlzrKBxj9dk55Y97uifLG2GPTyxszRutfZVp5413ljRXf7S9vzH/36fJGo/53NBrXT16GkfZ5g0AgEAgEAoFAIBAIBAKBQCAQCAQCgUAgEAgEAoFAIBAIBAKBQCAQCASC0oWpuRsPlg/QPHa2vPHa8fvLG8ce3VreaK6rf3Fr/fg35Y0nd60qb4w//Gp543Jcuupdc6C80Vjd/qPeIBAIBAKBQCAQCAQCgUAgEAgEAoFAIBAIBAKBQCAQCAQCgUAgEAgEAoGgdGFqw9ih8gEuTU4pb/wxr/4VombP4vLGyhO/lDeeem+ovNH7XP0LU0v21i9dLdt4pLyx7XR9o8IbBAKBQCAQCAQCgUAgEAgEAoFAIBAIBAKBQCAQCAQCgUAgEAgEAoFAIBCULkydnphePsDgNefLGzMOd5Q3Gq1WeeLxa8+VN955s77xwan6RbZm37TyxsjyBeWN/o8XljfGnm//WW8QCAQCgUAgEAgEAoFAIBAIBAKBQCAQCAQCgUAgEAgEAoFAIBAIBAKBQFC6MPXGE83yAVYMv17emLHvTHnj+813ljc+/etoeWNi5tXljeWzB8objcbF8sKiW34qb4ye7S9vVHiDQCAQCAQCgUAgEAgEAoFAIBAIBAKBQCAQCAQCgUAgEAgEAoFAIBAIBILShal7tn9RPkCzZ3F5Y8P4zvLGC731S0bPzHmkvNFYclV54uu3DpY3BravKW98dfOW8sZDd/9W3misb/9RbxAIBAKBQCAQCAQCgUAgEAgEAoFAIBAIBAKBQCAQCAQCgUAgEAgEAoFA0NFqtVrtPjz5a1/5ADv/rH9Raft9y8obf/8wXt5odHaVJ3ac3Ffe+OTiDeWN2d3nyxsvn1la3jj5Sv0LUwfeXtv2s94gEAgEAoFAIBAIBAKBQCAQCAQCgUAgEAgEAoFAIBAIBAKBQCAQCAQCgaB0YQqudN4gEAgEAoFAIBAIBAKBQCAQCAQCgUAgEAgEAoFAIBAIBAKBQCD4Bwv5q5ygY+/VAAAAAElFTkSuQmCC\", \"iVBORw0KGgoAAAANSUhEUgAAAMgAAADICAYAAACtWK6eAAAAOXRFWHRTb2Z0d2FyZQBNYXRwbG90bGliIHZlcnNpb24zLjguMywgaHR0cHM6Ly9tYXRwbG90bGliLm9yZy/H5lhTAAAACXBIWXMAAA9hAAAPYQGoP6dpAAAExElEQVR4nO3dX2hWdRzH8eeZFpQVYnURSKyVDrqRElFQAyNpC1aJUkIWFVQjSEFHKoJEQRFjSUihRF1mQqsUslYQgwWCigWBYWsyoiioDPqDitXpJrqKz8XzHRjxet2fD+fmfc7Vj1+7aZqmBfyrrgv9AvBfJhAIBAKBQCAQCAQCgUAgEAgEAoFAIBAIBAKBQCAQCAQCgWB25eGlY9vKL3B40Wh5o+fDh8sbTy09WN8YW1feeP/ukfLGg1u3lDfeGa6/x6XtWeWNJYcfKW+cXLuz42f9QSAQCAQCgUAgEAgEAoFAIBAIBAKBQCAQCAQCgUAgEAgEAoFAIBAIBAJB6cDU3HXflV9gRf9j5Y3WynZ5Yv/qZeWNi0d+K2/0v1U/7NT0nS9vTJy5pryxY9+G8sYfl1zY62v8QSAQCAQCgUAgEAgEAoFAIBAIBAKBQCAQCAQCgUAgEAgEAoFAIBAIBAJB6cBUc+5c+QW+XV4/7NT+szzROrGzfkCoZ2/9Rc7Oqx8Q2vrsvvLGrunV5Y11d02UN44O3lTeaA11/qg/CAQCgUAgEAgEAoFAIBAIBAKBQCAQCAQCgUAgEAgEAoFAIBAIBAKBQCBoN03T8QmdnpEXyi/weP9YeeON4dvLG1cdO13emLx/XnmjZ9vh8saXu+q3Zc2E5ctOlDfuvfpIeWOg57OOn/UHgUAgEAgEAoFAIBAIBAKBQCAQCAQCgUAgEAgEAoFAIBAIBAKBQCAQCAS1G6Zm129DOv37nPLGj4vq77H/6VfLG4PdK8sbP793fXlj/kv1m65e3L27vPHE5o3ljY233FjeGNjU+bP+IBAIBAKBQCAQCAQCgUAgEAgEAoFAIBAIBAKBQCAQCAQCgUAgEAgEAoGgdGDqsul6X6sur99CdOea4+WN20aHyhtT3+wpb9zw+tLyxsKjp8oba98unDL625KhL8obE9d9VN5otbZ0/KQ/CAQCgUAgEAgEAoFAIBAIBAKBQCAQCAQCgUAgEAgEAoFAIBAIBAKBQCAoHZj6tbt+k9GBn24ubxwaX1zeWLC9fuiqtb4+0czAJ+vQJx+UN/oG7itvHG0vLG/0jveWNya3d/6sPwgEAoFAIBAIBAKBQCAQCAQCgUAgEAgEAoFAIBAIBAKBQCAQCAQCgUAgaDdN03T6cN+Vj5Zf4NTe+eWN7ufrB7em7rmivLF4xcnyxg87ussbs8Zn4PDXDFhz4vvyxoH1K8sbY58+0/Gz/iAQCAQCgUAgEAgEAoFAIBAIBAKBQCAQCAQCgUAgEAgEAoFAIBAIBAKBoHTD1OfPLSi/QNfX9UYnN5QnWq3Oz43948hUd3nj2jmzyhuvffVxeeOOl58sb9w6Z7i8MfzQQHmjwh8EAoFAIBAIBAKBQCAQCAQCgUAgEAgEAoFAIBAIBAKBQCAQCAQCgUAgEJQOTHWdqfe1ue/d8sYre+qHan7prt9SteCB+s1OvccuKm+senOovHFwcKS8MX1+bnmjZ/RseaO1qfNH/UEgEAgEAoFAIBAIBAKBQCAQCAQCgUAgEAgEAoFAIBAIBAKBQCAQCAQCQbtpZuBqJfif8geBQCAQCAQCgUAgEAgEAoFAIBAIBAKBQCAQCAQCgUAgEAgEAsFf462n0nqikfYAAAAASUVORK5CYII=\", \"iVBORw0KGgoAAAANSUhEUgAAAMgAAADICAYAAACtWK6eAAAAOXRFWHRTb2Z0d2FyZQBNYXRwbG90bGliIHZlcnNpb24zLjguMywgaHR0cHM6Ly9tYXRwbG90bGliLm9yZy/H5lhTAAAACXBIWXMAAA9hAAAPYQGoP6dpAAAEwklEQVR4nO3dS4iVdRzG8XMcY8axFpGFuLAaxksmNkhJteqyKA1rodEFpBJxkZAzkEURWVhCRZiCICTipiLSRTATBkFBRBdL6UZOBjXFhNbQvVGsmdOuVTyL85so5PPZv8/8Bb/nXf15m61Wq9UA/tG0//oA8H8mEAgEAoFAIBAIBAKBQCAQCAQCgUAgEAgEAoFAIBAIBAKBYHrl4UMjc8sH6OvsLG/c/uXV5Y1Znb+VN3bMOVje+PTUifLGTfsHyhtbV75Q3lg188fyRkez/hs+bfbR9p8t/3U4jQkEAoFAIBAIBAKBQCAQCAQCgUAgEAgEAoFAIBAIBAKBQCAQCAQCgaB0Yer+nsvLB+g479zyRv9br5c3NuxbV97oOXNpeWPu/OPljY6TzfJGV/OP8sbKq1aXN0ZXzC5vfLyt/We9QSAQCAQCgUAgEAgEAoFAIBAIBAKBQCAQCAQCgUAgEAgEAoFAIBAIBAJB6cLU76uWlQ+w+tFXyxtbNq0tb+x8and54+nei8sbP625orwx0dcqb3x0ov71sMv2DZc3Ju+cUd6o8AaBQCAQCAQCgUAgEAgEAoFAIBAIBAKBQCAQCAQCgUAgEAgEAoFAIBAIBKULU2d98Wv5AG+MLShvjF5bnmg8uW5NeeObxzrLGxc89HZ5Y2xp/ctfS2Z8Xd7YdeMN5Y21Lw+WNxqNR9p+0hsEAoFAIBAIBAKBQCAQCAQCgUAgEAgEAoFAIBAIBAKBQCAQCAQCgUAgEJQuTE1++Fn5ADsufLO8ccuue8sbrz2/p7xx3Zy+8sZdwyPljc0v1b9Stby7fhluYP055Y09i+aVN2491f6z3iAQCAQCgUAgEAgEAoFAIBAIBAKBQCAQCAQCgUAgEAgEAoFAIBAIBAKBoHRh6lh//WLOrGnvlje+W1aemJLLTq+MHipvzH/x7vJG78PvlTcWdm8ob/RcMlreGBqp/1sqvEEgEAgEAoFAIBAIBAKBQCAQCAQCgUAgEAgEAoFAIBAIBAKBQCAQCAQCQenC1LP3bC8f4MHjV5Y3Gq36xFToaNZ/b6aPN8sbR7dfWt5YsPvn8sb+of3ljUV7N5Y3jj7Q/rPeIBAIBAKBQCAQCAQCgUAgEAgEAoFAIBAIBAKBQCAQCAQCgUAgEAgEAoGgdGFq85Jrygc4Y3BmeWPefe+XN0Y31S9uTbTqX5ia/c5EeaNrsP5VpsnyQqPxw+Sp8kbPlsP1g7gwBf8OgUAgEAgEAoFAIBAIBAKBQCAQCAQCgUAgEAgEAoFAIBAIBAKBQCAQlC5MbTxcv5izrfei8sZtR74tbzy3bnF548/+KbjsNHayvLH4g/rv3pGb55Y37vi8vvHV1jnljQpvEAgEAoFAIBAIBAKBQCAQCAQCgUAgEAgEAoFAIBAIBAKBQCAQCAQCgUDQbLVarXYfnjw2r3yAofGu8sbO5SvKGyfPP7u80fn9eHljeKC7vLHwiV/KG88c2Fve6G62/V/rb+uvX1veOPDJ420/6w0CgUAgEAgEAoFAIBAIBAKBQCAQCAQCgUAgEAgEAoFAIBAIBAKBQCAQCEoXpuB05w0CgUAgEAgEAoFAIBAIBAKBQCAQCAQCgUAgEAgEAoFAIBAIBIK/AD0VoX9mLjYpAAAAAElFTkSuQmCC\", \"iVBORw0KGgoAAAANSUhEUgAAAMgAAADICAYAAACtWK6eAAAAOXRFWHRTb2Z0d2FyZQBNYXRwbG90bGliIHZlcnNpb24zLjguMywgaHR0cHM6Ly9tYXRwbG90bGliLm9yZy/H5lhTAAAACXBIWXMAAA9hAAAPYQGoP6dpAAAErElEQVR4nO3dT2jXdRzH8W2plRIJYxXViMBmizKlRl7s36E5oT9SRFSwrMvCrKR/kIHlwS7RHyMt81CHxgoKmdXskBTlCjooLJJtxlAKIulQi0mp+3XrFK/D3gNHPB7372ufy3Of04dfc6PRaDQB/6nldB8A5jKBQCAQCAQCgUAgEAgEAoFAIBAIBAKBQCAQCAQCgUAgEAgE8yofbx65vXyAzW0/lDdWHryrvLF405nljW27d5Y3PvvzivLGa3t7yhvTrSfKG3tv2lbe6Ji/qLzRcsH4zL8t/3X4HxMIBAKBQCAQCAQCgUAgEAgEAoFAIBAIBAKBQCAQCAQCgUAgEAgEAkHpwdTw1QvKB+huuaa8ceEXv5c3jh+aLG90f/5YeWOs+63yxtCu38obfYOflDceX/1AeePn7rbyxsjLM//WDQKBQCAQCAQCgUAgEAgEAoFAIBAIBAKBQCAQCAQCgUAgEAgEAoFAIBAISg+mZsPAka/KG2v76g+VPhh/tbyxruvc8sbywxvKG5dM/1re+P54e3mja6D+62En1neVNyrcIBAIBAKBQCAQCAQCgUAgEAgEAoFAIBAIBAKBQCAQCAQCgUAgEAgEAoGg9GBqetWK8gH6J+u/hnT07lPljd7LbylvNDrrv4Z08dbh8sbzE9+VN345WX/89cRHveWNkw/9Xd6ocINAIBAIBAKBQCAQCAQCgUAgEAgEAoFAIBAIBAKBQCAQCAQCgUAgEAgEgtKDqZavD5YPsGrheHnjzZFbyxtD4/vLGz1L6/9vzvry/PLG/QOPljfGeneUNzYuaJQ3Op+cKG80Fd5tuUEgEAgEAoFAIBAIBAKBQCAQCAQCgUAgEAgEAoFAIBAIBAKBQCAQCAQCQe0Xpq5fXj7AsgUHyhtTF02XN9bceGd5Y2j0w/o5rrq5vHHZ2UfLGz3v31veaDxYfzD16ci+8kaFGwQCgUAgEAgEAoFAIBAIBAKBQCAQCAQCgUAgEAgEAoFAIBAIBAKBQCAQlB5Mfdy/cxaOML+8sHTrj+WNU8eOlTdmxXmt5YkNewbLG1s2rStvvL7mnfJGx7sPlzcOPzPzb90gEAgEAoFAIBAIBAKBQCAQCAQCgUAgEAgEAoFAIBAIBAKBQCAQCAQCgaD0YOq29pXlA0y8d2V5Y/rpheWNJc/9Ud6YK15Z0lneOKfp2/LG4henyhvzpprLGxVuEAgEAoFAIBAIBAKBQCAQCAQCgUAgEAgEAoFAIBAIBAKBQCAQCAQCgUBQejA19vaK8gE67jtQ3lg/eqi88cZTHeWN2XDkjrbyxrO795U3+m+4trzRt/2R8kb7S8PljaYXNs74UzcIBAKBQCAQCAQCgUAgEAgEAoFAIBAIBAKBQCAQCAQCgUAgEAgEAoFAICg9mJro2VU+wOBo/dehtt+ztrxxxuKfyhurL72uvNE887c9/1rU8ld5Y8s3e8obQ5PLyhv7d7SWNyrcIBAIBAKBQCAQCAQCgUAgEAgEAoFAIBAIBAKBQCAQCAQCgUAgEAgEAoGgudFoNE73IWCucoNAIBAIBAKBQCAQCAQCgUAgEAgEAoFAIBAIBAKBQCAQCAQCgeAfEq6aj6xpDPoAAAAASUVORK5CYII=\", \"iVBORw0KGgoAAAANSUhEUgAAAMgAAADICAYAAACtWK6eAAAAOXRFWHRTb2Z0d2FyZQBNYXRwbG90bGliIHZlcnNpb24zLjguMywgaHR0cHM6Ly9tYXRwbG90bGliLm9yZy/H5lhTAAAACXBIWXMAAA9hAAAPYQGoP6dpAAAEyUlEQVR4nO3dTYiVZRzG4XNmzNBKM0wkyMJMYWzMWohZGwkXafaFYoXQVJtScEKoiGgVRIUZlZhG37QIKzeJWukgSGbCxGSEDIMZ5oCRlQUl5cdp1yruxflPFHJd+/eeh2F+864e3mar1Wo1gH/U8V8fAP7PBAKBQCAQCAQCgUAgEAgEAoFAIBAIBAKBQCAQCAQCgUAgEIyqPHzdx4+WD/DprM3ljWm7euobk38obzw0ZUd5Y/3w/PLGnAnfljfGdvxZ3rjhvMHyxpxzzylvdEweav/Z8k+Hs5hAIBAIBAKBQCAQCAQCgUAgEAgEAoFAIBAIBAKBQCAQCAQCgUAgEAiale+DLOhYWj5AZ9f08sZr218vb9y/oKe8MfjgxPLG84veLm88+dQ95Y2L9x4rbzSGvy9PnOqeWt7Ysfvxtp/1BoFAIBAIBAKBQCAQCAQCgUAgEAgEAoFAIBAIBAKBQCAQCAQCgUAgEAgEpS9MHXxubvkA+5e9WN6Ys+6R8kZ/3wvljdtnLyxv9I5eXt6Y8U5/eWNs37jyxsxxP5Y39s07Xd6o8AaBQCAQCAQCgUAgEAgEAoFAIBAIBAKBQCAQCAQCgUAgEAgEAoFAIBAIBKULUxccqvd1slG/EHPp9uPljVuerV/+6hx/qrwxfcW+8sbmI/WN7k2ryhu/v3pReeOu/r7yRoU3CAQCgUAgEAgEAoFAIBAIBAKBQCAQCAQCgUAgEAgEAoFAIBAIBAKBQCAoXZiatG5P+QCzu3rLG13Hhssb247Uv8q08Mal5Y0NAx+WN2ZuWV3eOHTnhvLGFc0HyhtvrrqtvNGzvf1nvUEgEAgEAoFAIBAIBAKBQCAQCAQCgUAgEAgEAoFAIBAIBAKBQCAQCAQCQbPVarXaffj6JWvKB9i9bmN5o2vP8vLG5U/8Ud7YuvO98sbC+UvKG8M3TSpvjDrR9p/F3+7r3VLeWHnhd+WNjslD7T9b/ulwFhMIBAKBQCAQCAQCgUAgEAgEAoFAIBAIBAKBQCAQCAQCgUAgEAgEAkHpC1N9L60fgSN0lhdG4rLT6QPtX6oZSWe+OVze+PXq8eWNy96v/+9c+9Gi8sYH206VN3b5whT8OwQCgUAgEAgEAoFAIBAIBAKBQCAQCAQCgUAgEAgEAoFAIBAIBAKBQFC6MLV46rzyAYaevqa8MaP5U3nj4Jq55Y1GY6C8MPTMteWN6ffuLW+MhC82flbeWDCwegRO0j5vEAgEAoFAIBAIBAKBQCAQCAQCgUAgEAgEAoFAIBAIBAKBQCAQCAQCgUBQujA1uL67fIAZG34rbxxePLG8MfqX8kRj54n617KmvVv/fdz89c/lja1zp5Q3Xjl+VXljwlv1S1eNN9p/1BsEAoFAIBAIBAKBQCAQCAQCgUAgEAgEAoFAIBAIBAKBQCAQCAQCgUAgEDRbrVar3YfPHL2yfICHj9a/MLV/Rf3iVuPzr8oTHWPGlDeO3zqrvHHy/GZ5Y+1jL5c3Vn55d3njkjsOlDc+Ob2p7We9QSAQCAQCgUAgEAgEAoFAIBAIBAKBQCAQCAQCgUAgEAgEAoFAIBAIBAJB6cIUnO28QSAQCAQCgUAgEAgEAoFAIBAIBAKBQCAQCAQCgUAgEAgEAoFA8BcCx6sVxiX6GwAAAABJRU5ErkJggg==\", \"iVBORw0KGgoAAAANSUhEUgAAAMgAAADICAYAAACtWK6eAAAAOXRFWHRTb2Z0d2FyZQBNYXRwbG90bGliIHZlcnNpb24zLjguMywgaHR0cHM6Ly9tYXRwbG90bGliLm9yZy/H5lhTAAAACXBIWXMAAA9hAAAPYQGoP6dpAAAEtUlEQVR4nO3dT2jXdRzH8d9W9sdgwuogkhY6mwVpRVGHYqWUkjIqsA2ikyX0Z0iQERFFFmn/sJTMUBZCUC3oEAxKZi40yZVYBMoyFQvRS9AhyRrt161TvA6/96CIx+P+ffHZ4bnP6cOvrdlsNhvAP2r/tw8A/2UCgUAgEAgEAoFAIBAIBAKBQCAQCAQCgUAgEAgEAoFAIBAIzq18fNn2l8sH+H751vLGoydvLm/ce/FYeWP1xw+WN4bu2lTeWDk8UN4YXrGxvDHznPJE40xzsrwx59JTLX/rBoFAIBAIBAKBQCAQCAQCgUAgEAgEAoFAIBAIBAKBQCAQCAQCgUAgEAgEbZXfB1nS82L5AO17DpY3fth4U3mj+7nD5Y3DG7vKG+2/TCtvLNh8urxx7P5Z5Y05z+8vb0zesrC8sWv3Uy1/6waBQCAQCAQCgUAgEAgEAoFAIBAIBAKBQCAQCAQCgUAgEAgEAoFAIBAIBKVfmGrf+035AFPx2Gn+2q/LG+OvXl/e6Pi2/v/muv7vyht3rzhQ3uhoP1ve2H3PleWNnRvOL29UuEEgEAgEAoFAIBAIBAKBQCAQCAQCgUAgEAgEAoFAIBAIBAKBQCAQCAQCQekXphYvWV8+wNLNn5c3RnuvLm9Mdkwvbxztn1HemPv0V+WNI6/UH39Nhe5nD5U3hg7tLG90zPqp5W/dIBAIBAKBQCAQCAQCgUAgEAgEAoFAIBAIBAKBQCAQCAQCgUAgEAgEAoGg9AtTx3vPKx/grQM95Y22gfo5mp1/1M/xc8tvz/42fGKsvHHjMzeUN/ave7O80TVjdXlj0YdXlTeOr2n9WzcIBAKBQCAQCAQCgUAgEAgEAoFAIBAIBAKBQCAQCAQCgUAgEAgEAoFAICg9mJq5r/5A6Is3BssbRyd+LW/c8dHj9XP0by1vzHv/4fLG3PHfyhtXDNXPsWrJaHlj5PSC8kaFGwQCgUAgEAgEAoFAIBAIBAKBQCAQCAQCgUAgEAgEAoFAIBAIBAKBQCAQlB5Mjb6+pXyAeR88Ut6YCvOfPFgf6atPNNrqEz1bvixvnBxaXN54Z9et5Y3uDcfKG41TrX/qBoFAIBAIBAKBQCAQCAQCgUAgEAgEAoFAIBAIBAKBQCAQCAQCgUAgEAgEpQdTd/atKh9g/eB75Y0X3r6vvHFk/bXljYnmvvLGVNiz8ILyxuxG/W+5fOzC8sbowDXljQo3CAQCgUAgEAgEAoFAIBAIBAKBQCAQCAQCgUAgEAgEAoFAIBAIBAKBQCAoPZhauW1n+QA7lt1W3jgzMFneaDTrEws+e6C8MXvkz/LGth/3ljdu37G2vPFY52B5Y+SiReWNCjcIBAKBQCAQCAQCgUAgEAgEAoFAIBAIBAKBQCAQCAQCgUAgEAgEAoFAICg9mHrpk97yAV779N3yxqaH+sobJ5ZPK290DxwrbzQu6SxPLN3+RHljoutseWPZ9N/LG93rxssbjTWtf+oGgUAgEAgEAoFAIBAIBAKBQCAQCAQCgUAgEAgEAoFAIBAIBAKBQCAQCARtzWZzCn5bCf6f3CAQCAQCgUAgEAgEAoFAIBAIBAKBQCAQCAQCgUAgEAgEAoFAIPgLgm2kICw4AKYAAAAASUVORK5CYII=\", \"iVBORw0KGgoAAAANSUhEUgAAAMgAAADICAYAAACtWK6eAAAAOXRFWHRTb2Z0d2FyZQBNYXRwbG90bGliIHZlcnNpb24zLjguMywgaHR0cHM6Ly9tYXRwbG90bGliLm9yZy/H5lhTAAAACXBIWXMAAA9hAAAPYQGoP6dpAAAEnUlEQVR4nO3dzYuWZQDF4ZkxK00qDcwKcmDILKU0QkoC3VkRQVFCJAmBFkJBHxJuahNCErVpUdSijVSSQVChrtIMqRbZotIKNaIIKaM0NdN5+wfiLDwDilzX/jnvPTP85lndvMODwWAwBPyvkTN9ADibCQQCgUAgEAgEAoFAIBAIBAKBQCAQCAQCgUAgEAgEAoFAIDiveXj0lRfrA+y777V6Y/ORi+uNyyYdqTf+Gr+w3jg+mFxvzJx0uN6YCIsuOF5vTB05v94YmfX96T9bfzqcwwQCgUAgEAgEAoFAIBAIBAKBQCAQCAQCgUAgEAgEAoFAIBAIBAKBQFBdmJrxVd/XsscX1Bvr939ebzy7+O56Y/rm/oLQrs/m1htz1u2uN4bmjPYb+3+uJw7dM7/e+OLN03/WGwQCgUAgEAgEAoFAIBAIBAKBQCAQCAQCgUAgEAgEAoFAIBAIBAKBQCAQVBem/pg3qA+w5adP642VSx6sNzbseqveWHvHQ/XG9q39t3atfv3heuPbNf23dq1a/GW9sfOBQ/VGwxsEAoFAIBAIBAKBQCAQCAQCgUAgEAgEAoFAIBAIBAKBQCAQCAQCgUAgEFQXpuY893V9gMnL+0a/W31FvbH2hmX1xqnrp9QbjyxdUW/sfWxGvTFytJ4Y2n7j1Hrjh5en9wcpeINAIBAIBAKBQCAQCAQCgUAgEAgEAoFAIBAIBAKBQCAQCAQCgUAgEAgEgurC1Pjhw/UBth6dVW+M/FtPDH20Z0e9cefc/hyLPvmt3pg/fqDeeOHy3fXG2PCj9cbQeD/R8AaBQCAQCAQCgUAgEAgEAoFAIBAIBAKBQCAQCAQCgUAgEAgEAoFAIBAIBNWFqeGF8+oDLJ+2u95Yd9Gg3lh25YJ6Y+sv/aWrsbf7S0ZTDvb/996deUu98cG9L9Ubd733ZL3R8AaBQCAQCAQCgUAgEAgEAoFAIBAIBAKBQCAQCAQCgUAgEAgEAoFAIBAIBNWFqS0fbqwPMBEXhCbC/vW3TsDK7gnY6P09erLemPvqkXrj/tFV9cbIieF6o/r8M/rpcJYTCAQCgUAgEAgEAoFAIBAIBAKBQCAQCAQCgUAgEAgEAoFAIBAIBAJBdWFq4fo19QG2rd1Qb6xY93S9MWP7j/XGqZXj9ca1bxyqN4aPn6g3Tu47UG9suXlnvbHkQP+3bXiDQCAQCAQCgUAgEAgEAoFAIBAIBAKBQCAQCAQCgUAgEAgEAoFAIBAIBILqwtSRxUfrA6yZfVu9Mf263+uNPU9dXW9MGp6A/zcH+5/lm+fH6o2xd2bUGzuP9ZfQzjRvEAgEAoFAIBAIBAKBQCAQCAQCgUAgEAgEAoFAIBAIBAKBQCAQCAQCgUAwPBgMBqf78Piv19QH+HP8WL1x06Yn6o2rdvTfDjXt4731xvCll9Qb49Om1hvPvL+p3lg6pf+d3j57Ub2x7Z+Np/2sNwgEAoFAIBAIBAKBQCAQCAQCgUAgEAgEAoFAIBAIBAKBQCAQCAQCgUAgqC5MwbnOGwQCgUAgEAgEAoFAIBAIBAKBQCAQCAQCgUAgEAgEAoFAIBAIBP8BigqbAeVOmfEAAAAASUVORK5CYII=\", \"iVBORw0KGgoAAAANSUhEUgAAAMgAAADICAYAAACtWK6eAAAAOXRFWHRTb2Z0d2FyZQBNYXRwbG90bGliIHZlcnNpb24zLjguMywgaHR0cHM6Ly9tYXRwbG90bGliLm9yZy/H5lhTAAAACXBIWXMAAA9hAAAPYQGoP6dpAAAEuklEQVR4nO3dy4uWdRzG4fed0cbBSho10rIJraRCSvJcgtDCKSHIAqVatKiwRaGBf0OEWURgghBtoizIXQctKrAjLkRFanQU8kRZDdUgNaenTbSKe/F+hUKua//c84Ph8z6rH0+7aZqmBfyrrv/6APB/JhAIBAKBQCAQCAQCgUAgEAgEAoFAIBAIBAKBQCAQCAQCgWBK5eHnjw6UD7C1b6i8sWD3pvLG3vUvlDe+HZtV3lje83N5Y1b39PLGn81YeWOsmShvXN41rbzRdc2xzp8t/3W4hAkEAoFAIBAIBAKBQCAQCAQCgUAgEAgEAoFAIBAIBAKBQCAQCAQCgaB0YeqT1deXD/DR8BXljcEzO8ob9123uryx59TX5Y3Fnz9V3pj/+MnyRnvenPLGxNHB8kb3zL7yxgfnO3/WGwQCgUAgEAgEAoFAIBAIBAKBQCAQCAQCgUAgEAgEAoFAIBAIBAKBQCAQlC5MTQwPlw+w5/Q35Y11/avKG6NrF5c3Fr29vLyxZtWR8saZP0bLG3e9dai80dVqyhuv7bu5vFHhDQKBQCAQCAQCgUAgEAgEAoFAIBAIBAKBQCAQCAQCgUAgEAgEAoFAIBAIShemhratLB/g+PhX5Y2JlYvKG+dvn1reWLir8Cmjv51+dqS8MbhzWXnj2Mf1384bt9T/t5Ov1C9dVXiDQCAQCAQCgUAgEAgEAoFAIBAIBAKBQCAQCAQCgUAgEAgEAoFAIBAIBILShakFW78sH6Bvw3h548QDPeWNoY07yhtrDj9R3nj43R/LG899Wp5oDW3YWd4YfuhCeWPp7hXljQpvEAgEAoFAIBAIBAKBQCAQCAQCgUAgEAgEAoFAIBAIBAKBQCAQCAQCgUDQbpqm40/4zN/+YvkAxx95tbzxzNml5Y3vloyVNz48e7C8ce/AxvJGe2yivHFq3ezyxoEtL5c3prS6yxtT5wx1/Kw3CAQCgUAgEAgEAoFAIBAIBAKBQCAQCAQCgUAgEAgEAoFAIBAIBAKBQCAofWHqYlx2uhje++zO+sj2+kSrdbC8MD6jt7xxYn39i1v974+WN2595+nyRmuyPnFyc+fPeoNAIBAIBAKBQCAQCAQCgUAgEAgEAoFAIBAIBAKBQCAQCAQCgUAgEAgEgtKFqbVz7ygf4PXv95c3es/VO78wt34z5/5jA+WN9mTHH/z6x01bD5Q3mvHx8kbvptvKG9c+eLS80drc+aPeIBAIBAKBQCAQCAQCgUAgEAgEAoFAIBAIBAKBQCAQCAQCgUAgEAgEAoGg9oWpl1aUD/BYf7u88eihfeWNXXvvKW8cOXhDeWPhyK/ljcFtS8obPb/UfzunX/ZTeaPV1C+QVXiDQCAQCAQCgUAgEAgEAoFAIBAIBAKBQCAQCAQCgUAgEAgEAoFAIBAIBIJ203R+I2Xs3ILyAd74/er6xi3zyhvdM64sb7Rmz6xv/DZSnnhy/xfljbun/VDeuKqrt7yxrn9ZeWPv6JsdP+sNAoFAIBAIBAKBQCAQCAQCgUAgEAgEAoFAIBAIBAKBQCAQCAQCgUAgEAhKF6bgUucNAoFAIBAIBAKBQCAQCAQCgUAgEAgEAoFAIBAIBAKBQCAQCASCvwAbyavG7ymzfAAAAABJRU5ErkJggg==\", \"iVBORw0KGgoAAAANSUhEUgAAAMgAAADICAYAAACtWK6eAAAAOXRFWHRTb2Z0d2FyZQBNYXRwbG90bGliIHZlcnNpb24zLjguMywgaHR0cHM6Ly9tYXRwbG90bGliLm9yZy/H5lhTAAAACXBIWXMAAA9hAAAPYQGoP6dpAAAExElEQVR4nO3dS4iWZRzG4e8bM00r2xiSYZgnZiFKoQ4VQiJMmUVCBJEUREUwHVALWhRFuxZBEtEsAgNXRpHliRZmuFELQRoPOePCDiNBJZqazeDM265V3IvvLyhyXfv3ngdmfvOuHt520zRNC/hfXVf6AHA1EwgEAoFAIBAIBAKBQCAQCAQCgUAgEAgEAoFAIBAIBAKBQHBd5eFVe18uH2D7/F3ljeUDa8obb8zZXt64ueuf8saSSe3yxuVwaPRSeWPx9aU/r1ar1WpNaNf/h3fNGOr82fJPh2uYQCAQCAQCgUAgEAgEAoFAIBAIBAKBQCAQCAQCgUAgEAgEAoFAIBAI2pXvg/ROe6Z8gPFz58obsw5MLW8M99Yv92w7sqe88fRPK8obv6+fVd5oj9U/G9N8P1DeOPXaPeWNI++u6/hZbxAIBAKBQCAQCAQCgUAgEAgEAoFAIBAIBAKBQCAQCAQCgUAgEAgEAoFAUL8lVPT1qUPljd7bFpc3+oYGyxtLDj5R3jhz+sbyxrz9B8sbgxt7yhtvb/61vPHOtvrFrQpvEAgEAoFAIBAIBAKBQCAQCAQCgUAgEAgEAoFAIBAIBAKBQCAQCAQCgUBQuzA1e2b5ALN3PlvemN8zWt746K6byhu3jp4sb0wfGSlvtHbfXp5o/1A/xpaVy8obG7/dVD9Ia33HT3qDQCAQCAQCgUAgEAgEAoFAIBAIBAKBQCAQCAQCgUAgEAgEAoFAIBAIBILShamz3beUDzDwwPvljcf665euhvrnljfmv3WmvLFz7xflja0XTpQ3Hu0+X94Ye3y8vNHzZl954+GPO3/WGwQCgUAgEAgEAoFAIBAIBAKBQCAQCAQCgUAgEAgEAoFAIBAIBAKBQCAQtJumaTp9+IMfV5QPsHDyL+WN3y5NK298snpleePLPZ+WN1bPvLu8MfLgkvLGDcPnyhtbd20ub0xqTyxvdM0Y6vzZ8k+Ha5hAIBAIBAKBQCAQCAQCgUAgEAgEAoFAIBAIBAKBQCAQCAQCgUAgEAhKX5g6Pza5fIDl9YnWqkVLyxuDr08vb0xsTyhvNPcuLm/8/FD9/96CV0+WN86Oj5Y31qx/sbyxb0vnz3qDQCAQCAQCgUAgEAgEAoFAIBAIBAKBQCAQCAQCgUAgEAgEAoFAIBAIBILShalvFk4tH2DKkTvKG2N/ni5vtFpzygtfXZhS3hheXt+Y99K+8sZ45x8e+8/93z1f3pi183B5o8IbBAKBQCAQCAQCgUAgEAgEAoFAIBAIBAKBQCAQCAQCgUAgEAgEAoFAIBCULkz1Hv6rfIAdi+pfduo7frS8seHz+leqXtm9trzR3X+svPHC4PHyxrodT5U3Dix9r7zx5N/3lTcqvEEgEAgEAoFAIBAIBAKBQCAQCAQCgUAgEAgEAoFAIBAIBAKBQCAQCAQCQenC1NppA+UDzD1WvzD14YLu8sadzf7yxh/P9ZQ3mosXyxsnRmaUNzY90l/eWPbZhvLG3Mvwe6nwBoFAIBAIBAKBQCAQCAQCgUAgEAgEAoFAIBAIBAKBQCAQCAQCgUAgEAgE7aZpmit9CLhaeYNAIBAIBAKBQCAQCAQCgUAgEAgEAoFAIBAIBAKBQCAQCAQCgeBfK8Gq4J8uNY4AAAAASUVORK5CYII=\", \"iVBORw0KGgoAAAANSUhEUgAAAMgAAADICAYAAACtWK6eAAAAOXRFWHRTb2Z0d2FyZQBNYXRwbG90bGliIHZlcnNpb24zLjguMywgaHR0cHM6Ly9tYXRwbG90bGliLm9yZy/H5lhTAAAACXBIWXMAAA9hAAAPYQGoP6dpAAAExklEQVR4nO3dS4iWZRzG4XfGiWQ8oObCIISKcTQKDMVDS8OUwjCicghMKMgyWhhCm6CoaGNGhaHYpqACQykrUqIoEiIqdSEjzjiEhUGFRTIeEmfeVrWKe/H9DSWua//ePuD8eFYPX1fbtm0D/KvuS30AuJwJBAKBQCAQCAQCgUAgEAgEAoFAIBAIBAKBQCAQCAQCgUAg6Kl8fMu9m8sH2P/K9vLGrtGp5Y0p3WfLG+faK8obd046U964GPo+X1feeHXRO+WNlb1/lje6Zw13/m35X4f/MYFAIBAIBAKBQCAQCAQCgUAgEAgEAoFAIBAIBAKBQCAQCAQCgUAgEHRVfh9kxZR15QOMnz5d3tj306Hyxm13P1DeePTNXeWN1ZNGyxt3LF1V3mh7J5Y3xo50/lDpbycfXFreOLBjY8ffukEgEAgEAoFAIBAIBAKBQCAQCAQCgUAgEAgEAoFAIBAIBAKBQCAQCAQCQekXpoaeval8gJE128obK2cvLG88duTd8sbL6wfKGxvvKv2XNE3TNH3Hvy5vDL22qLzx3K0/ljeefr/+YKrCDQKBQCAQCAQCgUAgEAgEAoFAIBAIBAKBQCAQCAQCgUAgEAgEAoFAIBAISq9zph/pKh/gmV9vKG+ML76xvLF1zlh5o6f9rrzR92l5ovnwRP0cc3cuKW+8tXpZeePbT7aUN5rGL0zBf0IgEAgEAoFAIBAIBAKBQCAQCAQCgUAgEAgEAoFAIBAIBAKBQCAQCARdbdu2nX68vPue8gEeGT5W3tg2b255Y9PRg+WNLctXlTc+2v9eeWN0/Fx5Y3L3xPLGtR8/VN6Y98RweWPvb693/K0bBAKBQCAQCAQCgUAgEAgEAoFAIBAIBAKBQCAQCAQCgUAgEAgEAoFAIBCUHkztHrm5fIBZE/4ob9y/Z0N5Y9pg/dey9j21ubyxdn790dXQk/3ljes3fVXe2PHD/vLG7J7J5Y3uWZ0/unKDQCAQCAQCgUAgEAgEAoFAIBAIBAKBQCAQCAQCgUAgEAgEAoFAIBAIBIKeysdfnppTPsCLVx8ob/RvP1neuDCtt7wxc8Kk8kYzc0Z5ou3p+A3cP7p6Sn8aTdM0zeD5q8ob65fdXt7YO9T5t24QCAQCgUAgEAgEAoFAIBAIBAKBQCAQCAQCgUAgEAgEAoFAIBAIBAKBQFB6FXN4wXj5AGMn6hvjx46XN75/fkF5Y++ZK8sbRx+eWd6YvW+svNFeuFDeePybNeWN66bX/z4q3CAQCAQCgUAgEAgEAoFAIBAIBAKBQCAQCAQCgUAgEAgEAoFAIBAIBAKBoPRg6thLS8oH6H97aXljy+Ab5Y2tfefLG4sHfi9v9L8wUt7YefCD8sbu0WvKG2unHipvrBiYX96ocINAIBAIBAKBQCAQCAQCgUAgEAgEAoFAIBAIBAKBQCAQCAQCgUAgEAgEgtKDqZH7tpUPsOd0b3lja9+c8sbFsPCLDeWNvlOD5Y3Pzs4obwxM+bm88cvYufLGpeYGgUAgEAgEAoFAIBAIBAKBQCAQCAQCgUAgEAgEAoFAIBAIBAKBQCAQCARdbdu2l/oQcLlyg0AgEAgEAoFAIBAIBAKBQCAQCAQCgUAgEAgEAoFAIBAIBAKB4C9l8LAbCT5edQAAAABJRU5ErkJggg==\"], \"probs\": [[], [[\"l\", 0.43216830492019653], [\"n\", 0.16354180872440338], [\"r\", 0.16247445344924927], [\" \", 0.08739781379699707], [\"L\", 0.06337513029575348]], [[\"i\", 1.0], [\"a\", 1.0971982433716221e-08], [\"!\", 6.347198322487202e-10], [\"l\", 1.0621951929135065e-10], [\"y\", 4.052737746090829e-12]], [[\"c\", 0.9999966621398926], [\"S\", 2.502597226339276e-06], [\"g\", 5.614647307083942e-07], [\"b\", 2.727590810991387e-07], [\"d\", 3.478599808204308e-08]], [[\"e\", 1.0], [\",\", 7.456819992208985e-14], [\"!\", 2.363163308159548e-14], [\"a\", 9.438352605983108e-15], [\"i\", 4.340652896033572e-16]], [[\" \", 0.3159451484680176], [\",\", 0.263668030500412], [\";\", 0.20409810543060303], [\"\\\\\\\\r\", 0.07934588938951492], [\".\", 0.07725442945957184]], [[\" \", 0.9354009032249451], [\"\\\\\\\\r\", 0.06459906697273254], [\".\", 5.7564151362266e-11], [\")\", 2.8420312978005846e-12], [\",\", 2.5130637588272053e-12]], [[\"s\", 0.4257776439189911], [\"a\", 0.30944451689720154], [\"w\", 0.244308203458786], [\"t\", 0.0131742674857378], [\"_\", 0.006427548360079527]], [[\"e\", 0.4258340895175934], [\"t\", 0.22427578270435333], [\"w\", 0.20049479603767395], [\"a\", 0.14173482358455658], [\"i\", 0.0028427245561033487]], [[\"i\", 0.900466799736023], [\"l\", 0.07047299295663834], [\"w\", 0.028991317376494408], [\"t\", 6.855787069071084e-05], [\"y\", 3.513083015604934e-07]], [[\"d\", 1.0], [\"r\", 2.9611385565786463e-10], [\"c\", 3.3201355076686867e-13], [\"v\", 1.3374928063952102e-14], [\"m\", 1.425407690067626e-15]], [[\" \", 0.8921359181404114], [\"\\\\\\\\r\", 0.10786402225494385], [\".\", 8.05173883122734e-09], [\",\", 1.974424623796267e-09], [\";\", 6.076814051958479e-11]], [[\"t\", 0.9924240112304688], [\"A\", 0.007219514809548855], [\"W\", 0.00035640940768644214], [\"p\", 5.147298698382485e-10], [\"I\", 2.0752784213318165e-10]], [[\"l\", 1.0], [\"t\", 1.3630040152090572e-10], [\"r\", 1.014569559008166e-13], [\" \", 2.5379349619466694e-15], [\"d\", 2.2605604708410927e-15]], [[\"i\", 0.999996542930603], [\"w\", 3.4849520034185844e-06], [\"a\", 1.3746841887041228e-08], [\"l\", 7.746762758185921e-13], [\"r\", 3.6604421750630056e-13]], [[\"c\", 1.0], [\"d\", 2.995046051446071e-12], [\"z\", 1.3068376675945403e-12], [\"a\", 1.411327313154652e-14], [\"e\", 8.62325945137242e-18]], [[\"e\", 1.0], [\" \", 6.158398041637713e-17], [\"\\\\\\\\r\", 9.03391331171081e-21], [\"r\", 5.355541697986581e-21], [\"-\", 7.321969128030162e-22]], [[\" \", 0.7530512809753418], [\".\", 0.14581061899662018], [\",\", 0.09139173477888107], [\":\", 0.004776994232088327], [\"\\\\\\\\r\", 0.003715384053066373]], [[\"i\", 0.9662407040596008], [\"w\", 0.023953957483172417], [\"a\", 0.0047143627889454365], [\"t\", 0.002151917200535536], [\"d\", 0.001667058328166604]], [[\"n\", 0.9716662764549255], [\"s\", 0.028243452310562134], [\"f\", 9.010831854538992e-05], [\"p\", 8.092419534477813e-08], [\"t\", 5.699223315502877e-09]], [[\" \", 0.8726343512535095], [\"d\", 0.11350692063570023], [\"\\\\\\\\r\", 0.011105123907327652], [\"v\", 0.0015633896691724658], [\"c\", 0.0010466923704370856]], [[\"a\", 0.9999202489852905], [\"t\", 4.376588549348526e-05], [\"p\", 3.1805124308448285e-05], [\"s\", 1.5306650311686099e-06], [\"h\", 6.669046115348465e-07]], [[\" \", 0.9870709776878357], [\"\\\\\\\\r\", 0.012704531662166119], [\"f\", 0.0001946353877428919], [\"c\", 1.583953053341247e-05], [\"m\", 1.248289208888309e-05]], [[\"l\", 0.9990286827087402], [\"w\", 0.0008958552498370409], [\"e\", 6.738820229656994e-05], [\"m\", 4.7609196371922735e-06], [\"t\", 2.1771897991129663e-06]], [[\"i\", 0.5516105890274048], [\"o\", 0.4479655623435974], [\"a\", 0.00023043119290377945], [\"e\", 0.0001619514951016754], [\"u\", 2.9795264708809555e-05]], [[\"t\", 1.0], [\"r\", 1.630786246776049e-17], [\"l\", 1.2943144046984235e-21], [\"e\", 3.407708969034733e-22], [\"k\", 8.01820375280855e-23]], [[\"t\", 0.9999971389770508], [\" \", 1.3131493687978946e-06], [\"e\", 9.339566986454884e-07], [\"l\", 4.2172430880782485e-07], [\"i\", 2.365496385436927e-07]], [[\"l\", 1.0], [\"y\", 4.136381792640975e-10], [\"i\", 4.543019284467551e-15], [\"u\", 7.918319689004152e-16], [\"e\", 4.4264982293999174e-17]], [[\"e\", 1.0], [\"i\", 1.0275433282025404e-10], [\"u\", 6.928825047900927e-18], [\"a\", 5.2513380242169966e-20], [\"y\", 7.620184904468826e-21]], [[\" \", 0.9898971319198608], [\"\\\\\\\\r\", 0.010102289728820324], [\"-\", 1.9620858893176774e-07], [\"?\", 1.1172284786198361e-07], [\",\", 1.0737654321246737e-07]], [[\"p\", 0.8262210488319397], [\"q\", 0.06703629344701767], [\"g\", 0.06424826383590698], [\"d\", 0.020847002044320107], [\"s\", 0.01122066006064415]], [[\"a\", 0.5469971299171448], [\"u\", 0.2446821928024292], [\"e\", 0.18983891606330872], [\"i\", 0.01838528737425804], [\"l\", 7.460636697942391e-05]], [[\"p\", 0.8826442956924438], [\"s\", 0.10505151748657227], [\"i\", 0.005194466561079025], [\"t\", 0.0049784816801548], [\"r\", 0.0018728403374552727]], [[\"e\", 0.9139314889907837], [\"d\", 0.08551022410392761], [\"s\", 0.00034546846291050315], [\"p\", 0.00016637143562547863], [\"i\", 4.585904025589116e-05]], [[\"r\", 1.0], [\"p\", 3.3125904791053067e-16], [\"s\", 4.566781857434317e-18], [\"d\", 3.659238166829925e-18], [\"T\", 3.6190457193599146e-20]], [[\" \", 0.58774334192276], [\"r\", 0.32841095328330994], [\"\\\\\\\\r\", 0.08384543657302856], [\".\", 2.732475081757002e-07], [\"-\", 1.1850296743887156e-08]], [[\"a\", 0.9510176181793213], [\"o\", 0.03562171012163162], [\"i\", 0.012947699055075645], [\"d\", 0.00040700825047679245], [\"r\", 1.6820308701426256e-06]], [[\"l\", 0.9996121525764465], [\"f\", 0.00038440636126324534], [\"b\", 3.431776349316351e-06], [\"s\", 2.967743384374444e-08], [\"n\", 2.6940352171322957e-08]], [[\"l\", 0.8224822878837585], [\"r\", 0.0825875774025917], [\"d\", 0.04313524067401886], [\"s\", 0.037636648863554], [\"a\", 0.012751714326441288]], [[\" \", 0.9680819511413574], [\"\\\\\\\\r\", 0.03191809356212616], [\".\", 2.4321178404562716e-09], [\",\", 2.247488417594923e-09], [\":\", 2.77898981604352e-10]], [[\"a\", 0.5033556818962097], [\"s\", 0.38522210717201233], [\"i\", 0.09799990057945251], [\"n\", 0.004698842763900757], [\"p\", 0.0026770676486194134]], [[\"l\", 0.9998164772987366], [\" \", 9.94454967440106e-05], [\"b\", 8.226005593314767e-05], [\"\\\\\\\\r\", 6.674881092294527e-07], [\"r\", 6.139549668660038e-07]], [[\"o\", 0.9994137287139893], [\"l\", 0.0005184983601793647], [\"w\", 3.968233795603737e-05], [\"i\", 2.517906978027895e-05], [\"a\", 1.9560045529942727e-06]], [[\"m\", 0.8978479504585266], [\"o\", 0.0981072410941124], [\"\\\\\\\\r\", 0.002087038243189454], [\" \", 0.0007218164973892272], [\"n\", 0.000642212457023561]], [[\"e\", 1.0], [\"u\", 7.366843138116586e-13], [\".\", 3.6273320404372437e-16], [\"i\", 1.2897782599242052e-16], [\",\", 1.3279552384047478e-18]], [[\"r\", 0.4805113673210144], [\"n\", 0.4650689363479614], [\"O\", 0.03133450075984001], [\"d\", 0.02004105970263481], [\"s\", 0.002401195000857115]], [[\" \", 0.8324028253555298], [\".\", 0.12613438069820404], [\"\\\\\\\\r\", 0.036078669130802155], [\":\", 0.003445887938141823], [\",\", 0.0014354162849485874]], [[\"f\", 0.9559072256088257], [\"s\", 0.020654823631048203], [\"a\", 0.013354337774217129], [\"M\", 0.005335770081728697], [\"k\", 0.0016287184553220868]], [[\"r\", 0.9999727010726929], [\"l\", 1.8367025404586457e-05], [\"o\", 4.016116236016387e-06], [\"A\", 2.528609911678359e-06], [\"e\", 1.8236045207231655e-06]], [[\"o\", 0.9981770515441895], [\"e\", 0.0018031548243016005], [\"u\", 1.77328893187223e-05], [\"i\", 2.0651918930525426e-06], [\"a\", 5.2881792278469675e-09]], [[\"g\", 0.9999984502792358], [\"m\", 1.5376145938716945e-06], [\"b\", 1.170790374371844e-11], [\"n\", 4.861154447727278e-12], [\"e\", 2.6127203699155555e-12]], [[\" \", 0.9853524565696716], [\"\\\\\\\\r\", 0.013868443667888641], [\",\", 0.0007672582287341356], [\".\", 8.834591426420957e-06], [\"s\", 2.1650510007020785e-06]], [[\"t\", 0.9996441602706909], [\"y\", 0.00035575436777435243], [\"o\", 1.7418769004962087e-07], [\"h\", 9.259948363649073e-09], [\"l\", 1.3843795554357996e-10]], [[\"o\", 1.0], [\"e\", 7.301793920502003e-17], [\"a\", 2.162035853969982e-21], [\"h\", 2.866099538268567e-22], [\"r\", 1.0791195616155691e-22]], [[\" \", 0.9955188035964966], [\"\\\\\\\\r\", 0.004471698775887489], [\"o\", 6.369530183292227e-06], [\"u\", 2.9296916181920096e-06], [\"h\", 1.758963605880126e-07]], [[\"t\", 0.9994134902954102], [\"h\", 0.0005864715785719454], [\"r\", 3.569763446177105e-16], [\"o\", 1.455219279344037e-16], [\"f\", 1.4459886385396598e-17]], [[\"h\", 1.0], [\"o\", 1.0786878335000694e-10], [\"e\", 3.628486400231168e-13], [\"t\", 6.204428988365064e-16], [\"r\", 8.359389332276371e-17]], [[\"e\", 0.9999988079071045], [\"i\", 1.1708240208463394e-06], [\"a\", 2.8669391860525195e-10], [\"r\", 3.958256960319862e-15], [\"o\", 2.243076122622988e-16]], [[\" \", 0.9717476963996887], [\"m\", 0.014753507450222969], [\"\\\\\\\\r\", 0.013498781248927116], [\"s\", 2.3541925742165404e-08], [\"r\", 8.238969506635385e-09]], [[\"e\", 0.9780340790748596], [\"d\", 0.011097881942987442], [\"G\", 0.006190459243953228], [\"s\", 0.0022239452227950096], [\"h\", 0.0019382209284231067]], [[\"n\", 0.9987704157829285], [\"g\", 0.0008418967481702566], [\"e\", 0.00029592448845505714], [\"y\", 8.485916623612866e-05], [\"a\", 4.869713848165702e-06]], [[\"d\", 0.9940357208251953], [\"t\", 0.00593769084662199], [\"k\", 2.5691755581647158e-05], [\"v\", 4.756566056585143e-07], [\"p\", 2.604685960250208e-07]], [[\" \", 0.7120957374572754], [\".\", 0.2615791857242584], [\",\", 0.022291511297225952], [\"\\\\\\\\r\", 0.0020144011359661818], [\"!\", 0.0008761286153458059]]]}');\n",
       "function handle_mouseover(event) {\n",
       "    el = event.target\n",
       "    idx = el.getAttribute('data-idx');\n",
       "    // image of the weights\n",
       "    document.querySelector('.activations img').src = \"data:image/png;base64,\" + db['images'][idx];\n",
       "    // probability for the top tokens\n",
       "    probs = document.querySelector('.infos .probs');\n",
       "    db['probs'][idx].forEach((vals) => {\n",
       "        div = document.createElement('div');\n",
       "        div.classList.add('prob');\n",
       "        prob = document.createElement('div');\n",
       "        prob.textContent = vals[1].toFixed(2);\n",
       "        token = document.createElement('div');\n",
       "        token.classList.add('token');\n",
       "        if (vals[0] === db['tokens'][idx]) { token.classList.add('current'); }\n",
       "        token.textContent = vals[0]\n",
       "        div.appendChild(prob);\n",
       "        div.appendChild(token);\n",
       "        probs.appendChild(div);\n",
       "    });\n",
       "    // saliency maps for tokens\n",
       "    document.querySelectorAll('.tokens .token').forEach((el, i) => {\n",
       "        if (i < idx) {\n",
       "            value = db['colors'][idx][i];\n",
       "            if (value < 0) {\n",
       "                const t = (value + 1) / 1;\n",
       "                red = Math.round(255 * t);\n",
       "                green = Math.round(255 * t);\n",
       "                blue = Math.round(255 * (1 - t) + 255 * t);\n",
       "            } else {\n",
       "                const t = value / 1;\n",
       "                red = Math.round(255);\n",
       "                green = Math.round(255 * (1 - t));\n",
       "                blue = Math.round(255 * (1 - t));\n",
       "            }\n",
       "            el.style.backgroundColor = `rgb(${red}, ${green}, ${blue})`;\n",
       "        }\n",
       "    });\n",
       "}\n",
       "\n",
       "function handle_mouseout(event) {\n",
       "    document.querySelector('.infos .activations img').src = \"data:image/png;base64,\" + db['default_image'];\n",
       "    document.querySelector('.infos .probs').innerHTML = '';\n",
       "    document.querySelectorAll('.token').forEach((el, i) => {\n",
       "        el.style.backgroundColor = '';\n",
       "    });\n",
       "}\n",
       "\n",
       "function start() {\n",
       "    el = document.querySelector('.container .tokens');\n",
       "    db['tokens'].forEach((token, idx) => {\n",
       "        span = document.createElement('span');\n",
       "        span.textContent = token;\n",
       "        span.setAttribute('class', 'token');\n",
       "        span.setAttribute('data-idx', idx);\n",
       "        span.addEventListener('mouseover', handle_mouseover);\n",
       "        span.addEventListener('mouseout', handle_mouseout);\n",
       "        el.appendChild(span);\n",
       "    });\n",
       "    document.querySelector('.activations img').src = \"data:image/png;base64,\" + db['default_image'];\n",
       "}\n",
       "\n",
       "start();\n",
       "})(); // end scope\n",
       "</script>\n"
      ],
      "text/plain": [
       "<IPython.core.display.HTML object>"
      ]
     },
     "metadata": {},
     "output_type": "display_data"
    }
   ],
   "source": [
    "display_interactive(stacked_lstm, 'Alice, said Alice in a little paper all alomer frog to the end.')"
   ]
  },
  {
   "cell_type": "code",
   "execution_count": null,
   "metadata": {},
   "outputs": [],
   "source": [
    "print(build_html_widget(stacked_lstm, 'Alice, said Alice in a little paper all alomer frog to the end.')"
   ]
  }
 ],
 "metadata": {
  "kernelspec": {
   "display_name": "Python 3",
   "language": "python",
   "name": "python3"
  },
  "language_info": {
   "codemirror_mode": {
    "name": "ipython",
    "version": 3
   },
   "file_extension": ".py",
   "mimetype": "text/x-python",
   "name": "python",
   "nbconvert_exporter": "python",
   "pygments_lexer": "ipython3",
   "version": "3.10.12"
  }
 },
 "nbformat": 4,
 "nbformat_minor": 2
}
