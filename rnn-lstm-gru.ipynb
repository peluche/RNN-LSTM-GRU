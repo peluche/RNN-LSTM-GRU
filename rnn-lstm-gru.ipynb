{
 "cells": [
  {
   "cell_type": "markdown",
   "metadata": {},
   "source": [
    "# RNN / LSTM / GRU"
   ]
  },
  {
   "cell_type": "markdown",
   "metadata": {},
   "source": [
    "## setup"
   ]
  },
  {
   "cell_type": "code",
   "execution_count": 1,
   "metadata": {},
   "outputs": [],
   "source": [
    "from datetime import datetime\n",
    "from torchvision import datasets, transforms\n",
    "import os\n",
    "import wandb\n",
    "import requests\n",
    "import torch as t\n",
    "import torch.nn as nn\n",
    "import torch.nn.functional as F\n",
    "from torch.utils.data import TensorDataset, DataLoader\n",
    "from tqdm.notebook import tqdm\n",
    "\n",
    "device = 'cuda' if t.cuda.is_available() else 'cpu'"
   ]
  },
  {
   "cell_type": "code",
   "execution_count": 141,
   "metadata": {},
   "outputs": [
    {
     "data": {
      "text/plain": [
       "170"
      ]
     },
     "execution_count": 141,
     "metadata": {},
     "output_type": "execute_result"
    }
   ],
   "source": [
    "book.count('ook')"
   ]
  },
  {
   "cell_type": "code",
   "execution_count": 142,
   "metadata": {},
   "outputs": [
    {
     "data": {
      "text/plain": [
       "Counter({'ook': 170,\n",
       "         'oor': 63,\n",
       "         'ood': 45,\n",
       "         'oot': 38,\n",
       "         'oon': 31,\n",
       "         'oom': 23,\n",
       "         'ool': 22,\n",
       "         'oo ': 20,\n",
       "         'ooo': 14,\n",
       "         'oop': 9,\n",
       "         'oof': 6,\n",
       "         'oos': 4,\n",
       "         'oo\\n': 2,\n",
       "         'oo,': 2,\n",
       "         'oo.': 1,\n",
       "         'oo:': 1})"
      ]
     },
     "execution_count": 142,
     "metadata": {},
     "output_type": "execute_result"
    }
   ],
   "source": [
    "from collections import Counter\n",
    "res = []\n",
    "start = 0\n",
    "while (p := book.find('oo', start)) != -1:\n",
    "    res.append(book[p: p + 3])\n",
    "    start = p + 1\n",
    "Counter(res)"
   ]
  },
  {
   "cell_type": "markdown",
   "metadata": {},
   "source": [
    "## utils"
   ]
  },
  {
   "cell_type": "code",
   "execution_count": 2,
   "metadata": {},
   "outputs": [],
   "source": [
    "# download alice in wonderland\n",
    "path = f'data/alice.txt'\n",
    "if not os.path.exists(path):\n",
    "    url = 'https://www.gutenberg.org/cache/epub/11/pg11.txt'\n",
    "    book = requests.get(url).content\n",
    "    book = book.decode('ascii', 'ignore')\n",
    "    with open(path, 'w') as file:\n",
    "        file.write(book)\n",
    "\n",
    "with open(path, 'r') as file:\n",
    "    book = file.read()\n",
    "assert (start := book.find('\\nDown the Rabbit-Hole')) != -1\n",
    "assert (end := book.find('THE END')) != -1\n",
    "book = book[start: end]"
   ]
  },
  {
   "cell_type": "code",
   "execution_count": 3,
   "metadata": {},
   "outputs": [],
   "source": [
    "vocab = set(book)\n",
    "d_vocab = len(vocab)\n",
    "d_hidden = 100\n",
    "d_batch = 10000\n",
    "atoi = {a: i for i, a in enumerate(sorted(vocab))}\n",
    "itoa = {i: a for a, i in atoi.items()}"
   ]
  },
  {
   "cell_type": "code",
   "execution_count": 4,
   "metadata": {},
   "outputs": [],
   "source": [
    "def to_dataloader(text, seq_len=25, batch_size=d_batch):\n",
    "    x = [text[i:i+seq_len] for i in range(0, len(text)-seq_len-1, seq_len // 2)]\n",
    "    y = [text[i+1:i+seq_len+1] for i in range(0, len(text)-seq_len-1, seq_len // 2)]\n",
    "    x = t.tensor([[atoi[a] for a in s] for s in x])\n",
    "    y = t.tensor([[atoi[a] for a in s] for s in y])\n",
    "    dataset = TensorDataset(x, y)\n",
    "    return DataLoader(dataset, batch_size=batch_size, shuffle=True)\n",
    "\n",
    "dataloader = to_dataloader(book, 50)"
   ]
  },
  {
   "cell_type": "code",
   "execution_count": 5,
   "metadata": {},
   "outputs": [],
   "source": [
    "def train(model, dataloader, epochs=2001, d_vocab=d_vocab, opt=None, lr=3e-4, filename='', wnb=True):\n",
    "    model.train()\n",
    "    model = model.to(device)\n",
    "    if opt is None: opt = t.optim.Adam(model.parameters(), lr=lr)\n",
    "    if wnb: wandb.init(project=filename)\n",
    "    for epoch in tqdm(range(epochs)):\n",
    "        for xs, ys in dataloader:\n",
    "            out = model(F.one_hot(xs, num_classes=d_vocab).float().to(device))\n",
    "            loss = F.cross_entropy(out.permute(0, 2, 1), ys.to(device))\n",
    "            opt.zero_grad()\n",
    "            loss.backward()\n",
    "            opt.step()\n",
    "        if wnb:\n",
    "            wandb.log({'loss': loss.item()})\n",
    "        if wnb and epoch % 100 == 0:\n",
    "            wandb.log({'sample_html': wandb.Html(f'<p>{model.sample(d_sample=200)}</p>')})\n",
    "        if epoch % 50 == 0:\n",
    "            print(f'loss={loss.item():.4f}')\n",
    "        if epoch % 1000 == 0:\n",
    "            print(model.sample())\n",
    "        if epoch % 1000 == 0:\n",
    "            t.save(model.state_dict(), f'weights/{filename}_{datetime.now().strftime(\"%Y-%m-%d_%Hh%M\")}.pt')\n",
    "    if wnb: wandb.finish()"
   ]
  },
  {
   "cell_type": "markdown",
   "metadata": {},
   "source": [
    "## Recurrent Neural Networks (RNN)"
   ]
  },
  {
   "cell_type": "markdown",
   "metadata": {},
   "source": [
    "### model"
   ]
  },
  {
   "cell_type": "code",
   "execution_count": 6,
   "metadata": {},
   "outputs": [
    {
     "data": {
      "text/plain": [
       "'A;.]lyshH[ryyQq\\nGUFHYQ_*d, yE!VGS:UwiMui_LHcPI-J-RKuM e?S\\n,yi*t:hGDZ!-ys*Rngmz)XYLT.IM:AvKjhKx[pLReE'"
      ]
     },
     "execution_count": 6,
     "metadata": {},
     "output_type": "execute_result"
    }
   ],
   "source": [
    "class RNN(nn.Module):\n",
    "    def __init__(self, d_in=10, d_hidden=20, d_out=30):\n",
    "        super().__init__()\n",
    "        self.d_hidden = d_hidden\n",
    "        self.embed = nn.Linear(d_in, d_hidden)\n",
    "        self.hidden = nn.Linear(d_hidden, d_hidden)\n",
    "        self.unembed = nn.Linear(d_hidden, d_out)\n",
    "\n",
    "    def forward(self, xs, memory=None, return_memory=False):\n",
    "        # xs: (batch, d_context, d_vocab)\n",
    "        batch, d_context, _ = xs.shape\n",
    "        outs = []\n",
    "        if memory is None: memory = t.zeros(batch, self.hidden.in_features, device=xs.device)\n",
    "        for i in range(d_context):\n",
    "            x = xs[:, i]\n",
    "            memory = F.tanh(self.embed(x) + self.hidden(memory))\n",
    "            outs.append(self.unembed(memory))\n",
    "        if return_memory:\n",
    "            return t.stack(outs, dim=1), memory\n",
    "        return t.stack(outs, dim=1)\n",
    "\n",
    "    @t.no_grad()\n",
    "    def sample(self, seed='A', d_sample=100):\n",
    "        text = seed\n",
    "        x = F.one_hot(t.tensor([atoi[seed]]), num_classes=d_vocab).float().to(device)\n",
    "        h_prev = t.zeros(1, self.d_hidden, device=x.device)\n",
    "        while len(text) < d_sample:\n",
    "            h_prev = F.tanh(self.embed(x) + self.hidden(h_prev))\n",
    "            out = self.unembed(h_prev)\n",
    "            probs = out[0].softmax(-1)\n",
    "            next_sample = t.multinomial(probs, num_samples=1)\n",
    "            text += itoa[next_sample.item()]\n",
    "            x = F.one_hot(next_sample, num_classes=d_vocab).float().to(device)\n",
    "        return text\n",
    "\n",
    "rnn = RNN(d_vocab, d_hidden, d_vocab).to(device)\n",
    "rnn.sample()"
   ]
  },
  {
   "cell_type": "markdown",
   "metadata": {},
   "source": [
    "### train"
   ]
  },
  {
   "cell_type": "code",
   "execution_count": 7,
   "metadata": {},
   "outputs": [],
   "source": [
    "# train(rnn, dataloader, filename='rnn', epochs=50)"
   ]
  },
  {
   "cell_type": "code",
   "execution_count": 8,
   "metadata": {},
   "outputs": [],
   "source": [
    "# print(rnn.sample(d_sample=2000))"
   ]
  },
  {
   "cell_type": "markdown",
   "metadata": {},
   "source": [
    "## Long Short-Term Memory (LSTM)"
   ]
  },
  {
   "cell_type": "markdown",
   "metadata": {},
   "source": [
    "### model"
   ]
  },
  {
   "cell_type": "code",
   "execution_count": 9,
   "metadata": {},
   "outputs": [
    {
     "data": {
      "text/plain": [
       "'ADyCsofivY_DRhXFLBOUpi[WXw;KEZ,Yl_wKBRGp-ZC(o:!z:\\npo[O_FhIVjy\\nf!CqRH.(B\\nHm\\nYWnwe?_UFD?ljPuD)-d(mg!lZ'"
      ]
     },
     "execution_count": 9,
     "metadata": {},
     "output_type": "execute_result"
    }
   ],
   "source": [
    "class LSTMCell(nn.Module):\n",
    "    def __init__(self, d_in, d_hidden):\n",
    "        super().__init__()\n",
    "        self.d_hidden = d_hidden\n",
    "        self.W_f = nn.Linear(d_in + d_hidden, d_hidden)  # forget gate\n",
    "        self.W_i = nn.Linear(d_in + d_hidden, d_hidden)  # input gate\n",
    "        self.W_c = nn.Linear(d_in + d_hidden, d_hidden)  # cell state update\n",
    "        self.W_o = nn.Linear(d_in + d_hidden, d_hidden)  # output gate\n",
    "\n",
    "    def forward(self, x, h_prev, c_prev):\n",
    "        x = t.cat((x, h_prev), dim=1)\n",
    "        # handle long-term memory `C`\n",
    "        f_gate = t.sigmoid(self.W_f(x))\n",
    "        i_gate = t.sigmoid(self.W_i(x))\n",
    "        c_update = t.tanh(self.W_c(x))\n",
    "        c_prev = f_gate * c_prev + i_gate * c_update\n",
    "        # handle short-term memory `h`\n",
    "        o_gate = t.sigmoid(self.W_o(x))\n",
    "        h_prev = o_gate * t.tanh(c_prev)\n",
    "        return h_prev, c_prev\n",
    "\n",
    "class LSTM(nn.Module):\n",
    "    def __init__(self, d_in, d_hidden, d_out):\n",
    "        super().__init__()\n",
    "        self.d_hidden = d_hidden\n",
    "        self.lstm_cell = LSTMCell(d_in, d_hidden)\n",
    "        self.unembed = nn.Linear(d_hidden, d_out)\n",
    "\n",
    "    def forward(self, xs, h_prev=None, c_prev=None):\n",
    "        # xs: (batch, d_context, d_vocab)\n",
    "        batch, d_context, _ = xs.shape\n",
    "        outs = []\n",
    "        if h_prev is None: h_prev = t.zeros(batch, self.d_hidden, device=xs.device)\n",
    "        if c_prev is None: c_prev = t.zeros(batch, self.d_hidden, device=xs.device)\n",
    "        for i in range(d_context):\n",
    "            x = xs[:, i]\n",
    "            h_prev, c_prev = self.lstm_cell(x, h_prev, c_prev)\n",
    "            outs.append(self.unembed(h_prev))\n",
    "        return t.stack(outs, dim=1)\n",
    "\n",
    "    @t.no_grad()\n",
    "    def sample(self, seed='A', d_sample=100):\n",
    "        text = seed\n",
    "        x = F.one_hot(t.tensor([atoi[seed]]), num_classes=d_vocab).float().to(device)\n",
    "        h_prev = t.zeros(1, self.d_hidden, device=x.device)\n",
    "        c_prev = t.zeros(1, self.d_hidden, device=x.device)\n",
    "        while len(text) < d_sample:\n",
    "            h_prev, c_prev = self.lstm_cell(x, h_prev, c_prev)\n",
    "            out = self.unembed(h_prev)\n",
    "            probs = out[0].softmax(-1)\n",
    "            next_sample = t.multinomial(probs, num_samples=1)\n",
    "            text += itoa[next_sample.item()]\n",
    "            x = F.one_hot(next_sample, num_classes=d_vocab).float().to(device)\n",
    "        return text\n",
    "\n",
    "lstm = LSTM(d_vocab, d_hidden, d_vocab).to(device)\n",
    "lstm.sample()"
   ]
  },
  {
   "cell_type": "markdown",
   "metadata": {},
   "source": [
    "### train"
   ]
  },
  {
   "cell_type": "code",
   "execution_count": 10,
   "metadata": {},
   "outputs": [],
   "source": [
    "# train(lstm, dataloader, filename='lstm')"
   ]
  },
  {
   "cell_type": "code",
   "execution_count": null,
   "metadata": {},
   "outputs": [],
   "source": [
    "# print(lstm.sample(d_sample=2000))"
   ]
  },
  {
   "cell_type": "markdown",
   "metadata": {},
   "source": [
    "## Gated Recurrent Unit (GRU)"
   ]
  },
  {
   "cell_type": "markdown",
   "metadata": {},
   "source": [
    "### model"
   ]
  },
  {
   "cell_type": "code",
   "execution_count": 11,
   "metadata": {},
   "outputs": [
    {
     "data": {
      "text/plain": [
       "'AGj_;?sanBE-dBoWZ!*ZT]yfKNXFEYSvupGHs]GfOO-dovxhFDpjyNdax.IY GTyTVdmil,,SMNF?qKYca\\ns;)OfB*SrfOqJNDh?'"
      ]
     },
     "execution_count": 11,
     "metadata": {},
     "output_type": "execute_result"
    }
   ],
   "source": [
    "class GRUCell(nn.Module):\n",
    "    def __init__(self, d_in, d_hidden):\n",
    "        super().__init__()\n",
    "        self.d_hidden = d_hidden\n",
    "        self.W_r = nn.Linear(d_in + d_hidden, d_hidden)  # reset gate\n",
    "        self.W_z = nn.Linear(d_in + d_hidden, d_hidden)  # update gate\n",
    "        self.W_h = nn.Linear(d_in + d_hidden, d_hidden)  # hidden state update\n",
    "\n",
    "    def forward(self, x, h_prev):\n",
    "        cat = t.cat((x, h_prev), dim=1)\n",
    "        r_gate = t.sigmoid(self.W_r(cat))\n",
    "        z_gate = t.sigmoid(self.W_z(cat))\n",
    "        h_candidate = t.tanh(self.W_h(t.cat((x, r_gate * h_prev), dim=1)))\n",
    "        h_prev = (1 - z_gate) * h_prev + z_gate * h_candidate\n",
    "        return h_prev\n",
    "\n",
    "class GRU(nn.Module):\n",
    "    def __init__(self, d_in, d_hidden, d_out):\n",
    "        super().__init__()\n",
    "        self.d_hidden = d_hidden\n",
    "        self.gru_cell = GRUCell(d_in, d_hidden)\n",
    "        self.unembed = nn.Linear(d_hidden, d_out)\n",
    "\n",
    "    def forward(self, xs, h_prev=None):\n",
    "        # xs: (batch, d_context, d_vocab)\n",
    "        batch, d_context, _ = xs.shape\n",
    "        outs = []\n",
    "        if h_prev is None: h_prev = t.zeros(batch, self.d_hidden, device=xs.device)\n",
    "        for i in range(d_context):\n",
    "            x = xs[:, i]\n",
    "            h_prev = self.gru_cell(x, h_prev)\n",
    "            outs.append(self.unembed(h_prev))\n",
    "        return t.stack(outs, dim=1)\n",
    "\n",
    "    @t.no_grad()\n",
    "    def sample(self, seed='A', d_sample=100):\n",
    "        text = seed\n",
    "        x = F.one_hot(t.tensor([atoi[seed]]), num_classes=d_vocab).float().to(device)\n",
    "        h_prev = t.zeros(1, self.d_hidden, device=x.device)\n",
    "        while len(text) < d_sample:\n",
    "            h_prev = self.gru_cell(x, h_prev)\n",
    "            out = self.unembed(h_prev)\n",
    "            probs = out[0].softmax(-1)\n",
    "            next_sample = t.multinomial(probs, num_samples=1)\n",
    "            text += itoa[next_sample.item()]\n",
    "            x = F.one_hot(next_sample, num_classes=d_vocab).float().to(device)\n",
    "        return text\n",
    "\n",
    "gru = GRU(d_vocab, d_hidden, d_vocab).to(device)\n",
    "gru.sample()"
   ]
  },
  {
   "cell_type": "markdown",
   "metadata": {},
   "source": [
    "### train"
   ]
  },
  {
   "cell_type": "code",
   "execution_count": null,
   "metadata": {},
   "outputs": [],
   "source": [
    "# train(gru, dataloader, filename='gru', epochs=50)"
   ]
  },
  {
   "cell_type": "code",
   "execution_count": null,
   "metadata": {},
   "outputs": [],
   "source": [
    "# print(gru.sample(d_sample=2000))"
   ]
  },
  {
   "cell_type": "markdown",
   "metadata": {},
   "source": [
    "## MNIST"
   ]
  },
  {
   "cell_type": "code",
   "execution_count": 12,
   "metadata": {},
   "outputs": [],
   "source": [
    "batch_size=6400\n",
    "vocab_size=10\n",
    "hidden_size=100\n",
    "\n",
    "transform = transforms.Compose([transforms.ToTensor(), transforms.Normalize((0.5,), (0.5,))])\n",
    "trainset = datasets.MNIST('./mnist/', download=True, train=True, transform=transform)\n",
    "testset = datasets.MNIST('./mnist/', download=True, train=False, transform=transform)\n",
    "trainloader = DataLoader(trainset, batch_size=batch_size, shuffle=True)\n",
    "testloader = DataLoader(testset, batch_size=batch_size, shuffle=True)"
   ]
  },
  {
   "cell_type": "code",
   "execution_count": 23,
   "metadata": {},
   "outputs": [],
   "source": [
    "@t.no_grad()\n",
    "def accuracy(model, dataloader=testloader):\n",
    "    model.eval()\n",
    "    correct, total = 0, 0\n",
    "    for xs, ys in dataloader:\n",
    "        out = model(xs.squeeze().to(device))[:, -1]\n",
    "        correct += (out.argmax(-1) == ys.to(device)).sum()\n",
    "        total += len(xs)\n",
    "    model.train()\n",
    "    return correct / total"
   ]
  },
  {
   "cell_type": "code",
   "execution_count": 24,
   "metadata": {},
   "outputs": [],
   "source": [
    "def train_mnist(model, dataloader, epochs=2001, d_vocab=d_vocab, opt=None, lr=3e-4, filename='', wnb=True):\n",
    "    model.train()\n",
    "    model = model.to(device)\n",
    "    if opt is None: opt = t.optim.Adam(model.parameters(), lr=lr)\n",
    "    if wnb: wandb.init(project=filename)\n",
    "    for epoch in tqdm(range(epochs)):\n",
    "        for xs, ys in dataloader:\n",
    "            out = model(xs.squeeze().to(device))[:, -1]\n",
    "            loss = F.cross_entropy(out, ys.to(device))\n",
    "            opt.zero_grad()\n",
    "            loss.backward()\n",
    "            opt.step()\n",
    "        if wnb:\n",
    "            wandb.log({'loss': loss.item(), 'accuracy': accuracy(model)})\n",
    "        if epoch % 50 == 0:\n",
    "            print(f'loss={loss.item():.4f} accuracy={accuracy(model)}')\n",
    "        if epoch % 10000 == 0:\n",
    "            t.save(model.state_dict(), f'weights/{filename}_{datetime.now().strftime(\"%Y-%m-%d_%Hh%M\")}.pt')\n",
    "    if wnb: wandb.finish()"
   ]
  },
  {
   "cell_type": "code",
   "execution_count": null,
   "metadata": {},
   "outputs": [],
   "source": [
    "lstm_mnist = LSTM(28, d_hidden, vocab_size).to(device)\n",
    "train_mnist(lstm_mnist, trainloader, epochs=20)\n",
    "# gru_mnist = GRU(28, hidden_size, vocab_size).to(device)\n",
    "# train_mnist(gru_mnist, trainloader, epochs=30, wnb=False)"
   ]
  },
  {
   "cell_type": "markdown",
   "metadata": {},
   "source": [
    "## Stacked LSTM"
   ]
  },
  {
   "cell_type": "markdown",
   "metadata": {},
   "source": [
    "### model"
   ]
  },
  {
   "cell_type": "code",
   "execution_count": 28,
   "metadata": {},
   "outputs": [
    {
     "data": {
      "text/plain": [
       "'At ,j:j,CMC[toptDxhB_mf-pESmNc[zceB!)_]wnVVDm:Q(XocMylLQ\\nEbYvX.!xeH]!VxlnTJY JDNdIEJCmVLFz\\n*KDybQLy_'"
      ]
     },
     "execution_count": 28,
     "metadata": {},
     "output_type": "execute_result"
    }
   ],
   "source": [
    "class LSTMCell(nn.Module):\n",
    "    def __init__(self, d_in, d_hidden):\n",
    "        super().__init__()\n",
    "        self.d_hidden = d_hidden\n",
    "        self.W_f = nn.Linear(d_in + d_hidden, d_hidden)  # forget gate\n",
    "        self.W_i = nn.Linear(d_in + d_hidden, d_hidden)  # input gate\n",
    "        self.W_c = nn.Linear(d_in + d_hidden, d_hidden)  # cell state update\n",
    "        self.W_o = nn.Linear(d_in + d_hidden, d_hidden)  # output gate\n",
    "\n",
    "    def forward(self, x, h_prev, c_prev):\n",
    "        x = t.cat((x, h_prev), dim=1)\n",
    "        # handle long-term memory `C`\n",
    "        f_gate = t.sigmoid(self.W_f(x))\n",
    "        i_gate = t.sigmoid(self.W_i(x))\n",
    "        c_update = t.tanh(self.W_c(x))\n",
    "        c_prev = f_gate * c_prev + i_gate * c_update\n",
    "        # handle short-term memory `h`\n",
    "        o_gate = t.sigmoid(self.W_o(x))\n",
    "        h_prev = o_gate * t.tanh(c_prev)\n",
    "        return h_prev, c_prev\n",
    "\n",
    "class StackedLSTM(nn.Module):\n",
    "    def __init__(self, d_in, d_hidden, d_out, d_layers):\n",
    "        super().__init__()\n",
    "        self.d_hidden = d_hidden\n",
    "        self.d_layers = d_layers\n",
    "        self.lstm_cells = nn.ModuleList([LSTMCell(d_in if l == 0 else d_hidden, d_hidden) for l in range(d_layers)])\n",
    "        self.unembed = nn.Linear(d_hidden, d_out)\n",
    "\n",
    "    def forward(self, xs, h_prev=None, c_prev=None):\n",
    "        # xs: (batch, d_context, d_vocab)\n",
    "        batch, d_context, _ = xs.shape\n",
    "        outs = []\n",
    "        if h_prev is None: h_prev = t.zeros(self.d_layers, batch, self.d_hidden, device=xs.device)\n",
    "        if c_prev is None: c_prev = t.zeros(self.d_layers, batch, self.d_hidden, device=xs.device)\n",
    "        for i in range(d_context):\n",
    "            x = xs[:, i]\n",
    "            h_next, c_next = [], []\n",
    "            for lstm_cell, h, c in zip(self.lstm_cells, h_prev, c_prev):\n",
    "                h, c = lstm_cell(x, h, c)\n",
    "                h_next.append(h)\n",
    "                c_next.append(c)\n",
    "                x = h\n",
    "            outs.append(self.unembed(h))\n",
    "            h_prev = t.stack(h_next)\n",
    "            c_prev = t.stack(c_next)\n",
    "        return t.stack(outs, dim=1)\n",
    "\n",
    "    @t.no_grad()\n",
    "    def sample(self, seed='A', d_sample=100):\n",
    "        text = seed\n",
    "        h_prev = t.zeros(self.d_layers, 1, self.d_hidden, device=device)\n",
    "        c_prev = t.zeros(self.d_layers, 1, self.d_hidden, device=device)\n",
    "        while len(text) < d_sample:\n",
    "            x = F.one_hot(t.tensor([atoi[text[-1]]]), num_classes=d_vocab).float().to(device)\n",
    "            h_next, c_next = [], []\n",
    "            for lstm_cell, h, c in zip(self.lstm_cells, h_prev, c_prev):\n",
    "                h, c = lstm_cell(x, h, c)\n",
    "                h_next.append(h)\n",
    "                c_next.append(c)\n",
    "                x = h\n",
    "            h_prev = t.stack(h_next)\n",
    "            c_prev = t.stack(c_next)\n",
    "            out = self.unembed(h)\n",
    "            probs = out[0].softmax(-1)\n",
    "            next_sample = t.multinomial(probs, num_samples=1)\n",
    "            text += itoa[next_sample.item()]\n",
    "        return text\n",
    "\n",
    "stacked_lstm = StackedLSTM(d_vocab, d_hidden, d_vocab, 2).to(device)\n",
    "stacked_lstm.sample()"
   ]
  },
  {
   "cell_type": "markdown",
   "metadata": {},
   "source": [
    "### train"
   ]
  },
  {
   "cell_type": "code",
   "execution_count": 29,
   "metadata": {},
   "outputs": [],
   "source": [
    "opt = t.optim.Adam(stacked_lstm.parameters(), lr=1e-3)"
   ]
  },
  {
   "cell_type": "code",
   "execution_count": null,
   "metadata": {},
   "outputs": [],
   "source": [
    "train(stacked_lstm, dataloader, filename='stacked_lstm_2_layers', opt=opt, epochs=10000)"
   ]
  },
  {
   "cell_type": "code",
   "execution_count": 54,
   "metadata": {},
   "outputs": [],
   "source": [
    "# t.save(stacked_lstm.state_dict(), f'weights/stacked_lstm_2_{datetime.now().strftime(\"%Y-%m-%d_%Hh%M\")}.pt')"
   ]
  },
  {
   "cell_type": "code",
   "execution_count": 52,
   "metadata": {},
   "outputs": [],
   "source": [
    "# t.save(atoi, 'weights/atoi.pt')\n",
    "# t.save(itoa, 'weights/itoa.pt')"
   ]
  },
  {
   "cell_type": "code",
   "execution_count": 53,
   "metadata": {},
   "outputs": [
    {
     "name": "stdout",
     "output_type": "stream",
     "text": [
      "Alice.\n",
      "\n",
      "If said Alice, all about at all\n",
      "came down, Down their head look-mucustons, that she sood this the\n",
      "little ot. And then I det on! foothing no morrain anxiously off.\n",
      "\n",
      "You meet about it, after all, that Alice dones of her knowledcy, as must pigsed hard in an angrall!\n",
      "Younerntexily, by the\n",
      "juday to itself for as a curiousige, but she had not gone mysher so speak returned to them, and two out again, and Fares so\n",
      "can remoret\n",
      "Things; and Alice when it some up the began Dormouse instantly one\n",
      "much sobs, what a long\n",
      "ear of managed down: but the Gryphon happens; and because Remake, just as hard in a heaticy. She did not littll whistling in the word.\n",
      "\n",
      "Swouply; so\n",
      "she swimbisted as were irepted opportunitybot extinged the Gryphon, Bill! the King hastily, said the King.\n",
      "\n",
      "Oh, I\n",
      "think (she was and aso sads take them!\n",
      "His nubbsting all that were kickitily\n",
      "to the garden to put be, said the Caterpillar.\n",
      "\n",
      "Well, pale continued that the very moment the right witness one fancy of the pep\n",
      "the chin: but the stupidly has began to it by the hedge. Alice could not, she was haildnts wapked it\n",
      "for two, both contemart, said Alice, thought Alice, added the house suddenly spectace possible wayNothmet!\n",
      "Which was, and yawnipporamed a little pessiderly crossen back in it. She sigh four care the ran; but them, as well said, for said to herself,\n",
      "tongued to sure, while the babytlat? as she gall(not just flow sound!\n",
      "\n",
      "The air.\n",
      "The earsw\n",
      "him some would\n",
      "think you fell have no mode orden again, and at the words for this, or elso.\n",
      "\n",
      "You can to be leaves. I gring in this cheasily.\n",
      "\n",
      "If green frog was them, and a large, worripy arg or trouble!\n",
      "\n",
      "The realls; there\n",
      "wont ton first,\n",
      "that (Soorsable.\n",
      "\n",
      "St a littles\n",
      "dark, certant, and then questiots, because that he would everyther William_ all breaming.\n",
      "\n",
      "But\n",
      "appearing of the tables. Thes head down, and fetch mustering on as\n",
      "he went on at\n",
      "last, turning to Alices\n",
      "of his tont in the other.\n",
      "\n",
      "A dees!_ would or rupby?): It _wave_ Alice with silence.\n",
      "\n",
      "Come, every now an\n"
     ]
    }
   ],
   "source": [
    "print(stacked_lstm.sample(d_sample=2000))"
   ]
  },
  {
   "cell_type": "markdown",
   "metadata": {},
   "source": [
    "## visualize"
   ]
  },
  {
   "cell_type": "markdown",
   "metadata": {},
   "source": [
    "### lib"
   ]
  },
  {
   "cell_type": "code",
   "execution_count": 46,
   "metadata": {},
   "outputs": [],
   "source": [
    "from io import BytesIO\n",
    "from IPython.display import display, HTML\n",
    "import base64\n",
    "import json\n",
    "import matplotlib.pyplot as plt"
   ]
  },
  {
   "cell_type": "code",
   "execution_count": 145,
   "metadata": {},
   "outputs": [],
   "source": [
    "def saliency(self, text):\n",
    "    xs = F.one_hot(t.tensor([[atoi[c] for c in text]]), num_classes=d_vocab).float().to(device)\n",
    "    xs.requires_grad = True\n",
    "    _, d_context, _ = xs.shape\n",
    "    outs = []\n",
    "    h_prev = t.zeros(self.d_layers, 1, self.d_hidden, device=device)\n",
    "    c_prev = t.zeros(self.d_layers, 1, self.d_hidden, device=device)\n",
    "    for i in range(d_context):\n",
    "        x = xs[:, i]\n",
    "        h_next, c_next = [], []\n",
    "        for lstm_cell, h, c in zip(self.lstm_cells, h_prev, c_prev):\n",
    "            h, c = lstm_cell(x, h, c)\n",
    "            h_next.append(h)\n",
    "            c_next.append(c)\n",
    "            x = h\n",
    "        outs.append(self.unembed(h))\n",
    "        h_prev = t.stack(h_next)\n",
    "        c_prev = t.stack(c_next)\n",
    "    saliencies = [()] # nothing caused the first token\n",
    "    for idx, (out, tok) in enumerate(zip(outs, text[1:])):\n",
    "        tok_idx = atoi[tok]\n",
    "        # loss = -out[0, tok_idx]\n",
    "        loss = -out[0, tok_idx] + out[0, :tok_idx].sum() + out[0, tok_idx+1:].sum() \n",
    "\n",
    "        # target = t.tensor([tok_idx]).to(device)\n",
    "        # # print(f'{out.shape=} {target.shape=} {target=}')\n",
    "        # loss = F.cross_entropy(out, target)\n",
    "        xs.grad = None\n",
    "        loss.backward(retain_graph=True)\n",
    "        grads = []\n",
    "        for i in range(idx + 1):\n",
    "            inp_idx = atoi[text[i]]\n",
    "            grads.append(xs.grad[0, i, inp_idx].item())\n",
    "        saliencies.append(grads)\n",
    "    return saliencies\n",
    "\n",
    "def stats(self, text):\n",
    "    xs = F.one_hot(t.tensor([[atoi[c] for c in text]]), num_classes=d_vocab).float().to(device)\n",
    "    batch, d_context, _ = xs.shape\n",
    "    outs = []\n",
    "    hs = []\n",
    "    h_prev = t.zeros(self.d_layers, batch, self.d_hidden, device=xs.device)\n",
    "    c_prev = t.zeros(self.d_layers, batch, self.d_hidden, device=xs.device)\n",
    "    for i in range(d_context):\n",
    "        x = xs[:, i]\n",
    "        h_next, c_next = [], []\n",
    "        for lstm_cell, h, c in zip(self.lstm_cells, h_prev, c_prev):\n",
    "            h, c = lstm_cell(x, h, c)\n",
    "            h_next.append(h)\n",
    "            c_next.append(c)\n",
    "            x = h\n",
    "        hs.append(h)\n",
    "        outs.append(self.unembed(h))\n",
    "        h_prev = t.stack(h_next)\n",
    "        c_prev = t.stack(c_next)\n",
    "    return t.stack(outs, dim=1), t.stack(hs, dim=1)\n",
    "\n",
    "StackedLSTM.saliency = saliency\n",
    "StackedLSTM.stats = stats"
   ]
  },
  {
   "cell_type": "code",
   "execution_count": 84,
   "metadata": {},
   "outputs": [],
   "source": [
    "def to_b64_img(activation, width=10):\n",
    "    size = activation.shape[0]\n",
    "    assert size % width == 0\n",
    "    activation = activation.detach().cpu()\n",
    "\n",
    "    activation = activation.view(-1, 10)\n",
    "    plt.figure(figsize=(2, 2))\n",
    "    plt.imshow(activation)\n",
    "    plt.axis('off')\n",
    "    plt.tight_layout()\n",
    "    buf = BytesIO()\n",
    "    plt.savefig(buf, format='png')\n",
    "    plt.close()\n",
    "    return base64.b64encode(buf.getvalue()).decode('utf-8')\n",
    "\n",
    "def norm_saliencies(saliencies):\n",
    "    import pprint; pprint.pp(saliencies)\n",
    "    # print(f'{saliencies}')\n",
    "    maxi = max([s for saliency in saliencies for s in saliency])\n",
    "    mini = min([s for saliency in saliencies for s in saliency])\n",
    "    scale = max(maxi, abs(mini))\n",
    "    return [[s / scale for s in saliency] for saliency in saliencies]\n",
    "\n",
    "def to_ch(v):\n",
    "    token = itoa[v]\n",
    "    # prevent my json to explode\n",
    "    if token == '\\r': token = '\\\\\\\\r'\n",
    "    elif token == '\\n': token = '\\\\\\\\n'\n",
    "    return token\n",
    "\n",
    "def to_probs(out, token, k=5):\n",
    "    probs = out.softmax(dim=-1)\n",
    "    tops = probs.topk(k)\n",
    "    pairs = [[to_ch(i.item()), v.item()] for i, v in zip(tops.indices, tops.values)]\n",
    "    if token not in [p for p, _ in pairs]:\n",
    "        pairs += [['...', 0.], [token, probs[atoi[token]].item()]]\n",
    "    return pairs\n",
    "\n",
    "def get_db(model, tokens):\n",
    "    model.eval()\n",
    "    db = {}\n",
    "    default_img = to_b64_img(t.zeros(100))\n",
    "    outs, activations = model.stats(tokens)\n",
    "    outs, activations = outs[0], activations[0]\n",
    "    db['default_image'] = default_img\n",
    "    db['tokens'] = list(tokens) if isinstance(tokens, str) else tokens\n",
    "    db['colors'] = norm_saliencies(model.saliency(tokens))\n",
    "    db['images'] = [default_img] + [to_b64_img(activation) for activation in activations]\n",
    "    db['probs'] = [[]] + [to_probs(out, token) for out, token in zip(outs, tokens[1:])]\n",
    "    return json.dumps(db)"
   ]
  },
  {
   "cell_type": "code",
   "execution_count": 85,
   "metadata": {},
   "outputs": [],
   "source": [
    "start_template = '''\n",
    "<style>\n",
    ".container {\n",
    "    display: flex;\n",
    "    width: 100%;\n",
    "    gap: 50px;\n",
    "    align-items: flex-start;\n",
    "}\n",
    ".infos {\n",
    "    flex: 0 0 auto;\n",
    "    display: flex;\n",
    "    flex-direction: column;\n",
    "    gap: 20px;\n",
    "}\n",
    ".current {\n",
    "    background-color: green;\n",
    "}\n",
    ".prob {\n",
    "    display: flex;\n",
    "    gap: 20px;\n",
    "}\n",
    ".activations {\n",
    "}\n",
    ".probs .token {\n",
    "    min-width: 8px;\n",
    "    min-height: 16px;\n",
    "}\n",
    ".tokens {\n",
    "    flex: 1 1 auto;\n",
    "    display: flex;\n",
    "    flex-wrap: wrap;\n",
    "    gap: 10px;\n",
    "}\n",
    ".token {\n",
    "    border: 1px solid grey;\n",
    "    padding: 3px 10px 3px 10px;\n",
    "}\n",
    "</style>\n",
    "    \n",
    "<div class=\"container\">\n",
    "    <div class=\"infos\">\n",
    "        <div class=\"activations\"><img /></div>\n",
    "        <div class=\"probs\"></div>\n",
    "    </div>\n",
    "    <div class=\"tokens\"></div>\n",
    "</div>\n",
    "<script>\n",
    "(() => { // start scope\n",
    "'''\n",
    "\n",
    "end_template = '''\n",
    "function handle_mouseover(event) {\n",
    "    el = event.target\n",
    "    idx = el.getAttribute('data-idx');\n",
    "    // image of the weights\n",
    "    document.querySelector('.activations img').src = \"data:image/png;base64,\" + db['images'][idx];\n",
    "    // probability for the top tokens\n",
    "    probs = document.querySelector('.infos .probs');\n",
    "    db['probs'][idx].forEach((vals) => {\n",
    "        div = document.createElement('div');\n",
    "        div.classList.add('prob');\n",
    "        prob = document.createElement('div');\n",
    "        prob.textContent = vals[1].toFixed(2);\n",
    "        token = document.createElement('div');\n",
    "        token.classList.add('token');\n",
    "        if (vals[0] === db['tokens'][idx]) { token.classList.add('current'); }\n",
    "        token.textContent = vals[0]\n",
    "        div.appendChild(prob);\n",
    "        div.appendChild(token);\n",
    "        probs.appendChild(div);\n",
    "    });\n",
    "    // saliency maps for tokens\n",
    "    document.querySelectorAll('.tokens .token').forEach((el, i) => {\n",
    "        if (i < idx) {\n",
    "            value = db['colors'][idx][i];\n",
    "            if (value < 0) {\n",
    "                const t = (value + 1) / 1;\n",
    "                red = Math.round(255 * t);\n",
    "                green = Math.round(255 * t);\n",
    "                blue = Math.round(255 * (1 - t) + 255 * t);\n",
    "            } else {\n",
    "                const t = value / 1;\n",
    "                red = Math.round(255);\n",
    "                green = Math.round(255 * (1 - t));\n",
    "                blue = Math.round(255 * (1 - t));\n",
    "            }\n",
    "            el.style.backgroundColor = `rgb(${red}, ${green}, ${blue})`;\n",
    "        }\n",
    "    });\n",
    "}\n",
    "\n",
    "function handle_mouseout(event) {\n",
    "    document.querySelector('.infos .activations img').src = \"data:image/png;base64,\" + db['default_image'];\n",
    "    document.querySelector('.infos .probs').innerHTML = '';\n",
    "    document.querySelectorAll('.token').forEach((el, i) => {\n",
    "        el.style.backgroundColor = '';\n",
    "    });\n",
    "}\n",
    "\n",
    "function start() {\n",
    "    el = document.querySelector('.container .tokens');\n",
    "    db['tokens'].forEach((token, idx) => {\n",
    "        span = document.createElement('span');\n",
    "        span.textContent = token;\n",
    "        span.setAttribute('class', 'token');\n",
    "        span.setAttribute('data-idx', idx);\n",
    "        span.addEventListener('mouseover', handle_mouseover);\n",
    "        span.addEventListener('mouseout', handle_mouseout);\n",
    "        el.appendChild(span);\n",
    "    });\n",
    "    document.querySelector('.activations img').src = \"data:image/png;base64,\" + db['default_image'];\n",
    "}\n",
    "\n",
    "start();\n",
    "})(); // end scope\n",
    "</script>\n",
    "'''\n",
    "\n",
    "def build_html_widget(model, tokens):\n",
    "    db_json = get_db(model, tokens)\n",
    "    db_str = f\"var db = JSON.parse('{db_json}');\"\n",
    "    return start_template + db_str + end_template\n",
    "\n",
    "def display_interactive(model, tokens):\n",
    "    html = build_html_widget(model, tokens)\n",
    "    display(HTML(html))"
   ]
  },
  {
   "cell_type": "markdown",
   "metadata": {},
   "source": [
    "### demo"
   ]
  },
  {
   "cell_type": "code",
   "execution_count": 151,
   "metadata": {},
   "outputs": [
    {
     "name": "stdout",
     "output_type": "stream",
     "text": [
      "[(),\n",
      " [-22.948497772216797],\n",
      " [233.74111938476562, -153.18177795410156],\n",
      " [216.52685546875, 166.88705444335938, -107.04142761230469],\n",
      " [15.622486114501953,\n",
      "  85.49520111083984,\n",
      "  151.9036865234375,\n",
      "  -169.47808837890625]]\n"
     ]
    },
    {
     "data": {
      "text/html": [
       "\n",
       "<style>\n",
       ".container {\n",
       "    display: flex;\n",
       "    width: 100%;\n",
       "    gap: 50px;\n",
       "    align-items: flex-start;\n",
       "}\n",
       ".infos {\n",
       "    flex: 0 0 auto;\n",
       "    display: flex;\n",
       "    flex-direction: column;\n",
       "    gap: 20px;\n",
       "}\n",
       ".current {\n",
       "    background-color: green;\n",
       "}\n",
       ".prob {\n",
       "    display: flex;\n",
       "    gap: 20px;\n",
       "}\n",
       ".activations {\n",
       "}\n",
       ".probs .token {\n",
       "    min-width: 8px;\n",
       "    min-height: 16px;\n",
       "}\n",
       ".tokens {\n",
       "    flex: 1 1 auto;\n",
       "    display: flex;\n",
       "    flex-wrap: wrap;\n",
       "    gap: 10px;\n",
       "}\n",
       ".token {\n",
       "    border: 1px solid grey;\n",
       "    padding: 3px 10px 3px 10px;\n",
       "}\n",
       "</style>\n",
       "    \n",
       "<div class=\"container\">\n",
       "    <div class=\"infos\">\n",
       "        <div class=\"activations\"><img /></div>\n",
       "        <div class=\"probs\"></div>\n",
       "    </div>\n",
       "    <div class=\"tokens\"></div>\n",
       "</div>\n",
       "<script>\n",
       "(() => { // start scope\n",
       "var db = JSON.parse('{\"default_image\": \"iVBORw0KGgoAAAANSUhEUgAAAMgAAADICAYAAACtWK6eAAAAOXRFWHRTb2Z0d2FyZQBNYXRwbG90bGliIHZlcnNpb24zLjguMywgaHR0cHM6Ly9tYXRwbG90bGliLm9yZy/H5lhTAAAACXBIWXMAAA9hAAAPYQGoP6dpAAACMUlEQVR4nO3VsQ3CABAEQWzRGiVQJSW4N94NoA3AyA5m8pcuWf0yM3MDPlrPHgBXJhAIAoEgEAgCgSAQCAKBIBAIAoEgEAgCgSAQCAKBIBAI91+OH+vzqB3wN9v79fWtDwJBIBAEAkEgEAQCQSAQBAJBIBAEAkEgEAQCQSAQBAJBIBAEAkEgEAQCQSAQBAJBIBAEAkEgEAQCQSAQBAJBIBAEAkEgEAQCQSAQBAJBIBAEAkEgEAQCQSAQBAJBIBAEAkEgEAQCQSAQBAJBIBAEAkEgEAQCQSAQBAJBIBAEAkEgEAQCQSAQBAJBIBAEAkEgEAQCQSAQBAJBIBAEAkEgEAQCQSAQBAJBIBAEAkEgEAQCQSAQBAJBIBAEAkEgEAQCQSAQBAJBIBAEAkEgEAQCQSAQBAJBIBAEAkEgEAQCQSAQBAJBIBAEAkEgEAQCQSAQBAJBIBAEAkEgEAQCQSAQBAJBIBAEAkEgEAQCQSAQBAJBIBAEAkEgEAQCQSAQBAJBIBAEAkEgEAQCQSAQBAJBIBAEAkEgEAQCQSAQBAJBIBAEAkEgEAQCQSAQBAJBIBAEAkEgEAQCQSAQBAJBIBAEAkEgEAQCQSAQBAJBIBAEAkEgEAQCQSAQBAJBIBAEAkEgEAQCQSAQBAJBIBAEAkEgEAQCQSAQBAJBIBAEAkEgEAQCQSAQBAJhmZk5ewRclQ8CQSAQBAJBIBAEAkEgEAQCQSAQBAJBIBAEAkEgEAQCQSAQdojZDIlbNNQ3AAAAAElFTkSuQmCC\", \"tokens\": [\"Q\", \"u\", \"e\", \"e\", \"n\"], \"colors\": [[], [-0.09817912155387964], [1.0, -0.6553480121824272], [0.9263532922177937, 0.7139824387023811, -0.45794863947794223], [0.06683670445158384, 0.36576876732631963, 0.6498800336169607, -0.7250674970026356]], \"images\": [\"iVBORw0KGgoAAAANSUhEUgAAAMgAAADICAYAAACtWK6eAAAAOXRFWHRTb2Z0d2FyZQBNYXRwbG90bGliIHZlcnNpb24zLjguMywgaHR0cHM6Ly9tYXRwbG90bGliLm9yZy/H5lhTAAAACXBIWXMAAA9hAAAPYQGoP6dpAAACMUlEQVR4nO3VsQ3CABAEQWzRGiVQJSW4N94NoA3AyA5m8pcuWf0yM3MDPlrPHgBXJhAIAoEgEAgCgSAQCAKBIBAIAoEgEAgCgSAQCAKBIBAI91+OH+vzqB3wN9v79fWtDwJBIBAEAkEgEAQCQSAQBAJBIBAEAkEgEAQCQSAQBAJBIBAEAkEgEAQCQSAQBAJBIBAEAkEgEAQCQSAQBAJBIBAEAkEgEAQCQSAQBAJBIBAEAkEgEAQCQSAQBAJBIBAEAkEgEAQCQSAQBAJBIBAEAkEgEAQCQSAQBAJBIBAEAkEgEAQCQSAQBAJBIBAEAkEgEAQCQSAQBAJBIBAEAkEgEAQCQSAQBAJBIBAEAkEgEAQCQSAQBAJBIBAEAkEgEAQCQSAQBAJBIBAEAkEgEAQCQSAQBAJBIBAEAkEgEAQCQSAQBAJBIBAEAkEgEAQCQSAQBAJBIBAEAkEgEAQCQSAQBAJBIBAEAkEgEAQCQSAQBAJBIBAEAkEgEAQCQSAQBAJBIBAEAkEgEAQCQSAQBAJBIBAEAkEgEAQCQSAQBAJBIBAEAkEgEAQCQSAQBAJBIBAEAkEgEAQCQSAQBAJBIBAEAkEgEAQCQSAQBAJBIBAEAkEgEAQCQSAQBAJBIBAEAkEgEAQCQSAQBAJBIBAEAkEgEAQCQSAQBAJBIBAEAkEgEAQCQSAQBAJhmZk5ewRclQ8CQSAQBAJBIBAEAkEgEAQCQSAQBAJBIBAEAkEgEAQCQSAQdojZDIlbNNQ3AAAAAElFTkSuQmCC\", \"iVBORw0KGgoAAAANSUhEUgAAAMgAAADICAYAAACtWK6eAAAAOXRFWHRTb2Z0d2FyZQBNYXRwbG90bGliIHZlcnNpb24zLjguMywgaHR0cHM6Ly9tYXRwbG90bGliLm9yZy/H5lhTAAAACXBIWXMAAA9hAAAPYQGoP6dpAAAEzElEQVR4nO3dS4iVdRzG8XPMO80owzQlY8RkZglOWmNBRCKBYRDmJpyuqwiyi4Z0kRaFBC1aBIUUuVMig4Qiory0CcIICwmVMiNDqQkCx3SabJy3Vbt4FucX6OLz2b8PL5zz5b/687abpmlawH+acqFfAC5mAoFAIBAIBAKBQCAQCAQCgUAgEAgEAoFAIBAIBAKBQCAQCKZWHl6xb1P5BY4fnlfe6D5W7/zWB78ub3z6+dLyxqKtI+WNLXt2ljfW7XyqvLHg/TPljZGbu8obB1/f2PGzThAIBAKBQCAQCAQCgUAgEAgEAoFAIBAIBAKBQCAQCAQCgUAgEAgEAoFAULowNWNzd/kFpm0aK2+cmZhd3tj/y1XljYP3vlbeGOx9rLzx0eml5Y2+A5PljRN31C87nV14rrxR4QSBQCAQCAQCgUAgEAgEAoFAIBAIBAKBQCAQCAQCgUAgEAgEAoFAIBAIBKULUyPL6xdi7lzwVXlj0ZJfyxs/jfeWN2a0p5U3hq4+Xt54rvdgeWP41frvMrPdlDdW7N1Q3qhwgkAgEAgEAoFAIBAIBAKBQCAQCAQCgUAgEAgEAoFAIBAIBAKBQCAQCASCdtM0Hd9qWTXrgfILbDu6r7xx9yvPlDf+h/tSrclp9QtCAx/8Ud4Y3fJneWNs9+XljdOL/y5vzO6pf4HsyNoXO37WCQKBQCAQCAQCgUAgEAgEAoFAIBAIBAKBQCAQCAQCgUAgEAgEAoFAIBAISl+YOvnETeUXWHe4v7wx98f6xZyRnvrXoc7Pql+YOnXdpeWN7i2XlDdmvnSyvPHWgl3ljfs/XF/eqHCCQCAQCAQCgUAgEAgEAoFAIBAIBAKBQCAQCAQCgUAgEAgEAoFAIBAIBILShanxG+tf/+mbOlHeePqN7eWNFw7dU944d3RueWPOjv3lje+3DZU31vTUL0wNf/ZoeePaJSfKGxVOEAgEAoFAIBAIBAKBQCAQCAQCgUAgEAgEAoFAIBAIBAKBQCAQCAQCgUBQujA1cab+Vabpj/xe3th62aryxqnNXeWNKfUPO7VGP76mvDH12/rvcm6y9NdotVqt1qrBQ+WNPV8OljdaKzt/1AkCgUAgEAgEAoFAIBAIBAKBQCAQCAQCgUAgEAgEAoFAIBAIBAKBQCAQCNpN0zSdPrzr2LLyC7x9+23ljcMvzy9vdPWcLW/MnzNa3nhv4a7yxpqH1pc3xq6oX7oaWP9deWPZnJ/LG88u/qTjZ50gEAgEAoFAIBAIBAKBQCAQCAQCgUAgEAgEAoFAIBAIBAKBQCAQCAQCgaD0GaGNe+4rv0D7+XZ548r+38obp3bPK2/89c3s8sbSuzaUN37Y8WZ5Y/Xq4fLGkXeuL290PTxe3qhwgkAgEAgEAoFAIBAIBAKBQCAQCAQCgUAgEAgEAoFAIBAIBAKBQCAQCASC0oWp5YPHyi+wfaDzr//8a+3KdeWN6f31izkjT9Y3+t6tf9np8RW3lDcmumeWN0YXnS9v7P3ihvJGa6jzR50gEAgEAoFAIBAIBAKBQCAQCAQCgUAgEAgEAoFAIBAIBAKBQCAQCAQCgaDdNE1zoV8CLlZOEAgEAoFAIBAIBAKBQCAQCAQCgUAgEAgEAoFAIBAIBAKBQCAQ/AMq3qRR5q2AFQAAAABJRU5ErkJggg==\", \"iVBORw0KGgoAAAANSUhEUgAAAMgAAADICAYAAACtWK6eAAAAOXRFWHRTb2Z0d2FyZQBNYXRwbG90bGliIHZlcnNpb24zLjguMywgaHR0cHM6Ly9tYXRwbG90bGliLm9yZy/H5lhTAAAACXBIWXMAAA9hAAAPYQGoP6dpAAAEvklEQVR4nO3dS4jVZQDG4TOWjZplGpHQxUtmCV2xbBFpLZKum6jAXHRZREgRRUSLaBEIgRQtJCYIklYSsxjCLpsgELogQdTCqAjLCjW0TE3NGU+7VvEu5iWKeJ79eflzZn7nW338R4bD4XAA/K0Z//YDwH+ZQCAQCAQCgUAgEAgEAoFAIBAIBAKBQCAQCAQCgUAgEAgEglObDy/durF+gOHeWfXGnJ/6zifn1BODY+dO1hsrNv9ab7z87uv1xpsHV9Ybb2y7qd5YtmVfvfHely9M+7NOEAgEAoFAIBAIBAKBQCAQCAQCgUAgEAgEAoFAIBAIBAKBQCAQCAQCgUBQXZha9Nop9QN8v3ak3pj7w8l64+dr6onBh3e8VG/c8PtT9cbXJ86uN3450d8gG/21/9seWHVOvdFwgkAgEAgEAoFAIBAIBAKBQCAQCAQCgUAgEAgEAoFAIBAIBAKBQCAQCASC6sLUd7fNrB/gtMWH6o1n7x6vN946cHW9sf3YefXGjBP9JaPrRvfXG2sX7qg35q4/Xm/suO+yeqPhBIFAIBAIBAKBQCAQCAQCgUAgEAgEAoFAIBAIBAKBQCAQCAQCgUAgEAgE1YWpeV/1l3vG7xmrNx5ZfEO9ceSuK+qN3TsvqDcWLp+qNx5dfWe98cW2S+uN9everzd2Pn5mvdFwgkAgEAgEAoFAIBAIBAKBQCAQCAQCgUAgEAgEAoFAIBAIBAKBQCAQCASC6sLU5Oz+wtTN40/VG0uuP1Zv7Lu2/6348ZZ59caiiWG9sff5pfXGWWf2F7fWzN1Zb3x8yZJ6o+EEgUAgEAgEAoFAIBAIBAKBQCAQCAQCgUAgEAgEAoFAIBAIBAKBQCAQCATVhakjF56sH2Bq/mS9cfurH9QbF4/uqTee2/RgvTH69kf1xprPj9YbC049XG88/cyGeuOnG/v/sUHxAjInCAQCgUAgEAgEAoFAIBAIBAKBQCAQCAQCgUAgEAgEAoFAIBAIBAKBQCCoLkwtH9tXP8DI0eP1xubHb603puafqDdGLu8v9xwYW1VvnLLuYL2x87H+bVmnL+1/f0fm9H+XhhMEAoFAIBAIBAKBQCAQCAQCgUAgEAgEAoFAIBAIBAKBQCAQCAQCgUAgEIwMh8PhdD+8fddF9QPc//FD9cbU0ere12AwGAyWLd5bb8ycMVVv7Nq/oN74Y9fcemPZ1v4NU3Ne6r/T3b/Nrzc+vW3jtD/rBIFAIBAIBAKBQCAQCAQCgUAgEAgEAoFAIBAIBAKBQCAQCAQCgUAgEAgE1U2jh3Y8UD/AZ6vH6o1N+1fWGxNb1tQbR87v3zA1e0//m/XNE6/UG1fu3lBvHNt+Rr0xsf7FemMwcGEK/hECgUAgEAgEAoFAIBAIBAKBQCAQCAQCgUAgEAgEAoFAIBAIBAKBQCCoLkytWNi/QWh0ZGa98cmq/o1Ks+6d9ou2/nLoqj/qjclDs+qNJRMP1xsr3tlTbxze3H+nd44/WW98W0w4QSAQCAQCgUAgEAgEAoFAIBAIBAKBQCAQCAQCgUAgEAgEAoFAIBAIBALByHA47G+1wP+UEwQCgUAgEAgEAoFAIBAIBAKBQCAQCAQCgUAgEAgEAoFAIBAIBH8CySumJkQJhNwAAAAASUVORK5CYII=\", \"iVBORw0KGgoAAAANSUhEUgAAAMgAAADICAYAAACtWK6eAAAAOXRFWHRTb2Z0d2FyZQBNYXRwbG90bGliIHZlcnNpb24zLjguMywgaHR0cHM6Ly9tYXRwbG90bGliLm9yZy/H5lhTAAAACXBIWXMAAA9hAAAPYQGoP6dpAAAEv0lEQVR4nO3d3WvWZRzH8W2uMFkNqlm6MlrIyLKDhKCDqJaVNrMkpAckEOokKdpKJNKDCAIhqPWgdVIQUhSVUCRJWEkSRUIm0YMrm0gzjGLTOXy++wfic3B/BSNer/Pfh+s+eHMdXdytjUaj0QL8q7bTfQD4LxMIBAKBQCAQCAQCgUAgEAgEAoFAIBAIBAKBQCAQCAQCgUDQXvn4zeFrygd4YsvS8sactfvKG6O3X1zeGBpcV95Ye91t5Y0NX71b3jjRUn8FsaznxvLGyJp55Y1dqweb/tYNAoFAIBAIBAKBQCAQCAQCgUAgEAgEAoFAIBAIBAKBQCAQCAQCgUAgEAhKD6beWHJz+QBtD5yCRo8eK08c6DlZ3uhpnyhv/PTYrPLG4Ub9txw+Bf8as/up+mOn2S/+Vj/I6uY/dYNAIBAIBAKBQCAQCAQCgUAgEAgEAoFAIBAIBAKBQCAQCAQCgUAgEAgEgtKDqTPXj5cPsGr6tvLGsQVTyhs3nBwub1z//uPljZlf1F8qTb97WnnjSON4eeOde58vbyw59+HyRoUbBAKBQCAQCAQCgUAgEAgEAoFAIBAIBAKBQCAQCAQCgUAgEAgEAoFAIBCUHkztefuy8gG6B7eWN17uX1Te+HVZV3mjd2hXeWO8b3Z546PJjvLGsyuXlTf6n/6svPHWLevLGy0tK5v+0g0CgUAgEAgEAoFAIBAIBAKBQCAQCAQCgUAgEAgEAoFAIBAIBAKBQCAQCEoPpiZn1P8N6fMDl5c3WicPlzcG7vqgvLF25sLyRu8rh8obr86/qbyxb0X9X7vu7/y2vHG6uUEgEAgEAoFAIBAIBAKBQCAQCAQCgUAgEAgEAoFAIBAIBAKBQCAQCAQCQenB1NS5Y+UDPHjetvJG15et5Y0TLfXHX69vXVzeaHyzvbxxcPOl5Y0frnypvNG/dEV5Y8rEkfLG5h3Nf+sGgUAgEAgEAoFAIBAIBAKBQCAQCAQCgUAgEAgEAoFAIBAIBAKBQCAQCASlB1Pdy/8oH2DgnHvKG8f37C1vjG6cU944Mav+cGvaJ5eUN85efrS80bvqofrG5MHyxsiaM8obFW4QCAQCgUAgEAgEAoFAIBAIBAKBQCAQCAQCgUAgEAgEAoFAIBAIBAKBQNDaaDSa/mulidH6456+nfeVN/YPn1/emNo9Ud549IpPyxvvjV5d3miZ/3t5oq2jo7wx9P3H5Y0X9veVN9bN29D0t24QCAQCgUAgEAgEAoFAIBAIBAKBQCAQCAQCgUAgEAgEAoFAIBAIBAKBQFB6MPXh7rnlA2weq2/8PH5BeeOX7y4qb5wKvc8Mlzc27dxS3li4oP7PX637/ipvbNyxqbxx1oyRpr91g0AgEAgEAoFAIBAIBAKBQCAQCAQCgUAgEAgEAoFAIBAIBAKBQCAQCASC9srH2w/1lA/w3IyvyxuL71hU3ujt/Lu88eNAZ3mjcWFXeePO4VvLG21/jpU3rt2yt7xx1WuPlDeGn2z+WzcIBAKBQCAQCAQCgUAgEAgEAoFAIBAIBAKBQCAQCAQCgUAgEAgEAoFAICj9wxT837lBIBAIBAKBQCAQCAQCgUAgEAgEAoFAIBAIBAKBQCAQCAQCgUDwD7Tjr8Vv0sf/AAAAAElFTkSuQmCC\", \"iVBORw0KGgoAAAANSUhEUgAAAMgAAADICAYAAACtWK6eAAAAOXRFWHRTb2Z0d2FyZQBNYXRwbG90bGliIHZlcnNpb24zLjguMywgaHR0cHM6Ly9tYXRwbG90bGliLm9yZy/H5lhTAAAACXBIWXMAAA9hAAAPYQGoP6dpAAAEw0lEQVR4nO3dzYuVdRzG4Tm+jIpWSqZWVpiTaWIUQZjRooLCMMJeSDKJohcoF1GSQYJMLRSFCCFEdFG0sAajEbQ0ibQWQvRii8qp4ZjBOAVJ1iJxmHr6B+JenK9gxHXtn5vf5nN+m/PwtJqmabqAfzXmXB8A/ssEAoFAIBAIBAKBQCAQCAQCgUAgEAgEAoFAIBAIBAKBQCAQjKs8vHD3+vIBNi96t7yx+r3HyhvN2Pq//vuWbylvvDT/lvLG3vbh8saZZrS8sXz2jeWNcVdcVt744NirHT/rBoFAIBAIBAKBQCAQCAQCgUAgEAgEAoFAIBAIBAKBQCAQCAQCgUAgEAgEpRemzgxcUD7AM8ceLW/M3zpc3ji6elZ549ruseWNHzZcX9443Rwqb4w5C7+dp1bdVN6Y/ulQeaPCDQKBQCAQCAQCgUAgEAgEAoFAIBAIBAKBQCAQCAQCgUAgEAgEAoFAIBAIWk3TdPxppW9+urR8gFn1d4y6Xhy+vbwxZeyZ8kb/J/UvKl14pFXe+GzD1vLGb3/9Wd4Y36r//m4+eUN545VF/R0/6waBQCAQCAQCgUAgEAgEAoFAIBAIBAKBQCAQCAQCgUAgEAgEAoFAIBAIBKUvTD20aU35ABPv/qW8Me3Z+ktG370wtbyxYGO7vDGw9sryxsHT9d+9tb3PlzcmrPy5vLFl3tvljQo3CAQCgUAgEAgEAoFAIBAIBAKBQCAQCAQCgUAgEAgEAoFAIBAIBAKBQCAovTD1R8/f5QOsm3ugvLFj0rLyxpd3bClv3HXJqvLG5a+Nljc2bbu3vHHy8fJE14qZg+WNBd3n9jfcDQKBQCAQCAQCgUAgEAgEAoFAIBAIBAKBQCAQCAQCgUAgEAgEAoFAIBAISi9MTT9S/7LTbQ/Uv0K0bO+b5Y2urvHlhZH+GeWN8/cfLm90H5pZ3hjo6StvXL3z6fLGF71Tyxv7f+/8WTcIBAKBQCAQCAQCgUAgEAgEAoFAIBAIBAKBQCAQCAQCgUAgEAgEAoFAICi9MPXrdU35AA8vvr+8MTp0oryx5OuR8sbMj+ovf7V7l5Q35q5olzdufeO+8sZ57frv74m3Zpc3KtwgEAgEAoFAIBAIBAKBQCAQCAQCgUAgEAgEAoFAIBAIBAKBQCAQCAQCgaD0wtTRB18vH+DOfU+VN45vrH9RafDjCeWN9Xt21TcOLS9vjA7XX9yafM/E8sa+wXfKG4s/f6S8UeEGgUAgEAgEAoFAIBAIBAKBQCAQCAQCgUAgEAgEAoFAIBAIBAKBQCAQCAStpmk6/kzUvF0vlw8wMjy5vLF92fbyxpO7nyhvdJ+q/97M2TZY3nj/qw/LG0t76l+66mq1yhP93x8sb0y6+MeOn3WDQCAQCAQCgUAgEAgEAoFAIBAIBAKBQCAQCAQCgUAgEAgEAoFAIBAIBILSF6ZGj08pH6C9cmt5Y+lVN5c35s8YLm98u+6i8sbZMGdP/eWva6YNlTd2HO4rbyzcuaa80X6u82fdIBAIBAKBQCAQCAQCgUAgEAgEAoFAIBAIBAKBQCAQCAQCgUAgEAgEAoGg9IUp+L9zg0AgEAgEAoFAIBAIBAKBQCAQCAQCgUAgEAgEAoFAIBAIBAKB4B8LmaWtykpYQQAAAABJRU5ErkJggg==\", \"iVBORw0KGgoAAAANSUhEUgAAAMgAAADICAYAAACtWK6eAAAAOXRFWHRTb2Z0d2FyZQBNYXRwbG90bGliIHZlcnNpb24zLjguMywgaHR0cHM6Ly9tYXRwbG90bGliLm9yZy/H5lhTAAAACXBIWXMAAA9hAAAPYQGoP6dpAAAEwklEQVR4nO3d3WvWZRzH8U17QhpmKRkLSZeZUIFmNKIHC2KQzqwgsXAQQRiOQAdK4lFRB/YAReVJZKRChhBjhRIVCRpJWiBzJhNtggalRKGZpffdPxCfg/sbFPF6nf8+XDt47zq6uNubzWazDfhb4/7tA8B/mUAgEAgEAoFAIBAIBAKBQCAQCAQCgUAgEAgEAoFAIBAIBIKLKh8/8+3S8gHunzhc3nitb0l54/tFE8ob6x/ZVN5Y+15feWPk6bfKGxeajfLGA51zyxu/PtZd3tizeaDlb90gEAgEAoFAIBAIBAKBQCAQCAQCgUAgEAgEAoFAIBAIBAKBQCAQCAQCgaD0YGpo57zyAbafva28cfWUC+WNruf3lzcW950ub6yeUP+5lt8af5Q3xs6fL2+MnzSpvDHxg73ljbbNrX/qBoFAIBAIBAKBQCAQCAQCgUAgEAgEAoFAIBAIBAKBQCAQCAQCgUAgEAgEpQdTD8/fUz7AXR2Hyhttj9YnGv/A/4qurcvLG5NHyhNtE8ZdUt6YcXF7eWNo+LPyxs+Ns+WNCjcIBAKBQCAQCAQCgUAgEAgEAoFAIBAIBAKBQCAQCAQCgUAgEAgEAoFAICg9mBrpvaZ8gLGtV5Y3Tvc2yhvNaVPLG7OOj5Y3ji+bVd744mz9/966Nf3ljRO9f5Y33rnz3fLGfYVv3SAQCAQCgUAgEAgEAoFAIBAIBAKBQCAQCAQCgUAgEAgEAoFAIBAIBAKBoPRg6ruBafUTHD1XnpjZVX+YMzi4sbyx6/fLyhurR64qb6zvebC88cvi8eWN3fe+Ut64Z/eK8sbh6a1/6waBQCAQCAQCgUAgEAgEAoFAIBAIBAKBQCAQCAQCgUAgEAgEAoFAIBAIBKUHUwvu3lc+wMe7bi1vDA2+Xd748Mzk8sazHy0tb1y/6qvyRt+hsfLGQ5f/WN5YfENPeWPG7AvljbYlrX/qBoFAIBAIBAKBQCAQCAQCgUAgEAgEAoFAIBAIBAKBQCAQCAQCgUAgEAgEpQdTOz6dVz7AtbvrD2K6D/aXN7atfam8MXPNN+WNH1beUd7YOLv+61BnDlxa3hh97ubyRrP+p5S4QSAQCAQCgUAgEAgEAoFAIBAIBAKBQCAQCAQCgUAgEAgEAoFAIBAIBAJB6cHUgWVvlA+w6IX55Y0nvz5Y3uj5ckV5Y8+RDeWNuZ/cUt6Y2qg/Qts257ryxv7Dr5c3bvp8eXmjwg0CgUAgEAgEAoFAIBAIBAKBQCAQCAQCgUAgEAgEAoFAIBAIBAKBQCAQCNqbzWaz1Y+nb3mxfoJT9V8yenPhxvLGiqEnyhtT9pUn2q54f295Y8ex+kZP55zyxsmnussb29e9XN6Y2nmi5W/dIBAIBAKBQCAQCAQCgUAgEAgEAoFAIBAIBAKBQCAQCAQCgUAgEAgEAoGg9GBq02j9QczjHafKGwtuX1jeaPx0sryxcrj+YurV2fWHSoc21H+l6sb+4fLGsS1d5Y1zRzvKG0dWDbT8rRsEAoFAIBAIBAKBQCAQCAQCgUAgEAgEAoFAIBAIBAKBQCAQCAQCgUAgEJQeTMH/nRsEAoFAIBAIBAKBQCAQCAQCgUAgEAgEAoFAIBAIBAKBQCAQCAR/ARPyr2uO68XaAAAAAElFTkSuQmCC\"], \"probs\": [[], [[\"u\", 0.9819725751876831], [\"o\", 0.005341846030205488], [\"f\", 0.004046120215207338], [\"t\", 0.0020360853523015976], [\"e\", 0.0018987116636708379]], [[\"e\", 0.9999693632125854], [\"r\", 1.3607214896182995e-05], [\"o\", 8.600052751717158e-06], [\"l\", 6.941962965356652e-06], [\"i\", 5.245170200396387e-07]], [[\"e\", 0.9715744853019714], [\"l\", 0.01582411304116249], [\"f\", 0.005320874974131584], [\"k\", 0.0029320991598069668], [\"c\", 0.0013908303808420897]], [[\"n\", 0.99406498670578], [\"k\", 0.001721058040857315], [\"t\", 0.0016221976839005947], [\"f\", 0.001128898118622601], [\"z\", 0.0009893408278003335]]]}');\n",
       "function handle_mouseover(event) {\n",
       "    el = event.target\n",
       "    idx = el.getAttribute('data-idx');\n",
       "    // image of the weights\n",
       "    document.querySelector('.activations img').src = \"data:image/png;base64,\" + db['images'][idx];\n",
       "    // probability for the top tokens\n",
       "    probs = document.querySelector('.infos .probs');\n",
       "    db['probs'][idx].forEach((vals) => {\n",
       "        div = document.createElement('div');\n",
       "        div.classList.add('prob');\n",
       "        prob = document.createElement('div');\n",
       "        prob.textContent = vals[1].toFixed(2);\n",
       "        token = document.createElement('div');\n",
       "        token.classList.add('token');\n",
       "        if (vals[0] === db['tokens'][idx]) { token.classList.add('current'); }\n",
       "        token.textContent = vals[0]\n",
       "        div.appendChild(prob);\n",
       "        div.appendChild(token);\n",
       "        probs.appendChild(div);\n",
       "    });\n",
       "    // saliency maps for tokens\n",
       "    document.querySelectorAll('.tokens .token').forEach((el, i) => {\n",
       "        if (i < idx) {\n",
       "            value = db['colors'][idx][i];\n",
       "            if (value < 0) {\n",
       "                const t = (value + 1) / 1;\n",
       "                red = Math.round(255 * t);\n",
       "                green = Math.round(255 * t);\n",
       "                blue = Math.round(255 * (1 - t) + 255 * t);\n",
       "            } else {\n",
       "                const t = value / 1;\n",
       "                red = Math.round(255);\n",
       "                green = Math.round(255 * (1 - t));\n",
       "                blue = Math.round(255 * (1 - t));\n",
       "            }\n",
       "            el.style.backgroundColor = `rgb(${red}, ${green}, ${blue})`;\n",
       "        }\n",
       "    });\n",
       "}\n",
       "\n",
       "function handle_mouseout(event) {\n",
       "    document.querySelector('.infos .activations img').src = \"data:image/png;base64,\" + db['default_image'];\n",
       "    document.querySelector('.infos .probs').innerHTML = '';\n",
       "    document.querySelectorAll('.token').forEach((el, i) => {\n",
       "        el.style.backgroundColor = '';\n",
       "    });\n",
       "}\n",
       "\n",
       "function start() {\n",
       "    el = document.querySelector('.container .tokens');\n",
       "    db['tokens'].forEach((token, idx) => {\n",
       "        span = document.createElement('span');\n",
       "        span.textContent = token;\n",
       "        span.setAttribute('class', 'token');\n",
       "        span.setAttribute('data-idx', idx);\n",
       "        span.addEventListener('mouseover', handle_mouseover);\n",
       "        span.addEventListener('mouseout', handle_mouseout);\n",
       "        el.appendChild(span);\n",
       "    });\n",
       "    document.querySelector('.activations img').src = \"data:image/png;base64,\" + db['default_image'];\n",
       "}\n",
       "\n",
       "start();\n",
       "})(); // end scope\n",
       "</script>\n"
      ],
      "text/plain": [
       "<IPython.core.display.HTML object>"
      ]
     },
     "metadata": {},
     "output_type": "display_data"
    }
   ],
   "source": [
    "# display_interactive(stacked_lstm, 'Alice, said Alice in a little paper all alomer frog to the end.')\n",
    "# 'Alice thought she did not like to'\n",
    "# 'the Queens were pleased to turn your'\n",
    "# display_interactive(stacked_lstm, 'Alice looked at the king said the caterpilar in a low voice')\n",
    "# display_interactive(stacked_lstm, 'Alice looked')\n",
    "# display_interactive(stacked_lstm, 'looked')\n",
    "display_interactive(stacked_lstm, 'Queen')\n",
    "# display_interactive(stacked_lstm, 'Alice as well')\n",
    "# display_interactive(stacked_lstm, 'boot')\n",
    "# display_interactive(stacked_lstm, 'boot')\n",
    "# display_interactive(stacked_lstm, 'said')\n",
    "# display_interactive(stacked_lstm, 'Alice said to the rabbit. Give me a bit of')\n"
   ]
  },
  {
   "cell_type": "code",
   "execution_count": 44,
   "metadata": {},
   "outputs": [
    {
     "name": "stdout",
     "output_type": "stream",
     "text": [
      "\n",
      "<style>\n",
      ".container {\n",
      "    display: flex;\n",
      "    width: 100%;\n",
      "    gap: 50px;\n",
      "    align-items: flex-start;\n",
      "}\n",
      ".infos {\n",
      "    flex: 0 0 auto;\n",
      "    display: flex;\n",
      "    flex-direction: column;\n",
      "    gap: 20px;\n",
      "}\n",
      ".current {\n",
      "    background-color: green;\n",
      "}\n",
      ".prob {\n",
      "    display: flex;\n",
      "    gap: 20px;\n",
      "}\n",
      ".activations {\n",
      "}\n",
      ".probs .token {\n",
      "    min-width: 8px;\n",
      "    min-height: 16px;\n",
      "}\n",
      ".tokens {\n",
      "    flex: 1 1 auto;\n",
      "    display: flex;\n",
      "    flex-wrap: wrap;\n",
      "    gap: 10px;\n",
      "}\n",
      ".token {\n",
      "    border: 1px solid grey;\n",
      "    padding: 3px 10px 3px 10px;\n",
      "}\n",
      "</style>\n",
      "    \n",
      "<div class=\"container\">\n",
      "    <div class=\"infos\">\n",
      "        <div class=\"activations\"><img /></div>\n",
      "        <div class=\"probs\"></div>\n",
      "    </div>\n",
      "    <div class=\"tokens\"></div>\n",
      "</div>\n",
      "<script>\n",
      "(() => { // start scope\n",
      "var db = JSON.parse('{\"default_image\": \"iVBORw0KGgoAAAANSUhEUgAAAMgAAADICAYAAACtWK6eAAAAOXRFWHRTb2Z0d2FyZQBNYXRwbG90bGliIHZlcnNpb24zLjguMywgaHR0cHM6Ly9tYXRwbG90bGliLm9yZy/H5lhTAAAACXBIWXMAAA9hAAAPYQGoP6dpAAACMUlEQVR4nO3VsQ3CABAEQWzRGiVQJSW4N94NoA3AyA5m8pcuWf0yM3MDPlrPHgBXJhAIAoEgEAgCgSAQCAKBIBAIAoEgEAgCgSAQCAKBIBAI91+OH+vzqB3wN9v79fWtDwJBIBAEAkEgEAQCQSAQBAJBIBAEAkEgEAQCQSAQBAJBIBAEAkEgEAQCQSAQBAJBIBAEAkEgEAQCQSAQBAJBIBAEAkEgEAQCQSAQBAJBIBAEAkEgEAQCQSAQBAJBIBAEAkEgEAQCQSAQBAJBIBAEAkEgEAQCQSAQBAJBIBAEAkEgEAQCQSAQBAJBIBAEAkEgEAQCQSAQBAJBIBAEAkEgEAQCQSAQBAJBIBAEAkEgEAQCQSAQBAJBIBAEAkEgEAQCQSAQBAJBIBAEAkEgEAQCQSAQBAJBIBAEAkEgEAQCQSAQBAJBIBAEAkEgEAQCQSAQBAJBIBAEAkEgEAQCQSAQBAJBIBAEAkEgEAQCQSAQBAJBIBAEAkEgEAQCQSAQBAJBIBAEAkEgEAQCQSAQBAJBIBAEAkEgEAQCQSAQBAJBIBAEAkEgEAQCQSAQBAJBIBAEAkEgEAQCQSAQBAJBIBAEAkEgEAQCQSAQBAJBIBAEAkEgEAQCQSAQBAJBIBAEAkEgEAQCQSAQBAJBIBAEAkEgEAQCQSAQBAJBIBAEAkEgEAQCQSAQBAJhmZk5ewRclQ8CQSAQBAJBIBAEAkEgEAQCQSAQBAJBIBAEAkEgEAQCQSAQdojZDIlbNNQ3AAAAAElFTkSuQmCC\", \"tokens\": [\"A\", \"l\", \"i\", \"c\", \"e\", \" \", \"l\", \"o\", \"o\", \"k\", \"e\", \"d\", \" \", \"a\", \"t\", \" \", \"t\", \"h\", \"e\", \" \", \"k\", \"i\", \"n\", \"g\", \" \", \"s\", \"a\", \"i\", \"d\", \" \", \"t\", \"h\", \"e\", \" \", \"c\", \"a\", \"t\", \"e\", \"r\", \"p\", \"i\", \"l\", \"a\", \"r\", \" \", \"i\", \"n\", \" \", \"a\", \" \", \"l\", \"o\", \"w\", \" \", \"v\", \"o\", \"i\", \"c\", \"e\"], \"colors\": [[], [0.012697924244667105], [-0.003704644807540342, -0.01664626525069722], [-0.071874078258343, -0.21118117685223298, 0.012888820209199587], [-0.056255922534079676, 0.012555417567543027, 0.22219707304376154, -0.16896742097234665], [-0.15374797010475388, -0.1608992236458927, -0.2517502945446101, 0.0857541576739533, -0.0018763031638576017], [-0.05237977101048199, -0.11987922639185741, 0.14242704793111646, -0.06728510315527303, -0.05847248766241914, -0.05102823291256056], [0.2642031791007323, 0.3449152121491604, 0.23130704480269776, -0.017130369858813943, 0.018596316345451162, 0.004648313297031387, 0.13266257940735587], [-0.061889285963883135, -0.017799792260754385, 0.10488304852433288, -0.06013073701637454, -0.014293233776521396, 0.016896564971505802, -0.00176250633181489, -0.00687956115948497], [0.07459350848992853, 0.0546659267740913, 0.08122994524029117, 0.21477959781247316, 0.03239085951102568, -0.032535206232129216, 0.06466849182979201, -0.15935549553381773, -0.13550322898484052], [-0.02670068257377235, 0.14886925686160998, 0.12555166066204715, -0.1972475899895004, 0.05813609065012778, -0.07393601950405346, -0.13708300132290563, -0.07813062331197461, 0.2125781141660962, -0.4450863121639082], [0.14710697623612434, 0.10252962367626892, -0.09063651661171068, 0.14348908864238186, 0.03967424583647918, 0.13583773006396613, 0.32653389505462216, 0.07937423509199808, 0.013979312815455764, -0.09475318509893177, -0.30570115787260926], [-0.010339136184303207, -0.0010348049434724732, -0.10766467912109319, -0.051080399019211846, 0.0039919044771606176, 0.025104958172189044, 0.015450060398153876, -0.004972797314306201, -0.02101438133662996, -0.09071906064069575, 0.010144450503023313, -0.1001069736222301], [-0.03360321203923923, -0.0025977688774582986, 0.0072923060246272865, -0.0685368403631497, 0.0017907012171581385, -0.08989526263308849, -0.13320354373898038, -0.05872608699480303, 0.03295344220982472, -0.10713162525891311, 0.14029105781273732, -0.04433453124208953, 0.021727613337078996], [0.00895765438003381, 0.0004444952969163752, -0.018605295158187377, 0.0056491204185656375, -0.0038336273763738076, -0.10581110995855189, -0.1433901561843087, -0.0946884052328512, -0.1839094379191861, 0.14300674776800945, -0.05825124816889829, 0.12475552350248623, 0.030736223607922466, -0.06428815301957064], [-0.023000850685005382, -0.01169433717351085, -0.016553585932736523, 0.0007285072136774631, 0.008536377815645615, -0.01467722473010854, 0.06631289786221971, 0.02199741193515121, -0.048314898901449035, 0.1344413000519477, -0.055523447456873494, 0.09494439490274112, -0.049071840544746566, -0.003623444268610377, 0.050990903235285705], [0.007847991782879487, 0.006178269023853574, 0.020991051900521238, 0.014152642378819863, 0.005384988124149797, 0.05077502050531253, 0.04293799375086671, 0.004748559150982384, 0.03812743951998996, 0.012472907931903377, 0.052359096310722136, -0.037781377977638274, 0.016628230240197623, -0.031732525738603974, 0.08386849952014404, -0.0382390717208559], [0.055967095817659136, 0.06593739991536486, 0.1357776362911977, 0.09037753472077006, 0.014122553575545945, 0.01627569200098833, 0.05542251588559838, 0.026357378947805758, -0.056139870788328494, 0.06048144595952481, -0.02145700649538964, 0.11044707496978888, 0.04218701505382971, 0.1474199900727048, 0.04516983812290476, -0.021122784862195494, -0.06720756765721336], [0.08687440912232584, -0.012484644661024691, 0.13321495373132028, 0.20177007415755563, 0.017564362287875602, 0.1543590366726612, 0.03484507190823085, 0.02423130701040935, -0.0773793178781562, 0.18324681572650853, 0.01543332373644352, 0.047569328557977825, -0.11421991318294178, 0.4387802234962129, 0.0488533998097085, -0.06688295466489326, 0.06801226446061329, -0.07174290633811575], [-0.011824466545455346, -0.04252329598858031, 0.0028409225746638257, 0.014398233435683343, 0.0005438651953514504, 0.05216599917208339, -0.04307794457250998, -0.0019661224601890148, 0.04397766589011078, -0.02464432164835473, 0.09222507644952818, -0.05982788211419471, -0.0018017991167582539, 0.1533797893421351, 0.0481425925401109, 0.021185830013916922, -0.01682073086925191, -0.15204723637088022, -0.030424198580022585], [0.03277525028725322, 0.0002594419019354924, 0.01640646409857518, 0.05590716971244962, 0.01368224244405716, 0.024403879920174423, 0.009747292272104191, 0.017953644442695735, -0.22136989588996772, 0.13619501673442613, -0.1272241058693207, 0.06109349273777633, -0.07614850042262543, 0.03410335146986152, 0.0017705129951472364, 0.11974766324732612, 0.10817558366882896, 0.0721108936381666, 0.10466654241497415, -0.08836671918301221], [-0.015223453393164913, -0.003956850672039091, -0.029011322100145717, -0.02628471010812167, 0.0016199981768517514, 0.007440942240778731, -0.002761434985554107, 0.0035322605237790086, 0.0474963587765214, -0.027119498939171652, -0.005951921043747235, -0.011171986090505676, -0.04450927953095181, 0.006229993928370768, 0.050888385270953525, -0.10259534076101193, -0.008013737613580584, -0.057077944985230125, -0.05898067513586747, 0.003892402916700143, -0.009061090216771626], [0.011824684728240293, -0.022732230059013477, -0.0022807785790127954, 0.040826397112719924, 0.006018569435796429, 0.04282822308982111, -0.06645494237876483, -0.01145886850811848, -0.10148085019799562, 0.022902152531597855, 0.03154234343598876, -0.03614177411606351, 0.07540927565138245, 0.11536911522981358, -0.0627303365333819, 0.11645824929892605, -0.11356390311091936, 0.002689026514242697, -0.04173480704920505, 0.0499332734705692, -0.04424807926923221, -0.217480576014246], [0.03048717494505319, -0.0012775386656867773, 0.060563994287678044, 0.06163542438224049, 0.00869203564822101, 0.07618458764029734, 0.050241923651450686, 0.03575001456558178, 0.016977532280562202, 0.05971785780222671, -0.03389662166893571, 0.030739086853927886, -0.06899003287728675, 0.14480466849767665, 0.018929706089603194, 0.03508736442831106, -0.018700397057415424, 0.01403921957440849, 0.04224929710319985, 0.05400231577273318, 0.045939961015830845, 0.14843082769099036, -0.13616353822503924], [-0.023079804908563227, -0.0032314711032098895, -0.03180045689495777, -0.036592657976889875, -0.0014524046442778828, -0.03364595651883214, -0.0211280814373887, -0.009767071670091327, 0.012568570872578433, -0.05029811377951499, 0.01912686594216855, -0.000701844041346029, 0.04715301860762531, -0.08787365618320812, -0.004469851601656824, 0.027509203487265106, -0.04109684488518676, -0.0474323097690308, 0.06917814728000915, -0.12021418318280971, 0.03632530990467815, -0.13292885268752352, 0.023876152727364777, 0.10187899616280324], [-0.042836000285052044, -0.051861725544405386, -0.08975707876956569, -0.024340774580098524, -0.005770764844718172, 0.004921187949933745, -0.07777758421967278, -0.025963366633199647, 0.07456421395797519, -0.032588036560263746, 0.07589623383237619, -0.04277636222411034, 0.09596162108493671, 0.020613503250446287, -0.07513000168664966, 0.06093646991930496, 0.01978677535972688, 0.05961525815369918, -0.10125492891033078, 0.0028508751489919725, -0.12871270144870273, -0.016697797230042506, -0.11281985467298257, 0.008146710885273705, -0.01369755930547729], [0.01237775874182539, 0.0030565226343294014, 0.018381622335478746, 0.02212153966832158, 0.0031164954929928375, 0.017775115035422395, 0.016352747067004292, 0.012953602224864243, -0.027785126250404465, 0.0347976886261757, -0.020947408894779477, 0.009721998116138898, -0.02423131990791388, 0.03855501759013258, 0.005304616249885814, -0.015646702200953988, -0.017868808957072702, -0.0074552939389432825, -0.020786043916450034, 0.05595915955320568, -0.05071552431692065, -0.031969861317776904, 0.013369183466210877, -0.022527778817221105, 0.032582170345287174, -0.030093835450266674], [0.013653693817782406, 0.057693667552272385, 0.05011859771314519, -0.017361685527748, 0.001715971060682518, -0.0741059484253901, 0.0795391597815775, 0.0076019208313683265, 0.007534492140295133, -0.010091055909065645, -0.059268259392685055, 0.0735903147926604, -0.011368574153703586, -0.18883380832836236, 0.053011082361331535, -0.0457425991023612, -0.018459804858348944, -0.04375488299521465, 0.08824453682344162, -0.05704580870311224, 0.18417142922785013, 0.030146590542958113, -0.008438506177319982, -0.10064467918437695, 0.02680290389550036, -0.20376887781942887, 0.20912997492862692], [-0.006653463605924901, 0.012307342666265686, -0.005522542696930793, -0.01873299550011226, -0.001216478386172747, -0.037670820568816404, -0.0011914166539869866, -0.009016071477213446, 0.0074790457683253245, -0.031203897870061392, 0.003552618965979891, 0.006806043234086062, 0.03129384721623014, -0.09193980084602127, -0.005069109429375879, 0.01710238119919415, -0.01917122475941167, -0.0044862174601119735, 0.017103076589646667, 0.0051313350521636995, 0.02651393530653, -0.02320305991059381, 0.036813497647770324, -0.0898350054919294, 0.12561259707177808, -0.09847752009671959, 0.12971458819884527, -0.044554068265012556], [-0.008853807972735156, -0.015418053091081282, -0.018847738149153758, -0.002625574016336564, -0.0020431329223351484, 0.011078916623032975, -0.017977968061445224, -0.004235322841906998, 0.01786918728387222, -0.0053523961302052265, 0.01851209134170917, -0.017949699955893975, 0.014953598905906411, 0.0318109210702989, -0.01536155342290828, -0.0005255832513797234, 0.01721095239231856, 0.020550812780099403, -0.0315598625463072, 0.04239530115363535, -0.03604794906978382, -0.028549499005894746, -0.02528835638742205, 0.05696952856216005, -0.02428810332118652, 0.00393656128522704, -0.07851447024342785, -0.026437010290351372, -0.029742960989141608], [0.0038702681119484133, -0.024521490114389515, 0.012155786240130485, 0.03249862031094886, -0.0006695564822479436, 0.04428001778961398, -0.04351419836403238, -0.009220133644285863, 0.013665297272690252, 0.0032069900274259416, 0.057041823374212805, -0.051047579169353936, 0.03501902055181234, 0.12405211080215187, -0.017293502870055887, 0.03161168471950438, 0.05109023981516741, 0.0034839459344176683, -0.04247178335549182, 0.23882964329423315, -0.08908949533681265, 0.03576095809817457, 0.02186668282924612, -0.021812874440351484, 0.18018369279423643, -0.08077673552948142, -0.1210071303595838, -0.1035361105363601, 0.27693084929001127, 0.08093492772169675], [0.00808750274114963, -0.014075107955552241, 0.0005347377926151434, 0.036417527062059904, 0.003279803695337968, 0.04450056511705844, -0.01616866958319943, 0.002323205994952708, 0.006585036970438782, 0.035036857800575825, 0.0018219063263188334, -0.013378428827374021, -0.022373782613145852, 0.11505372825239983, -0.0045851542173532866, -0.006684506287137935, 0.048805120151088593, 0.001359194916443431, -0.024441891015605222, 0.17809636066127674, -0.11934917334906439, 0.06735103089925666, -0.0771930005277315, 0.05205692497628235, 0.33598539273348405, -0.14579731203624013, -0.3083428763402399, -0.26535074746369713, -0.14606542536038722, 0.1738209410899774, -0.21357225381518502], [0.013795375054616633, -0.024041253682839426, 0.015607710895178989, 0.05033923102395318, 0.0033515439146959737, 0.07210156444322402, -0.04061519187772258, 0.002775874010572239, -0.004316379896099079, 0.027578368504885507, 0.03649626202804076, -0.03826078681931442, -0.03171671339805152, 0.19826855644800936, 0.009299156654534528, 0.051321173932925825, 0.05700123922662848, -0.06089524089649419, 7.36802189975633e-05, 0.19283641988386604, -0.26741004902014737, 0.2637701668820149, -0.038119795598972495, 0.23121027912538547, 0.19376679427056392, 0.08079586682786598, -0.7001602592322745, -0.663114980530615, -0.19451839204781832, 0.010286813158013485, 0.009344570917564929, -0.17089066245435316], [0.00721255538016478, -0.044363941851583634, 0.0010480754008406834, 0.054373162019621266, -0.000419196841782907, 0.09572633620898387, -0.05868854665828753, -0.0003467429605076348, 0.010909614305458032, 0.029003297702744645, 0.05492898427646307, -0.055048273295851005, -0.035783653406977284, 0.2694372615853296, -0.0006577662822224374, 0.047815692390321, 0.09811798066213519, -0.029545820482833045, -0.042086453211017755, 0.23557825118918432, -0.3620491857856981, 0.3085482390056856, -0.07936576573069075, 0.3963617068344255, 0.0669269652495141, 0.138426929893155, -1.0, -0.8650425074234597, -0.1835876365828533, -0.19871787111245137, 0.014092131586738367, -0.2439098843448095, 0.025486505048667958], [-0.003073148592459218, -0.0038646249163209905, -0.012693504699781864, -0.006024877927699135, -0.0015728005651222175, 0.004735154882004686, -0.003432219149014397, -0.0001220111989375758, 0.005247743628873516, -0.004269793303646603, -0.0009751177107947504, -0.004606341592918162, -0.015262028754418858, 0.0169883640347824, -0.0030083851169573224, -0.0030634872867750158, 0.00667616805045999, 0.011486717444772542, -0.007916690340752758, -0.030009763066994936, -0.020121704206086027, -0.007140497022361728, -0.005171496269078676, 0.09002649044250204, -0.08496076338368885, 0.05777254868997123, -0.0364265811102392, -0.018330793270130288, -0.03940077144961623, -0.027465794786188952, 0.024902766143273324, -0.004100463310176523, -0.008211957211101401, -0.0047643919125836725], [-0.004057075030149206, -0.01825590176049905, -0.016553082930059894, 0.006562625944131725, -0.0019331622156203432, 0.028777522586797798, -0.022299041574400786, -0.0017783697249894343, 0.009559918401100147, 0.0031885060225499283, 0.015170386610780691, -0.01997121182407446, -0.014718953531219802, 0.08277241799525867, -0.011018568124550135, 0.012141861234407433, 0.033841413900799686, 0.017458072878260764, -0.029634798216993944, 0.051632609974785554, -0.1116763447247762, 0.053856436398174785, -0.021098836345869388, 0.16325561491999832, -0.031576220881218045, 0.07834045711232371, -0.2782807537040257, -0.23981771251785702, -0.06119579574369969, -0.06067043309338701, 0.016214185951474017, -0.04782988824363916, 0.03154623418318831, -0.10221306732511122, -0.0013627409240948498], [0.007432461594154947, 2.9914015217748396e-05, 0.012527433207091413, 0.014771191648938043, 0.002274532693746657, 0.014431233850604663, 0.0012112307140175445, 0.003997670736477087, -0.009854251277162489, 0.013734086113095225, -0.003732700372964877, 0.001316071035258957, -0.016399752022259923, 0.031560808363305985, 0.010425855780379504, 0.0062868558014626255, 0.006026330509146704, -0.02161462689823752, 0.01563834354322721, 0.022261903210109773, -0.03412063627551436, 0.067186587716513, -0.011634954913075635, 0.01919533449454439, 0.0733714097474593, -0.0005316351366819062, -0.14083234028280686, -0.10138354282549311, -0.02880664515202409, -0.025169243633929337, 0.028447851623118272, 0.014022048696712327, 0.0033276346282794743, 0.05431132278457329, -0.048348909620891785, 0.0056971555619955185], [0.009473131093125073, 0.013382231441625963, 0.02499651810369401, 0.008708858830690915, 0.002633378081368602, -0.006973125031297944, 0.019485721809012927, 0.005570577302964651, -0.010457678223220516, 0.00876458357380014, -0.01191443631267293, 0.014420593409368307, -0.003045445290127129, -0.027771616114410428, 0.01691279110699522, -0.0007263750949600266, -0.013446269701196119, -0.03146677265778566, 0.03420157456518557, -0.004375603356009783, 0.03812367344866752, 0.034264374664320946, -0.0024653832483152766, -0.07385655367948264, 0.10592171895739187, -0.06572286282503087, 0.05501969242581493, 0.032249541553902354, -0.008013273303417542, 0.033983755059948974, 0.028825688317461035, 0.06863742800097072, -0.05767012960650711, -0.16476580952029812, 0.008574625365326115, 0.07009029749280767, -0.055394420821566225], [0.010563535566433635, 0.00731084027603136, 0.022071802591689907, 0.017265207894703535, 0.0030669053941731893, 0.008224719291832763, 0.009986146532435401, 0.004966654340378283, -0.012252564814947292, 0.01764277051707506, -0.013854308051977425, 0.014974912032140443, -0.01944935944457774, 0.009815019217969616, 0.01737496888262074, 0.010156253869251359, 0.007221467018398238, -0.027367236355747157, 0.03560823659746359, 0.03676775449837443, -0.032334037405239456, 0.08395063082898419, -0.016358203786212066, 0.04150888576154021, 0.11747887182398091, -0.03286744164962591, -0.22072008521845551, -0.12678236633920534, -0.09907496689984438, -0.10657585459208942, 0.0077747812480051855, 0.03300326526981992, -0.05644550725231839, 0.18418074982445637, 0.03940974811276835, -0.0015070476091947444, 0.11647715704056544, 0.016535942146540965], [0.009400923339227894, 0.012476159177836708, 0.021198695274684518, 0.008571271476752575, 0.0028071974812067884, -0.004132309935838526, 0.017728382002553913, 0.006539259427697484, -0.013144117713013121, 0.010651448181678857, -0.01669251677672996, 0.016188322155725365, -0.018488101983285384, -0.021741220204357006, 0.020206881475579076, 1.1420740260354873e-05, -0.006737118969883536, -0.037480956404646236, 0.04132099491556296, -0.03398561015101705, 0.024539740083297932, 0.0830841248847135, 0.006653668891205319, -0.073521295946758, 0.09743565108253742, -0.00969379664769438, 0.04326967887483684, -0.08597778320581198, -0.002709367491072863, 0.034440144005625103, 0.0775280089087019, -0.04594644846060889, 0.026110985021285355, -0.3280360244154232, -0.072602013413955, 0.318516462305994, -0.11173013591699812, 0.0475706570009443, 0.10290834599925601], [0.0048168057588011196, 0.000663471681439411, 0.00952969524882072, 0.01147599102017266, 0.0006881533402885849, 0.010324759765921643, 0.0034660178657264537, 0.0019639632029724657, -0.004897176020877036, 0.013609921836995354, -0.008256467036626712, 0.005179693707998846, -0.014467520979596768, 0.019712520126985735, 0.0032250048855747156, -0.00013603011461547963, 0.01871149106089438, -0.00023009873564215402, 0.010189791680194717, 0.04300445459170422, -0.01622389454800816, 0.030809363206521858, 0.0016248523407698166, -0.0010936503452816733, 0.1150323785832363, -0.02099144527440937, -0.08103622472226686, -0.1087439165050638, -0.020288881659789832, -0.1225893016334913, 0.02920712556515145, -0.015362019882655408, 0.016726036316208566, 0.13504089643916065, 0.013964287222679577, 0.16804320299447725, 0.057937610952932296, 0.3717699145724329, 0.054386902161112735, -0.014659930251327308], [0.00010282784031338253, 0.0019123957554897282, 0.005675940241837496, 0.001551060477748675, 0.0010879195541026584, -0.005116750124125584, 0.0055605833491428076, 5.706104549252509e-06, -3.478242013039755e-05, 0.0037462698912193513, -7.489903317554584e-05, 0.0013447263346440866, 0.016287865095679536, -0.022692045734069553, -0.0027308762294589186, -0.016543970843110215, -0.009739926722226136, 0.005496202768306615, -0.00578449853745738, 0.012435319229745896, 0.07118850710594031, -0.0671801432634167, 0.02372345487207877, -0.1689735773811751, 0.10908295750578359, -0.07700123183205922, 0.2882377991670757, 0.1407689533472154, 0.13141404937893872, 0.0844923690108804, -0.09991664944706506, 0.09326041072808236, 0.028520505415713743, 0.07313206645674802, 0.07658717034666292, 0.0117256630624275, -0.020933262481895344, 0.03563728822641497, 0.13168059780586966, -0.009024797713819302, 0.04020331436975983], [0.0014874734964880267, 0.010807609016930881, 0.00820380168907095, -0.005454424526761325, 0.0013847601887018411, -0.019069917010921124, 0.012434423927973181, 0.0005501153797857652, -0.006207224458917011, -0.0021489797863258387, -0.009629711097274287, 0.013680041269950892, 0.011897351418340293, -0.055065508661069816, 0.004303335145060125, -0.0045881991032141545, -0.024236996959490692, -0.0042026814075284006, 0.01457380394045934, -0.02968385172588559, 0.06813109346900637, -0.04000659303234846, 0.016701609517422843, -0.0977904958254733, 0.00223500963460785, -0.037514644686475765, 0.14674722184313113, 0.1321247190751547, 0.03265150088088236, 0.06048668234636355, -0.04366699080101826, 0.052926341457408384, -0.029849279418141635, 0.02132248552315305, 0.04062650298919444, -0.1384247889074032, -0.03150721063365199, -0.16211081522133905, 0.029789542476331875, 0.12955390248908769, 0.2737083475951072, -0.15452685900159144], [-0.003092352439306751, -5.6822072198974995e-05, -0.007815360021629287, -0.0055238480318683236, -0.0011848528989738126, -0.0043883477026724176, -0.003874673684537082, -0.0029881204503622856, 0.0015531650549199818, -0.003057546373751384, -0.0019450421607815297, 0.0021349802169047284, 0.0018389580364471096, -0.003819147777956012, -0.007364515928108553, 0.003430422365414712, 0.00747044098322045, 0.016696498881253262, -0.008356521040197842, 0.004843749720554068, -0.009877427018008906, -0.020542809878539212, 0.01185044964312089, 0.05476895633943646, -0.05239161951797589, 0.038629423293759894, -0.07354953288333997, -0.027681827987048293, -0.06103188565780988, -0.07571894473512171, -0.017531612299500555, -0.05510121755194221, -0.04984564782479975, 0.3030584763913071, 0.08480430805541676, -0.12170117947163017, -0.009964078902186426, 0.01706181854745071, 0.00804235502654616, -0.020643481350139666, -0.009142004861017867, -0.151605402259065, -0.04600874340748355], [0.0008009026531353386, -0.0005448845012562514, 0.0015906923595819448, 0.00265179464304385, 0.0002990422789269703, 0.0029228628392181264, -0.0005883416351488915, 0.0002511723175993638, 0.00019268794515521923, 0.0021822181333359153, 0.001035068536221283, -0.0011027240084157766, -0.000499157675264533, 0.008201780005236043, 0.0004611300884933039, -0.0019910716079081583, 0.0025426188793946443, -0.002016221204343522, -0.0019884644311072403, 0.010381272331599176, -0.00269167184616118, 0.002179050318135006, -0.0010077418141516373, -0.010622884508315486, 0.024974263459629366, -0.005258860202985397, 0.0010597957393833246, -0.015345740007563785, 0.007184386155481584, 0.01612439782411188, -0.014664288533066037, -0.004613544849197562, 0.009194432142135864, 0.023226935341060923, -0.010631814955409715, 0.08165480623614636, -0.00446633595688065, -0.00405902685250125, 0.10098352242336062, 0.0005492628009968017, -0.0582333937234621, 0.009294113730263722, -0.07297089064181835, -0.000643548933063396], [0.00724388449345756, 0.010882804692710591, 0.01934230800740365, 0.006562218060550998, 0.002789831528754625, -0.008054665694619009, 0.014147498424096914, 0.0038397096245512356, -0.013209883163398106, 0.008628993720875715, -0.0109451275841784, 0.014033020173898257, 0.00010677414082671696, -0.030897076985238928, 0.011161980851367369, 0.0009414462225909113, -0.018023688640208188, -0.021546055165825452, 0.0254420452009727, -0.010258996465120745, 0.04242678826135861, 0.018011053384938025, 0.00589264196334825, -0.10726375589364368, 0.08874849391540447, -0.04742385330522801, 0.10246689021424027, 0.06715712551700077, 0.02404399440255182, 0.06647823957111224, -0.028293382510543624, 0.042457282261233145, -0.02534347602261046, 0.13574268405392437, 0.0022693739606331016, 0.04981226908307891, 0.026212634553645916, 0.089372879306322, 0.013043764379857716, -0.07439576395049119, -0.18488087796030403, 0.1017528671668468, -0.053128926860212235, 0.11018049214951255, 0.04766171338291845], [0.0009666565447767651, -0.0025448071559963834, -0.0009816853619290843, 0.0022447348904186745, -0.0003927410371414769, 0.007963013340456425, -0.003169225865467265, 0.0014829311566117492, 0.0014120467404188394, -0.000767338375437896, 0.002508450165521414, -0.004342495461884056, -0.013844675765678412, 0.02324838389109251, 0.004255479491901605, 0.008198737268959262, 0.007929657706764539, -0.012286388520574374, 0.006289874354918413, -0.007661031169416392, -0.04719796641090858, 0.06172887970005701, -0.02008079762088848, 0.08588189455880767, -0.02663414864707585, 0.02884574178741941, -0.13091221607605497, -0.09046725836060955, -0.05177282734485575, -0.025976593024094052, 0.07641877192919704, -0.00870185172395956, 0.0017868337123365353, -0.0977769620440543, -0.04687148757959996, 0.003965574221664836, 0.030096963095114934, 0.08162688743800943, -0.19797115719024527, -0.07508409516886307, -0.08566700493668322, -0.041258717165361, 0.13424174126353997, -0.05773075217696119, 0.012515801807590418, -0.002654039883623925], [0.00014139332691542043, 0.005026047886129962, 0.002225466287350485, -0.0033410609304940758, 0.0002327612306460907, -0.00914656950282906, 0.005774590566999062, -0.0002752248200557365, -0.002047396756723005, -0.0011429020189564426, -0.005743270052042635, 0.006908115159719945, 0.00430976992502801, -0.024878359765536436, 0.0006751607166637684, -0.0031954279520117904, -0.007145672146053955, 0.001840259340914475, 0.00531695486255181, -0.011643322169138768, 0.03064217930406579, -0.02543257198389621, 0.010217439630736534, -0.033828060684444085, 0.0021436841515756694, -0.015120870941310096, 0.054554122606498306, 0.055100344820802415, 0.006204619700398192, -0.0047942001951340844, -0.0160755872182222, 0.003666153817461859, -0.007769224035741289, 0.11267000286702927, 0.015782598907007, -0.02473377229101503, -0.007392419679156863, 0.009283520579877306, 0.0076034701440998624, 0.004014036594932237, 0.0549237521887925, -0.07467580316715937, 0.09823661190879215, -0.023462534056290625, -0.005938531284462132, -0.07991940401009899, 0.035964794558917726], [-0.001131478726064983, 2.910117014716431e-06, -0.001952000230125874, -0.0021835013006875365, -0.0002472639874737114, -0.0025214567614428034, -0.0005121607781117792, -0.000867056775193263, 0.0005937012872001863, -0.0015982329662141785, 4.9827409544254815e-05, 0.00039717949164924416, 0.0032845505144006313, -0.005777655873908768, -0.001882098711257272, -0.0004956588577012995, -0.0014733589243182, 0.004577488263098912, -0.002602755375146791, -0.0016238835500910873, 0.006038036606694761, -0.013937546396622959, 0.0037944044529133088, -0.0010225938280127057, -0.01765929759433682, 0.003356937758569171, 0.007117275602853437, 0.015065479383734533, -0.0005476650554487795, -0.007197941432741474, -0.011659592371101996, -0.002358137811177232, -0.008621497046368283, 0.02154026203670788, 0.014282438565230694, -0.039396541068130744, 0.01314073211807428, -0.025048838980399644, 0.009572882542735795, 0.012882311268580662, 0.05806251468595849, -0.005225260054103484, -0.017868611195336594, -0.015870363200950137, -0.0383052617140983, 0.032611477774745046, 0.004080189507849111, 0.02696510506204009], [-0.004186515997789471, -0.006791128344890414, -0.01073107629984834, -0.003192387365319099, -0.00146521025408703, 0.004651995534574392, -0.008680742270817879, -0.002369980407314887, 0.006904706994148179, -0.004341861603276063, 0.007210285419367691, -0.008404602399685617, 0.0025074648499150073, 0.01691174640912838, -0.007154301113979822, -0.0005888385249457686, 0.008528465196617126, 0.013931617843707833, -0.01682213669724556, 0.009416412167375078, -0.02179000501523763, -0.014669328232960712, -0.002418013132462668, 0.04882411387609151, -0.05172613407929289, 0.02537476321901352, -0.04862974848284075, -0.029512418095687238, -0.00846653836601756, -0.019775002087676068, -0.005697150188035298, -0.01245193658953936, -0.0007935593380176955, -0.033022719005817706, 0.02162985885108617, -0.07593024025265076, 0.025533871134050402, -0.07356289469803193, 0.037060179618558536, 0.035901489307521635, 0.08492004166272289, -0.09944141079851992, -0.0351767892759623, -0.046644766646654325, 0.07276183929007733, 0.01907332410170085, 0.017301886247999682, -0.046545898676103835, -0.01728710893218568], [0.001073561944581865, 0.0016821688508963182, 0.002988418167758495, 0.0009822824089095687, 0.0004598177338202353, -0.0013147507875818148, 0.0022802438699708674, 0.0005977509692732604, -0.0020358512062365317, 0.0014455122715972325, -0.0017423216028781315, 0.002169959189630186, 0.00047977951058235087, -0.005243191347170831, 0.0015317675575104886, -0.0005805115064097846, -0.0029375238087933605, -0.0027952350457562188, 0.0034089222253650096, -0.0013703603935933176, 0.008742156963008443, -0.00020077098589719788, 0.0016084846014285895, -0.02176050627279591, 0.016838539098630208, -0.009636001855108265, 0.02550777303363614, 0.016171613438608155, 0.008993925387145253, 0.011308631926613405, -0.004876127830881868, 0.00910639700059762, -0.0018702706248122124, 0.017887118039543543, 0.0009826407177072624, 0.009840434825435887, -0.0033954540062606895, 0.014129765430161699, 0.002731830107398036, -0.012391388179736321, -0.027094413292862912, 0.02269462093580716, -0.0155564884559424, 0.02614310195714644, 0.011226258789563353, -0.010183151614946413, -0.007507145131525656, 0.06052491914812361, -0.04286994221780398, -0.0045255919292506875], [-0.0014410404649488474, 0.001172969998134505, -0.002272594306295165, -0.003737463851304223, -0.00032868034128740207, -0.004776068990746539, 0.0007095375371465328, -0.0010243419772723958, 0.0014251796244054077, -0.002938323991470175, -0.0010994350104118974, 0.0016805178359676114, 0.0034311725702614775, -0.011502471746554612, -0.0015954729002449907, -0.0011591923732704962, -0.002551742520358797, 0.004043520290285338, -0.0003557713480268813, -0.0065983815884580336, 0.011950668627270787, -0.019027608896898106, 0.005199156042332981, -0.002895914040900979, -0.017732654300929115, -0.0006201910149655076, 0.017044397243208276, 0.024916822273625752, -0.0011519634563310446, -0.014817976271824641, -0.007736100019734901, -0.0018230628025582595, -0.0013089029784190012, 0.06203443877901973, 0.00966675487986542, -0.03556639064401952, 0.0076600622443886565, 0.0027025726557702127, -0.006097550529155377, 0.020741930151792966, 0.06543272916148474, -0.014572265913044268, 0.07155096137654825, -0.043861154133364735, -0.051317657213357605, -0.004805307096117569, 0.024617705498175227, -0.017666745903202268, -0.01686152567607687, 0.06522155402066462, -0.010519933402789549], [-0.002764869752228964, -0.004313481450654216, -0.00687295387539401, -0.0020840069950733594, -0.0010092559274437298, 0.0025154282528675794, -0.005302013103555062, -0.001662260074816876, 0.004286114558231923, -0.0026072977150230683, 0.004372707597545031, -0.005205596196261085, 0.002072506988899754, 0.009912716739984107, -0.004849956107212587, -0.0019170455745704134, 0.0057438149716089815, 0.01032109150067521, -0.01187046442056568, 0.006557452432627563, -0.011289624229313917, -0.012930119093493219, -0.0009025570220600981, 0.027222102886867355, -0.03197655297304332, 0.013782669937863607, -0.024210864465731022, -0.01528434143725388, 5.7770072369101676e-05, -0.015209526237857773, -0.007071443245717891, -0.010140895090941508, -0.0006333554709683708, -0.02668431134135698, 0.01745588030249085, -0.05664812704846765, 0.02348246929912415, -0.05430187751208995, 0.03126627235154732, 0.030095226231171706, 0.08315790720895526, -0.06962327455464745, -0.05134049439471014, -0.04188155915490323, 0.017795178178509168, 0.01192567648786988, 0.03392767671025725, -0.020961765966904248, -0.194133616496039, 0.30152762858708837, 0.019103624639007447, -0.04013574004436466], [-0.0004217787609707893, -0.0004010558299179595, -0.0010013881138085773, -0.0004804742628770921, -0.00018172137170798934, -0.00037567206316599274, -0.00041972950200250096, -0.00029538200744636564, 0.000245434775382822, -0.00027298095655296756, 0.00025666235536050557, -0.0002612505418349132, 0.000976450721627416, -0.0004753696388255058, -0.001000977610422243, -0.0003780849713049441, 0.00025150056580707495, 0.0024586835321085266, -0.002145616762019924, 0.0004869334607767283, -0.0001809628708101339, -0.004522911935288783, 0.0008817138486473372, 0.0031925391796953245, -0.008098548378986601, 0.002652389003044224, -0.004339120614865657, 0.0009220254020994798, -0.0019096993709491518, -0.0017000676315043319, -0.004141398377363235, -0.0008922870482064352, -0.004087704722519304, -0.004835741445033656, 0.006785654429009934, -0.019235998176739974, 0.0029031449730755137, -0.013102627515735644, 0.001681224108689575, 0.005132359328981704, 0.013740042610603496, -0.008056794320262304, -0.012242464994109107, 0.0036272275366055254, 0.03622691054345888, 0.005489427279260758, -0.018469271626673167, 0.08268081991809431, 0.004177312553516045, -0.06036318014216283, -0.010255085296872352, 0.04646067196617676, 0.0037073957377771554], [-0.0009080606290707964, 0.0015532646075330644, -0.0008131841674739931, -0.0029501585266674996, -4.0132634164055295e-05, -0.004882971569222523, 0.0010760022599179402, -0.0008181832939690031, 0.0001984929977470295, -0.002125138480506127, -0.0012080792893953071, 0.002121216161290276, 0.004679771385369456, -0.012678410320314856, -0.0012057308687790005, -0.0007388296508177775, -0.004394488527016248, 0.0032071348556538806, 0.00022589394764221924, -0.005107701987302527, 0.015113502167055908, -0.019599069377981216, 0.006221436971511855, -0.01259372100640982, -0.014782398505581627, -0.0027676233694458874, 0.025077512282551513, 0.032872523266410304, 0.002192559379337001, -0.0027371868709457126, -0.017162316977532066, 0.0016555524320188014, -0.011457458380956652, 0.061939586231545905, 0.018738704795450395, -0.04373731659404626, 0.0047942641452607074, -0.017564693323825178, 0.005135848103956776, 0.022987916637546967, 0.052143686489248366, -0.013200638877027005, 0.05762534947078272, -0.04811362474493895, -0.042114324718304744, 0.00233109819293236, 0.006320769252225387, -0.029122965048932102, 0.02599000212963595, -0.08881363491161186, -0.0706018598132744, -0.03575702865846142, -0.013870296658425103, 0.05573990627538229], [-7.741683430054872e-05, 0.00083053070649486, 0.0001579331169518282, -0.0007844003632650938, 2.3746447025009155e-05, -0.0017160637614963197, 0.0007906522270619774, -0.00010397222514231278, -0.0002269319616460373, -0.0004753291997748474, -0.0008060181930436226, 0.0011208870535176275, 0.0008277007118683043, -0.004506203218171573, 3.953501620029749e-05, -5.920593996070414e-05, -0.001473900216461398, 7.998615826916453e-05, 0.001105896996053398, -0.0027277792161839124, 0.004394173075551311, -0.0037440853763897664, 0.001490561642728669, -0.004071900711605196, -0.00198015091464631, -0.001311591839415269, 0.0074408068169811775, 0.009150358144784428, -0.0011475787078382297, -0.0010906619531776218, -0.0021312312079059845, 0.00099082566216992, -0.0014338243111649191, 0.01978740088869653, 0.0009380323471864111, -0.006701752400277183, 0.0009158438700069805, 0.0047979232747747645, -0.004080406884540026, 0.003218543773201751, 0.007758845306367667, 0.003729035600792588, 0.014013750227340013, -0.0010554882415686776, -0.004385351719849555, -0.0027577898283366225, -0.00022164563056449935, 0.000671028141254295, 0.022805505081410424, -0.015415302698240492, 0.01238861414147056, 0.027048156392869956, -0.003664334194531238, 0.000659618686310403, -0.0395453825695626], [0.00015708609685296762, -0.002023439776409549, -0.0006585962232039727, 0.0018551715431300117, -0.00017830235745402848, 0.0038316081108209993, -0.0018843368313400555, 0.00028055706490990733, 0.0005185179379417309, 0.0008627156901272389, 0.0020843855905708854, -0.0027891353322080747, -0.002550176817048589, 0.010801247322821993, -5.68034984489633e-05, 0.0005700995928318008, 0.003916260613098526, -0.0005116275469089119, -0.0024587482883291823, 0.004703221735583135, -0.014215068450323902, 0.012834461526778383, -0.005044163506032868, 0.015610797697929576, 0.0016099131344041724, 0.004621283351914912, -0.026175489740602638, -0.028449055390207638, -0.003305196732171315, 0.003931008909527342, 0.011687876598533908, -0.0020118081082105446, 0.00516036249829409, -0.06685347526870833, -0.009279367583418996, 0.01579897013942237, -0.001392350638815119, -0.00784632048125095, -0.0031388514362076358, -0.003616660449926178, -0.023817006921179256, 0.0016284985727793456, -0.04886611674917401, 0.03211672520184766, 0.05101159083255008, -0.0018332437701957724, -0.02758128119132495, -0.06397859571420396, 0.02402867001758738, 0.056922358088929634, 0.07385010492721818, 0.0515472155972996, 0.008651940531016745, 0.07131051749878385, 0.021541652817612916, 0.0725415929044052], [-0.00038493287446477077, 0.0011106964799262207, -0.00016773757150140056, -0.0014365709422335562, -1.9700879390228857e-05, -0.002844669299729476, 0.001232418895676454, -0.00027553708073179203, -0.00014910364992886424, -0.001000683990670702, -0.0011404522991899817, 0.0015247570920539954, 0.0015989121004370294, -0.007625685558254898, -8.269910132467001e-05, -0.0008838390483909899, -0.0021025291550669377, 0.0004548951190838631, 0.0014385406330033315, -0.004667984678418093, 0.00908447876644277, -0.008526208133324565, 0.002887056948363757, -0.009813556425997627, 0.0009042074995927828, -0.00486653369970042, 0.021019922964409216, 0.01560445212570135, 0.004788674689235488, -0.006427828750339806, -0.0021808774646099355, -0.0008529068692349874, 0.0046415087886003395, 0.02547491234168055, 0.0014444987426996685, 0.00250399300291463, -0.003756896897555156, 0.01374594966767774, -0.001445096058378164, 0.008171939478924308, 0.02619034551623586, 0.007530769598050475, 0.03513065705184645, -0.017021288139468592, -0.020904019539960114, -0.028284261825257593, -0.010112115384377276, 0.021493699895774408, -0.017474308686878583, 6.0229196565948274e-05, 0.007803824816016238, -0.07676003989903214, 0.07156274969568768, -0.032327113594891516, 0.05911599145421668, -0.08649157679456222, -0.17361984319936255], [1.85351918471125e-05, 0.0030755980435276677, 0.0017103191323697372, -0.002227222766248517, 0.0004257574395944516, -0.0056990595561016, 0.003000306979954045, -5.690755175373044e-05, -0.0014924884761656867, -0.0014308607064523842, -0.0026614263919468393, 0.0038448648645906477, 0.0031689660344906096, -0.016615377876934557, 0.001376323877249875, 0.00031352050026745986, -0.007104933228415287, -0.003428111293821937, 0.006362550718146809, -0.01099296442847615, 0.01977158854814408, -0.01116410356565442, 0.00550641866668556, -0.025810511858275206, 0.002664501640682953, -0.009099771982437933, 0.04335304404494357, 0.03760242940146774, 0.006283644322834925, -0.0019628467627366814, -0.006053089606668072, 0.008243374457341796, -0.004228225721341951, 0.06487111162594128, 0.007073513832590804, -0.008532828852316075, 0.0012924798872875041, 0.02115093581541394, -0.014030077393281576, 0.002305153519082391, 0.024433780634840623, 0.018688552849089705, 0.06062226521313969, -0.02668217895394153, -0.06182190940022408, -0.0034601032851079017, -0.008881186150473912, 0.04519502694924973, 0.024989970470561496, -0.045757581703455626, -0.001794688829990667, -0.010728967557857861, -0.014208215576250871, -0.05592654606342023, 0.19695414596645852, -0.23938657473646444, 0.03102088013121199, -0.2429315484379368]], \"images\": [\"iVBORw0KGgoAAAANSUhEUgAAAMgAAADICAYAAACtWK6eAAAAOXRFWHRTb2Z0d2FyZQBNYXRwbG90bGliIHZlcnNpb24zLjguMywgaHR0cHM6Ly9tYXRwbG90bGliLm9yZy/H5lhTAAAACXBIWXMAAA9hAAAPYQGoP6dpAAACMUlEQVR4nO3VsQ3CABAEQWzRGiVQJSW4N94NoA3AyA5m8pcuWf0yM3MDPlrPHgBXJhAIAoEgEAgCgSAQCAKBIBAIAoEgEAgCgSAQCAKBIBAI91+OH+vzqB3wN9v79fWtDwJBIBAEAkEgEAQCQSAQBAJBIBAEAkEgEAQCQSAQBAJBIBAEAkEgEAQCQSAQBAJBIBAEAkEgEAQCQSAQBAJBIBAEAkEgEAQCQSAQBAJBIBAEAkEgEAQCQSAQBAJBIBAEAkEgEAQCQSAQBAJBIBAEAkEgEAQCQSAQBAJBIBAEAkEgEAQCQSAQBAJBIBAEAkEgEAQCQSAQBAJBIBAEAkEgEAQCQSAQBAJBIBAEAkEgEAQCQSAQBAJBIBAEAkEgEAQCQSAQBAJBIBAEAkEgEAQCQSAQBAJBIBAEAkEgEAQCQSAQBAJBIBAEAkEgEAQCQSAQBAJBIBAEAkEgEAQCQSAQBAJBIBAEAkEgEAQCQSAQBAJBIBAEAkEgEAQCQSAQBAJBIBAEAkEgEAQCQSAQBAJBIBAEAkEgEAQCQSAQBAJBIBAEAkEgEAQCQSAQBAJBIBAEAkEgEAQCQSAQBAJBIBAEAkEgEAQCQSAQBAJBIBAEAkEgEAQCQSAQBAJBIBAEAkEgEAQCQSAQBAJBIBAEAkEgEAQCQSAQBAJBIBAEAkEgEAQCQSAQBAJhmZk5ewRclQ8CQSAQBAJBIBAEAkEgEAQCQSAQBAJBIBAEAkEgEAQCQSAQdojZDIlbNNQ3AAAAAElFTkSuQmCC\", \"iVBORw0KGgoAAAANSUhEUgAAAMgAAADICAYAAACtWK6eAAAAOXRFWHRTb2Z0d2FyZQBNYXRwbG90bGliIHZlcnNpb24zLjguMywgaHR0cHM6Ly9tYXRwbG90bGliLm9yZy/H5lhTAAAACXBIWXMAAA9hAAAPYQGoP6dpAAAEuUlEQVR4nO3dT2jXdRzH8d9vDhw4gqVO0FYaVgNL1p+D0Fk6ZRlJrCLaZbBqBYqhYUFRUayiHQKpIA9BlLg0OhdRERQe9FKauagxq4mljWg0+3btEK/D7y0k8njcf6999+e57+nDp900TdMC/lPX//0AcDETCAQCgUAgEAgEAoFAIBAIBAKBQCAQCAQCgUAgEAgEAoFA0F358FV7J8oP0PVnvdH2+XZ5o+/r8kSrd3i2vHF2anV5Y/+u+u/l8MKa8saLL91b3ug9db688emhnR1/1hsEAoFAIBAIBAKBQCAQCAQCgUAgEAgEAoFAIBAIBAKBQCAQCAQCgUAgEJQOTPUdXVJ+gP43vypvtJbUn+PcnTeWN6YG3ylv3HLN9vLGlr2PlzfeGp0sb/w2WL96ZtWBE+WNCm8QCAQCgUAgEAgEAoFAIBAIBAKBQCAQCAQCgUAgEAgEAoFAIBAIBAKBQFA6MHXH2CflB7h++0x5Y9fUfeWNxcvqNxmNnNxa3lh+pH5b1p49+8obwwfHyxsf3vVKeePRQw+XNyq8QSAQCAQCgUAgEAgEAoFAIBAIBAKBQCAQCAQCgUAgEAgEAoFAIBAIBAJBu2majq8BWvfqy+UHWHqm3uja934ubxwbW1ne6Jmrfy9/XLlY3lg58Gt5o7V/RXli7tb699I1X789bPqxHZ1//fJXh0uYQCAQCAQCgUAgEAgEAoFAIBAIBAKBQCAQCAQCgUAgEAgEAoFAIBAISjdMtTs+avUvQ+fKE3Oz/eWNgQ2nyhsvrD9Q3njg3UfKG82X9cNOpy/AYafuZX+VN1pnSn+iZd4gEAgEAoFAIBAIBAKBQCAQCAQCgUAgEAgEAoFAIBAIBAKBQCAQCAQCgaB0GuXyo+3yAzyx5WB54+Rg/cDUB7MbyxsPvl0/7LTuqS/KGzMHNpQ3Jje+X97Yu2lTeePHkcHyRoU3CAQCgUAgEAgEAoFAIBAIBAKBQCAQCAQCgUAgEAgEAoFAIBAIBAKBQCBoN03T8T1Rtw09WX6AE/f3lTfa9cuQWotrFsobN139Q3nj26lryxurXz9S3jj+3A3lja6F+oG68z31a8y+H9/R8We9QSAQCAQCgUAgEAgEAoFAIBAIBAKBQCAQCAQCgUAgEAgEAoFAIBAIBAJB6YapZa+dLj/A2t095Y3ph8oTredvPlTe2P3xtvLGqs2/lDe2jk6XN/Y9XT8w1T3yU3mjd/wC/A8f7/yj3iAQCAQCgUAgEAgEAoFAIBAIBAKBQCAQCAQCgUAgEAgEAoFAIBAIBAKBoHRgqrvr7/IDfHfP0vJGs1C/Ymri+ObyRnuxfqPS3DcryhujQ7Pljcltv5c3+t7oL28cG6v/TCu8QSAQCAQCgUAgEAgEAoFAIBAIBAKBQCAQCAQCgUAgEAgEAoFAIBAIBAJB6cDU4c+uKz/A58MT5Y3bn9lZ3ji7fnl5o93TlDeu+Kh+CG3m7vnyxsCz5YnW8ZH6Rve8A1Nw0RIIBAKBQCAQCAQCgUAgEAgEAoFAIBAIBAKBQCAQCAQCgUAgEAgEAkG7aZr6KR+4RHmDQCAQCAQCgUAgEAgEAoFAIBAIBAKBQCAQCAQCgUAgEAgEAoHgHwZiobfrVpDAAAAAAElFTkSuQmCC\", \"iVBORw0KGgoAAAANSUhEUgAAAMgAAADICAYAAACtWK6eAAAAOXRFWHRTb2Z0d2FyZQBNYXRwbG90bGliIHZlcnNpb24zLjguMywgaHR0cHM6Ly9tYXRwbG90bGliLm9yZy/H5lhTAAAACXBIWXMAAA9hAAAPYQGoP6dpAAAEu0lEQVR4nO3dT2jXdRzH8d/S2kzRYrColASd/SGloLQoTAZ1CSLSpGVhRFGRCi0tzCArKIgiLHFaQvTnIFm0QwMxooIus6QIFpImWRiVEYuoQWv7dusUr8Pegjs8Hvffi88Oz31PHz5tTdM0LeB/nXaqDwBTmUAgEAgEAoFAIBAIBAKBQCAQCAQCgUAgEAgEAoFAIBAIBILplR+/fKinfIC3ji0tb5y16fTyxpE7zy5vrFjxVXnj+I0d5Y3f3qj/Le8vfr28sWzvw+WN6aNt5Y3Dm/sm/VtfEAgEAoFAIBAIBAKBQCAQCAQCgUAgEAgEAoFAIBAIBAKBQCAQCAQCgUBQujA1uPKq8gFO3NNZ3pg9PFTe6H51fnnj3tUflzd6t6wvb8weGylvvPb7kvJG20l4eeb8T8bqI5sn/1NfEAgEAoFAIBAIBAKBQCAQCAQCgUAgEAgEAoFAIBAIBAKBQCAQCAQCgUBQujB123sflQ8wPDq3vPH2rivLG9t73ixvrNm7obxx7tBEeWPPyt3ljeve3Vje2L/q+fLGjhXLyxsVviAQCAQCgUAgEAgEAoFAIBAIBAKBQCAQCAQCgUAgEAgEAoFAIBAIBAKBoHRh6qnBVeUDTJxRf4Zo0fr6C1PbL7ulvLHw0BfljdGexeWNH8fbyxtzvmkrb1w/UL909cHN9UtXFb4gEAgEAoFAIBAIBAKBQCAQCAQCgUAgEAgEAoFAIBAIBAKBQCAQCAQCgaB0YeqCwbHyAe7uHyhv7Fh9a3ljZEH9f8WmPUfLGy9tu7y8sW5r/aWrPy4uT7SuXfp1eWP4767yRnfht74gEAgEAoFAIBAIBAKBQCAQCAQCgUAgEAgEAoFAIBAIBAKBQCAQCAQCgaCtaZpJP/G07I4XygfY99yL5Y1prfprSK+MXFLe2L/26vJGc3C4vDH/wIzyRm9n/dWuR7feV94Yuag80Tq8uW/Sv/UFgUAgEAgEAoFAIBAIBAKBQCAQCAQCgUAgEAgEAoFAIBAIBAKBQCAQCASlF6aak5BX7w1ryxvf3t5Z3vhn1qTvjf1nXtd4eWPmvLnljR/uOrO88cCTC8sbY0vKE62Jjon6SIEvCAQCgUAgEAgEAoFAIBAIBAKBQCAQCAQCgUAgEAgEAoFAIBAIBAKBQCAoXZja+fS28gEefGRDeaP90pHyxviROeWNri1HyxvrzvuwvLH75+XljdZN7eWJ73d1lTf+/GlmeaPCFwQCgUAgEAgEAoFAIBAIBAKBQCAQCAQCgUAgEAgEAoFAIBAIBAKBQCAQlC5MHR+vXzL6ddVoeWP8r/rlnmZaeaJ18LPu8sbGLxeVNw4821/eWPDY/eWN1rH6RKvdC1MwZQkEAoFAIBAIBAKBQCAQCAQCgUAgEAgEAoFAIBAIBAKBQCAQCAQCgaB0Yeqhz1eXDzB0zc7yxhXv9JU3On6p/69Y01t/HerTJ84pbww8Pqu8cWH/ifLGd8/MKG9MDM8ub1T4gkAgEAgEAoFAIBAIBAKBQCAQCAQCgUAgEAgEAoFAIBAIBAKBQCAQCASCtqZpmlN9CJiqfEEgEAgEAoFAIBAIBAKBQCAQCAQCgUAgEAgEAoFAIBAIBAKBQPAvFpagK2TLnFgAAAAASUVORK5CYII=\", \"iVBORw0KGgoAAAANSUhEUgAAAMgAAADICAYAAACtWK6eAAAAOXRFWHRTb2Z0d2FyZQBNYXRwbG90bGliIHZlcnNpb24zLjguMywgaHR0cHM6Ly9tYXRwbG90bGliLm9yZy/H5lhTAAAACXBIWXMAAA9hAAAPYQGoP6dpAAAEtUlEQVR4nO3d22vXdRzH8d9yhlCjYc1JejGyDdP0IozMbroo8CIDsUWiyCw70EHIGlFZdIAOVgyLqCCiw01QBKEjDC/CC01MMkkwW+QkrNiy6EDNnN/+gXhd7H2hF4/H/e/F57ftyefqw9qapmlawP8650wfAM5mAoFAIBAIBAKBQCAQCAQCgUAgEAgEAoFAIBAIBAKBQCAQCNorH+555aXyAZ5e/kF5Y2jLzeWN3y8tT7QmZ9RfDszeXd9484Wh8sbDoyvLGyc3nFfe+HZDd3nju8FNU/6sGwQCgUAgEAgEAoFAIBAIBAKBQCAQCAQCgUAgEAgEAoFAIBAIBAKBQCAQlB5MzRir9/X4cH95o/fd/eWN3569orxx7dVflzd2/buovPHVxJzyxn1zd5Y37l19Z3mje99keaPCDQKBQCAQCAQCgUAgEAgEAoFAIBAIBAKBQCAQCAQCgUAgEAgEAoFAIBAISg+mJhf9WT7A3mWvlTc+XN5X3tjyxeXljc/21DfmD31f3rhl7a/ljYV71pQ3Xlz3Vnlj4/aB8kaFGwQCgUAgEAgEAoFAIBAIBAKBQCAQCAQCgUAgEAgEAoFAIBAIBAKBQCAQlB5Mzbv9aPkAVz35QHmj79GD9Y3LJsob08bHyhuHB3vKGwcm6t9l4mhHeWPjsYHyRqupT1S4QSAQCAQCgUAgEAgEAoFAIBAIBAKBQCAQCAQCgUAgEAgEAoFAIBAIBAJB6cHUkccWlg/QnHu6vNHq6ylP/HD9BeWN7uv+KG/M3Vr/eTzy/IryRvNQeaI1s/dEeWP8eP33UuEGgUAgEAgEAoFAIBAIBAKBQCAQCAQCgUAgEAgEAoFAIBAIBAKBQCAQCASlB1MzD9UPMHv9aHnjwtf/Km+s7vy0vPHUtv7yxrxte8obY9v7yhudTf2x04kjM8sbrc5T9Y0CNwgEAoFAIBAIBAKBQCAQCAQCgUAgEAgEAoFAIBAIBAKBQCAQCAQCgUAgKD2Y+mVxUz7ARXd1lDd+HKk/7lk3Ol7eeP+5b8obra6u8sSse/4ubxy+f055o2t/eaI1tqT0J1rmBoFAIBAIBAKBQCAQCAQCgUAgEAgEAoFAIBAIBAKBQCAQCAQCgUAgEAgEbU3TTPnV09q9t5UPMLJ1QXnjp2vqD7emz6o/Mmpvnyxv7LjyjfLGqs2D5Y3O9z4vbyw7MFHe6Jj2T3njwQU7pvxZNwgEAoFAIBAIBAKBQCAQCAQCgUAgEAgEAoFAIBAIBAKBQCAQCAQCgUAgKP37nvPbT5YP8PPS8kRreMVQeeOGjzaVN06VF1qtOzavL2/s2vlyeWPVrTeWN9758uLyxhNLPy5vVLhBIBAIBAKBQCAQCAQCgUAgEAgEAoFAIBAIBAKBQCAQCAQCgUAgEAgEAkHpwdQn+xaXD3Dopvrjnv4lK8sbl/TW/xvSyJrp5Y3m2PHyxvzhu8sbnQfr36Vt3unyxqvP9Jc3Bt6e+mfdIBAIBAKBQCAQCAQCgUAgEAgEAoFAIBAIBAKBQCAQCAQCgUAgEAgEAoGgrWma5kwfAs5WbhAIBAKBQCAQCAQCgUAgEAgEAoFAIBAIBAKBQCAQCAQCgUAgEPwHP4ylIAfOkqcAAAAASUVORK5CYII=\", \"iVBORw0KGgoAAAANSUhEUgAAAMgAAADICAYAAACtWK6eAAAAOXRFWHRTb2Z0d2FyZQBNYXRwbG90bGliIHZlcnNpb24zLjguMywgaHR0cHM6Ly9tYXRwbG90bGliLm9yZy/H5lhTAAAACXBIWXMAAA9hAAAPYQGoP6dpAAAEzUlEQVR4nO3dy4vWZRzG4Xd0nJE8FFMKlZF4mKyZKaEUCYkso9TKoginP6AkMFAhMKpFKHYgisAKwiKCqE3RaRYZkVBphml2sLRmo2bqaBhjpqZvu1ZxL97voojr2v9uHgY+86we3rZms9lsAP9oxL99APgvEwgEAoFAIBAIBAKBQCAQCAQCgUAgEAgEAoFAIBAIBAKBQNBe+Xjyq2vLB5h3ya7yxt6rj5c3hu+4qrzx8/wz5Y2RwyPLGzuXrCtv9A/eWN74dkN3eePU+PrfdHDFypa/dYNAIBAIBAKBQCAQCAQCgUAgEAgEAoFAIBAIBAKBQCAQCAQCgUAgEAgEgtKDqYkbOsoH2Hiwr7wxtbGlvDF2T/3R1ePz3i5vrJ8xrbyx6fb6o6tVkwbKG0v3TC9vTPj0UHmjsaL1T90gEAgEAoFAIBAIBAKBQCAQCAQCgUAgEAgEAoFAIBAIBAKBQCAQCAQCgaD0YOpQ/UeZGqMv+q28seDrw+WNweM7yxsPb1tc3phy2cnyxjWjt5Y3dpys/7LTmAN/ljdmvrG7vFHhBoFAIBAIBAKBQCAQCAQCgUAgEAgEAoFAIBAIBAKBQCAQCAQCgUAgEAgEbc1ms9nqxze0Lykf4NjAxeWN8cvKE43GofqjqyOLLi1vdByrP1S6bfWH5Y31r91U3vh98qnyxriJw+WNb259tOVv3SAQCAQCgUAgEAgEAoFAIBAIBAKBQCAQCAQCgUAgEAgEAoFAIBAIBAKBoPQLUz89Oat8gB29z5Y37jwwv7xx8K6e8savPS2/PfvbgrlflTc+mNlV3jjxWP3h1q5FL5Q3ut9bWt6ocINAIBAIBAKBQCAQCAQCgUAgEAgEAoFAIBAIBAKBQCAQCAQCgUAgEAgEgtKDqUkfnS4foLez/vNQL217sbxx+PT28sb6hdeXN3YvP1HeuGDzuPLG4aEj5Y2bL7yyvLH6hzfLG43GAy1/6QaBQCAQCAQCgUAgEAgEAoFAIBAIBAKBQCAQCAQCgUAgEAgEAoFAIBAIBKUHU53vf1E+wIjr5pQ31k69vLwx6uPzyxvDvRPKG2P27i9v7J97vLwxtO7s8sZ5vTPKGzM6tpQ3KtwgEAgEAoFAIBAIBAKBQCAQCAQCgUAgEAgEAoFAIBAIBAKBQCAQCAQCgaD0YGpg35flA9xyxbnljUcGt5Y3Xh6aWz/H0++UN2Y/N6q80ffMfeWN7ns/K298//zs8sZbR+u/UjWr8K0bBAKBQCAQCAQCgUAgEAgEAoFAIBAIBAKBQCAQCAQCgUAgEAgEAoFAIBCUHkyt/KX+IOb+zZ+UN7pG/lHe2LNobHmjf9Wy8kb3QzvKG69/91R5Y83iheWNzn31X7q6p2tTeaPCDQKBQCAQCAQCgUAgEAgEAoFAIBAIBAKBQCAQCAQCgUAgEAgEAoFAIBAI2prNZrPVj98d7CsfYEr7kfLG8unXljfaeqaVN+a8sr288fnd9b/p0BNnyhvnrDmrvPFj/+jyxqij9f/hux9c0fK3bhAIBAKBQCAQCAQCgUAgEAgEAoFAIBAIBAKBQCAQCAQCgUAgEAgEAoFAUHowBf93bhAIBAKBQCAQCAQCgUAgEAgEAoFAIBAIBAKBQCAQCAQCgUAgEPwFYySshR/CXMAAAAAASUVORK5CYII=\", \"iVBORw0KGgoAAAANSUhEUgAAAMgAAADICAYAAACtWK6eAAAAOXRFWHRTb2Z0d2FyZQBNYXRwbG90bGliIHZlcnNpb24zLjguMywgaHR0cHM6Ly9tYXRwbG90bGliLm9yZy/H5lhTAAAACXBIWXMAAA9hAAAPYQGoP6dpAAAEz0lEQVR4nO3dS4iVdRzG8XNMTTMMolVamdSMCkk3NK2NMC3MS0Et8oKrKMwQ0SBctkiKZsqiJKKJNl00Kpo0EY0CQ61ogigSb2MZERpaCI44zpxW7eJZnN+ALj6f/fucd/M9/9Wft9lqtVoN4H+NudQvAJczgUAgEAgEAoFAIBAIBAKBQCAQCAQCgUAgEAgEAoFAIBAIBGMrD39w5O7yC2zcsay80fnGX+WN1sTx5Y2DT1xd3uhY8315o+/EgfLG2ZEL5Y0VN9xb3jjy0j3ljYF1G9p+1gkCgUAgEAgEAoFAIBAIBAKBQCAQCAQCgUAgEAgEAoFAIBAIBAKBQCAQCEoXpp7bsqL+BjeOlCeGDx0tbxzpmVve+G5xT3lj7mD7l3v+c2xob3njlnETyhtXzOoob1xzuFneqHCCQCAQCAQCgUAgEAgEAoFAIBAIBAKBQCAQCAQCgUAgEAgEAoFAIBAIBILShanVj39afoG3B+aXN5b+XP/C1AOTussb9+1fXd7ofOt0eWPmo1eVN86Nwhemfn3ouvLGqmW7yxuNxvq2n3SCQCAQCAQCgUAgEAgEAoFAIBAIBAKBQCAQCAQCgUAgEAgEAoFAIBAIBILShanuHUvLL3DnvEPljc/vv6280fdH/XLPUM+k8sa5afUvO92887HyxsSB8eWNwWlD5Y0xzfoXyEq/f0l/HS5zAoFAIBAIBAKBQCAQCAQCgUAgEAgEAoFAIBAIBAKBQCAQCAQCgUAgKF2YmvrVxfILbFvxRXljUXNReeOu/uHyxuF9rfLG5tdfK29snN1V3mhMn1qeWLa1/nWoTT8uLG88M6v9Z50gEAgEAoFAIBAIBAKBQCAQCAQCgUAgEAgEAoFAIBAIBAKBQCAQCAQCgaDZarXavuXz8dE7yi+wYfvK8sb+R3rKG/P3rilvTHm//lWmCZ99W954+JeT5Y3n9ywpb3T2ni1vjIZd/c+2/awTBAKBQCAQCAQCgUAgEAgEAoFAIBAIBAKBQCAQCAQCgUAgEAgEAoFAIBCULkzNWVW/qHTt7mPljeGTp8objT1TyhNjlpwub4wMDpY3Gs36/97vH84ob1w4PLm88cPKl8sbk68/0fazThAIBAKBQCAQCAQCgUAgEAgEAoFAIBAIBAKBQCAQCAQCgUAgEAgEAoFAULowNfLnreUXmN39ZHlj69ru8sbiUfjCVP+CLeWNb87XLxm90rWwvHHx+G/ljdn9zfLGR1/PKW8cf+rptp91gkAgEAgEAoFAIBAIBAKBQCAQCAQCgUAgEAgEAoFAIBAIBAKBQCAQCASCsZWHlw8sKL/AgfWbyxvjmleWNxqn6htz3llf3pj+wk/ljb6Dn5Q3ZmyrXyA782r9wlTz9rbv840KJwgEAoFAIBAIBAKBQCAQCAQCgUAgEAgEAoFAIBAIBAKBQCAQCAQCgUAgKF2YevOmneUXGGrUL8TMe3FdeaPjyzPljfe295Y3lm/qKm/8M3K+vNHR+3d5o2/Xu+WNB2fWL+U11rb/qBMEAoFAIBAIBAKBQCAQCAQCgUAgEAgEAoFAIBAIBAKBQCAQCAQCgUAgEDRbrdal/YQPXMacIBAIBAKBQCAQCAQCgUAgEAgEAoFAIBAIBAKBQCAQCAQCgUAg+BferbR4sK18JAAAAABJRU5ErkJggg==\", \"iVBORw0KGgoAAAANSUhEUgAAAMgAAADICAYAAACtWK6eAAAAOXRFWHRTb2Z0d2FyZQBNYXRwbG90bGliIHZlcnNpb24zLjguMywgaHR0cHM6Ly9tYXRwbG90bGliLm9yZy/H5lhTAAAACXBIWXMAAA9hAAAPYQGoP6dpAAAEm0lEQVR4nO3dT2jXdRzH8d9vk5mmFJFUhGVO56IIooS8dPNSdojAKZXkYbAKGWO3dgryEv4piPBqK2JFMCgS6xjRKNIoo81lZpcgsQIF09y+3TrF6/B7/2IyHo/79/X7wPbke/rwbTdN07SA/9Sz1AeA65lAIBAIBAKBQCAQCAQCgUAgEAgEAoFAIBAIBAKBQCAQCASCFZWHN7xxoH6Cm/8uT7Qv9NXP0QX7H5sqb0x8PFTeOL3zzfLG5eZqeWPng0+UN+Ze6i9vnB0d7/hZbxAIBAKBQCAQCAQCgUAgEAgEAoFAIBAIBAKBQCAQCAQCgUAgEAgEAoFAULow1b7Wrp+gC5edBia+LW+c3v9AeWPX2j/KGxPlhVZr69e7yxsnHq5f/jo3vLm8seXIb+WN1mjnj3qDQCAQCAQCgUAgEAgEAoFAIBAIBAKBQCAQCAQCgUAgEAgEAoFAIBAIBILShalWF+5LPbrt+/LGxeOryxvNyaa80T81Ut7YOH2lvPHpu/XLTgvNYnnjhWc+LG8cWvd4eaPCGwQCgUAgEAgEAoFAIBAIBAKBQCAQCAQCgUAgEAgEAoFAIBAIBAKBQCAQlC5MbX7nUvkALz91rLwxsv258kb7+S7c/qrfuWpdXL+yvHHv58+WNzaO/V7emB1fX95Yat4gEAgEAoFAIBAIBAKBQCAQCAQCgUAgEAgEAoFAIBAIBAKBQCAQCAQCgaB0YWr+6TXlA8z8dWd548e968obx548UN5YaOqXrsYmh8sbN71d/2rX7KFHyht33f9reeOXU3eUNyq8QSAQCAQCgUAgEAgEAoFAIBAIBAKBQCAQCAQCgUAgEAgEAoFAIBAIBAJB6cLU4R1vlQ8w9tGe8kazqv5ppz8X+8obu6f3lTc2nZwpb1z5ZEN5Y9ua2fLGFzOD5Y3FVYvljQpvEAgEAoFAIBAIBAKBQCAQCAQCgUAgEAgEAoFAIBAIBAKBQCAQCAQCgUDQbpqm49tGGw8fLB+gWUaJbhr/qrzRO9hf3pgbvqW8ccP5+h/m7vfqX5iae/G28sbZ0fGOn11G/57QfQKBQCAQCAQCgUAgEAgEAoFAIBAIBAKBQCAQCAQCgUAgEAgEAoFAIChdmHrl1I7yAT7b81B5Y3bf6vJGT99CeaN1fmV54syuI+WN/qmR8sbgqz+XN45++UF549beG8sbPbfPd/5s+ddhGRMIBAKBQCAQCAQCgUAgEAgEAoFAIBAIBAKBQCAQCAQCgUAgEAgEAkHpwtQ9r9e/MNUNZ4auj0tG/e9fLm+0ry2WN45PT5Y3tg/tLW/0Xrpa3pjfs7a84QtT8D8RCAQCgUAgEAgEAoFAIBAIBAKBQCAQCAQCgUAgEAgEAoFAIBAIBALBisrD7S58lOmbXa+VNwaOjpU3tkxeqJ9j8qfyxg9bO76/9q9uXP4aOPFdeWP24H3ljZ76HbTa7y/tz8P1TSAQCAQCgUAgEAgEAoFAIBAIBAKBQCAQCAQCgUAgEAgEAoFAIBAIBKUvTMFy5w0CgUAgEAgEAoFAIBAIBAKBQCAQCAQCgUAgEAgEAoFAIBAIBIJ/AK/1pWfG4ATZAAAAAElFTkSuQmCC\", \"iVBORw0KGgoAAAANSUhEUgAAAMgAAADICAYAAACtWK6eAAAAOXRFWHRTb2Z0d2FyZQBNYXRwbG90bGliIHZlcnNpb24zLjguMywgaHR0cHM6Ly9tYXRwbG90bGliLm9yZy/H5lhTAAAACXBIWXMAAA9hAAAPYQGoP6dpAAAEyUlEQVR4nO3dTYiVZRzG4feMYqViFBakITPlx0gYISkFQRkRaGgUOImLCgpLMKEv20W0qIXYDEgfSBQEGWWRUEYtpEW0cUobMBiOVkqBUYKjjS0G9LSKNnEvzv+AIte1f+/zbn7nXT08rU6n02mA/9V3oV8ALmYCgUAgEAgEAoFAIBAIBAKBQCAQCAQCgUAgEAgEAoFAIBAIplce7t+5o/wCI2veK2+8uezm8kb71VvKG+NDr5c31g3eVd5ov3xTeaPTg7/O1rn6Rt9Uq7zx07Znuv/98q/DJUwgEAgEAoFAIBAIBAKBQCAQCAQCgUAgEAgEAoFAIBAIBAKBQCAQCASlA1ODu06VX+D5yUfKG/1TB8obC58dLW80Q/WJXhx2mj1wurwxtvKD8saNHz5Z3ugbOFveKP3+Bf11uMgJBAKBQCAQCAQCgUAgEAgEAoFAIBAIBAKBQCAQCAQCgUAgEAgEAoGgdGBqzq4/yy+wYfbh8sb8B+sHt9bOapc33j2zuLyx4Kv6tUx7336nvLHqxw3ljYPrh8sby/c8Xd6o8AWBQCAQCAQCgUAgEAgEAoFAIBAIBAKBQCAQCAQCgUAgEAgEAoFAIBAIBK1Op9Pp9uHV87aUX2Dv91+UN+6/+6HyRnvT3PLGwhe+K2+0ppfOsDVN0zTTvryqvDGxc0F548QdrfLG2PqR8saceb92/awvCAQCgUAgEAgEAoFAIBAIBAKBQCAQCAQCgUAgEAgEAoFAIBAIBAKBQCAoHZgaGNnRgzeoT0w/Wx+Zmlu/2Wnpkt/KG80DZ8sT5yZOlzeOvnZbeWPBshPljWPHri1vHH9sW9fP+oJAIBAIBAKBQCAQCAQCgUAgEAgEAoFAIBAIBAKBQCAQCAQCgUAgEAgEgtJ1Rot2T5ZfoL3lsvLGK/ftKW+sm3WqvLFm4+Pljb6JQ+WNo8P1w07toTfKG2vmLy9vXLNvRnmjwhcEAoFAIBAIBAKBQCAQCAQCgUAgEAgEAoFAIBAIBAKBQCAQCAQCgUAgEJQOTDU/jJdfYNofK8ob2/ZtrG+UF5pmxqr6/83A7wvrL9L1nWH/WbR3c3lj6fX1G7dO/nJ1eaPCFwQCgUAgEAgEAoFAIBAIBAKBQCAQCAQCgUAgEAgEAoFAIBAIBAKBQCAQlA5MPTV+uPwCWz+7tbwxs/9MeePv43PKG1NXni9v3PPJwfLG+P57yxuDLx4pb+we21femN2q30DWNM91/aQvCAQCgUAgEAgEAoFAIBAIBAKBQCAQCAQCgUAgEAgEAoFAIBAIBAKBQCAoHZja+vmj5Rc4P/NceWNy4oryRl8PbmXqxc1O+9cuK2/8/O1b5Y0lf9VvmFq+Z3F5Y8XKdnnjo+u6f9YXBAKBQCAQCAQCgUAgEAgEAoFAIBAIBAKBQCAQCAQCgUAgEAgEAoFAIBCUDkz14oDQN6uHyxt3ftz9DUL/uvxk/b/i683byxsPv7+pvHHDp0+UNxa/NFreOLK9fnvY6IH6oavm9u4f9QWBQCAQCAQCgUAgEAgEAoFAIBAIBAKBQCAQCAQCgUAgEAgEAoFAIBAIBK1Op9OLu5XgkuQLAoFAIBAIBAKBQCAQCAQCgUAgEAgEAoFAIBAIBAKBQCAQCASCfwAUnKBf1pgpCQAAAABJRU5ErkJggg==\", \"iVBORw0KGgoAAAANSUhEUgAAAMgAAADICAYAAACtWK6eAAAAOXRFWHRTb2Z0d2FyZQBNYXRwbG90bGliIHZlcnNpb24zLjguMywgaHR0cHM6Ly9tYXRwbG90bGliLm9yZy/H5lhTAAAACXBIWXMAAA9hAAAPYQGoP6dpAAAExklEQVR4nO3dT4hVdRzG4bkzakMkCVGZBqPoXG1IUhBdBVEQ0ohoEGm0sDCcgUJMiRZuXISB2EYqEyIsqCwoosKMdkV/FiXZOM6MFpUpUSIFgRDjPa1yFe/ifoUinmd/Xs7ifu5vdfi1mqZpeoB/1PtvvwD8lwkEAoFAIBAIBAKBQCAQCAQCgUAgEAgEAoFAIBAIBAKBQCCYUXl4wf595Rf4YH19Y9uSu8ob0yuXlje+va+/vHHL3jPljTVHx8ob7/28rLzRNzKrvPH9xrnljYnd27t+1gkCgUAgEAgEAoFAIBAIBAKBQCAQCAQCgUAgEAgEAoFAIBAIBAKBQCAQCFqV+0HuXrW7/ALNlyfKG33tRfX3OHOuvLH16+PljecHF5c3Noz/Wt4YmXO2vDH4ymh5Y3T4aHlj51D3G04QCAQCgUAgEAgEAoFAIBAIBAKBQCAQCAQCgUAgEAgEAoFAIBAIBAKBQFC6YerUtpnlF+hcXFnemBo+UN5ovz9S3rjU1G926ptzbXnjwvTF8sbCI1vKGx9v2lveuP1I97dD/W3nUPfPOkEgEAgEAoFAIBAIBAKBQCAQCAQCgUAgEAgEAoFAIBAIBAKBQCAQCAQCQemGqTXXby2/wOSudnlj8Mlj5Y1Te1aUN3r/bJU3BvedLm+cfHqgvDHj/BX4GG5W1z+ty15cd7C8cefCya6fdYJAIBAIBAKBQCAQCAQCgUAgEAgEAoFAIBAIBAKBQCAQCAQCgUAgEAgEgtINUz9tXlp+gU7/dHmjZ2hxfeMK/FV0+usfCDU3XVfeaD9S/4Ds7BOryxvvjNZvmFow4+ryRoUTBAKBQCAQCAQCgUAgEAgEAoFAIBAIBAKBQCAQCAQCgUAgEAgEAoFAIBCUPpia/+xX5Rd4Yeqj8sale8oTPbN767dDrX5zR3mjc3yivDH13Kryxjfrnilv3PbGzvLGnrWvlTc2Fp51gkAgEAgEAoFAIBAIBAKBQCAQCAQCgUAgEAgEAoFAIBAIBAKBQCAQCASC0gdTp55aXn6B0TvmljcmHq1vvLT+QHlj8NU/yhvNqmXljb6L9f+9NWMPlDdanfJEz4KZ5+sjBU4QCAQCgUAgEAgEAoFAIBAIBAKBQCAQCAQCgUAgEAgEAoFAIBAIBAKBQFD6YKq5Anl99+C88kb/wO/ljYc/31ze6Gy+qrzRmq7fdLXk4IXyxuSWG8ob45v2lzdWfPZQeWNioPtnnSAQCAQCgUAgEAgEAoFAIBAIBAKBQCAQCAQCgUAgEAgEAoFAIBAIBAKBoNU0TdPtwyd+nF9+geF3t5c3bm7/Ut44N3ZjeaOpf+vU0951vLxx5PSn5Y1Fr4+UNxbv+KK88faZ+sY1837o+lknCAQCgUAgEAgEAoFAIBAIBAKBQCAQCAQCgUAgEAgEAoFAIBAIBAKBQCAo3TC19q3Hyy9w8v76LURDhx8rb7QP/VbeWHFovLxxrDW7vLHocP1jp3mfdP0d3WWnX15e3rh3w63ljQ8L31w5QSAQCAQCgUAgEAgEAoFAIBAIBAKBQCAQCAQCgUAgEAgEAoFAIBAIBAJB6YYp+L9zgkAgEAgEAoFAIBAIBAKBQCAQCAQCgUAgEAgEAoFAIBAIBAKB4C/j0qzYW5nzGgAAAABJRU5ErkJggg==\", \"iVBORw0KGgoAAAANSUhEUgAAAMgAAADICAYAAACtWK6eAAAAOXRFWHRTb2Z0d2FyZQBNYXRwbG90bGliIHZlcnNpb24zLjguMywgaHR0cHM6Ly9tYXRwbG90bGliLm9yZy/H5lhTAAAACXBIWXMAAA9hAAAPYQGoP6dpAAAEvElEQVR4nO3dy4tWdRzH8TOjpth0HY2IdNRwBnKRdhnDoGXNiLQJislFmy6WZBe0BBdSzk4M3USl7oJKKaiFeFm1MkGoGPASYzklJNoFGiM0fU7/QHwW8zV08Xrtz4ffM8Obs/pxutq2bRvgP3Vf6wPA9UwgEAgEAoFAIBAIBAKBQCAQCAQCgUAgEAgEAoFAIBAIBALB9MrDyw9sLB/g3PG55Y2Bd46XN7pmzSpvHBudV97o/XpGeePQ5m3ljUd3rC9v3P3BWHmjMzlZ3jjU2TvlZ71BIBAIBAKBQCAQCAQCgUAgEAgEAoFAIBAIBAKBQCAQCAQCgUAgEAgEAkHpwtT5Y/XLTgv2/VPeODtyb3nj4q1d5Y2m+1J5onfX4fLGxKZp5Y2jr+8obyy/9Gp54/Ls8kSJNwgEAoFAIBAIBAKBQCAQCAQCgUAgEAgEAoFAIBAIBAKBQCAQCAQCgUAgKF2Y+vbp7eUDDPY9V944tmJ3eeOzCzeXNzbsHylvTOu9vbyxdObM8sbCL18ob4yu/bS8seW7leWNCm8QCAQCgUAgEAgEAoFAIBAIBAKBQCAQCAQCgUAgEAgEAoFAIBAIBAKBQNDVtm071YcXbXu3fIDO7E55Y2DDWHljfPN95Y3OjCn/Ka+qG+b9Vd64fKqnvHGlp/6/ba7Ch79Ov7R+ys96g0AgEAgEAoFAIBAIBAKBQCAQCAQCgUAgEAgEAoFAIBAIBAKBQCAQCASC0hem+neeKx/g+Fu3lTea/gXliXWr9pU3th8YLm8seeB0eePMxwvLGz2/XClvnFv9d3njyIoPyxtN48IU/C8EAoFAIBAIBAKBQCAQCAQCgUAgEAgEAoFAIBAIBAKBQCAQCAQCgUBQujDV+WGifIDxob3ljWaoPtG/5+XyxuI3j5Y3rsydU96YvuvX8sbPZ28pb3SfubG8ceZyeaKpXMnzBoFAIBAIBAKBQCAQCAQCgUAgEAgEAoFAIBAIBAKBQCAQCAQCgUAgEAgEpQtTP779UPkATwzeUd74/pW+8sbBka3ljbUfvVje+HN+T3ljzrPj5Y3fNvWWNwa2nCxvbFj2ZHlj//ypP+sNAoFAIBAIBAKBQCAQCAQCgUAgEAgEAoFAIBAIBAKBQCAQCAQCgUAgEAhKF6ZWDR0pH+DA5MPljd1PvVfeGD5c/8JU55nZ5Y3xkffLG0N9g+WNxRu/KW/sOfVVeWPNT1fh82EF3iAQCAQCgUAgEAgEAoFAIBAIBAKBQCAQCAQCgUAgEAgEAoFAIBAIBAKBoHRh6vMjD5YP0H1np7zxxR/3lzemj9W/7HSxt/5bVi57rLyxf+JgeWN4Uf0i2yNb3yhvXFhQ/5s2hZ/iDQKBQCAQCAQCgUAgEAgEAoFAIBAIBAKBQCAQCAQCgUAgEAgEAoFAIBAIShemZp4vPd40TdOceL7+dajH71pa3ui7aay8cXJ0SXmjnbxQ3rjnkzXljYFFv5c3dr62o7yxeu+68kaFNwgEAoFAIBAIBAKBQCAQCAQCgUAgEAgEAoFAIBAIBAKBQCAQCAQCgUAg6Grbtr3Wh4DrlTcIBAKBQCAQCAQCgUAgEAgEAoFAIBAIBAKBQCAQCAQCgUAgEAj+Bd7PoKuqGdC1AAAAAElFTkSuQmCC\", \"iVBORw0KGgoAAAANSUhEUgAAAMgAAADICAYAAACtWK6eAAAAOXRFWHRTb2Z0d2FyZQBNYXRwbG90bGliIHZlcnNpb24zLjguMywgaHR0cHM6Ly9tYXRwbG90bGliLm9yZy/H5lhTAAAACXBIWXMAAA9hAAAPYQGoP6dpAAAE00lEQVR4nO3dzYuVdRzG4TPqWPQyEsU4ZFE5jFZQIJZZRoUIqZnQogyhRQtLiCStxKhNq94gNxEzUi2KKdBARcSIbBMYlFlYlmm+lROSDiXhKNHM0z8Q9+J8C0Wua/+7z29xPjyrh6ejaZqmBfyrcWf7AnAuEwgEAoFAIBAIBAKBQCAQCAQCgUAgEAgEAoFAIBAIBAKBQDChcnh4aEr5ArdsWFXe6Bv8s7zRfL23vPHKgR3ljTV9c8obm498Xt6YvfOR8sap7y8rb3R/NVbe2LH+mbbPeoJAIBAIBAKBQCAQCAQCgUAgEAgEAoFAIBAIBAKBQCAQCAQCgUAgEAgEgo7K90F6X3u9fIGxzvrnSS75pd75pIN/lzeOzq3fo2O0PNFae/+75Y3FF4+UN+5c8Xh5Y9KXv5Y3th1q/3/qCQKBQCAQCAQCgUAgEAgEAoFAIBAIBAKBQCAQCAQCgUAgEAgEAoFAIBAISi9M7fm5/oWpayaUPnLVarVarRePzypvLOjaXd546fDC8kbH6knljY+2DJY3Ph7pLG/cNPH38saczU+XNw4/4QtT8L8QCAQCgUAgEAgEAoFAIBAIBAKBQCAQCAQCgUAgEAgEAoFAIBAIBAJB6YWp+devKV9grP9MeaOZO1Te+C+Mn9Zb3hi+rbu80bt8b3njtxeuK28cWjyxvHFgSX95Y1zP/vbPln8dzmMCgUAgEAgEAoFAIBAIBAKBQCAQCAQCgUAgEAgEAoFAIBAIBAKBQCCof96paO3UDeWNVRfNK2/M/vyP8sairg/KGxd2jJY3np23tLxx5LELyhsbH1hb3rj5i0fLG98tbv+sJwgEAoFAIBAIBAKBQCAQCAQCgUAgEAgEAoFAIBAIBAKBQCAQCAQCgUAgKL0wNbRwcvkC921ZWd44+NNAeePtkz3ljYc2rShvTH/5YHlj864PyxvbRi4tbzx394PljcvfGilvVHiCQCAQCAQCgUAgEAgEAoFAIBAIBAKBQCAQCAQCgUAgEAgEAoFAIBAIBIKOpmmadg/P715ev8HkK8oTo3t+LG/s659V3pg+cKq8MTyjq7zR/elQeeOHlVeWN6Zu/Ku88cn775Q3xvXsb/9s+dfhPCYQCAQCgUAgEAgEAoFAIBAIBAKBQCAQCAQCgUAgEAgEAoFAIBAIBILSC1Njx/rKF7hn2bLyxqtvvFne2HX62vJGT+fJ8sbKzx4ub9yw+lB5Y/TEcHlj37pbyxsLZnxb3uif+V7bZz1BIBAIBAKBQCAQCAQCgUAgEAgEAoFAIBAIBAKBQCAQCAQCgUAgEAgEAsGEyuHtp8eXL7B93UB5Y9qGJ8sbrbH6xPSBE+WNG0eOlTe27t5e3rj3qpnljc7h0t+r1Wq1Wnd11b8eVuEJAoFAIBAIBAKBQCAQCAQCgUAgEAgEAoFAIBAIBAKBQCAQCAQCgUAgEAhKb7Ss+Kb+NaQ9tw+WN/oGT5U3xh89Xt7YtHNreWPRlPqLSr3rl5c3pt5xprwxenV94/mtS8obS59q/6wnCAQCgUAgEAgEAoFAIBAIBAKBQCAQCAQCgUAgEAgEAoFAIBAIBAKBQCDoaJqmOduXgHOVJwgEAoFAIBAIBAKBQCAQCAQCgUAgEAgEAoFAIBAIBAKBQCAQCP4BbNq8WEpKWuoAAAAASUVORK5CYII=\", \"iVBORw0KGgoAAAANSUhEUgAAAMgAAADICAYAAACtWK6eAAAAOXRFWHRTb2Z0d2FyZQBNYXRwbG90bGliIHZlcnNpb24zLjguMywgaHR0cHM6Ly9tYXRwbG90bGliLm9yZy/H5lhTAAAACXBIWXMAAA9hAAAPYQGoP6dpAAAEyUlEQVR4nO3dT2jXdRzH8d/mPKSyiFBUIvDPWHiJwEpD6Q9YEAoVTKUyRLIy0KxRkFgEHQwWC1SsoOhUhhBaGRRYB9NUalKRl3TZKjc0ysvKwdRft07xOvzeghKPx/372oeN5z6nL9+2ZrPZbAD/qf1yHwCuZAKBQCAQCAQCgUAgEAgEAoFAIBAIBAKBQCAQCAQCgUAgEAg6Kg+fOTWzfIDnh+8ubxz8+MbyRse58kRjdNaF8kbXhm/KGx/9eri8seLE0vLGudtPlzdO9C8ob5zc2Nvys24QCAQCgUAgEAgEAoFAIBAIBAKBQCAQCAQCgUAgEAgEAoFAIBAIBAKBQFB6Yequ154tH+Cv6y6WN7r6Bsobx7fcVN7ov+fd8kbvqw+XN/6++GV5Y0/XZ+WNuX3ryhvdb/5e3mhsbP1RNwgEAoFAIBAIBAKBQCAQCAQCgUAgEAgEAoFAIBAIBAKBQCAQCAQCgUAgKL0wtenxneUDLJ08Ut54ZP6y8samqXvKG72f1F926t4yWN64ZuWk8sYDJ5aUN449uLW8MW/GY+WNCjcIBAKBQCAQCAQCgUAgEAgEAoFAIBAIBAKBQCAQCAQCgUAgEAgEAoFAIGhrNpvNVh9e0t5TPkD/z4fKG8/MXlTe+GPNLeWNs/Na/lX+a9JI/X/WaNd4eWPGFxPKG6cXlCcag8vfKG+0Tz/e+rPlnw7/YwKBQCAQCAQCgUAgEAgEAoFAIBAIBAKBQCAQCAQCgUAgEAgEAoFAICh9YWqwb2H5AIPjP5Y3OmZOL298/lJ/eePkeP3/zfIja8sbU45OKW+cmX+xvNG4BBMHx+ojiwvPukEgEAgEAoFAIBAIBAKBQCAQCAQCgUAgEAgEAoFAIBAIBAKBQCAQCAQCQekLU3N3vVw+wIWRSeWNnfdtK290Tzxf3rhjS295Y9rrR8obu3+pf7XrwNjk8kb/yhXljbFpV5U39u99ruVn3SAQCAQCgUAgEAgEAoFAIBAIBAKBQCAQCAQCgUAgEAgEAoFAIBAIBAKBoPSFqQvD9ZedJp+qN/rCrJvLG3tPDZQ3pr99tLzRNvXa8kbP4p7yxp8LZ5Q3zi6r/23HOy/BZ6oK3CAQCAQCgUAgEAgEAoFAIBAIBAKBQCAQCAQCgUAgEAgEAoFAIBAIBAKBoPTC1K77t5YP8OSLT5U3dgwdKG/M/3pteePRga/KG9u+7y5vzF51rLzROfRbeePDof3ljVv3bShvVLhBIBAIBAKBQCAQCAQCgUAgEAgEAoFAIBAIBAKBQCAQCAQCgUAgEAgEAkHphalVA2vKB/jule3ljfZG/UtXoz9dXd7Y/sO95Y1Zmw+VNz4d/ra8Mef9J8obq++8vrzRtn5ieaPCDQKBQCAQCAQCgUAgEAgEAoFAIBAIBAKBQCAQCAQCgUAgEAgEAoFAIBAISi9Mde6eUj7AxNsmlDe631lX3rhhx1B5461Du8obqzcvKm+MnB8tb8z5YKy80bfvvfLG0w/V/7aN9a0/6gaBQCAQCAQCgUAgEAgEAoFAIBAIBAKBQCAQCAQCgUAgEAgEAoFAIBAIBG3NZrN5uQ8BVyo3CAQCgUAgEAgEAoFAIBAIBAKBQCAQCAQCgUAgEAgEAoFAIBAI/gHKA6y7X5hhhgAAAABJRU5ErkJggg==\", \"iVBORw0KGgoAAAANSUhEUgAAAMgAAADICAYAAACtWK6eAAAAOXRFWHRTb2Z0d2FyZQBNYXRwbG90bGliIHZlcnNpb24zLjguMywgaHR0cHM6Ly9tYXRwbG90bGliLm9yZy/H5lhTAAAACXBIWXMAAA9hAAAPYQGoP6dpAAAEyklEQVR4nO3dS4iWZRzG4dFxShSRUktzkTUqYS3UwsqgI6QmRJFEByNICS3C0AZbtAoJjIwy0GghVIuCoIhMLFLCShMya1GYw3hozIyUgsiUaXxb5SruxfsXErmu/XP7IP58Vw/fkKZpmg7gPw39vy8AZzOBQCAQCAQCgUAgEAgEAoFAIBAIBAKBQCAQCAQCgUAgEAgEwyqHN+y9oXyBh0YdKW/Mfvrx8sbYT/vLGx/u3FjemH/13Po9dm2ubxwfXt5YO/mK8sa+1deXN/p6lrc+6wsCgUAgEAgEAoFAIBAIBAKBQCAQCAQCgUAgEAgEAoFAIBAIBAKBQCAQCEoPpp57757yBVZ11X+epPvNHeWNZtrU8sZAM1je2NMzqbxxdPDP8sb8EeWJjmcem13emLr2QP0iPe2P+oJAIBAIBAKBQCAQCAQCgUAgEAgEAoFAIBAIBAKBQCAQCAQCgUAgEAgEgiFN07R+sTTwc3f5Aiebv8sbhwYHyhsnms7yxl0bl5U3pj65q7yx+cevyhtni8s2LS5vHHxkZeuzviAQCAQCgUAgEAgEAoFAIBAIBAKBQCAQCAQCgUAgEAgEAoFAIBAIBAKBoPRg6vbzHyxf4Lbdx8obW68ZV94o/DWc1vfszPLGhO31X6nqn1ee6Bi3o/6A7NiMM/B3eu+r5Y2h43vbny3/6XAOEwgEAoFAIBAIBAKBQCAQCAQCgUAgEAgEAoFAIBAIBAKBQCAQCAQCwbDK4d7V9QdCv/T9Xt64uNlf3nitd0t5Y+vx+j0OzbuwvPHuulvKG79dWZ7o+HbBS+WNt/+YUN54YHz7s74gEAgEAoFAIBAIBAKBQCAQCAQCgUAgEAgEAoFAIBAIBAKBQCAQCAQCgaD0C1Ob900rX2DpB4vKGzsXrClvjO0cWd6Y/NaS8kb3ii/LG3d//2t5Y8GoveWNhZfXH279NXd6eeOz93tan/UFgUAgEAgEAoFAIBAIBAKBQCAQCAQCgUAgEAgEAoFAIBAIBAKBQCAQCASlB1PzJj5RvsDg+DHljWb3d+WN+/ccLm+8c/OM8kZHZ2d54sDDk8obJy9o/c/itCGnyhMdp86r32P/shWtz/qCQCAQCAQCgUAgEAgEAoFAIBAIBAKBQCAQCAQCgUAgEAgEAoFAIBAIBILSg6lTR6aULzBnYv2RUe/Ls8obZ+K/ii/urP/S1UWdI8obd0ycWd44Ezb99HV5Y3H/TeWN12dtaH3WFwQCgUAgEAgEAoFAIBAIBAKBQCAQCAQCgUAgEAgEAoFAIBAIBAKBQCAQlB5MvbLn1vIFlow+WN5YdfSq8sYbW24sb1y6aaC80fXJrvLGR4e/KW/MuWR6eaNvzXXljR/uW1fe6JrQ1/qsLwgEAoFAIBAIBAKBQCAQCAQCgUAgEAgEAoFAIBAIBAKBQCAQCAQCgUAgKD2Y6n7hxfIFeheuL29cu3JpeWPMx+0f1fzr0c+3lzfWT5lc3hi5bVx548SiUeWN/ueH1+/RO7q80ffU8tZnfUEgEAgEAoFAIBAIBAKBQCAQCAQCgUAgEAgEAoFAIBAIBAKBQCAQCAQCQenBFJzrfEEgEAgEAoFAIBAIBAKBQCAQCAQCgUAgEAgEAoFAIBAIBAKBQPAPi2TI2d75HBkAAAAASUVORK5CYII=\", \"iVBORw0KGgoAAAANSUhEUgAAAMgAAADICAYAAACtWK6eAAAAOXRFWHRTb2Z0d2FyZQBNYXRwbG90bGliIHZlcnNpb24zLjguMywgaHR0cHM6Ly9tYXRwbG90bGliLm9yZy/H5lhTAAAACXBIWXMAAA9hAAAPYQGoP6dpAAAEeElEQVR4nO3dPWhddRzG8XvTaIUKgi9QRCwxt2mpEDv4VihIJ8VBUKxmUkHEiLXEtoPgYMVBh7aRFGvBxcWXCoKKoGNxUqIVHCpJUy8WlQguhQxF03s6usgz3N+RhPL57OfJn8A3Z8mf022apukA/2lkrQ8A65lAIBAIBAKBQCAQCAQCgUAgEAgEAoFAIBAIBAKBQCAQCASC0crDY3NH6ydo45/t18k/7J+fOlneGP94el2co//PSnljesvu8sbSsfvLG/2Zg0M/6w0CgUAgEAgEAoFAIBAIBAKBQCAQCAQCgUAgEAgEAoFAIBAIBAKBQCAQCEoXpjqDlk5R1Ds0X95YOnJPCydZH376+1J5Y/La68sb/Td3lTe2vfdXeaMzM/yj3iAQCAQCgUAgEAgEAoFAIBAIBAKBQCAQCAQCgUAgEAgEAoFAIBAIBAKBoHZhqls/wJm9s+WNXx+rH+TRz+oXptr4OlQbl78mp64rb7Rh8el3yxvjG+u/0wpvEAgEAoFAIBAIBAKBQCAQCAQCgUAgEAgEAoFAIBAIBAKBQCAQCAQCgUBQujDVXa1fVLo4uFzeeGXy4fJG53B9og2XH7irvDHxzZ3ljd6Lv5U3Fl6dKG+sNW8QCAQCgUAgEAgEAoFAIBAIBAKBQCAQCAQCgUAgEAgEAoFAIBAIBAKBQFC6MNVsaMoH2PPpofLGts7Z8sbikyfq5zj9bHljdGW1vDH4fVN5o43LTt3Nl8obzfLafi3LGwQCgUAgEAgEAoFAIBAIBAKBQCAQCAQCgUAgEAgEAoFAIBAIBAKBQCAQlC5MzT3yfvkA+794pryxcHhHeaPTOV1eaP7cWN+Y/7G8Mf7WbeWN18c+L2889cm+8sY1F+tfMavwBoFAIBAIBAKBQCAQCAQCgUAgEAgEAoFAIBAIBAKBQCAQCAQCgUAgEAgE3aZphv5M1NjbR9s8y9pq4U9F7+Xvyhsrj99b3ljeVb9kdMsP5YnODR/Wfx9Ls/eVN/r7Dw79rDcIBAKBQCAQCAQCgUAgEAgEAoFAIBAIBAKBQCAQCAQCgUAgEAgEAoFAIChdmBosby0f4MFbd5Y33ujPlzemvqx/Dam7Wr+odGbvbHnj7g8OlDd6r9W/dPXVL9+WN9owsvnc8M+2eA646ggEAoFAIBAIBAKBQCAQCAQCgUAgEAgEAoFAIBAIBAKBQCAQCAQCgaD2ham5Fr4wNfRP/9fZJ46XN3aceqm80TtQvyDUHR0tb3x94fvyxkNj9S87jdxxe3lj4bmbyhv9GV+Ygv+FQCAQCAQCgUAgEAgEAoFAIBAIBAKBQCAQCAQCgUAgEAgEAoFAIBAIardzBvUDnJ86Wd7ofVS/7LT9+B/ljefPLZY33tk6Ud4YPzVd3th+84Xyxs8v3Fje6K6WJ0q8QSAQCAQCgUAgEAgEAoFAIBAIBAKBQCAQCAQCgUAgEAgEAoFAIBAIBAJB6QtTcLXzBoFAIBAIBAKBQCAQCAQCgUAgEAgEAoFAIBAIBAKBQCAQCAQCwRVSoZYLK5AECgAAAABJRU5ErkJggg==\", \"iVBORw0KGgoAAAANSUhEUgAAAMgAAADICAYAAACtWK6eAAAAOXRFWHRTb2Z0d2FyZQBNYXRwbG90bGliIHZlcnNpb24zLjguMywgaHR0cHM6Ly9tYXRwbG90bGliLm9yZy/H5lhTAAAACXBIWXMAAA9hAAAPYQGoP6dpAAAEr0lEQVR4nO3dT2jXdRzH8e+mmImmdamU5caGY0GxCMplhw4zT56MGhLSIWHYHwZ1KbBLRAhNugReiqASYeChQgitS2RdjIrQmRuDJP9RbYSkaO7bqVu8Dr/3oojH4/598R3j+fucPny72rZtG+Bvdf/bLwD/ZQKBQCAQCAQCgUAgEAgEAoFAIBAIBAKBQCAQCAQCgUAgEAiWVx7e+M6+8gsM9F0sb3RvPVfeOPvSg+WNKz1/lDeG9s6VN458e7S8cera7+WNid6HyhtL4ejiVMfPOkEgEAgEAoFAIBAIBAKBQCAQCAQCgUAgEAgEAoFAIBAIBAKBQCAQCAQCQenC1KbdJ8ovsPDk5vLGusWz5Y2e146XNz459015Y9v4cHlj/kb9stPQilXljZn99f/tpncXyhsVThAIBAKBQCAQCAQCgUAgEAgEAoFAIBAIBAKBQCAQCAQCgUAgEAgEAoFAULowtWv6x/ILHJtfXd74esdQeWPtzVfLG30fPlDeuLun/rWsW5fVLzv1Hxovb8yOHShvNGP1iaZ5teMnnSAQCAQCgUAgEAgEAoFAIBAIBAKBQCAQCAQCgUAgEAgEAoFAIBAIBAKBoKtt27bTh/venCy/wLEdb5Q3nhndVd44v/WO8sZvA4vljaWwZeRkeeOXsbXljemJDeWNO4culTeOP7qv42edIBAIBAKBQCAQCAQCgUAgEAgEAoFAIBAIBAKBQCAQCAQCgUAgEAgEAoGg9IWppTB6+MXyxuD8mfLG5y8fLG+cvL6svLHz8HPljUvP9pQ3Zp5fU96YfaL+hanHZkfLGxVOEAgEAoFAIBAIBAKBQCAQCAQCgUAgEAgEAoFAIBAIBAKBQCAQCAQCgUBQuzDVVX+B6cffKm8MrthT3ljdvbK8sbdvuLzR33xV3lg4MlDemBn+oLyxbf1weWPu0PryRoUTBAKBQCAQCAQCgUAgEAgEAoFAIBAIBAKBQCAQCAQCgUAgEAgEAoFAIBCULkytm67fmNreO1LeGFzxfXmj/9p4eeOmvfXfm9tO3ShvrNl3rbxxz8TO8saVyVvKG+358kSJEwQCgUAgEAgEAoFAIBAIBAKBQCAQCAQCgUAgEAgEAoFAIBAIBAKBQCAQlC5M/bq5fjGn7bq/vDE/XL9k1H21PNE0i/WJqf2T5Y2n7nq4vLHhi9rHx5qmabZ/d7G8sab7SnmjaV7o+EknCAQCgUAgEAgEAoFAIBAIBAKBQCAQCAQCgUAgEAgEAoFAIBAIBAKBQCDoatu27fThCz+tL7/AR5f7yxsru6+XN967d6C8ceb1+8obvR/X/5ZP33+7vPHI07vLG6t++Lm8cXrP7eWNuQkXpuAfIRAIBAKBQCAQCAQCgUAgEAgEAoFAIBAIBAKBQCAQCAQCgUAgEAgEgtJnhEamOr+I8pfZsQPljYGD4+WNjVvqF5WarvrE8s9OlDcuL9Y/l7Xqy5nyxulXBssbTcfX+ZaGEwQCgUAgEAgEAoFAIBAIBAKBQCAQCAQCgUAgEAgEAoFAIBAIBAKBQCAQlL4wBf93ThAIBAKBQCAQCAQCgUAgEAgEAoFAIBAIBAKBQCAQCAQCgUAgEPwJ5FCfWwrrNXwAAAAASUVORK5CYII=\", \"iVBORw0KGgoAAAANSUhEUgAAAMgAAADICAYAAACtWK6eAAAAOXRFWHRTb2Z0d2FyZQBNYXRwbG90bGliIHZlcnNpb24zLjguMywgaHR0cHM6Ly9tYXRwbG90bGliLm9yZy/H5lhTAAAACXBIWXMAAA9hAAAPYQGoP6dpAAAEwElEQVR4nO3dy4uWdRzG4RlJQilSmAJzVk4zDiZiojnSQReBB5xJKl1otHBTERE0BC3CqEULKRXBbBNJGCakWDGCSLXpQEmWupDUrDApUIzylId5n/6BuBfvd6KI69o/Nz9m+MyzmR9PZ9M0TQfwt8b92weA/zKBQCAQCAQCgUAgEAgEAoFAIBAIBAKBQCAQCAQCgUAgEAgEN1QenvnBuvIBds5+s7yxYvtweeP6xPp//W8Zequ8sXng3vLG3sMflTdePHNneePAwq7yxoVF08sbn+5+ru1nvUEgEAgEAoFAIBAIBAKBQCAQCAQCgUAgEAgEAoFAIBAIBAKBQCAQCAQCQenC1G2bJpQPMDj4bHmj54UvyhsXH55f3pi78lx54/Sa+gWh0WZ/eWNd15HyxvLu1eWNU0Ot8kaFNwgEAoFAIBAIBAKBQCAQCAQCgUAgEAgEAoFAIBAIBAKBQCAQCAQCgUAg6Gyapu1PK137pad8gMvN1fLGrD3PlDdu7v6jvHHhh1vKG/2vnSpvjHw1Ut6Ytuvx8saGJe+UNwYn1n8v46d83/az3iAQCAQCgUAgEAgEAoFAIBAIBAKBQCAQCAQCgUAgEAgEAoFAIBAIBAKBoPSFqaGBofIBxm+/Vt7oG/62vHHypTnljf5NJ8sbo1O6yhvvnp9c3hj3Z/1v5/DIo+WNFaveKG9UeINAIBAIBAKBQCAQCAQCgUAgEAgEAoFAIBAIBAKBQCAQCAQCgUAgEAgEgtKFqY5Wq3yAPb37yhtLZq4pbxx7bGt5o+fGJ8obfdt+L2+8PX9WeWPc8+WJjqOrXy9vTNv1ZHnjx6faf9YbBAKBQCAQCAQCgUAgEAgEAoFAIBAIBAKBQCAQCAQCgUAgEAgEAoFAIBCULkwN7j9UPsDd36wsb7y8873yxljovN5Z3mgdOlreOLFxoLzx5SOvljeWTb2nvNE/47fyRocLU/DPEAgEAoFAIBAIBAKBQCAQCAQCgUAgEAgEAoFAIBAIBAKBQCAQCAQCQenC1OYdD5YPcGVy/StVG5fPKG98crApb0w4U78wdWXpvPLGHTsuljd2L+ktb5xcv6C80Tvvp/JGhTcIBAKBQCAQCAQCgUAgEAgEAoFAIBAIBAKBQCAQCAQCgUAgEAgEAoFAIOhsmqbtm0KtX+uXahbfPru8cfbDvvLGuZ8nlTc6W/ULU8dXbC1vDM56oLwxFm56v/7zWNZ1pLyxtu+ztp/1BoFAIBAIBAKBQCAQCAQCgUAgEAgEAoFAIBAIBAKBQCAQCAQCgUAgEAgEpS9MXWpdLR/gxMaB8kbrdP0rVdOfPljeOL5+bnlj6L6Hyht7j+wpbyyeeld54+sD88sbCxcfK29UeINAIBAIBAKBQCAQCAQCgUAgEAgEAoFAIBAIBAKBQCAQCAQCgUAgEAgEgtIXpnpf2VA+wHdr619UGouvVI0umlPe2LV9S3ljVfeC8satn08qb5y9/0J5Y+LHk8sbl5deKm/sO7+t7We9QSAQCAQCgUAgEAgEAoFAIBAIBAKBQCAQCAQCgUAgEAgEAoFAIBAIBAJB6cIU/N95g0AgEAgEAoFAIBAIBAKBQCAQCAQCgUAgEAgEAoFAIBAIBAKB4C9W+a64zK3QegAAAABJRU5ErkJggg==\", \"iVBORw0KGgoAAAANSUhEUgAAAMgAAADICAYAAACtWK6eAAAAOXRFWHRTb2Z0d2FyZQBNYXRwbG90bGliIHZlcnNpb24zLjguMywgaHR0cHM6Ly9tYXRwbG90bGliLm9yZy/H5lhTAAAACXBIWXMAAA9hAAAPYQGoP6dpAAAEmUlEQVR4nO3dTYiWZQCF4ZlhwgSzkAiFwPyXxChyIQQpQRSiWJE/SZZtQgr8yQhauYlWmdrKjWFBYNEqgyhaFBQaLaZAtMJJqKSISALLQPRr2SbOYs4HSlzX/j28DHPPu5mHZ3QwGAxGgP80drVfAK5lAoFAIBAIBAKBQCAQCAQCgUAgEAgEAoFAIBAIBAKBQCAQCMabh+cd3Fe/wD0rT9UbJz5ZVm9cntb/1/+nj75Sb6x69/l6Y3LzoXrjwpW/641NK9bXG9+8MK/eOLtrz5Sf9QWBQCAQCAQCgUAgEAgEAoFAIBAIBAKBQCAQCAQCgUAgEAgEAoFAIBAIBNWBqZEh3Czy+fHb640lr56pN759cUG9cev4jHpjGC4NLtcbM8aurze+2zW/3lhy+Pd6Y2TX1B/1BYFAIBAIBAKBQCAQCAQCgUAgEAgEAoFAIBAIBAKBQCAQCAQCgUAgEAgE3YGp0f4FJjf1tyEtmr2t3hic709/LTi6vd4Yv9j/UJ/56d56Y92siXpj4vH99cYdM3bWGw1fEAgEAoFAIBAIBAKBQCAQCAQCgUAgEAgEAoFAIBAIBAKBQCAQCAQCgUBQHZi6eaI/3HNifX8b0vwtX9UbZ/avrDdu+bKeGDm/tP+Z7p3zYb3x5FP9QaXda6+rN0aHcItZwxcEAoFAIBAIBAKBQCAQCAQCgUAgEAgEAoFAIBAIBAKBQCAQCAQCgUAgEFQHpn67qz/NsuXYs/XG7M31xMjXGw70Ixv6idV7d9cbT9/9cL3x67Zp9cb0uX/UG3/9eEO90fAFgUAgEAgEAoFAIBAIBAKBQCAQCAQCgUAgEAgEAoFAIBAIBAKBQCAQCATVganX1h2pX2DHsW31xs+rrtQbY0P4W7H8nR31xsLDx+uN04dX1BujF/ubv8YmZ9YbD66eqDcaviAQCAQCgUAgEAgEAoFAIBAIBAKBQCAQCAQCgUAgEAgEAoFAIBAIBAKBYHQwGEz5mqh5B/YN812urtF+YvGR/kalP2/rb1Q6t6r/uzcY728PW7Tji3pj95nT9caa+Sen/KwvCAQCgUAgEAgEAoFAIBAIBAKBQCAQCAQCgUAgEAgEAoFAIBAIBAKBQCCoDky9dHJt/QKfPXZnvfHy+2/WG4+8t7PeGO0vZRqZ3Hyo3lhwdHu9sfC5E/XGxtO/1BtPzDxXb0yb8/2Un/UFgUAgEAgEAoFAIBAIBAKBQCAQCAQCgUAgEAgEAoFAIBAIBAKBQCAQCATdDVMHh3DD1BBudprceG0cMlr8Rn/D1KVZ0+uNj996vd5Ys/y+euPc1qX1xoW5V+qNszv3TPlZXxAIBAKBQCAQCAQCgUAgEAgEAoFAIBAIBAKBQCAQCAQCgUAgEAgEAoFAMF49PeWjVv+a3NQfdnrgoa31xtJzP9Qb9390qt74YNlN9caCt/vDXzdu6E+yDeOw0zB+xxq+IBAIBAKBQCAQCAQCgUAgEAgEAoFAIBAIBAKBQCAQCAQCgUAgEAgEAoGgumEK/u98QSAQCAQCgUAgEAgEAoFAIBAIBAKBQCAQCAQCgUAgEAgEAoFA8A9MNZ86Ug6thAAAAABJRU5ErkJggg==\", \"iVBORw0KGgoAAAANSUhEUgAAAMgAAADICAYAAACtWK6eAAAAOXRFWHRTb2Z0d2FyZQBNYXRwbG90bGliIHZlcnNpb24zLjguMywgaHR0cHM6Ly9tYXRwbG90bGliLm9yZy/H5lhTAAAACXBIWXMAAA9hAAAPYQGoP6dpAAAEyUlEQVR4nO3dTYiVZRzG4XNGjVSoZGSaHAVNGyVaZFBptYgWaaBigk1RSDstogKFpF0tCgwho4+R6EvLGCEXRRAUCREoKEW40XI0zQrsw0KasMbztqpV3IvznyjiuvbvzQNzfvOuHt520zRNC/hbPf/2AeC/TCAQCAQCgUAgEAgEAoFAIBAIBAKBQCAQCAQCgUAgEAgEAsHkysPztm2dqHOULHz8SHmjs2B2eWPHnuHyxg27N5Y3jt5VP8f8kQ3ljYn4u5xbfHl5Y+8Hm7t+1hsEAoFAIBAIBAKBQCAQCAQCgUAgEAgEAoFAIBAIBAKBQCAQCAQCgUAgEJQuTC0c/r58gObEqfrG4Nz6xoFD5Y3enqnljcEtx8obZ+4YK2+MDk3Apaumfulqy4pd5Y1Wy4Up+EcIBAKBQCAQCAQCgUAgEAgEAoFAIBAIBAKBQCAQCAQCgUAgEAgEAoGgdGFq5qunywfYNvvD8sZDp5aXNz4+cH15Y7x1oLzRmdNX3rio58Lyxljnt/LG6J31S1eDH60rb6xd0P2z3iAQCAQCgUAgEAgEAoFAIBAIBAKBQCAQCAQCgUAgEAgEAoFAIBAIBAKBoHRh6vQDc8oHWL9tZXnj55t+KG80LzTljVUD15Y3Ji34pbyx82x/eePNdcvKG1/cM6280e60yxsV3iAQCAQCgUAgEAgEAoFAIBAIBAKBQCAQCAQCgUAgEAgEAoFAIBAIBAKBoN00Tdc3heY9vbV+gglIdP7Ir+WN13c/X95Y+tbG8sYVmw6WN84vuaq8cWxN/StV+9bWfx+9PVPLG1MuG+36WW8QCAQCgUAgEAgEAoFAIBAIBAKBQCAQCAQCgUAgEAgEAoFAIBAIBAKBQFD6wtQjt71dPsCTe1eUNzbt3FXe6Js0vbzR6tQnmvHx8saOXc+WN77rlH4arVar1br3mtXljaPPzKpvDHX/rDcIBAKBQCAQCAQCgUAgEAgEAoFAIBAIBAKBQCAQCAQCgUAgEAgEAoFAICh9YWr5os3lA3w5dGl5o+/g7+WNr26dVN6Y9nX9/03//rHyxvHb61+H2r76xfLGgy+tL2/sve+p8kb/wDddP+sNAoFAIBAIBAKBQCAQCAQCgUAgEAgEAoFAIBAIBAKBQCAQCAQCgUAgEAhKF6b2n5hbPsBjN68pb9z4zufljR2HrytvjJ+sf6VqxqIfyxsXvDajvHHxp6fLG9NeOVvemNxT/2zX7qXbu37WGwQCgUAgEAgEAoFAIBAIBAKBQCAQCAQCgUAgEAgEAoFAIBAIBAKBQCAQTK48/MTJFeUDjL/c9X2tvzw680h5Y8/7t5Q3zl3SLm/0vjGlvPHeu91fEPrTsoHF5Y3P9i0pbxy++7nyRoU3CAQCgUAgEAgEAoFAIBAIBAKBQCAQCAQCgUAgEAgEAoFAIBAIBAKBQCAoXZg69Mm88gFGh4bLG8tmXV3emL7yfHmjWfVTeaM9/G15Y/7IhvLGwivPlDc6U+qX4QZH7i9vHH+4+2e9QSAQCAQCgUAgEAgEAoFAIBAIBAKBQCAQCAQCgUAgEAgEAoFAIBAIBAJBu2ma+q0W+J/yBoFAIBAIBAKBQCAQCAQCgUAgEAgEAoFAIBAIBAKBQCAQCAQCwR8xz7Aek2v69wAAAABJRU5ErkJggg==\", \"iVBORw0KGgoAAAANSUhEUgAAAMgAAADICAYAAACtWK6eAAAAOXRFWHRTb2Z0d2FyZQBNYXRwbG90bGliIHZlcnNpb24zLjguMywgaHR0cHM6Ly9tYXRwbG90bGliLm9yZy/H5lhTAAAACXBIWXMAAA9hAAAPYQGoP6dpAAAEv0lEQVR4nO3d32vVdRzH8XOcP0ZmUagriNnYOs5cEGaIYDHooiCUpDJvdhVBaMRqdVlBF10MLFyZgXVRhLqiCykIgn7cJUSsWoK2ZFGYIYtCiYWOnf6BeF2ct1DI43H/ee2zwXPfqy/fZrvdbjeAf7Xkv74A/J8JBAKBQCAQCAQCgUAgEAgEAoFAIBAIBAKBQCAQCAQCgUAgWFo5vO7QePkC3df/Xd7o3fV9eePSPZvKGzv2f1re+HjouvLGnVML5Y0j05vLG81zK8ob7WZ5ojE7OtbxWU8QCAQCgUAgEAgEAoFAIBAIBAKBQCAQCAQCgUAgEAgEAoFAIBAIBAKBQFB6Yerq08vKF7jxnUvljeYdG8sb5/uWlze6m/Xf5cd9W8obH605UN4YHT5e3th6+JnyRuvt38sbjdHOj3qCQCAQCAQCgUAgEAgEAoFAIBAIBAKBQCAQCAQCgUAgEAgEAoFAIBAIBILSC1MbdpwqX+DlJ46VN769uLq8sa37j/LGvd+NlDdWT9U/qbRsd1f9Hl0ryxszIwfLG3ffvrO8UeEJAoFAIBAIBAKBQCAQCAQCgUAgEAgEAoFAIBAIBAKBQCAQCAQCgUAgEAhKL0xd2Lu2fIELx+qNTgwMljfGXtxa3lj3/JfljdmX1pQ3TlycL288MPl0eeNyvDD1SmuyvNFojHd80hMEAoFAIBAIBAKBQCAQCAQCgUAgEAgEAoFAIBAIBAKBQCAQCAQCgUAgEJRemGqeOVe+wLM/PVjeWNzWU96YfvS18sbgqr31jfHZ8sbDrcfKG62DZ8obl+PrUJ8PfVDeqPAEgUAgEAgEAoFAIBAIBAKBQCAQCAQCgUAgEAgEAoFAIBAIBAKBQCAQCAS1L0zdNVC+wK9TzfLG9NGJ8sYn89eUN649Vf9dFs7+Vt64tWehvPH1czeXN9bf/015ozW+p7wxO9r5WU8QCAQCgUAgEAgEAoFAIBAIBAKBQCAQCAQCgUAgEAgEAoFAIBAIBAKBQFB6Yap77mL5AgNPTZU3bms/Wd5YvGqxvNF1S7u8sXLnlvLG3Lv1/3vNofrfo71Qf3Hr5CMHyhuNxljHJz1BIBAIBAKBQCAQCAQCgUAgEAgEAoFAIBAIBAKBQCAQCAQCgUAgEAgEAkGz3W53/JbPpbP95QtsH36ovHH+1fJE4+zJteWNNa258sbEhiPljZHD9RfI+l74qn6PE7PljU0rfilvbOw90/FZTxAIBAKBQCAQCAQCgUAgEAgEAoFAIBAIBAKBQCAQCAQCgUAgEAgEAoFAUHphqm//vvIFftj1enmj9f6e8kaj/nGoRuutP8sb872ryhtfvHmovHFf7+byxsx4feP07jfKG0tumOn8bPmnwxVMIBAIBAKBQCAQCAQCgUAgEAgEAoFAIBAIBAKBQCAQCAQCgUAgEAgESyuHl9/0V/kCXc16owOjx+v3WD9Q3vjws/fKG9s3DJc3+icfL28M9vxc3pjeNVHe6D9a/1rW7GjnZz1BIBAIBAKBQCAQCAQCgUAgEAgEAoFAIBAIBAKBQCAQCAQCgUAgEAgEAkHpC1NwpfMEgUAgEAgEAoFAIBAIBAKBQCAQCAQCgUAgEAgEAoFAIBAIBALBPyN3oz2YKeD2AAAAAElFTkSuQmCC\", \"iVBORw0KGgoAAAANSUhEUgAAAMgAAADICAYAAACtWK6eAAAAOXRFWHRTb2Z0d2FyZQBNYXRwbG90bGliIHZlcnNpb24zLjguMywgaHR0cHM6Ly9tYXRwbG90bGliLm9yZy/H5lhTAAAACXBIWXMAAA9hAAAPYQGoP6dpAAAEx0lEQVR4nO3dT2jXdRzH8d/mTBPSCqkhYSXTzaIQzZaHik4d+kNRFhRkRzUwclBBKwqiLs1o2F9SRhGEgpIRtmCXLvkn15KiqWsgkliCf6AIs/p18havw+8tKOPxuH9evw+6J9/Tl29bs9lsNoD/1X6hLwAXM4FAIBAIBAKBQCAQCAQCgUAgEAgEAoFAIBAIBAKBQCAQCAQdlcNbJ5aVL/DsF4+VN7r69pY3pl0xp7yxff9weeP+a24tb9z+/Z/ljf654+WNu+ctKW+cemJFeWPv0PqWz3qCQCAQCAQCgUAgEAgEAoFAIBAIBAKBQCAQCAQCgUAgEAgEAoFAIBAIBILSC1Mf9Cys3+CN+sTfdy0pb0zcM7288e6pyfo9BnrLG8Nz3ytvnG3+U95o3HZzeeLyVUfq9yjwBIFAIBAIBAKBQCAQCAQCgUAgEAgEAoFAIBAIBAKBQCAQCAQCgUAgEAgEpRemJgaWly/w7cMbyhu3tLX+BaFztjwwWN5Y+fXq8saVP7WVN86H7m1ryxuT294vb+w781d5o9F4s+WTniAQCAQCgUAgEAgEAoFAIBAIBAKBQCAQCAQCgUAgEAgEAoFAIBAIBAKBoPTC1KIX9pcvMGNl6QqNRqPR6HpmV3njpYEHyxs9M0+WNxonT5cnhvquKm/M/HVaeeN8ONu8sPfwBIFAIBAIBAKBQCAQCAQCgUAgEAgEAoFAIBAIBAKBQCAQCAQCgUAgEAgEbc1ms9nq4cX9rX+555xLek+UN65+uf5SzYHVs8ob9y0bK2+Mvr60vHFyUf3f49rNE+WNibc6yxsH7/iovNHeeaj1s+VfhylMIBAIBAKBQCAQCAQCgUAgEAgEAoFAIBAIBAKBQCAQCAQCgUAgEAgEpRemhg6uKF/g8ct+K29Ma7s4Ou/etKa8cd2L35Q3ho+OlTe2/D6nvLH5pp7yRvuC+eWNL398rfXfL/86TGECgUAgEAgEAoFAIBAIBAKBQCAQCAQCgUAgEAgEAoFAIBAIBAKBQCAovTC1YGBD+QJd/aPljfYZM8ob468uLm90f3i6vPHH9bPLG5d+tqe8cWhjb3mj+7kfyhtbD4yUN2bPO9LyWU8QCAQCgUAgEAgEAoFAIBAIBAKBQCAQCAQCgUAgEAgEAoFAIBAIBAKBQFB6YWr0cP3rPw9tf7q8Mf7o2+WNnq1PlTcG7x0qb6z7/MnyRtf63eWNto7p5Y1ZI/WvVH33c/1v7PCq51s+6wkCgUAgEAgEAoFAIBAIBAKBQCAQCAQCgUAgEAgEAoFAIBAIBAKBQCAQCEovTP17bGH5Aq8cv6G8sfOX+sbx8bnlja71u8ob58Pw0bHyxo0b15Y3OnefKW+MfLypvNHeeaj1s+VfhylMIBAIBAKBQCAQCAQCgUAgEAgEAoFAIBAIBAKBQCAQCAQCgUAgEAgEHZXDy0cfKV9g79It5Y0d79xZ3ugeOVbeGB/sLW8sXFf/OtSyffX/l/k7TpQ3dn71aXmj65M15Y3JvtbPeoJAIBAIBAKBQCAQCAQCgUAgEAgEAoFAIBAIBAKBQCAQCAQCgUAgEAgEgtIXpmCq8wSBQCAQCAQCgUAgEAgEAoFAIBAIBAKBQCAQCAQCgUAgEAgEAsF/+/Kv3SeO3xcAAAAASUVORK5CYII=\", \"iVBORw0KGgoAAAANSUhEUgAAAMgAAADICAYAAACtWK6eAAAAOXRFWHRTb2Z0d2FyZQBNYXRwbG90bGliIHZlcnNpb24zLjguMywgaHR0cHM6Ly9tYXRwbG90bGliLm9yZy/H5lhTAAAACXBIWXMAAA9hAAAPYQGoP6dpAAAEo0lEQVR4nO3dTYhVdRzG8XPvTBkM9mJBYS6chmRCIcteMIJaCIEkLiYtqEVElBupBgls4SakjWNMIZltWqZSERYhuEmKiZpemEUmoxJSiQVGFDaJ423ZJp7F/R2YkM9nf545916+c1Z/TqfX6/Ua4D91F/oG4P9MIBAIBAKBQCAQCAQCgUAgEAgEAoFAIBAIBAKBQCAQCAQCwWDl4uHJifINTD+yu7xx18Hx8kYrOi1stHD4YHpT/Tv9eb7+YcaXry1vdIeGyhuH/3i7/79f/utwGRMIBAKBQCAQCAQCgUAgEAgEAoFAIBAIBAKBQCAQCAQCgUAgEAgEAkHpwFQbh3vaOOx04xf1+zh7T33j5KN7yxsj72wpb5y6WPtZm6Zp1iy6srwxt6H+pQ6d+K28UeEJAoFAIBAIBAKBQCAQCAQCgUAgEAgEAoFAIBAIBAKBQCAQCAQCgUAgEAhqJ2taeKPSp2O7yhuLN9cPCN1+8Pnyxsj++mGnTgtvdvp1fnF5Y+bC7+WNT97cV94Y/uCZ8kaFJwgEAoFAIBAIBAKBQCAQCAQCgUAgEAgEAoFAIBAIBAKBQCAQCAQCgUAgKJ006l6oH+45fP6W8saBB1aXNzovlieaJTP172PuhvrG/VfVDztteHpreeOHsfJE051b2P/hniAQCAQCgUAgEAgEAoFAIBAIBAKBQCAQCAQCgUAgEAgEAoFAIBAIBAKBoHRg6tIVvfINPHn1L+WNV7aOlDe2r3+/vLFz0cbyxuiec+WNsc/qb2U6vXmgvNH9szyx4DxBIBAIBAKBQCAQCAQCgUAgEAgEAoFAIBAIBAKBQCAQCAQCgUAgEAgEAkHpwNS+jW+Vb2D3ufobpo4/9UZ5Y+XU4+WNTgtv3Jo/NlvemH393vLGw2u/Km98dHRNeeOmqfqhvOa5/i/1BIFAIBAIBAKBQCAQCAQCgUAgEAgEAoFAIBAIBAKBQCAQCAQCgUAgEAgEpQNTz75Xf5NRb6B+IGZPeaFpmvpZp+bW7d/URwZLP0nTNE3T/bv+YQ5N31HeWLHty/LGiYm7yxsVniAQCAQCgUAgEAgEAoFAIBAIBAKBQCAQCAQCgUAgEAgEAoFAIBAIBAKBoNPr9fo+sTR5bF35Bj5ceV15Y/a1+huV2tC5WD+odGRsV3lj3bvbyhvXz9Q/y9TO+lG2n+bPlzeWLzvT97WeIBAIBAKBQCAQCAQCgUAgEAgEAoFAIBAIBAKBQCAQCAQCgUAgEAgEAoGgdGBqeHKizXvp29ebXi1v3HnghRbupG7FS9+WNz4+9Xl546Glq8sbA9deU9647+jZ8saOVYf6vtYTBAKBQCAQCAQCgUAgEAgEAoFAIBAIBAKBQCAQCAQCgUAgEAgEAoFAIBAMlq7u+6jVv04+tre8sf7BJ8obo3/9WN74fnxZeePS3Fx5Y2T/lvLG6M2nyxvfvby0vHH8yG3ljR2r+r/WEwQCgUAgEAgEAoFAIBAIBAKBQCAQCAQCgUAgEAgEAoFAIBAIBAKBQCAQlN4wBZc7TxAIBAKBQCAQCAQCgUAgEAgEAoFAIBAIBAKBQCAQCAQCgUAgEPwD3O2V6Mzs1LAAAAAASUVORK5CYII=\", \"iVBORw0KGgoAAAANSUhEUgAAAMgAAADICAYAAACtWK6eAAAAOXRFWHRTb2Z0d2FyZQBNYXRwbG90bGliIHZlcnNpb24zLjguMywgaHR0cHM6Ly9tYXRwbG90bGliLm9yZy/H5lhTAAAACXBIWXMAAA9hAAAPYQGoP6dpAAAEtElEQVR4nO3dzYvVZRzG4XMcbchK0qSijEZrnMKXQG0TEZEMLaaiFkUgRiSBUZhiFEQQUhJoUkFFSYERU9DLoprMqVWLUQsmygrEEF34gloxbiYnGX/9A3EvznfAiOva/24eZvjwrB5Ou2mapgX8q2nn+wDwXyYQCAQCgUAgEAgEAoFAIBAIBAKBQCAQCAQCgUAgEAgEAoFgeuXjntdfLh+gPdkubyx8d6y8Mbbk0vLGymdGyhs/9F9Z3hj4dn95Y/jUovLGr6M95Y2+lw6WN3adeLPjb90gEAgEAoFAIBAIBAKBQCAQCAQCgUAgEAgEAoFAIBAIBAKBQCAQCAQCgaD0YKp33XflA7S7u8sbrb755YlZH+4tb7y47efyxsDMnvLGNTP+KG983rurvHHd6NryRmv2rPpGgRsEAoFAIBAIBAKBQCAQCAQCgUAgEAgEAoFAIBAIBAKBQCAQCAQCgUAgEJQeTA0f+7F8gLPNZHlj1aGLyxub5u0ub8wferK80b2m9C9ptVqt1s3dJ8sb+/6un+Pgg2+VN25ffG95o8INAoFAIBAIBAKBQCAQCAQCgUAgEAgEAoFAIBAIBAKBQCAQCAQCgUAgEAhKr2LunLe8fIDhI6PljdO3jZU3Ntz0aHmjb/qZ8kbXqdPljTlr6r/atfLt+uOvibnnyhtbBj4ob1S4QSAQCAQCgUAgEAgEAoFAIBAIBAKBQCAQCAQCgUAgEAgEAoFAIBAIBAJBu2maptOP57+6bQpOUJ/oOlMfOTu7/ktX++9+o7yx+P115Y2eob/KG38uurC88dGzW8sb/Z9tLG8cfuKpjr91g0AgEAgEAoFAIBAIBAKBQCAQCAQCgUAgEAgEAoFAIBAIBAKBQCAQCASC0i9MXfZT/aHSe5vqj65uvGBmeWMqLHml/qtMC7buLm98emRveaO7PaO8cdfVt9bP8fF4eaPCDQKBQCAQCAQCgUAgEAgEAoFAIBAIBAKBQCAQCAQCgUAgEAgEAoFAIBAISg+m5n7/e/kA63tuKW9Mm1l/MHVg89LyRvuKc+WNk4/X/x4P9PeWN3Z8vaO8MRUmTpzfx3BuEAgEAoFAIBAIBAKBQCAQCAQCgUAgEAgEAoFAIBAIBAKBQCAQCAQCgUBQejD1ws7B8gGeW7qyvHHHnmPljQPflCdakxfVH0wtW/1LeeP4YFd54+EV95U3dh7dVd5YfXh2eaPCDQKBQCAQCAQCgUAgEAgEAoFAIBAIBAKBQCAQCAQCgUAgEAgEAoFAIBAI2k3TNJ1+PHF8QfkAX41fUt7YMPRQeaPV8V9hat3w2tHyxpd7vihvrHj+sfLG+OXt8sbTqz8pbzyycKTjb90gEAgEAoFAIBAIBAKBQCAQCAQCgUAgEAgEAoFAIBAIBAKBQCAQCAQCgaD0YOra7VvLBzh0z/byxvWD9cc9V41Mljfu3zxc3hhaPKe8ceCd5eWNvrX7yhu/bVlW3piKh2yH1m/s+Fs3CAQCgUAgEAgEAoFAIBAIBAKBQCAQCAQCgUAgEAgEAoFAIBAIBAKBQCAoPZiC/zs3CAQCgUAgEAgEAoFAIBAIBAKBQCAQCAQCgUAgEAgEAoFAIBAI/gFtiKFCVBRv0AAAAABJRU5ErkJggg==\", \"iVBORw0KGgoAAAANSUhEUgAAAMgAAADICAYAAACtWK6eAAAAOXRFWHRTb2Z0d2FyZQBNYXRwbG90bGliIHZlcnNpb24zLjguMywgaHR0cHM6Ly9tYXRwbG90bGliLm9yZy/H5lhTAAAACXBIWXMAAA9hAAAPYQGoP6dpAAAErklEQVR4nO3dS4iVZRzH8feYEuYuvCAtJjvjJTEQKmwRZRaEG90oXTYuAi8LR2mkVTAZUZCUWkQaQSQolVoLi9pYCa200EUXrePMLNwkuAvUdOZt1yp+i/M/YcTnsz8/Hhi/PquHt9O2bdsA/2jGrT4A/JcJBAKBQCAQCAQCgUAgEAgEAoFAIBAIBAKBQCAQCAQCgUAgmFn58dDBPeUDTKx/r7wxfGRreaPp1CfaAfx3c9e30+WNE+/sL2/su3J/eePQyUfKG4MwsXO079+6QSAQCAQCgUAgEAgEAoFAIBAIBAKBQCAQCAQCgUAgEAgEAoFAIBAIBAJB6cHUstEfywfoXq0/dlry4rnyxq+vrixvjK09Vt54eXpDeeN6W390NTbv5/LGoab+YGrpaxfLG83O/n/qBoFAIBAIBAKBQCAQCAQCgUAgEAgEAoFAIBAIBAKBQCAQCAQCgUAgEAgEpQdTF16/r3yALY+eLG88t/FceWPV8ZXljd1f1h87dY9dLW/Mf2ZOeeOe41vKG+NPHyhvdDsD+HpYgRsEAoFAIBAIBAKBQCAQCAQCgUAgEAgEAoFAIBAIBAKBQCAQCAQCgUAgEJQeTC3efrp8gIP715Q3Tr27srzRbK5PNG19YnzD7PLGjXaqvNH95M/6xs1b+9hpENwgEAgEAoFAIBAIBAKBQCAQCAQCgUAgEAgEAoFAIBAIBAKBQCAQCAQCgaD0YGrylYfKB+hM1V8Z9TbNLW80c6+VJ6b/mFXeuHfvlfLGupdWlzfGd99e3hhbe6y8MYivdlW4QSAQCAQCgUAgEAgEAoFAIBAIBAKBQCAQCAQCgUAgEAgEAoFAIBAIBAJB6cFU98PL5QOc+OZoeWPxZ9vKGxfWvF/eWL96Y3lj6rfx8sZI73x544nZX5c3VhweKW88+djZ8kaFGwQCgUAgEAgEAoFAIBAIBAKBQCAQCAQCgUAgEAgEAoFAIBAIBAKBQCAQdNq27fsTT4v2vVE+wLI9k+WNm0Pzyxu9p+4ob8y43ilv3P1F/UtXl9bMLm9cW3izvLFk25nyRu/NVeWNiR2jff/WDQKBQCAQCAQCgUAgEAgEAoFAIBAIBAKBQCAQCAQCgUAgEAgEAoFAIBAISl+YauZdLx/gxqIF5Y3lb/9U3pjsLS9vTE/OKW/0Nt1W3li69XR5ozOz9k+jaZrm80s/lDemm+/LG03jwRT8KwQCgUAgEAgEAoFAIBAIBAKBQCAQCAQCgUAgEAgEAoFAIBAIBAKBQFB6FXPx8Q/KBxj+fWt549MF35U3Tpx6oLzRzOr7Y11/W7L5bHnjqwE8VOp+VP+7rHu4/hju/MjC8sbEjv5/6waBQCAQCAQCgUAgEAgEAoFAIBAIBAKBQCAQCAQCgUAgEAgEAoFAIBAIBKUHU8NH6o9qes8eKG+seOv58sadl+uPnba/cLS8cXjXUHmj+3H97zK860x545e9D5Y3OlPliRI3CAQCgUAgEAgEAoFAIBAIBAKBQCAQCAQCgUAgEAgEAoFAIBAIBAKBQCDotG1bfykE/1NuEAgEAoFAIBAIBAKBQCAQCAQCgUAgEAgEAoFAIBAIBAKBQCAQ/AVqTaH9XMcgDAAAAABJRU5ErkJggg==\", \"iVBORw0KGgoAAAANSUhEUgAAAMgAAADICAYAAACtWK6eAAAAOXRFWHRTb2Z0d2FyZQBNYXRwbG90bGliIHZlcnNpb24zLjguMywgaHR0cHM6Ly9tYXRwbG90bGliLm9yZy/H5lhTAAAACXBIWXMAAA9hAAAPYQGoP6dpAAAEwklEQVR4nO3dS4hWdRzG8fOORhZ0mS6LQvOWNlCki8AJItMJmiQhiFIiCoKiUqEiRJhFUJFRLQoxJoICaaEMRmFRCZHdgzZWU4zZeOmiWLmpFtrke9q1imfx/ooiPp/9eTjvDF/+qz+n07Zt2wB/qe/ffgH4LxMIBAKBQCAQCAQCgUAgEAgEAoFAIBAIBAKBQCAQCAQCgUAwvfLwy5OLyi9w345byxsLH/yivLFvwyXljW03P1XeGFl+U3lj7L2x8sZP3d/KG8PPri9vzBk7Ut54Y+Kxnp91gkAgEAgEAoFAIBAIBAKBQCAQCAQCgUAgEAgEAoFAIBAIBAKBQCAQCASC0oWpB7bfVn6B/snyRNOZVu98zshH5Y2jq08tb0ysO6+8MdWcKG8Mvb+2vNH/Xf3TMyf27itvVDhBIBAIBAKBQCAQCAQCgUAgEAgEAoFAIBAIBAKBQCAQCAQCgUAgEAgEAkHpwtTSZZ+VX+CUq+tfMtoxWP/S1ayZR8sbd74yWN7o+71T3pjRKf1bm6Zpmu4PM8obp31b/99u/eaD8kaFEwQCgUAgEAgEAoFAIBAIBAKBQCAQCAQCgUAgEAgEAoFAIBAIBAKBQCAQlG7WvP3upeUX2LXqifLG1xvOLG/sGZlf3vg7dKfXv8r0S7d+UWn6r/WLWwdWnlTe+OT4GeWN4cKzThAIBAKBQCAQCAQCgUAgEAgEAoFAIBAIBAKBQCAQCAQCgUAgEAgEAoFAULowNa1+L6dZ+s668saC2VPljYkbN5c3BratKW+0Z9f/qLfMXVp/j4fKE83kqtHyxvytd5U39t/b+7NOEAgEAoFAIBAIBAKBQCAQCAQCgUAgEAgEAoFAIBAIBAKBQCAQCAQCgUBQujDVrX9AqJkceqG8sX3J6eWNha/WL+YMbPm5vNE5eLi8sefxy8obr9/wZHnj2nlD5Y15r31f3qhwgkAgEAgEAoFAIBAIBAKBQCAQCAQCgUAgEAgEAoFAIBAIBAKBQCAQCASC0oWpCx8eL7/ANesXlzeavmnlifs/31ne2HxkRXlj1lsnlzcu2HmivLH7uvPLG189uri80Xxan2iW9f6oEwQCgUAgEAgEAoFAIBAIBAKBQCAQCAQCgUAgEAgEAoFAIBAIBAKBQCAQdNq2bXt9+PjheeUXWDS6rrzx5d3PlDeuGr++vHHw4LnljUeufKm88eKiBeWN7rFj5Y29m5aUN55f8Vx5Y/ncPT0/6wSBQCAQCAQCgUAgEAgEAoFAIBAIBAKBQCAQCAQCgUAgEAgEAoFAIBAIBKUvTA2Mram/QX+3PDHV1r+o9OOu+heV+s6p/5YtF80qb7x56OPyxsWb7ilv9I/3fBfvT7e3d5Q3Dqzt/VknCAQCgUAgEAgEAoFAIBAIBAKBQCAQCAQCgUAgEAgEAoFAIBAIBAKBQCAoXZhq6veDmsnVo+WN4dmXlzfOWlm/dHXoik55Y//G+m9pmt3lhZkbPyxv7H16sLwxsPloeaNxYQr+GQKBQCAQCAQCgUAgEAgEAoFAIBAIBAKBQCAQCAQCgUAgEAgEAoFAIOi0bVv/DBD8TzlBIBAIBAKBQCAQCAQCgUAgEAgEAoFAIBAIBAKBQCAQCAQCgUDwB5l5pv1HZPpGAAAAAElFTkSuQmCC\", \"iVBORw0KGgoAAAANSUhEUgAAAMgAAADICAYAAACtWK6eAAAAOXRFWHRTb2Z0d2FyZQBNYXRwbG90bGliIHZlcnNpb24zLjguMywgaHR0cHM6Ly9tYXRwbG90bGliLm9yZy/H5lhTAAAACXBIWXMAAA9hAAAPYQGoP6dpAAAE1ElEQVR4nO3dTYhWZRzG4XdmNM00IYaoJMwPTKlMRI3EcIg0oXQRlmC1MSgRDGsIwtoILiqRRGuCogYiLLOyD0iEcCWF0mQJhhBZpmklpBViOqOnXau4F+9/UcR17c/NAzO/96weTkfTNE0L+Eed//YB4L9MIBAIBAKBQCAQCAQCgUAgEAgEAoFAIBAIBAKBQCAQCAQCwbDKw1PfW1c+wLmjo8sbU546UD/H3GnljSN3DS9vTNp+tryxc3t/eWPyRyvLG937usobv95Yv43x3Zretp/1BoFAIBAIBAKBQCAQCAQCgUAgEAgEAoFAIBAIBAKBQCAQCAQCgUAgEAgEpQtTg4fH1A9wrjzR+m3J9PLGqan134rVCz8ub7w1sKi8MdS6UN4Yfbj0r9FqtVqt7m1flTdOX1//21Z4g0AgEAgEAoFAIBAIBAKBQCAQCAQCgUAgEAgEAoFAIBAIBAKBQCAQCASC0q2Y/cufLx/g5IWh8sbtn6wpb+y+Y1N5Y/2J+mWns93136wRHfUvXT3z8Gvljf7F88obFz+vf2GqwhsEAoFAIBAIBAKBQCAQCAQCgUAgEAgEAoFAIBAIBAKBQCAQCAQCgUAgEHQ0TdP2jZQFnfeWD9B3ZE95Y9WE+eWNrmmTyxtnJo4tb4z64Y/yxrMf9Jc37nv9sfLG4Jj6Zae9SzeWN64cd7ztZ71BIBAIBAKBQCAQCAQCgUAgEAgEAoFAIBAIBAKBQCAQCAQCgUAgEAgEAkHpC1OHn7u1fIDrhn1R3rh42/Tyxq4365eMJm1bWd7YvHhHeeOed9eUN67+8mJ5Y/eWvvJG74me8sYL49p/1hsEAoFAIBAIBAKBQCAQCAQCgUAgEAgEAoFAIBAIBAKBQCAQCAQCgUAgEJQuTPXe/WH5AFO2rSpvfPZG/StE8w48WN5o1T+o1No85YbyxsGjW8obGxbcVN64uW91eWPY7FPljdbM9h/1BoFAIBAIBAKBQCAQCAQCgUAgEAgEAoFAIBAIBAKBQCAQCAQCgUAgEAgEHU3TtH3NZ8Km+kWlkSfrjV67YV95Y8XX35Q3nn5neXnj8m/LE62Rp+tfh+p+9PvyxtmeX8obu37cX97ovKr9v603CAQCgUAgEAgEAoFAIBAIBAKBQCAQCAQCgUAgEAgEAoFAIBAIBAKBQCAofWHq0LIXywdYuOKR8sb4T4eXN3ouPV7eeGnZy+WNW0acKW/MevXx8sZl838ubxxbO7e8MXBub3ljduFZbxAIBAKBQCAQCAQCgUAgEAgEAoFAIBAIBAKBQCAQCAQCgUAgEAgEAoFAULowdfD8UPkAW1/ZVN4Y1dlV3pj5dm95o+t8R3ljwtr617IOHesrbyxaP6e8MTSq7Y+X/W3GJaV/0TJvEAgEAoFAIBAIBAKBQCAQCAQCgUAgEAgEAoFAIBAIBAKBQCAQCAQCgUBQuo0y8Of48gEeGvtTeePOa2aUN65YUb/s9MSTW8sb636/v7wxcces+sa8wfLG+w9sLG8smbO0vLHzaPvPeoNAIBAIBAKBQCAQCAQCgUAgEAgEAoFAIBAIBAKBQCAQCAQCgUAgEAgEgo6maeqfAYL/KW8QCAQCgUAgEAgEAoFAIBAIBAKBQCAQCAQCgUAgEAgEAoFAIBD8BT6tqTkma3ruAAAAAElFTkSuQmCC\", \"iVBORw0KGgoAAAANSUhEUgAAAMgAAADICAYAAACtWK6eAAAAOXRFWHRTb2Z0d2FyZQBNYXRwbG90bGliIHZlcnNpb24zLjguMywgaHR0cHM6Ly9tYXRwbG90bGliLm9yZy/H5lhTAAAACXBIWXMAAA9hAAAPYQGoP6dpAAAEjklEQVR4nO3dTYiVZRzG4XNSy8hF2xAHbaYjQWHlUBZEXyAkETWFZm1qJ33I1NQig1oE0iJHMwZsEdWmFKIicDMEERFYbkQKEieOJNNEkFJJNQzj2ypXcS/O/42GuK79uX03P5/NPDzdpmmaDvCPLvqvPwCWMoFAIBAIBAKBQCAQCAQCgUAgEAgEAoFAIBAIBAKBQCAQCATLKz9e+/qe8gd0F8sTrei28Ef/M9sPlDeGD+4ob3y7baq80YZ7Vm8sb8xMbipv9McnBv6tEwQCgUAgEAgEAoFAIBAIBAKBQCAQCAQCgUAgEAgEAoFAIBAIBAKBQCAQlC5MLZXLTkPT9Q/5fvOy8sZic7680Ya3fl1T3ji3uLK80X/l5vLG+jfPlDc644P/1AkCgUAgEAgEAoFAIBAIBAKBQCAQCAQCgUAgEAgEAoFAIBAIBAKBQCAQCEoXpjrd+gdMj71a3nhu9P7yxuwPV5Q3eoceL2+s+aR++euxbafLGwtN/TsefPh4eeOOi58tb1Q4QSAQCAQCgUAgEAgEAoFAIBAIBAKBQCAQCAQCgUAgEAgEAoFAIBAIBAJB6cJU7/lj5Q8Y2nppeeOPzb+VNxZ3D5c3ls3Xb5D9fM2K8sbMwnx5Y+K6u8sbJ168urzRxqW8CicIBAKBQCAQCAQCgUAgEAgEAoFAIBAIBAKBQCAQCAQCgUAgEAgEAoFAIOg2TdMM+uN1+/aUP6BZPvA/f8HqT8sTnc+n3ihvTP9ev+y0d+yB8kZ39qfyxokXeuWNS4bOlTf+nLusvHHqicFfqXKCQCAQCAQCgUAgEAgEAoFAIBAIBAKBQCAQCAQCgUAgEAgEAoFAIBAIBILSC1P77327/AE7P360vDF7e3miMzF3Q3njo89uLG+MHD9S3ni5f7S8sX7F4fLGxkNPlzdGbzpZ3qhwgkAgEAgEAoFAIBAIBAKBQCAQCAQCgUAgEAgEAoFAIBAIBAKBQCAQCASC0gtTV+5t4YWpbnliyejtOlbe6O+6vryxsKr+alcbRia+LG+cfK1+Ce3Uk16Ygn+FQCAQCAQCgUAgEAgEAoFAIBAIBAKBQCAQCAQCgUAgEAgEAoFAIBAISi9MHd06Wf6AR0bvK29MffVBeWNlCxe3bm0Gv5jzt3fH9pc3tn/4VHmj99I35Y0tX58pb0x+cb68UeEEgUAgEAgEAoFAIBAIBAKBQCAQCAQCgUAgEAgEAoFAIBAIBAKBQCAQCASlF6bW7au/MNWG7x46UN4YPrijvDHyzJHyRnPLhvLG9PvvlDe2XHtneeOXu3rljR83lSc6/fGJgX/rBIFAIBAIBAKBQCAQCAQCgUAgEAgEAoFAIBAIBAKBQCAQCAQCgUAgEAgEpRem2tDGZaeR9+qXnVadrv9fcfbwVeWNy3fXn7pq4/LX2g0L5Y252wa+i3dBd76Fp78KnCAQCAQCgUAgEAgEAoFAIBAIBAKBQCAQCAQCgUAgEAgEAoFAIBAIBAKBoPTCFPzfOUEgEAgEAoFAIBAIBAKBQCAQCAQCgUAgEAgEAoFAIBAIBAKBQPAXX/6gI3AauhMAAAAASUVORK5CYII=\", \"iVBORw0KGgoAAAANSUhEUgAAAMgAAADICAYAAACtWK6eAAAAOXRFWHRTb2Z0d2FyZQBNYXRwbG90bGliIHZlcnNpb24zLjguMywgaHR0cHM6Ly9tYXRwbG90bGliLm9yZy/H5lhTAAAACXBIWXMAAA9hAAAPYQGoP6dpAAAEwUlEQVR4nO3dT2jXdRzHcX/bsD+GkawQRdRN2SIEsVWOoD9YTSX6c1FECqqDhgaZFHlIgg6a5Sqyf3aI/lgLQVYQQUIQ1EF2cFFUpkuzMAgPSS5jNX/dPMXr8HsHRTwe9+/Lz8aefk5fvo1ms9mcAvyttn/7APBfJhAIBAKBQCAQCAQCgUAgEAgEAoFAIBAIBAKBQCAQCAQCgaCj8vD853aWD7D7tlfLGzu6F5U3jm7rL29Mnl9/c6B35w/ljeED75c3ln99Z3mj46bj5Y2xnUvLG99t2tzys24QCAQCgUAgEAgEAoFAIBAIBAKBQCAQCAQCgUAgEAgEAoFAIBAIBAKBQNCofB/k5vZV5QO0X3ZpeeP3RXPKG+OzppY3Dmx/qbzRPbS+vPHYyn3ljdunHStv9O19qLyxcM+v5Y2PRh5v+Vk3CAQCgUAgEAgEAoFAIBAIBAKBQCAQCAQCgUAgEAgEAoFAIBAIBAKBQCAofWHqyBuLywe4quv78sY7c3eVNxbv31jeODk5Xt7oHG2UN9au/qm80TO8qbxxaPUL5Y2+4w+UNyrcIBAIBAKBQCAQCAQCgUAgEAgEAoFAIBAIBAKBQCAQCAQCgUAgEAgEAoGg9MLUgrsOlg8wdGK0vLHy+rXljc5n6l8yunvgnvLGjKmnyhsHJ86WNy7f9mN5o3diQ3ljytz6z1LhBoFAIBAIBAKBQCAQCAQCgUAgEAgEAoFAIBAIBAKBQCAQCAQCgUAgEAgEtS9MDS4tH6D73X9go/NMeWNkyevlja7168obPVu+LG9sXdhf3ji8Y055Y2z1y+WNrn3132mFGwQCgUAgEAgEAoFAIBAIBAKBQCAQCAQCgUAgEAgEAoFAIBAIBAKBQCAQlF6Y+nzVs+UDfHxmRnnj7K31zn87O1HeaJto1Dc667+Pw09eUt4Yu67+stOKhdeWNy5883R5o8INAoFAIBAIBAKBQCAQCAQCgUAgEAgEAoFAIBAIBAKBQCAQCAQCgUAgEAgazWaz2erDKxY8XD9B6//8OUfunVXe+POi+jmmj9X/v2n7o36OX3rqG1dceay88dXIvPLG1f2HyhtD/btbftYNAoFAIBAIBAKBQCAQCAQCgUAgEAgEAoFAIBAIBAKBQCAQCAQCgUAgEAhKX5h665O3ywdYs+DG8sah+94rb/w8OV7eWPZ8/QWyDzc+Vd645ZVHyhsTy06WN7Z8MVre2PXtDeWNCjcIBAKBQCAQCAQCgUAgEAgEAoFAIBAIBAKBQCAQCAQCgUAgEAgEAoFAICh9YWrei0+XDzA4sKe8cce00+WNntfuL290D9a/htS4eHp544NPh8sby+dfU94Ye2JJeeOzNfW/sZmzT7T8rBsEAoFAIBAIBAKBQCAQCAQCgUAgEAgEAoFAIBAIBAKBQCAQCAQCgUAgEJS+MNWYaJQPMLP9VHljYHZfeaPj0frPsnVkf3ljw/aN5Y2ufevKG70XfFPemDyv5Xfxzunfu7m8cfTB1p91g0AgEAgEAoFAIBAIBAKBQCAQCAQCgUAgEAgEAoFAIBAIBAKBQCAQCASC0hem4P/ODQKBQCAQCAQCgUAgEAgEAoFAIBAIBAKBQCAQCAQCgUAgEAgEgr8AciCtBrrpjCoAAAAASUVORK5CYII=\", \"iVBORw0KGgoAAAANSUhEUgAAAMgAAADICAYAAACtWK6eAAAAOXRFWHRTb2Z0d2FyZQBNYXRwbG90bGliIHZlcnNpb24zLjguMywgaHR0cHM6Ly9tYXRwbG90bGliLm9yZy/H5lhTAAAACXBIWXMAAA9hAAAPYQGoP6dpAAAEr0lEQVR4nO3dT2jXdRzH8f10TgIrBkWFFWtzk5ghrT8EERRDLPPQEEMpuhWVQhqRdCijS5DmQcI8RVAeHEyLWH8oqksUYeKQsNY2NhCHpAcjQlv67dQtXoe9B0Y8Hvffa58dnnxOH76tpmmaNuBfLbrcB4D/MoFAIBAIBAKBQCAQCAQCgUAgEAgEAoFAIBAIBAKBQCAQCATtlR93vbW7fIDWxVZ5o/vQhfLG1NDS8sby/tPljWUbz5Y3PjzxVXnjj+bP8sbA8PbyxsrXJ8sbn57eN+/fukEgEAgEAoFAIBAIBAKBQCAQCAQCgUAgEAgEAoFAIBAIBAKBQCAQCAQCQenBVO+2I+UDzLx6d3mj/dhEeaNj8Lbyxuerhssbax7YUt44d+mT8kbnoivKGwvi6mWX9c+7QSAQCAQCgUAgEAgEAoFAIBAIBAKBQCAQCAQCgUAgEAgEAoFAIBAIBAJB6cHUxJ67ygdoOutfhxp/rb+8sfOh+mOnW0e2lje6z82VN36eqz92euKDZ8sbRzbuKW/sHbyzvFHhBoFAIBAIBAKBQCAQCAQCgUAgEAgEAoFAIBAIBAKBQCAQCAQCgUAgEAgEraZpmvn+eE37pvIBPjv5Q3lj7Y13lDcmdy3A469WeaKta7T+YGpqc/0gVx3vKG/8tqr+v4yv21/eWHrD1Lx/6waBQCAQCAQCgUAgEAgEAoFAIBAIBAKBQCAQCAQCgUAgEAgEAoFAIBAIBLUvTO2uPzLqOVjf6B34vbwxsbn+MKfn4NPljY5vfixv9H1Z/2rX4t7u8sbYjpHyRvcXT5Y3ph+f/2/dIBAIBAKBQCAQCAQCgUAgEAgEAoFAIBAIBAKBQCAQCAQCgUAgEAgEAoGg9GBq2Uy9r7Ed+8obsxvqD6Zm/ypPtK3Y/l15o1lS/7LT1IHV5Y1f7n+3vPHwwNryxtDosfJGhRsEAoFAIBAIBAKBQCAQCAQCgUAgEAgEAoFAIBAIBAKBQCAQCAQCgUAgEJQeTC0fnS0fYN2BwfLGmfV95Y2zq5vyxrWFLxn9Y/GF+jl6d/5a3th1uKe8MfVUfePK83PljQo3CAQCgUAgEAgEAoFAIBAIBAKBQCAQCAQCgUAgEAgEAoFAIBAIBAKBQCAoPZj66ZXO8gFaZ64rb7S16o+MFsLp+y6WN8bX7y9vPHLvUHnjneH616G2bvqovDF9/pryRoUbBAKBQCAQCAQCgUAgEAgEAoFAIBAIBAKBQCAQCAQCgUAgEAgEAoFAIBC0mqaZ92ujozM3lw/wxqkHyxvfT3eVN9pml5YnVrx0tLyx6Jabyhsffz1S3uh9/5nyRt/bp8obJ56/vrwxveWFef/WDQKBQCAQCAQCgUAgEAgEAoFAIBAIBAKBQCAQCAQCgUAgEAgEAoFAIBAISl+Y2nD4ufIBjj+6t7xxz6Ft5Y1LS8oTbeNv3l7eWPniWHmj/9vHyhs9L9cff02+11feaJ1slTcq3CAQCAQCgUAgEAgEAoFAIBAIBAKBQCAQCAQCgUAgEAgEAoFAIBAIBAKBoPSFKfi/c4NAIBAIBAKBQCAQCAQCgUAgEAgEAoFAIBAIBAKBQCAQCAQCgeBvM+qlhia8LAgAAAAASUVORK5CYII=\", \"iVBORw0KGgoAAAANSUhEUgAAAMgAAADICAYAAACtWK6eAAAAOXRFWHRTb2Z0d2FyZQBNYXRwbG90bGliIHZlcnNpb24zLjguMywgaHR0cHM6Ly9tYXRwbG90bGliLm9yZy/H5lhTAAAACXBIWXMAAA9hAAAPYQGoP6dpAAAEmklEQVR4nO3dy4sVZADG4ZkswjIjszRQakwRsYioNLoQXaikRUhB0kKxKEqJMKIg8A/oZqhtQmphEVi6iChcGHahMCEQuogaNKBCohKlSDk4p0XbeBe+gi6eZ39ePo/85lt9nOHBYDAYAv7XeWf7AHAuEwgEAoFAIBAIBAKBQCAQCAQCgUAgEAgEAoFAIBAIBAKBQHB+8+GRdW/WB7jp5n31xo/b5tYbJyeP1xvjE/uNaz7pXx9sf29DvbHl+OR6490FN9YbQxMm1BNbD79z2p91g0AgEAgEAoFAIBAIBAKBQCAQCAQCgUAgEAgEAoFAIBAIBAKBQCAQCASC6sHU8Kn+AD/snFNvzF27u97Ys7p/dDVz1uF6Y/+90+uNsUH/H/PIpL/qjdXPza83RjburzcabhAIBAKBQCAQCAQCgUAgEAgEAoFAIBAIBAKBQCAQCAQCgUAgEAgEAoFAUD2YmjrvSH2AQ6NT+o2NV9Qb4wf7X4c6+Mu0emP2x8frjaHH+4lrNz1Tb2xc/na9serWx+qNhhsEAoFAIBAIBAKBQCAQCAQCgUAgEAgEAoFAIBAIBAKBQCAQCAQCgUAgEFQPpo5/dWV9gG9WvlZvPP3A8nrj78XVV/HfxtT+0dWvSy6uN5aN3ldvzPii/7csHVpRb5wRi07/o24QCAQCgUAgEAgEAoFAIBAIBAKBQCAQCAQCgUAgEAgEAoFAIBAIBAKBQFC9Ejp1YX+Au7a8WG/MHTpab+xaub4/x+aV9cbEQ/3frKO3/1FvHFjTn2NwwaDeGB4brjcabhAIBAKBQCAQCAQCgUAgEAgEAoFAIBAIBAKBQCAQCAQCgUAgEAgEAoFAUD2YGtl8pD7A59s+qjd2Lz5Rb8z/+tl6Y87zO+qNoeH+gdC+dQvrjSV3fldvbNp+W71x2c8eTME5SyAQCAQCgUAgEAgEAoFAIBAIBAKBQCAQCAQCgUAgEAgEAoFAIBAIBNWDqb1PTqkPcMOrK+qN6Wv7xz1379xbbxyYOaPeGJt5eb0xbUf/yGjTeP/Yac77x+qNfcsuqTcabhAIBAKBQCAQCAQCgUAgEAgEAoFAIBAIBAKBQCAQCAQCgUAgEAgEAoFAUD2YGkzoDzB9/ff1xuuj/S87jY71j7+ObZtYbzw66fd64+FZd9Qbkz/8p97Ys+GWeuOe63+qNxpuEAgEAoFAIBAIBAKBQCAQCAQCgUAgEAgEAoFAIBAIBAKBQCAQCAQCgUBQPZh64f7P6gOseeOhemN80P/C1KpPl9YbZ8IHr+yqN7b+1j8gW/Tgknpj3lt/1htfPnVdvTG04PQ/6gaBQCAQCAQCgUAgEAgEAoFAIBAIBAKBQCAQCAQCgUAgEAgEAoFAIBAIBNWDqTVb+8dOWxavrTdeHllYb1z0Uv+34sRV4/XG+MmxemP29uX1xtVT++9j9In++7j02+F6o+EGgUAgEAgEAoFAIBAIBAKBQCAQCAQCgUAgEAgEAoFAIBAIBAKBQCAQCATDg8FgcLYPAecqNwgEAoFAIBAIBAKBQCAQCAQCgUAgEAgEAoFAIBAIBAKBQCAQCP4FbVOc900oYv8AAAAASUVORK5CYII=\", \"iVBORw0KGgoAAAANSUhEUgAAAMgAAADICAYAAACtWK6eAAAAOXRFWHRTb2Z0d2FyZQBNYXRwbG90bGliIHZlcnNpb24zLjguMywgaHR0cHM6Ly9tYXRwbG90bGliLm9yZy/H5lhTAAAACXBIWXMAAA9hAAAPYQGoP6dpAAAEz0lEQVR4nO3dX6zXcxzH8d851fEnMrNDEqOV0sZWIqRcaCEukG5IW2mTdNEUF20Zy5o1LgzDkPlz4cJmrGxINv3ZQpjUcuLUWhnZMWsY56zzddeVvS5+74y1x+P++/p99tue+1599u1omqZpAf+o878+APyfCQQCgUAgEAgEAoFAIBAIBAKBQCAQCAQCgUAgEAgEAoFAIBhaefjwoVHlA0x9a3l5Y8JTP5Q3BkecWt4Y/8p35Y09904ob2x457XyxriPFpU3Og93lTdGbzpa3vhk/UNtP+sNAoFAIBAIBAKBQCAQCAQCgUAgEAgEAoFAIBAIBAKBQCAQCAQCgUAgEAhKF6auXfdg+QAXbOsvbzRdw8obgzu/LW+sPHtLeePqO6eUN46H3pnryhsTn11S3jhl867yRoU3CAQCgUAgEAgEAoFAIBAIBAKBQCAQCAQCgUAgEAgEAoFAIBAIBAKBQCAoXZjateiZ8gGOLPyzvHHF5vrFnFev2lHeuGP3vPLGmbs7yhvHw7u/17+4tXXxE+WN9+afX96o8AaBQCAQCAQCgUAgEAgEAoFAIBAIBAKBQCAQCAQCgUAgEAgEAoFAIBAIBB1N0zTtPnzd7LXlA1z62FfljZ5p9c777ppc3uj6re2/8pgzdvaVNy5+Y195Y8/iS8obPfPrl65657xQ3ugcubf9Z8u/DicwgUAgEAgEAoFAIBAIBAKBQCAQCAQCgUAgEAgEAoFAIBAIBAKBQCAQlL4wdWhG6fFWq9VqvdT9cXlj6ZBZ5Y0PHn2yvDF5w7Lyxt2PbCtvvLlidnlj4KIh5Y3eOc+XN8ZsXFje2F/48Jc3CAQCgUAgEAgEAoFAIBAIBAKBQCAQCAQCgUAgEAgEAoFAIBAIBAKBQCAo3XhaO/f18gFmblxW3ujZW/8K0YRN95c3Tjpcv2T09sTu8sbjvfWLSj3955Q3Jq1ZUt4Yv+XX8kbLhSn4dwgEAoFAIBAIBAKBQCAQCAQCgUAgEAgEAoFAIBAIBAKBQCAQCAQCgaB0YerFWdeXD9A9Y1h545Z7Li9v3PTZ7vJG7wMjyhsHl19T3lg9bWR5Y9XWDeWNI2MGyxsn3/xXeaPCGwQCgUAgEAgEAoFAIBAIBAKBQCAQCAQCgUAgEAgEAoFAIBAIBAKBQCAQdDRN07T78OCP48oHuOG8SeWN+XsOlDfWfHNjeWP71JfLG9M+X1DeOHfu9+WNZqC/vNHz3JXljY6BjvLG/qUr2n7WGwQCgUAgEAgEAoFAIBAIBAKBQCAQCAQCgUAgEAgEAoFAIBAIBAKBQCAQlC5Mrfz69vIBfu4/rbzx4aeXlTeG7x9S3vhjVP2LSmOXby9vvH/oy/LGlIfvK290DpQnWiMX7itvrJ/+dNvPeoNAIBAIBAKBQCAQCAQCgUAgEAgEAoFAIBAIBAKBQCAQCAQCgUAgEAgEgqGVh0d3/VI+wKruL8obt60+vbxxcN7Y8sZZ4/vKG632768ds+DA9PLG8J+OljcO3Fq/QNa348LyRqvwd3iDQCAQCAQCgUAgEAgEAoFAIBAIBAKBQCAQCAQCgUAgEAgEAoFAIBAIBILSF6bgROcNAoFAIBAIBAKBQCAQCAQCgUAgEAgEAoFAIBAIBAKBQCAQCASCvwEWJLC25R2f8gAAAABJRU5ErkJggg==\", \"iVBORw0KGgoAAAANSUhEUgAAAMgAAADICAYAAACtWK6eAAAAOXRFWHRTb2Z0d2FyZQBNYXRwbG90bGliIHZlcnNpb24zLjguMywgaHR0cHM6Ly9tYXRwbG90bGliLm9yZy/H5lhTAAAACXBIWXMAAA9hAAAPYQGoP6dpAAAElElEQVR4nO3d32vVdRzH8e9O05phJVZ4UbE1t+VFlFHtoqC6LejK4SryqsCEaG5EEEnQhV7Egop+/AmjqyBwSF1EBUZ2YQTlVkfFYIk5WCVDZO1011W8Ls77gEMej/vva1/Gnvtcffj2dTqdTgP8r9bVfgHYyAQCgUAgEAgEAoFAIBAIBAKBQCAQCAQCgUAgEAgEAoFAIBD0Vx4eene2/AI7dl0ob5z/6fbyRi98P/FOeeOhT6bLGz9PflDeaDV95Y3HX36pvLH0aP09zkzNdP2sEwQCgUAgEAgEAoFAIBAIBAKBQCAQCAQCgUAgEAgEAoFAIBAIBAKBQCAQlC5M9a/WL7P04rLTPW+fLW+cenWwvLHtui3ljU79V9rMr24tbzx942p54/zD9f+/Y0d+LW80U90/6gSBQCAQCAQCgUAgEAgEAoFAIBAIBAKBQCAQCAQCgUAgEAgEAoFAIBAIBKULU2tbOuUXOL6n/pWq8YGD5Y3W5fJEMzy3v7yx/Yf6jamn9l4qb6yur5U3Tj1f/9LV6OYD5Y0KJwgEAoFAIBAIBAKBQCAQCAQCgUAgEAgEAoFAIBAIBAKBQCAQCAQCgUAgKF2Yal2pX+4ZP/ZKeWPXoXZ5Y+H1kfJGL/zZg9d4f+Xu8sbRFx4rb7QnBsobV5sTBAKBQCAQCAQCgUAgEAgEAoFAIBAIBAKBQCAQCAQCgUAgEAgEAoFAIBCULkytb6p/Yar1d+kVmqZpmsXXRssb7cmPyhszvz9Q3jjx1oPljflD28ob7dn6Zaex3efKGwsn7ypvVDhBIBAIBAKBQCAQCAQCgUAgEAgEAoFAIBAIBAKBQCAQCAQCgUAgEAgEAkFfp9Pp+tbTp+37yi9w8LN95Y1eWL9prbzR+qt++Wvn9LfljcHv6pedji8NljdW2zeXN5r6nbzm9PRM1886QSAQCAQCgUAgEAgEAoFAIBAIBAKBQCAQCAQCgUAgEAgEAoFAIBAIBAJB6YbPRrns1AsDt1wubwwdvlTeWD66s7zxxTe3lje2jy2XN+44vFjeWHij/vWwCicIBAKBQCAQCAQCgUAgEAgEAoFAIBAIBAKBQCAQCAQCgUAgEAgEAoFAICh9YerLsyPlFzhy7yPljTd//Kq88ezXL5Y3mpXN5YnTEx+XN4bn9pc3evGlq30Lv5U3nttav7jV2vFL98+WfzpcwwQCgUAgEAgEAoFAIBAIBAKBQCAQCAQCgUAgEAgEAoFAIBAIBAKBQFC6MDX03mz9DdbrE+3JjXHJ6M7P/ylvXD9/orxxbOlkeePJJ/aUN5bHbytvXLy/6z/P/5yZmun6WScIBAKBQCAQCAQCgUAgEAgEAoFAIBAIBAKBQCAQCAQCgUAgEAgEAoFAIOgvPd2Dy06Lez8sbwzPHShv3PBH/X/FuWeulDdG5ssTPbn8NbpppbxxcXf9slPTg4kKJwgEAoFAIBAIBAKBQCAQCAQCgUAgEAgEAoFAIBAIBAKBQCAQCAQCgUAgKH1hCq51ThAIBAKBQCAQCAQCgUAgEAgEAoFAIBAIBAKBQCAQCAQCgUAgEPwLYqKgpg1BD+oAAAAASUVORK5CYII=\", \"iVBORw0KGgoAAAANSUhEUgAAAMgAAADICAYAAACtWK6eAAAAOXRFWHRTb2Z0d2FyZQBNYXRwbG90bGliIHZlcnNpb24zLjguMywgaHR0cHM6Ly9tYXRwbG90bGliLm9yZy/H5lhTAAAACXBIWXMAAA9hAAAPYQGoP6dpAAAEw0lEQVR4nO3dy4uWZRzG8efVEQPtvJnMmlHTyYXQEJSBhW2ytKDM0oJEyoUUhFEggqaLCFoYlQTWIhfRpoUJg2BICUOIdMBDU2PmkSAikJDSyph5+gfiWry/CV18Pvvn4l7Md+7Vzdtp27ZtgP806XIfAK5kAoFAIBAIBAKBQCAQCAQCgUAgEAgEAoFAIBAIBAKBQCAQCHoqH896e1v5ACsWHyxvjDzeX94Yu35aeWPv0EfljQeeWFPeWLvzk/LGxj1PlTf6h/4pb/yycGp5Y/S1l7r+1g0CgUAgEAgEAoFAIBAIBAKBQCAQCAQCgUAgEAgEAoFAIBAIBAKBQCAQCEoPpm5/43T5AIdfnlzemDy7U95oDx0rb0yEzoEj5Y3envPljZMrd5Q35rTryhsbHtpd3mgaD6bgfyEQCAQCgUAgEAgEAoFAIBAIBAKBQCAQCAQCgUAgEAgEAoFAIBAIBILSg6m+ofrDnO0zvipv7P3zu/LGi0NryhuH/z5Q3ujpv7W8cd9Vh8obf4z/Vd44uar+6Gre8OryxrqB7r91g0AgEAgEAoFAIBAIBAKBQCAQCAQCgUAgEAgEAoFAIBAIBAKBQCAQCASC0oOpM2v6ygd4fmf916HO3jte3pi8tX6ODbPuLm/09NYfKi06ury8MX3ztPLGj0/XN9qetrxR4QaBQCAQCAQCgUAgEAgEAoFAIBAIBAKBQCAQCAQCgUAgEAgEAoFAIBAIBJ22bbt+kTLrrW31E0xAotd9X3/s9Pmrb5Y3BnetL28MbBwpbzRjY+WJ46/fUd6YiF+Yujh+qbwxfcbZrr91g0AgEAgEAoFAIBAIBAKBQCAQCAQCgUAgEAgEAoFAIBAIBAKBQCAQCASC0i9Mrbj/YPkA+34aKG9sXranvPHpxd7yxqRL9Ydb4xculDcGvp5S3th90/byxtIFS8obx7bOLW+ceaH7b90gEAgEAoFAIBAIBAKBQCAQCAQCgUAgEAgEAoFAIBAIBAKBQCAQCAQCgaD0YOrbVbeVD/D7czeUN95ffWd544ct88sbN47UH0yd+HCwvjE8tbyx6OHj5Y1fH60/hhtd/k55o2le6fpLNwgEAoFAIBAIBAKBQCAQCAQCgUAgEAgEAoFAIBAIBAKBQCAQCAQCgUAg6LRt23b78W8/zywf4MmZ95Q3xj+7pbxx4lT9F6amnCu9P2uapmlGn3m3vLGsf2F5YyJcs//q8sazvV+UN5bOHun6WzcIBAKBQCAQCAQCgUAgEAgEAoFAIBAIBAKBQCAQCAQCgUAgEAgEAoFAICi98Bnctb5+ggn4AaFT898rbyz8YF1549yC8kTzyPzF5Y29Z4fLGw/23VXe+ObLueWNTcv3lDcq3CAQCAQCgUAgEAgEAoFAIBAIBAKBQCAQCAQCgUAgEAgEAoFAIBAIBAKBoPRgqjPWKR/g5Mod5Y0lNw+WN85vqf+vWLtsX3lj/6ZryxtzPq4//po35Wh5o6n/eTSPTcCjvNOFCTcIBAKBQCAQCAQCgUAgEAgEAoFAIBAIBAKBQCAQCAQCgUAgEAgEAoFAIOi0bdte7kPAlcoNAoFAIBAIBAKBQCAQCAQCgUAgEAgEAoFAIBAIBAKBQCAQCASCfwEuoqHRxS6GzAAAAABJRU5ErkJggg==\", \"iVBORw0KGgoAAAANSUhEUgAAAMgAAADICAYAAACtWK6eAAAAOXRFWHRTb2Z0d2FyZQBNYXRwbG90bGliIHZlcnNpb24zLjguMywgaHR0cHM6Ly9tYXRwbG90bGliLm9yZy/H5lhTAAAACXBIWXMAAA9hAAAPYQGoP6dpAAAEzUlEQVR4nO3dS4iWZRzG4W8OechCTI1pNFSGsaGaDoROpKtgcBMFgRa1TTCKsgO0yKBViKFpdBCJFkWptbAgK4Kkw0pBLaRo1JIQwjES0rEmxXlb1SruxfcfSOS69s/N+y1+37t6eDuapmlawH/q/L8fAC5mAoFAIBAIBAKBQCAQCAQCgUAgEAgEAoFAIBAIBAKBQCAQCLorhxdse7H8ALN6fy9vzL17pLwxftfS8saX27aVN1b03lLeOPLqUHljes9YeWP85yvLG5Ph2Nqn2j7rDQKBQCAQCAQCgUAgEAgEAoFAIBAIBAKBQCAQCAQCgUAgEAgEAoFAIBAIShemph8vHW+1Wq3W7O2Xlze6r51f3vjj6q7yxurjy8obRzcNljcO3vNSeWMyLNvX/kWlf8z/rH6hrrW2/aPeIBAIBAKBQCAQCAQCgUAgEAgEAoFAIBAIBAKBQCAQCAQCgUAgEAgEAoGgo2mapt3DC99aX36AkeH6V5m+Gp9S3hiccrq8MbT7ifLGwNb6l50++fjd8saFZqK80dVxcfz/dvYcaf/sJD4HXHIEAoFAIBAIBAKBQCAQCAQCgUAgEAgEAoFAIBAIBAKBQCAQCAQCgUBQ+kTUwIYz5QcYvfPP8saGvtvKG788fUd547rN+8obow8tKW+8c2Z2eeP5D1eVN75/8JXyxmSYWjjrDQKBQCAQCAQCgUAgEAgEAoFAIBAIBAKBQCAQCAQCgUAgEAgEAoFAIBAISl+YGu6qX6rp2nNNeePEewvKGweee7280bdjTXlj4Ufnyxtney8rb8zadai88f7I5+WNvX/NKG8ML/qh7bPeIBAIBAKBQCAQCAQCgUAgEAgEAoFAIBAIBAKBQCAQCAQCgUAgEAgEAoGg9IWpE7sGyg8w9s3M8sahZ7eUNzadqv+Wqafq/zfde/aXN06+PFTeGF1+Q3lj5eK27+L967dVN5c3ht9s/6w3CAQCgUAgEAgEAoFAIBAIBAKBQCAQCAQCgUAgEAgEAoFAIBAIBAKBQCAoXZiasaN+2aln597yxmDzWHmjs2e8vjGtfkHo8Nal5Y0pv9b/987NvVDemLixr7yx74X6l79arSfbPukNAoFAIBAIBAKBQCAQCAQCgUAgEAgEAoFAIBAIBAKBQCAQCAQCgUAgEAhKF6a+3vha+QGGZjxS3piYeb680RqdVp7oWjxW3ji2/O3yxpJ1D5c35qz/rrxx3/4j5Y2TF86WN3oKZ71BIBAIBAKBQCAQCAQCgUAgEAgEAoFAIBAIBAKBQCAQCAQCgUAgEAgEAkFH0zRtfxZp0ZaN5Qf4duXm8sZNHzxe3ug411He6H/mQHmja85V5Y3d+z8tb6yYd2t54+jGofLGj/dvLW909rR/ccsbBAKBQCAQCAQCgUAgEAgEAoFAIBAIBAKBQCAQCAQCgUAgEAgEAoFAIBCUvjA17/rR8gNc0Vn/slP/o3vLG6cfuL28sf2nL8ob966uX/7q27mmvNHfXb/8NRmXnQbeqH8t6/C69s96g0AgEAgEAoFAIBAIBAKBQCAQCAQCgUAgEAgEAoFAIBAIBAKBQCAQCASC0hem4FLnDQKBQCAQCAQCgUAgEAgEAoFAIBAIBAKBQCAQCAQCgUAgEAgEgr8BRaim4POBi94AAAAASUVORK5CYII=\", \"iVBORw0KGgoAAAANSUhEUgAAAMgAAADICAYAAACtWK6eAAAAOXRFWHRTb2Z0d2FyZQBNYXRwbG90bGliIHZlcnNpb24zLjguMywgaHR0cHM6Ly9tYXRwbG90bGliLm9yZy/H5lhTAAAACXBIWXMAAA9hAAAPYQGoP6dpAAAExklEQVR4nO3dS4iVdRzG8XNmlKCMbhqDZlrNpSESi9IiKirCmk0JIREUUovshjpBIIEgVlCQRZRDSQRBixa1GDB1EXQhGU3MiBr0aBdxClp104GJmdOmZTyL8xsw5PPZv49/Z/jOu/rzNtvtdrsB/Keu030A+D8TCAQCgUAgEAgEAoFAIBAIBAKBQCAQCAQCgUAgEAgEAoFAMKfy8JIdL5UP0HWqu7zRu3GsvNF90YXljbe/Gi1vrF1yc3mj9fqK8sb3q98sb6xauLy8MeeSReWNXcdf7fhZbxAIBAKBQCAQCAQCgUAgEAgEAoFAIBAIBAKBQCAQCAQCgUAgEAgEAoFAULow1b/uQPkAR19eWd7oXrCgvHF40xXljYNT88sbs/HzaN27vbwxPQtfjfntwRvLG489+0H9IAXeIBAIBAKBQCAQCAQCgUAgEAgEAoFAIBAIBAKBQCAQCAQCgUAgEAgEAoGgdGHq6Lb65Z4ja+qXe/qbj5c3Dty3rbxx7c4N5Y3BF1rlje7763/3LtvzSHnjhxdHyhunmzcIBAKBQCAQCAQCgUAgEAgEAoFAIBAIBAKBQCAQCAQCgUAgEAgEAoFAIChdmBp47kj5ADNr6p8y6t04Vt54YPOq8sbSm+r/l+bcueWNTybrf/fmfXdWeaNR/5E2xqdOlTeuKjzrDQKBQCAQCAQCgUAgEAgEAoFAIBAIBAKBQCAQCAQCgUAgEAgEAoFAIBAImu12u+NbPn3P17/KdPfQl+WNz9+6vrzxx62T5Y2VS38sb5zY2lfeONlTugfXaDQajfnvf13eaO0YKG8cve2d8kZXT+df7fIGgUAgEAgEAoFAIBAIBAKBQCAQCAQCgUAgEAgEAoFAIBAIBAKBQCAQCAS1mzX9J8sHuGBO/QtCeze/Vt74uz1d3lgxMlzeWLxrb3nj44mD5Y2JLfXfy7o7F5Y3htbfUd7Y/Wvnz3qDQCAQCAQCgUAgEAgEAoFAIBAIBAKBQCAQCAQCgUAgEAgEAoFAIBAIBILShanpE2eXDzC2dVl5457WueWNwyNXlzcG3/i2vDG56rryxtCi8kTj2HvXlDf6fhovb4we+6K8UeENAoFAIBAIBAKBQCAQCAQCgUAgEAgEAoFAIBAIBAKBQCAQCAQCgUAgEAhqF6bOmSkf4MjD55c3ZubVL111/d5d3li7/1B5Y9POwfJG757yRKN//fHyxuLPmuWN5WMPlTfGV3f+rDcIBAKBQCAQCAQCgUAgEAgEAoFAIBAIBAKBQCAQCAQCgUAgEAgEAoFAIGi22+12pw9P/rK0fIArR58obzSn6xdzmlP1jd7hsfLGbNjz86Hyxl2X1r90NbFhRXnjm+Ht5Y2unlbnz5b/dTiDCQQCgUAgEAgEAoFAIBAIBAKBQCAQCAQCgUAgEAgEAoFAIBAIBAKBoHRhamDLK+UDjD9avxAzdEvhE0L/+nPZxeWNidvLE42+J/eVN/7afXl547ynyhONjz79sLxxwzPryhv7332642e9QSAQCAQCgUAgEAgEAoFAIBAIBAKBQCAQCAQCgUAgEAgEAoFAIBAIBAJB6cIUnOm8QSAQCAQCgUAgEAgEAoFAIBAIBAKBQCAQCAQCgUAgEAgEAoFA8A8CO6gs8LhZKgAAAABJRU5ErkJggg==\", \"iVBORw0KGgoAAAANSUhEUgAAAMgAAADICAYAAACtWK6eAAAAOXRFWHRTb2Z0d2FyZQBNYXRwbG90bGliIHZlcnNpb24zLjguMywgaHR0cHM6Ly9tYXRwbG90bGliLm9yZy/H5lhTAAAACXBIWXMAAA9hAAAPYQGoP6dpAAAEmElEQVR4nO3dzYtVdRzH8XOdUCTDhAyCFk0zkxo9ECEzOD1shEyjINRxNeimFAuDcRfRxq2Jiwl3SbZoKlpVm6gkMLLIiB5wmhk3gYOJziYi1DunfyA+i/u9oMTrtT8ffqO871n9OJ22bdsG+E8rbvYB4FYmEAgEAoFAIBAIBAKBQCAQCAQCgUAgEAgEAoFAIBAIBAKB4LbKw4PHj5YPsDBxorwx9P7+8kY/tAP1jU63vjH9/DvljZOXxssbS08slTf64fPuBz0/6w0CgUAgEAgEAoFAIBAIBAKBQCAQCAQCgUAgEAgEAoFAIBAIBAKBQCAQCEoXppo+fFmkH5ed7vmmfpDFLZ3yxuzO6fLGxpmD5Y3RVfWLStsGvyxvbN53oLyx/uzV8kaFNwgEAoFAIBAIBAKBQCAQCAQCgUAgEAgEAoFAIBAIBAKBQCAQCAQCgUAg6LRt2/Nto358YercrmPljbUrVpc3hmZuja9Urb5U/836e9M/5Y0tIxfKG+/dd7q8MXx6b3njwp7Xe37WGwQCgUAgEAgEAoFAIBAIBAKBQCAQCAQCgUAgEAgEAoFAIBAIBAKBQCAQlL4w1VmuH2CgqX/Z6dmR8fpBjtQn1v1W/1vWXLxe3vjklbfLGxPju8ob90+9XN7odOv/phXeIBAIBAKBQCAQCAQCgUAgEAgEAoFAIBAIBAKBQCAQCAQCgUAgEAgEAoGgdGGq7cNdlp+urSxvXHzp0fLG+Ngv5Y3l0frvzdV9d5U3tr12qLyxeKj+n9vpliea9ib/hHuDQCAQCAQCgUAgEAgEAoFAIBAIBAKBQCAQCAQCgUAgEAgEAoFAIBAIBILShak3tn9cPsDJy0+WN747fLy8MTH/XHnj5x8GyxvDs9+WNxYP1C9d7Xy6fo6Pvhorbzxw6q/yRvNq7496g0AgEAgEAoFAIBAIBAKBQCAQCAQCgUAgEAgEAoFAIBAIBAKBQCAQCASC0oWpI5++WD5AP75S9WDzcH2kD+cYnjpb3hi4c215o3OjPNF8eGa0vDFy+PvyxtzRzeWNCm8QCAQCgUAgEAgEAoFAIBAIBAKBQCAQCAQCgUAgEAgEAoFAIBAIBAKBQFC6MLW8/lr5ACOT58ob86ceK280V1bVz/FW/ZLR+d3T5Y2NM5vKG3fMDZQ3PvujfmHqRlP/0lXTTPX8pDcIBAKBQCAQCAQCgUAgEAgEAoFAIBAIBAKBQCAQCAQCgUAgEAgEAoFAIChdmOpcWVk+wPyxsfLG5CNflzfe/eKp8kY/vPDQ1vLGwq8nyhvP3Pt4eWPHmcnyxuU365fyftzR+7PeIBAIBAKBQCAQCAQCgUAgEAgEAoFAIBAIBAKBQCAQCAQCgUAgEAgEAoGgdGGqaesHWNhTv9yzfevu8saG63+WN2YP3l3e6C4tlTeGZvaXNzas+728cX7v7eWNztya8kaFNwgEAoFAIBAIBAKBQCAQCAQCgUAgEAgEAoFAIBAIBAKBQCAQCAQCgUAg6LRt24drT/D/5A0CgUAgEAgEAoFAIBAIBAKBQCAQCAQCgUAgEAgEAoFAIBAIBIJ/ASO2kyYQc9AQAAAAAElFTkSuQmCC\", \"iVBORw0KGgoAAAANSUhEUgAAAMgAAADICAYAAACtWK6eAAAAOXRFWHRTb2Z0d2FyZQBNYXRwbG90bGliIHZlcnNpb24zLjguMywgaHR0cHM6Ly9tYXRwbG90bGliLm9yZy/H5lhTAAAACXBIWXMAAA9hAAAPYQGoP6dpAAAEuUlEQVR4nO3dXWjVdRzH8XPOHCQURI9mWchhFkSuBYq1RhCh9OBV0LzqViuJYVHUdZQEgmXJogK7c2UQJD3gTfQAGZhaUrahi3JGdlFoQVTbv6u6qs/F+R4o5PW6/3/238ab/9WPX7tpmqYF/KPOf/0C8H8mEAgEAoFAIBAIBAKBQCAQCAQCgUAgEAgEAoFAIBAIBAKBYFHl4eXPbCu/wLPrd5U3dlw7XN6YeWqkvDE9vrO8sWLq/vLG4Xu2lzeGX5sobyzbN1/e+Pa2gfLG7MRDPT/rCwKBQCAQCAQCgUAgEAgEAoFAIBAIBAKBQCAQCAQCgUAgEAgEAoFAIBAI2pX7QW6/cqL8An+cmCtvtNasrG98/Fl54t2Th8ob65ZeX984crq8seWC4+WN7u5N5Y1bRz8vb7y8alfPz/qCQCAQCAQCgUAgEAgEAoFAIBAIBAKBQCAQCAQCgUAgEAgEAoFAIBAIBILSDVPTT19cfoGjt7xZ3hjas6a80R6vb3RfrW9csX6hvHHD4pfKG/1wbMNkeaM7VT901VrV+6O+IBAIBAKBQCAQCAQCgUAgEAgEAoFAIBAIBAKBQCAQCAQCgUAgEAgEAoGgdGCqe++R8gsMfFNv9OrH67cQTT9xXXlj6NGD5Y3W/Hx5Ynjnz+WNGx/eUt44VTio9Jc7xw7URwp8QSAQCAQCgUAgEAgEAoFAIBAIBAKBQCAQCAQCgUAgEAgEAoFAIBAIBAJBu2mapteHl2/fVn+DPiR64aF2eWNg/FR54/vjF5U3lr3d87/jb+d+Uf9djm5eUt7oxw1T/dBZMtP7s318DzjrCAQCgUAgEAgEAoFAIBAIBAKBQCAQCAQCgUAgEAgEAoFAIBAIBAKBoHTD1NIP6od7TtyxUN745MkXyxu/N/Wbna758oHyxjl795c33pir38o02B4ob6y7fKS8MfPc6vLG1/f1/qwvCAQCgUAgEAgEAoFAIBAIBAKBQCAQCAQCgUAgEAgEAoFAIBAIBAKBQCAoHZg678gP5RfojF1S3rj5wY3lje9G67dUtevnx1oDK7rljeHJm8obo3cdLm+0ml/qE4P1A3UVviAQCAQCgUAgEAgEAoFAIBAIBAKBQCAQCAQCgUAgEAgEAoFAIBAIBAKBoHRgatWer8ovsLB6rryx9kD94Nbz+9aWN5r6mavWW++9Xt7o7t5U3jh59/nljb1z75c3Oq1Pyxut1iOFnw/8K4FAIBAIBAKBQCAQCAQCgUAgEAgEAoFAIBAIBAKBQCAQCAQCgUAgELSbpun5XqSrXtlafoHOT4Pljfalv9Y3Tiwubywsql8xNfTYwfLGO7P7yxv9OHR12Uf1v8eHO14ob3SWzPT+bPmnw1lMIBAIBAKBQCAQCAQCgUAgEAgEAoFAIBAIBAKBQCAQCAQCgUAgEAgEpRumOj/WDzsd2zBZ3hjbvLG8MXj6t/LGmYkz5Y3WyhXlie7USHmjHwe3ZrbW36MfB7dmJ3p/1hcEAoFAIBAIBAKBQCAQCAQCgUAgEAgEAoFAIBAIBAKBQCAQCAQCgUAgEJRumIKznS8IBAKBQCAQCAQCgUAgEAgEAoFAIBAIBAKBQCAQCAQCgUAgEAj+BNJCqRGdp6TRAAAAAElFTkSuQmCC\", \"iVBORw0KGgoAAAANSUhEUgAAAMgAAADICAYAAACtWK6eAAAAOXRFWHRTb2Z0d2FyZQBNYXRwbG90bGliIHZlcnNpb24zLjguMywgaHR0cHM6Ly9tYXRwbG90bGliLm9yZy/H5lhTAAAACXBIWXMAAA9hAAAPYQGoP6dpAAAEv0lEQVR4nO3dS4iWZRzG4TllmXQANSVLa2YarSCLMM2CToRhQ8ucRdkiJNuYWkGboEWOHdCpCJJKc1OkixoJChcibYQRTAgkwRmmgUyYFhKGU5HztmoX9+L7DyhyXfv35vng+/GuHt72pmmaNuB/dVzsA8ClTCAQCAQCgUAgEAgEAoFAIBAIBAKBQCAQCAQCgUAgEAgEAkFX5eGHDr1SPsDETwvLG7dtGilvjL17f3mj6arfHFj23unyxvCR4fLGPSPryxtz98wpb5xZ3VneGH1ta8vPeoNAIBAIBAKBQCAQCAQCgUAgEAgEAoFAIBAIBAKBQCAQCAQCgUAgEAgEgtKFqdnPTJUPcNOq+iWjrlsWlzf6Bk+WN749cbi8sWbL3eWNvm9eLG+MP/VxeaPn543ljfk/XNzP13iDQCAQCAQCgUAgEAgEAoFAIBAIBAKBQCAQCAQCgUAgEAgEAoFAIBAIBIL2pmlavpGyZO/bM3GC8sT4mt3ljZ599cs9bTNwt2fe8fbyxqHtQ+WN5fs3lzfGBnaVN85eOF/emLuo9a92eYNAIBAIBAKBQCAQCAQCgUAgEAgEAoFAIBAIBAKBQCAQCAQCgUAgEAgEgtKFqcceGSwfYNve+peMXu++r7wxumNleeNSMX3tP+WNOadmlTfO3/5XeaOZ6ixvTLzwasvPeoNAIBAIBAKBQCAQCAQCgUAgEAgEAoFAIBAIBAKBQCAQCAQCgUAgEAgEgtKFqd53dpYPcGFW/bNMiw/WLwhN9Ncv5nyy9tPyxvbnnytvXHmy9S8q/ee3J7rLG0cHPypvzISOhadaf3YGzwGXHYFAIBAIBAKBQCAQCAQCgUAgEAgEAoFAIBAIBAKBQCAQCAQCgUAgEHRVHu7dM1k+wIHD+8sbbevqE39M17+GNHDz6vLGrL7fyxtjH9xQ3vh8xfvljaW7XypvDD+7o7xxZ+FZbxAIBAKBQCAQCAQCgUAgEAgEAoFAIBAIBAKBQCAQCAQCgUAgEAgEAoFAULowdebxBeUD9C+6t7wxunNVeWP6qunyxhVv1b9SNf9Y/Ry3vlm/dLXtwyfLG/N+rP+WJV2lv2iZNwgEAoFAIBAIBAKBQCAQCAQCgUAgEAgEAoFAIBAIBAKBQCAQCAQCgUAgKN1GGdq6q3yAzZ0byxvT1/1d3ug4V7+Ys+Bo/YLQL2svlDeunpxd3jjxfW9549jQUHlj/Xh/eeOrG1t/1hsEAoFAIBAIBAKBQCAQCAQCgUAgEAgEAoFAIBAIBAKBQCAQCAQCgUAgEJRuCV3T8Wf5AOdWTJU3Niw/Ut747LtHyxu/PlieaOvbcKy8cfD08fJGz5f1i2wPv7GlvHH2jqa80fZA6496g0AgEAgEAoFAIBAIBAKBQCAQCAQCgUAgEAgEAoFAIBAIBAKBQCAQCASC0oWpp7/eVD7A2ED9K1W9X9Qv93QfOF/eGF1X/7JTx13Lyhs9+1aWN3pfHilvTA4vLW+0jV1f3yjwBoFAIBAIBAKBQCAQCAQCgUAgEAgEAoFAIBAIBAKBQCAQCAQCgUAgEAgE7U3TzMAnfODy5A0CgUAgEAgEAoFAIBAIBAKBQCAQCAQCgUAgEAgEAoFAIBAIBIJ/AbM2qj5+4EawAAAAAElFTkSuQmCC\", \"iVBORw0KGgoAAAANSUhEUgAAAMgAAADICAYAAACtWK6eAAAAOXRFWHRTb2Z0d2FyZQBNYXRwbG90bGliIHZlcnNpb24zLjguMywgaHR0cHM6Ly9tYXRwbG90bGliLm9yZy/H5lhTAAAACXBIWXMAAA9hAAAPYQGoP6dpAAAEwklEQVR4nO3dTYiVZRzG4XPmNPiBK0lr7ENHHCbbuAhLLKohodIWLopABKVMrIUGSVC0CAqMCIU2SjrgIghSog+URAItCQoklCLHKQb71kpqsjGt8W3XKu7F+QdFXNf+3Dyb33lWD2+7aZqmBfytnn/7APBfJhAIBAKBQCAQCAQCgUAgEAgEAoFAIBAIBAKBQCAQCAQCgeCyyo/n7nq+fICeiU55Y3D7D+WN0QdmlTcmp9ZfDlz3zGh5461jB8sbL5wdLG8cXtZf3pg883154+Dkq13/1g0CgUAgEAgEAoFAIBAIBAKBQCAQCAQCgUAgEAgEAoFAIBAIBAKBQCAQCEoPpnrO1R87tf+Br5M035wub/SOzy5vDN+3vbyx/ueHyxvnm33ljc0zR8obh8/3lTc6s+sP2SrcIBAIBAKBQCAQCAQCgUAgEAgEAoFAIBAIBAKBQCAQCAQCgUAgEAgEAoGg9GDq0vRL9RN06i+mlhz5sbxxam95orXmnYfKGwMHzpc3ZqybWt6Yv2dDeePoJ1vLGy/9tKi8UeEGgUAgEAgEAoFAIBAIBAKBQCAQCAQCgUAgEAgEAoFAIBAIBAKBQCAQCASlB1NXHWyXD3D5xlPljQ+Xzytv9Pd+Vd7444uvyxvfPnpTeaP/zfXljemn6/+d+yeuqZ+j52J5o8INAoFAIBAIBAKBQCAQCAQCgUAgEAgEAoFAIBAIBAKBQCAQCAQCgUAgEAhKD6amnak/Znl94EB5Y8WUleWN7YdeLm8M7d1c3mjNqn9hqnN6Snnjwsz618Oeen9leWPL0tfKGxVuEAgEAoFAIBAIBAKBQCAQCAQCgUAgEAgEAoFAIBAIBAKBQCAQCAQCgUBQejC1+MWj5QP0719X3hg7squ8sXt8fnmjc7H+xa0Fz/5S3vh0U295Y0bfufLG1avrXw/bceu95Y1V+7r/rRsEAoFAIBAIBAKBQCAQCAQCgUAgEAgEAoFAIBAIBAKBQCAQCAQCgUAgEJQeTH205vryAeYMdsobd29cWt7YdLz++KtV/yhTq/3bhfLGwidHyhsjTy8sb/y+eLC8cWh4Z3mj1Xq861+6QSAQCAQCgUAgEAgEAoFAIBAIBAKBQCAQCAQCgUAgEAgEAoFAIBAIBAJBu2maptsfj37ZVz7AI3NvKW88eHKsvDFxaUp5Y9uJO8obx258pbyxfKj+VabJk5+XN+75+Gx5Y9G0+leqbp832vVv3SAQCAQCgUAgEAgEAoFAIBAIBAKBQCAQCAQCgUAgEAgEAoFAIBAIBAKBoPSFqe8mp5cP8Nm2JeWNsQu/ljd2vr2svNF0un579pfla28rbwwf313eWHtt/SHb1vfuLG9sGdpT3qhwg0AgEAgEAoFAIBAIBAKBQCAQCAQCgUAgEAgEAoFAIBAIBAKBQCAQCASC0oOp1Qc2lA8wdv+O8saKG+4qbyy4cry8MfHcRHmjNeeK8sTNbzxW3hhofVDeaLXrD8ieeLf+taxVA93/1g0CgUAgEAgEAoFAIBAIBAKBQCAQCAQCgUAgEAgEAoFAIBAIBAKBQCAQCNpN09RftcD/lBsEAoFAIBAIBAKBQCAQCAQCgUAgEAgEAoFAIBAIBAKBQCAQCAR/An4dqP6CrvmkAAAAAElFTkSuQmCC\", \"iVBORw0KGgoAAAANSUhEUgAAAMgAAADICAYAAACtWK6eAAAAOXRFWHRTb2Z0d2FyZQBNYXRwbG90bGliIHZlcnNpb24zLjguMywgaHR0cHM6Ly9tYXRwbG90bGliLm9yZy/H5lhTAAAACXBIWXMAAA9hAAAPYQGoP6dpAAAEx0lEQVR4nO3d2YvVZRzH8XPGBjQdQoKyNBIHR4WKCC0KbcFoUVpIM6GUuglBWowU6qoFIpBst26M8qJCRbtI0QgRKoQ2ksqcGNEkMYZE1DabZn79A/G5ON+iiNfr/nx44PDmd/XwtJumaVrAX+r6tw8A/2UCgUAgEAgEAoFAIBAIBAKBQCAQCAQCgUAgEAgEAoFAIBAITqv8+Imvbiof4KIxh8obLy9ZWN44OH9seWPzkjXljXtXPlje2PXc2vLGqWaovLFw8uzyxpHll5Y3vnx2Rce/9QWBQCAQCAQCgUAgEAgEAoFAIBAIBAKBQCAQCAQCgUAgEAgEAoFAIBAIBKULU6/vuKZ8gGZU/XmSaf395Y3hBdPLG2ePGilv/HB5u7zR1apvjOsaXd4YeHpmeaN3w8nyRoUvCAQCgUAgEAgEAoFAIBAIBAKBQCAQCAQCgUAgEAgEAoFAIBAIBAKBQCBoN03T8Y2loSO95QM8OnhJeWPjh5eVN85/d7i8cfju+qtMk18sT7Te2/RGeeOeQ3PKG6sm7Chv9HXXL251n7O/49/6gkAgEAgEAoFAIBAIBAKBQCAQCAQCgUAgEAgEAoFAIBAIBAKBQCAQCASC0gtTN19xS/kAD+3cVt744r7yRKs968Lyxqj+nvLG0QvqL2698/O48sbg4vHljRWv3V7e2D59a3mjwhcEAoFAIBAIBAKBQCAQCAQCgUAgEAgEAoFAIBAIBAKBQCAQCAQCgUAgEJQuTO17YGL5AHPH1F92eqav/tLVpi3ryhsbfppU3nhq84Lyxit9U8sbx5bW/9sf946UN/oGl5Y3BhZ1/ltfEAgEAoFAIBAIBAKBQCAQCAQCgUAgEAgEAoFAIBAIBAKBQCAQCAQCgUBQujDVu/HX8gF6u5aVN/bverW+MfR7eWP1+oXljSmrPy1vbP3+s/LG4PAH5Y0r31pZ3pi65kR5o+XCFPwzBAKBQCAQCAQCgUAgEAgEAoFAIBAIBAKBQCAQCAQCgUAgEAgEAoFAULowdeDW08sHGD3YLm9cf+7F5Y1v180sb4ytP6j0t5h33qzyxuMDH5c3Ju0cKm/su39CeaPCFwQCgUAgEAgEAoFAIBAIBAKBQCAQCAQCgUAgEAgEAoFAIBAIBAKBQCAQtJumaTr98deHJpYP8PBVd5Q39j52VnmjfaK7vPHkDRvLG3f2HC1v3DhtTnlj5OTJ8saZH40vb+zeM7W88d2yzl+68gWBQCAQCAQCgUAgEAgEAoFAIBAIBAKBQCAQCAQCgUAgEAgEAoFAIBAIBKULU89/c235AN3tP8obL+27urzx24Ge8kZ7uP5a1pRVu8sb2w5/Xt6YsX55eaPnQHmidWz2qfLGwbse6fi3viAQCAQCgUAgEAgEAoFAIBAIBAKBQCAQCAQCgUAgEAgEAoFAIBAIBAKBoHRh6u2BmeUDLBp3vLwxf9a88kZrZKQ88eYnW8obi2dcV944Y3v9tazjc38pb6ztf7+8cdvqVeWNPS+s6Pi3viAQCAQCgUAgEAgEAoFAIBAIBAKBQCAQCAQCgUAgEAgEAoFAIBAIBAKBoHRhCv7vfEEgEAgEAoFAIBAIBAKBQCAQCAQCgUAgEAgEAoFAIBAIBAKBQPAnyHa09KrA7UgAAAAASUVORK5CYII=\", \"iVBORw0KGgoAAAANSUhEUgAAAMgAAADICAYAAACtWK6eAAAAOXRFWHRTb2Z0d2FyZQBNYXRwbG90bGliIHZlcnNpb24zLjguMywgaHR0cHM6Ly9tYXRwbG90bGliLm9yZy/H5lhTAAAACXBIWXMAAA9hAAAPYQGoP6dpAAAEu0lEQVR4nO3d32vWZRzG8WdOK0pNPKkQD9p0jaAfRgVRTIhgaFlR0opQSIRipCsNPK6gUCqVUUwj6CAkM0JLWDuIaokg+COEwlrqwnJR0jJQKNme/oG4DvYR9OD1Ov9e3Azeu49unpZms9lsAP9r2qU+AFzOBAKBQCAQCAQCgUAgEAgEAoFAIBAIBAKBQCAQCAQCgUAgEEyvfPzV6MLyAe65cqK8ceu2NeWNf+dMljduu/N4eePc4jPljaFfj5Q33vqzrbyxc2N3eWP85vJE46cN66b8rRsEAoFAIBAIBAKBQCAQCAQCgUAgEAgEAoFAIBAIBAKBQCAQCAQCgUAgEJQeTL3Ws6J8gJGnrilv3LRjrLzxQ+915Y1d7UPljY43e8sbE81D5Y11c0+UNz66CD890/7q0fJGY8PUP3WDQCAQCAQCgUAgEAgEAoFAIBAIBAKBQCAQCAQCgUAgEAgEAoFAIBAIBILSg6mr3vi9fIBrz84pb7z/5QfljeVrXixvjC0/X96YN1z/pavWJ+v/9wb+mlfe+Hpjf3lj+sbW8kaFGwQCgUAgEAgEAoFAIBAIBAKBQCAQCAQCgUAgEAgEAoFAIBAIBAKBQCAQlB5MXVh5RfkAu795r7yxYv595Y3Vxz4pbyz++KXyRsfo3+WNMxPnyhufPnx3eePqvf+UN14eXF7eONk39W/dIBAIBAKBQCAQCAQCgUAgEAgEAoFAIBAIBAKBQCAQCAQCgUAgEAgEAoGg9GDqWF/9V4j+mKg/umqdPbu80TNrrLxxtnuwvLH9twfLG0/Pv7e88fMr15c3Lsbf9HDXwfJGhRsEAoFAIBAIBAKBQCAQCAQCgUAgEAgEAoFAIBAIBAKBQCAQCAQCgUAgEJQeTG16aEf5AE/sXlveOH5soLzRaMwoL2z9fEl5o33T/vLG0Olvyxv94+PljUceXVXeGF02s7zRWDT1T90gEAgEAoFAIBAIBAKBQCAQCAQCgUAgEAgEAoFAIBAIBAKBQCAQCAQCgaD0YGp7R1v5AK2vt5Q3Ot/tLW+0dY2WN27Y1yxvNKa1lidu2Vz/exzo21LeGHig/mtZF2ZNljcq3CAQCAQCgUAgEAgEAoFAIBAIBAKBQCAQCAQCgUAgEAgEAoFAIBAIBAKBoPRgasto/deQXmirPxD6ZVdneWNPx2fljY5lz5Y3Tr59qLzRPa/+yOjx/q7yxncn3ilv3Di4urxR4QaBQCAQCAQCgUAgEAgEAoFAIBAIBAKBQCAQCAQCgUAgEAgEAoFAIBAIBKUHU0u/WFs+wI+ntpU3xieHyxudO9eXN2afqv+/6V51e3lj6PSR8kb7h8+VN5YsrD+Ge2z4cHmjwg0CgUAgEAgEAoFAIBAIBAKBQCAQCAQCgUAgEAgEAoFAIBAIBAKBQCAQCEoPpmbOPV8+wIyW+qOalQvuL290tB4tb+wd2VfeWLr1rvLGHQd7yhsL1h8ob/SNfF/eeH7PM+WNzYum/q0bBAKBQCAQCAQCgUAgEAgEAoFAIBAIBAKBQCAQCAQCgUAgEAgEAoFAIBC0NJvN5qU+BFyu3CAQCAQCgUAgEAgEAoFAIBAIBAKBQCAQCAQCgUAgEAgEAoFAIPgPmKyh/rjHFH0AAAAASUVORK5CYII=\", \"iVBORw0KGgoAAAANSUhEUgAAAMgAAADICAYAAACtWK6eAAAAOXRFWHRTb2Z0d2FyZQBNYXRwbG90bGliIHZlcnNpb24zLjguMywgaHR0cHM6Ly9tYXRwbG90bGliLm9yZy/H5lhTAAAACXBIWXMAAA9hAAAPYQGoP6dpAAAEvElEQVR4nO3dT2jXdRzH8d/mv5WMFZlpmKWoKzq40KguXULLwlCkIIpiREOtSCkYhJeIwA4lUcRESNAoMGJGfz2EgvTHYmBkUVoTJMdCIlLTBm6/Lh3jdfi9B4U8Hvfva58Nnvucvnzbms1mswH8q/b/+gDwfyYQCAQCgUAgEAgEAoFAIBAIBAKBQCAQCAQCgUAgEAgEAoFgauXhRXueLx/gwm+XlDcWP36ovPHTy7eWN7at3lXeGLhnVXnj/f3vlDcW791Q3mgbaytvTIbjm55u+Vk3CAQCgUAgEAgEAoFAIBAIBAKBQCAQCAQCgUAgEAgEAoFAIBAIBAKBQCCovTD11Gj5AD/2LyxvtHd2ljdmnqz/r7h35rnyxjO9s8sbk2F47fbyxg3bN5Y3rv3wdHmjsan1R90gEAgEAoFAIBAIBAKBQCAQCAQCgUAgEAgEAoFAIBAIBAKBQCAQCAQCgaD0wtT4W9PLB9i5YKC80du+vrzRaE6UJxbt7y1vzP26fo4pj9T/741Pwt/jSN9r5Y1F1z1W3qhwg0AgEAgEAoFAIBAIBAKBQCAQCAQCgUAgEAgEAoFAIBAIBAKBQCAQCASC0gtT7Wv+KB9gdKirvNH9+qnyxsrBofLGwLuryhud39V/l2VD95c35qw/W97oP/hReaNxfkp9o8ANAoFAIBAIBAKBQCAQCAQCgUAgEAgEAoFAIBAIBAKBQCAQCAQCgUAgEAhKL0wdfe7G8gFe+H5eeWPWNZeWN568bLi88Wpns7zRsaP+EtqVK06XN4b7l5U3bu8oTzRWLv+2PlLgBoFAIBAIBAKBQCAQCAQCgUAgEAgEAoFAIBAIBAKBQCAQCAQCgUAgEAgEpRemtq3eVT7A5g8eLm98s3ugvLHn7OXljfmfXChv/Lm5/oWpfSOHyxuPnphW3ujZurG8cebm8+WNxvLWH3WDQCAQCAQCgUAgEAgEAoFAIBAIBAKBQCAQCAQCgUAgEAgEAoFAIBAIBIK2ZrPZ8meRVrTfVz7A8Iu3lTcmptW/7LRzTf2lq613rStvNE+cLG+0LZxf3rjl7SPljc+XTi9vTMbLX+1zjrX+bPmnw0VMIBAIBAKBQCAQCAQCgUAgEAgEAoFAIBAIBAKBQCAQCAQCgUAgEAgEpS9MDf7yVfkAa+eVJxpH3yh8QugfZyY6yhtr3vuivNHXNVLeuHtpZ3nj0Lru8sa+kcHyxu/j58obVxSedYNAIBAIBAKBQCAQCAQCgUAgEAgEAoFAIBAIBAKBQCAQCAQCgUAgEAgEgtIXpha88lL5AL13HChvjI51lTc+PnhTeWPuZ/UvXU39a6K8cWDHjvJG984N5Y3xGfW/R/OqsfLG8QefbflZNwgEAoFAIBAIBAKBQCAQCAQCgUAgEAgEAoFAIBAIBAKBQCAQCAQCgUAgKH1havb1p8oH2DLrh/LGnVf3lDeWdBwub+w+9ml544GHnihvLNjbV95YsuXL8sbPb/aUNxq/zqhvFLhBIBAIBAKBQCAQCAQCgUAgEAgEAoFAIBAIBAKBQCAQCAQCgUAgEAgEAkHpC1NwsXODQCAQCAQCgUAgEAgEAoFAIBAIBAKBQCAQCAQCgUAgEAgEAoHgbwroqMYgOC+mAAAAAElFTkSuQmCC\", \"iVBORw0KGgoAAAANSUhEUgAAAMgAAADICAYAAACtWK6eAAAAOXRFWHRTb2Z0d2FyZQBNYXRwbG90bGliIHZlcnNpb24zLjguMywgaHR0cHM6Ly9tYXRwbG90bGliLm9yZy/H5lhTAAAACXBIWXMAAA9hAAAPYQGoP6dpAAAEwUlEQVR4nO3dzYuVdRzG4eecSYU0DUVCokhtnBkXSRSVrhIqhF4WIdnGCmnRC1ZmSRTYQhBaaGZEYQXZqlQKDIQhChMXQi4sHOhMhha9YJsQN9mM5+kfqHtxvkIh17V/7vNz4HOejT9Op23btgH+Ufe/PgD8nwkEAoFAIBAIBAKBQCAQCAQCgUAgEAgEAoFAIBAIBAKBQCC4ovLw4t07ygdou/X/bT+y51x5Y3LD1eWNdsFf5Y3ht6fLG+OffFjeePnsTeWNfV+sKm90pzvljVNbnh/888ufDpcxgUAgEAgEAoFAIBAIBAKBQCAQCAQCgUAgEAgEAoFAIBAIBAKBQCAQlC5Mdf+sX2bpzyxPNP2JXn2kub280Lvr3fLG6oNPlTcutv3yxvZrvi1vfNytX5gafueX8kazZfBHvUEgEAgEAoFAIBAIBAKBQCAQCAQCgUAgEAgEAoFAIBAIBAKBQCAQCAQCQenC1PS8i+UDrFj+Y3nj+q9L/4ymaZrm1NHyRDNy4OnyxujhyfLGUKf+vbfsyCPlje/WvVXeGO3W/6YV3iAQCAQCgUAgEAgEAoFAIBAIBAKBQCAQCAQCgUAgEAgEAoFAIBAIBAKBoNO2bTvow2vmP14+wL6T4+WNh+5eX9/49KvyxrZDD5Y3hi7Uf7Vr6hJcZBt75fvyRm/rSHmjvQRf4Wc2bh74WW8QCAQCgUAgEAgEAoFAIBAIBAKBQCAQCAQCgUAgEAgEAoFAIBAIBAKBQFD6aabe1rHyAVbsr2/Muafe+do5P5U3ttXvOjXXHp4qb8wcP17e6O28o7zRnzdd3uicr/96WIU3CAQCgUAgEAgEAoFAIBAIBAKBQCAQCAQCgUAgEAgEAoFAIBAIBAKBQCAo3UZZtvdc+QC9TVeWN75Z9355Y6qdUd64cdOx8sbQwoXljbOfLStv7B77oLzxzMHHyht3rjpZ3qjwBoFAIBAIBAKBQCAQCAQCgUAgEAgEAoFAIBAIBAKBQCAQCAQCgUAgEAgEpQtT01fNKh9g9kR949ajT5Y3tr/0XnljaO7c8kYzf155ot+vf+9tPPRoeWPk1YnyxpevLS9vNLcN/qg3CAQCgUAgEAgEAoFAIBAIBAKBQCAQCAQCgUAgEAgEAoFAIBAIBAKBQCDotG3bDvrw1G9Lywe4d8nK8kZv14ryxtjoz+WNC9sWlTcO7H2zvPHwdavKG93Zs8sbByeP1M/RdMobMxb9UPh84F8JBAKBQCAQCAQCgUAgEAgEAoFAIBAIBAKBQCAQCAQCgUAgEAgEAoGg9AtTO/8YLh+g90b9stPpB/aUN5Z+9ER5o7mvPnEpLjuN/3qivLHyhfrfY8360fLGmftnlDdOPzv4s94gEAgEAoFAIBAIBAKBQCAQCAQCgUAgEAgEAoFAIBAIBAKBQCAQCAQCgaD0C1OLd+0oH2Dt6mPljRM3lyeazqxZ5Y3f999Q3uh/vqC8cX5Jv7wx/OLx8sbk67eUNzpT9V+YOv3c5oGf9QaBQCAQCAQCgUAgEAgEAoFAIBAIBAKBQCAQCAQCgUAgEAgEAoFAIBAIBKULU3C58waBQCAQCAQCgUAgEAgEAoFAIBAIBAKBQCAQCAQCgUAgEAgEAsHfAjykD1GX4NUAAAAASUVORK5CYII=\", \"iVBORw0KGgoAAAANSUhEUgAAAMgAAADICAYAAACtWK6eAAAAOXRFWHRTb2Z0d2FyZQBNYXRwbG90bGliIHZlcnNpb24zLjguMywgaHR0cHM6Ly9tYXRwbG90bGliLm9yZy/H5lhTAAAACXBIWXMAAA9hAAAPYQGoP6dpAAAEyElEQVR4nO3dT2jXdRzH8f32hyirHURxdLHUVRQFkjQhd8j+iLMdLNoSMkvQEZVY0qGjBEbFIgIzjAjJS0Rg1gha0CmlEgwRanP9wQojiWzVMpe/bp3idfi9D454PO7f1z5se/6+pw+/RrPZbLYB/6n9Qh8A5jKBQCAQCAQCgUAgEAgEAoFAIBAIBAKBQCAQCAQCgUAgEAgEnZWHJ0/2lA9wx9s7yhtLtx8ub0w931feODL8QnljeOCh8sY7Y2+UN76e/bO8sfatJ8ob807WP8OPjW5v+VlvEAgEAoFAIBAIBAKBQCAQCAQCgUAgEAgEAoFAIBAIBAKBQCAQCAQCgUBQujD14LbH6yfor0+0NRrlia7p+mdFd/vF5Y2JB7rLG+1t9d9Hb9e88kZjtn6OK14/Xt5oG239UW8QCAQCgUAgEAgEAoFAIBAIBAKBQCAQCAQCgUAgEAgEAoFAIBAIBAKBQFC6MHXX0x+WD7Dng9vLGydGby5vLLr2VHlj47f121+XL/mlvNHRqH/uPfJ9/Xc6ef/L5Y3BvjXljQpvEAgEAoFAIBAIBAKBQCAQCAQCgUAgEAgEAoFAIBAIBAKBQCAQCAQCgUBQujC1b9+d5QPsH3mpvLFzYLi88djB98obO/ZuLm8s+PxceWN5Y6i80bP1THljyZMj5Y2poT3ljQpvEAgEAoFAIBAIBAKBQCAQCAQCgUAgEAgEAoFAIBAIBAKBQCAQCAQCgUBQujD112XN8gE2jD1c3uhe3VHeWHPJ2fLGtuW/lTd+758pbywYmCxvTO5aWd4YX/9ceWNw8p7yxruLWn/WGwQCgUAgEAgEAoFAIBAIBAKBQCAQCAQCgUAgEAgEAoFAIBAIBAKBQCAQlC5Mdc40ygfYveHV8sbq9X+XN5768YbyxuLhY+WNjmuWlje+eLGvvPHaulfKGyOLV5U32lYsqG8cbv1RbxAIBAKBQCAQCAQCgUAgEAgEAoFAIBAIBAKBQCAQCAQCgUAgEAgEAoFA0Gg2my1/TVT/umfLB+iani1vdB49Ud6Y2HldeePqZ74qb3yzpX5h6tbBI+WNsePXlzcaP3eVNyaGdpc3unqmWn7WGwQCgUAgEAgEAoFAIBAIBAKBQCAQCAQCgUAgEAgEAoFAIBAIBAKBQCAQlC5MnT+1rHyAtbfdW94YG3+zvHG2ea68seLTjeWN3vk/lTemV50ub7Q16t8eNvZd/eLW/umF5Y1NvYdaftYbBAKBQCAQCAQCgUAgEAgEAoFAIBAIBAKBQCAQCAQCgUAgEAgEAoFAIBB0Vh6+8ZP7ygcYPVi/7HTlgS3ljfaZufFZcXrvpeWNj34YL2/c8ujW8sZNu1aWN35dcr68sam39Wfnxn8FzFECgUAgEAgEAoFAIBAIBAKBQCAQCAQCgUAgEAgEAoFAIBAIBAKBQCAoXZhqb7T85VT/uqrzTHlj4ccd5Y35Y1+WNzYf+qy8sefA3eWN9/+4qLzRcbb+tz2zrH7Zqb3+xV+1n39hfzzMbQKBQCAQCAQCgUAgEAgEAoFAIBAIBAKBQCAQCAQCgUAgEAgEAoFAIGg0m836zRj4n/IGgUAgEAgEAoFAIBAIBAKBQCAQCAQCgUAgEAgEAoFAIBAIBALBP6uUoIAN4LwkAAAAAElFTkSuQmCC\", \"iVBORw0KGgoAAAANSUhEUgAAAMgAAADICAYAAACtWK6eAAAAOXRFWHRTb2Z0d2FyZQBNYXRwbG90bGliIHZlcnNpb24zLjguMywgaHR0cHM6Ly9tYXRwbG90bGliLm9yZy/H5lhTAAAACXBIWXMAAA9hAAAPYQGoP6dpAAAEwUlEQVR4nO3dT2jXdRzH8d+vzfyTSesiRWUm5pCVIhQLog6lkUREZUkLLKEwt4iG0SnoEHgqJWHUochgVIdadBAGEnmQFJoEzslE0ViFSdYhFMP026lbvA6/98CIx+P+ffGFH8/f5/Th226apmkB/+qqK/0C8F8mEAgEAoFAIBAIBAKBQCAQCAQCgUAgEAgEAoFAIBAIBAKBoLvy8HvT95dfYMfkA+WNpUO/lDemX7+tvNFq1ydWjJwpb+zZ90V5o+/AQHnj5mdPljdmXl5d3pja/mrHzzpBIBAIBAKBQCAQCAQCgUAgEAgEAoFAIBAIBAKBQCAQCAQCgUAgEAgEAkHpwtTnm+qXnS5uWFjeuHRmsrzRatUvTB17aqS8sfLcYHljNkz2j5Y3lr21pbxx/eSV/XyNEwQCgUAgEAgEAoFAIBAIBAKBQCAQCAQCgUAgEAgEAoFAIBAIBAKBQCAQlC5MHX/mmvILHHrynfLGmu7OvyD0jx2PfFze2P9n/f+m+/wsfKZqFhy4cKm8MfX0rvLG3I1zyhut1nDHTzpBIBAIBAKBQCAQCAQCgUAgEAgEAoFAIBAIBAKBQCAQCAQCgUAgEAgEAkG7aZqOP+Hz0LXPlV9gZGq8vDG45tHyxl+9t5Q3Tjwxr7yxfPSP8sa63d+WN756rf71sJl1XeWNwxveLW8svPGHjp91gkAgEAgEAoFAIBAIBAKBQCAQCAQCgUAgEAgEAoFAIBAIBAKBQCAQCASC0hemzgzcWX6BB8fuKG8s2Fzv/OArO8sb/d9tKm8c27SovNH01TcWXHesvPHJyN7yxpx2/dJVhRMEAoFAIBAIBAKBQCAQCAQCgUAgEAgEAoFAIBAIBAKBQCAQCAQCgUAgEJQuTC3++nT5BSbeHCtv7Pz91vrGb/WLWzc8Xr9k1O6qXxD6aWxleeOD1bvLG28svau8cfaFe8obh97v/FknCAQCgUAgEAgEAoFAIBAIBAKBQCAQCAQCgUAgEAgEAoFAIBAIBAKBQCAoXZia3rq4/ALrV60tb5zcury80f/w4fLG2c195Y2e6QvljfOn5pY3Vt1dnmideLu/vHG5u6m/SIETBAKBQCAQCAQCgUAgEAgEAoFAIBAIBAKBQCAQCAQCgUAgEAgEAoFAIBC0m6bp+EbK5dP1i0rLPt1S3miurl+q2XzfvvJG3/wfyxvD4wPljeVDB8sbs2F0Zn9548WTj5U3vrx3pONnnSAQCAQCgUAgEAgEAoFAIBAIBAKBQCAQCAQCgUAgEAgEAoFAIBAIBAKBoHRhavuR9eUX6Ok+V954ftFMeaP3s8HyxpI9F8sbc/ZOlDfGf/6+vLHiw5fKG0v2nC9vHN84r7xxamhbx886QSAQCAQCgUAgEAgEAoFAIBAIBAKBQCAQCAQCgUAgEAgEAoFAIBAIBAJBd+Xh0Y/Wll9gYnhXeWM2Ljv17qh/HerotpvKG7d/U/pJWq1Wq/XrpfoltJ6j9a92ndgwv7zRdaFd3qhwgkAgEAgEAoFAIBAIBAKBQCAQCAQCgUAgEAgEAoFAIBAIBAKBQCAQCASC0hem4P/OCQKBQCAQCAQCgUAgEAgEAoFAIBAIBAKBQCAQCAQCgUAgEAgEgr8BYlaopFZ3IU0AAAAASUVORK5CYII=\", \"iVBORw0KGgoAAAANSUhEUgAAAMgAAADICAYAAACtWK6eAAAAOXRFWHRTb2Z0d2FyZQBNYXRwbG90bGliIHZlcnNpb24zLjguMywgaHR0cHM6Ly9tYXRwbG90bGliLm9yZy/H5lhTAAAACXBIWXMAAA9hAAAPYQGoP6dpAAAEtElEQVR4nO3d32tXdRzH8TOnlmuOouiX9INMDS0oCjGQTApWlplZF1GgIQoqBAqNLkICLyKCyC4y6aaLFKzIJhhJeVFgqJBEZbUkamNUN4Wo1ZJtp38gXhd7D9zF43F/XnzYeH7P1YfT0bZt2wD/a9qFPgBMZQKBQCAQCAQCgUAgEAgEAoFAIBAIBAKBQCAQCAQCgUAgEAimVx5+c2BZ+QBrewbLG6tuuLu8MfjC4vLGZ+tfKW+sW/50eeOjz/eXN+777pHyxvT7h8obf2yo/29P7N424We9QSAQCAQCgUAgEAgEAoFAIBAIBAKBQCAQCAQCgUAgEAgEAoFAIBAIBAJB6cLUvi0Plg/w8sMzyhsX99U7P98zXt4YmYRPrQxsvqq8MRkOLzxQ3njgrvrlryv3nSxvNLsn/qg3CAQCgUAgEAgEAoFAIBAIBAKBQCAQCAQCgUAgEAgEAoFAIBAIBAKBQCAoXZj6+dHS403TNM2pNW+UNybDv+1oeWPpifXljZmnp8Zv1od/dZc3Pj7wTnljrK1fZKuYGv8NmKIEAoFAIBAIBAKBQCAQCAQCgUAgEAgEAoFAIBAIBAKBQCAQCAQCgUBQuvE079lj5QN8smJWeeP1h1aWNzrO/V3eOLP1svJGe2n9gtDQ6LnyRt97m8obz934T3ljbLT+G/5L4UNX3iAQCAQCgUAgEAgEAoFAIBAIBAKBQCAQCAQCgUAgEAgEAoFAIBAIBAKBoHRhamTl4vIBbppxpLzRdNY7/+B4f3njzmPryhtr5x8tb2y4fml5Y+bzHeWNL5e9Vd5Y/eOq8kaFNwgEAoFAIBAIBAKBQCAQCAQCgUAgEAgEAoFAIBAIBAKBQCAQCAQCgUAgKF2Y6ho8Uz7A9uH616H2HHq7vLHr9MLyxpzHTpY3Pm1mlzdO7VxS3vh6zavljUV7t5Y3FuwcKm80hQlvEAgEAoFAIBAIBAKBQCAQCAQCgUAgEAgEAoFAIBAIBAKBQCAQCAQCgUBQujA17c+z5QOcfaq7vPHk8D3ljYODx8sb/b0byxuzhut/0+6h+u9e32/3ljd6fipPNHuPvl8faV6b8JPeIBAIBAKBQCAQCAQCgUAgEAgEAoFAIBAIBAKBQCAQCAQCgUAgEAgEAoGgo23bdqIPj/8+r3yAFcsfL2/8sOXy8saO3vrFnN6u+teQrui8pH6Oa28vb0yGwXdvK290do6XN75f/eKEn/UGgUAgEAgEAoFAIBAIBAKBQCAQCAQCgUAgEAgEAoFAIBAIBAKBQCAQCASlL0zNPfxM+QCzXjpf3tixqH7ZafvBJ+ob5YWmuXnb0fLGoV+/Km+suKX+1a6Lvphd3ti0sb+8UeENAoFAIBAIBAKBQCAQCAQCgUAgEAgEAoFAIBAIBAKBQCAQCAQCgUAgEAhKF6Ymw7dL9pQ3eufcUd6Y3/VNeWNg14LyxmQ4MlL/KlNz3TXlibNzx8ob+2+9uryxeXTiz3qDQCAQCAQCgUAgEAgEAoFAIBAIBAKBQCAQCAQCgUAgEAgEAoFAIBAIBIKOtm3bC30ImKq8QSAQCAQCgUAgEAgEAoFAIBAIBAKBQCAQCAQCgUAgEAgEAoFA8B9uGZ4Uf9TPawAAAABJRU5ErkJggg==\", \"iVBORw0KGgoAAAANSUhEUgAAAMgAAADICAYAAACtWK6eAAAAOXRFWHRTb2Z0d2FyZQBNYXRwbG90bGliIHZlcnNpb24zLjguMywgaHR0cHM6Ly9tYXRwbG90bGliLm9yZy/H5lhTAAAACXBIWXMAAA9hAAAPYQGoP6dpAAAEoElEQVR4nO3dT2jXdRzH8e9vzsqV/SNIPAx0bo0RZuWhIDGKoj94tT8QdBAZu2TODgVJh4SoBmYwSOzmQQ91kA5ZjehWkRBI1hbbGFYKhUTgMJPfr1uneB1+7x8o4/G4f1/7br89973sw7fV6XQ6DfC/+q72DcC1TCAQCAQCgUAgEAgEAoFAIBAIBAKBQCAQCAQCgUAgEAgEAkF/5eK7T+wv38DFxVvKG8018g/7ux+bKW8c/vzR8sbpnYfKG19eurm8cWjTaHlj/p0HyxsLk3u7vtYTBAKBQCAQCAQCgUAgEAgEAoFAIBAIBAKBQCAQCAQCgUAgEAgEAoFAIBCUDkxdXOjBYacVZN/ts+WNw039wNT1rdLH2jRN0zw9cKm88f7q68obI+/Olzeaye4v9QSBQCAQCAQCgUAgEAgEAoFAIBAIBAKBQCAQCAQCgUAgEAgEAoFAIBAIBLWTNa36DcztnC5v7Dq7vbzx1amx8sbI8Ynyxo2/1v9mjf+yrbxxYP1n5Y1Pl74tbwwdGy9vVHiCQCAQCAQCgUAgEAgEAoFAIBAIBAKBQCAQCAQCgUAgEAgEAoFAIBAIBILSgan2mnb5Bv5q199kdG775fLGHc/V/1ZcXls/Qba8vlPeeG3dyfLGi5t3lDdm999V3ujFobwKTxAIBAKBQCAQCAQCgUAgEAgEAoFAIBAIBAKBQCAQCAQCgUAgEAgEAoFAUDow1bdc7+tCu37o6sKz95U3/ni4fujqpluXyxsb31xV3hh/9aHyxuJbo+WNTl/98Fer/utR4gkCgUAgEAgEAoFAIBAIBAKBQCAQCAQCgUAgEAgEAoFAIBAIBAKBQCAQCEoHpqZ2HC3fwOMf7ytvdB75u7zxwpZvyhtHZ7aVNzrffV3emDuytbxxz/BCeeP0qQ3ljaGP6m8ga17q/lJPEAgEAoFAIBAIBAKBQCAQCAQCgUAgEAgEAoFAIBAIBAKBQCAQCAQCgUDQ6nQ6Xb8GaMPBqV7ey9XVqk+MfPhneWP++dvKGwPn6t/M1J4PyhtvD28pb8xN31/eWNr9StfXeoJAIBAIBAKBQCAQCAQCgUAgEAgEAoFAIBAIBAKBQCAQCAQCgUAgEAgEgtKBqfb54fINPLnxgfLGTwc3lzeaVV3/GP6zZml1eePMxHR5Y+jYeHlj0976m66ufDFY3pgZO1He6Fv3c/fXlr86rGACgUAgEAgEAoFAIBAIBAKBQCAQCAQCgUAgEAgEAoFAIBAIBAKBQCCovWHqvfobptprr5Q3Fp86Ut7oxSGjXujFQaWTv31f3nhicGt5o29goLwx+8ZYeWNxz2TX13qCQCAQCAQCgUAgEAgEAoFAIBAIBAKBQCAQCAQCgUAgEAgEAoFAIBAIBIL+ysU3/F7v64dn6oed7j0wUd4Y/eRseePM63eWN1r9pY+kaZqmGTpeP/w1Oni+vPHjyz34efxTnijxBIFAIBAIBAKBQCAQCAQCgUAgEAgEAoFAIBAIBAKBQCAQCAQCgUAgEAgEpTdMwUrnCQKBQCAQCAQCgUAgEAgEAoFAIBAIBAKBQCAQCAQCgUAgEAgEgn8B4eycrIrJqXsAAAAASUVORK5CYII=\", \"iVBORw0KGgoAAAANSUhEUgAAAMgAAADICAYAAACtWK6eAAAAOXRFWHRTb2Z0d2FyZQBNYXRwbG90bGliIHZlcnNpb24zLjguMywgaHR0cHM6Ly9tYXRwbG90bGliLm9yZy/H5lhTAAAACXBIWXMAAA9hAAAPYQGoP6dpAAAEtklEQVR4nO3dwWvXdRzH8d9PJzQycwWhRAw3NoZFVFA5yC7JUjMIshoVsejQcoUhXqxb4q0ZtaIpYR46tLpIJIndpKiDUElZjq1RVAhBqVTYBvv2D8TrsLegh8fj/nvx2eG5z+nDt900TdMC/teyy30AuJIJBAKBQCAQCAQCgUAgEAgEAoFAIBAIBAKBQCAQCAQCgUAg6Kj8eN3r4+UDvPHg4fLGW4Mbyxtn9vSWN8aGjpc3Dh/aXN44+PxEeeOaZfPljZFXdpU3rjv0RXnj08UPl/xbNwgEAoFAIBAIBAKBQCAQCAQCgUAgEAgEAoFAIBAIBAKBQCAQCAQCgUAgKD2YWv1Du3yAN1++o7xx7qH6Y6e+PV+VN3YN/1jeOD5xsryxYffy8kar1Vle+OOW+qdnLuwdLG9UuEEgEAgEAoFAIBAIBAKBQCAQCAQCgUAgEAgEAoFAIBAIBAKBQCAQCAQCQbtpmiW/alk821c+wNzCX+WN84sryhsPH9lZ3rgU+t89V9745Nj75Y3eqdHyxuxjk+WN6YW/yxsDN/225N+6QSAQCAQCgUAgEAgEAoFAIBAIBAKBQCAQCAQCgUAgEAgEAoFAIBAIBAJB6QtTW7Y+Xj7Ax0ffK29se+DJ8sbis4vljeX/1P/fTI+sLm+cuFieaF31e/1vuRSPri6FucJbODcIBAKBQCAQCAQCgUAgEAgEAoFAIBAIBAKBQCAQCAQCgUAgEAgEAoFAICg9mJp+alX5AP1TO8obHdvb5Y13hg6WN65uz5c3njgyVt7Y13NbeePi/voDstOPTpQ31n/wQnmjwg0CgUAgEAgEAoFAIBAIBAKBQCAQCAQCgUAgEAgEAoFAIBAIBAKBQCAQCEoPprq+qz9UOrn37fLG9tlN5Y2ejvPljdHue8obA2vmyhuDp+qfmHqus/7lr/VT9cdOi531h1sVbhAIBAKBQCAQCAQCgUAgEAgEAoFAIBAIBAKBQCAQCAQCgUAgEAgEAoFAUHow1XGxKR9g6JGR8kb786/LG5te213e6Hqm/oDsQl95otUMX1veODp+c3ljzZflidbZDZf3f7gbBAKBQCAQCAQCgUAgEAgEAoFAIBAIBAKBQCAQCAQCgUAgEAgEAoFAIBC0m6ZZ8qunX39ZWz7ASPfG8saWb/8sbxz8vv51qH9/XlnemB2eLG9s7r6rvNEszJc3pg/cWd6Y2XagvLFi7eySf+sGgUAgEAgEAoFAIBAIBAKBQCAQCAQCgUAgEAgEAoFAIBAIBAKBQCAQCASlL0x9M399+QAz43eXN17sqj8ymjy9pbzRWln/4tbWgXvLG8d+OlHeuP/G28sb/aMn6xv7d5Q35nYu/bduEAgEAoFAIBAIBAKBQCAQCAQCgUAgEAgEAoFAIBAIBAKBQCAQCAQCgUBQejA19tHT5QN8tv3V8sbmdfeVN3pWzZQ3zrzUW95o3VB/hNY7NVre6O88Vd6Y3ndreaNVf4NW4gaBQCAQCAQCgUAgEAgEAoFAIBAIBAKBQCAQCAQCgUAgEAgEAoFAIBAIBO2maS7zkxS4crlBIBAIBAKBQCAQCAQCgUAgEAgEAoFAIBAIBAKBQCAQCAQCgUDwHxfrony5Tj6hAAAAAElFTkSuQmCC\", \"iVBORw0KGgoAAAANSUhEUgAAAMgAAADICAYAAACtWK6eAAAAOXRFWHRTb2Z0d2FyZQBNYXRwbG90bGliIHZlcnNpb24zLjguMywgaHR0cHM6Ly9tYXRwbG90bGliLm9yZy/H5lhTAAAACXBIWXMAAA9hAAAPYQGoP6dpAAAExElEQVR4nO3dQWjWdRzH8eeZWhIlRSAm0lI3xQiUghqVCWGkl1QypEMHD+IKwoPQpQxnUIhhSBCDoJuFUhBGgWBEQ2qEKYRm6lSwg6tZlxq12fbv1ik+h+c7KOT1uv8//Hjgvd9lf/7tpmmaFvCvuv7rA8D/mUAgEAgEAoFAIBAIBAKBQCAQCAQCgUAgEAgEAoFAIBAIBILZlYf3n32ifICJ6TnljfeOrC1vTM2t/9f/yLOD5Y31S/rKGx+NDJU3TkzeVN54fctz5Y329anyxtGTAx0/6waBQCAQCAQCgUAgEAgEAoFAIBAIBAKBQCAQCAQCgUAgEAgEAoFAIBAIBKUXpt4+uq58gN4Pxssbi+ZNljfmHD9d3hjaVJ5oXd12f3njlq7h8sZjc8sTrRcfua28seDA1/WDFLhBIBAIBAKBQCAQCAQCgUAgEAgEAoFAIBAIBAKBQCAQCAQCgUAgEAgEAkG7aZqOP600PdpbPsBEc728MTY1Ud7ov/RMeePsqe7yxvKBs+WNT858Ud5YdviF8sbFLfUvbs2ErgUXOn92Bs8BNxyBQCAQCAQCgUAgEAgEAoFAIBAIBAKBQCAQCAQCgUAgEAgEAoFAIBCUvjC1vufh8gEGznxZ3nh12ePljZ+2LS5vdHV3/O7ZP87vWlHeuPLXp+WN+d+UJ1pLuvrLGxc2v1PeqNwCbhAIBAKBQCAQCAQCgUAgEAgEAoFAIBAIBAKBQCAQCAQCgUAgEAgEAoFAUHphavq+peUDLJ/zeXljbOsD5Y1Tr9RfzFl6qP6C0Ey8qNS/89HyxrW97fLG7Yt/LW/MxJeuLu/o/Fk3CAQCgUAgEAgEAoFAIBAIBAKBQCAQCAQCgUAgEAgEAoFAIBAIBAKBQCAovTA1vme8fICtl54qb3z48r7yxsfjC8obs/6sv2R0x8mx8sa5t/rKG4c3Hihv7Fq5trwx/u7N5Y0KNwgEAoFAIBAIBAKBQCAQCAQCgUAgEAgEAoFAIBAIBAKBQCAQCAQCgUAgKL0wNXp6fvkA8/ZcK2/0/7a6vHH4x6/KG3d+15Q3rmys/6Y9h34vbyx8erK8cW73veWNzcuGyxsVbhAIBAKBQCAQCAQCgUAgEAgEAoFAIBAIBAKBQCAQCAQCgUAgEAgEAoFA0G6apuO3fKZHe8sHeHLhqvLG+cEHyxvH1u8vb2z4dnt543TfwfLGuu7679GeVf/beW7vqvLG0KY3yxt3L7ra8bNuEAgEAoFAIBAIBAKBQCAQCAQCgUAgEAgEAoFAIBAIBAKBQCAQCAQCgUBQemGqe3Bf+QBdE/VG71rxc3lj9Ez9y05NuzzRWr77+/LGZz8MlTd6Dj5f3mhm1b+41ZqB3/Tyjp0dP+sGgUAgEAgEAoFAIBAIBAKBQCAQCAQCgUAgEAgEAoFAIBAIBAKBQCAQCASzKw8/tHKkfIA3Fh0pb/Tfs7q80XvrWHmj7/gv5Y33/1hT3lhyrKe80fvScHlj4OKJ8sZrazaUN1o7On/UDQKBQCAQCAQCgUAgEAgEAoFAIBAIBAKBQCAQCAQCgUAgEAgEAoFAIBAISl+YghudGwQCgUAgEAgEAoFAIBAIBAKBQCAQCAQCgUAgEAgEAoFAIBAIBH8DJkKuQY5oehgAAAAASUVORK5CYII=\", \"iVBORw0KGgoAAAANSUhEUgAAAMgAAADICAYAAACtWK6eAAAAOXRFWHRTb2Z0d2FyZQBNYXRwbG90bGliIHZlcnNpb24zLjguMywgaHR0cHM6Ly9tYXRwbG90bGliLm9yZy/H5lhTAAAACXBIWXMAAA9hAAAPYQGoP6dpAAAEgElEQVR4nO3dy4uWZQDG4RmzsSxbSISEFDaTnUPpJEIgbRQkMOgEghARWaA4OC0irF2LwKxNThsLITIpikiIgqBFqQiBu2hGdNdCOphRmI1f/0Dci7k/UOS69u/tOw4/n40P7+hgMBiMAP9rwcV+AbiUCQQCgUAgEAgEAoFAIBAIBAKBQCAQCAQCgUAgEAgEAoFAIFjYPLzi7d39G1xG/9l+/6Z36o0tn71Yb5x4erreGIYNN91fb8y80W+c3LFz3s86QSAQCAQCgUAgEAgEAoFAIBAIBAKBQCAQCAQCgUAgEAgEAoFAIBAIBAJBdWHqUrnsdMU/o/XG3Fj/w6we+7feGIZzg/P1xqLRK+uNU7serDdW7jpeb4zsmP+jThAIBAKBQCAQCAQCgUAgEAgEAoFAIBAIBAKBQCAQCAQCgUAgEAgEAoFA0F2YGkJePz3Rf5Vp5cH+q0wj/Z2rkXsObq83JqaO1Rufbryh3li84Fy98eNz/e92/Lqt9UbDCQKBQCAQCAQCgUAgEAgEAoFAIBAIBAKBQCAQCAQCgUAgEAgEAoFAIBAIqgtTE5NH6xf48/H+Ys7E5JF6Y3bPmnpj7Ez/780vz/ZfZXrs2v7vY93Utnpj8oF64qJzgkAgEAgEAoFAIBAIBAKBQCAQCAQCgUAgEAgEAoFAIBAIBAKBQCAQCASC6sLU7O6H6hdY/Um/cfXLfecnnuq/hnT3kc31xvWH+k9dbbr9kXrj9Gv1xFC+2nWxOUEgEAgEAoFAIBAIBAKBQCAQCAQCgUAgEAgEAoFAIBAIBAKBQCAQCAQCQXVhas+j++sXmPxiS73x9/K5euO3ub/69zi1pN4YOf5DPbHvxDf1xq8Xvqo3nnx3Z70xjN9twwkCgUAgEAgEAoFAIBAIBAKBQCAQCAQCgUAgEAgEAoFAIBAIBAKBQCAQCEYHg8Fgvg+veGv3EF6gnhgZDOFLRoOF/Yvc8fqpemNm+y31xtxV/c8yGOs3bps+U28smT5db3y8dnrezzpBIBAIBAKBQCAQCAQCgUAgEAgEAoFAIBAIBAKBQCAQCAQCgUAgEAgEAkF1Yercz/3lnvXPPF9vvLp3X71x59jZemPtgal6Y3bz3npj4oMX6o3xlw7XG4u+XVZvfH7rl/XGgmUz83+2/tPhMiYQCAQCgUAgEAgEAoFAIBAIBAKBQCAQCAQCgUAgEAgEAoFAIBAIBILqwtTqQ6/UL/DH2cX1xsy69+uN8QNb642JqWP1xoWH7603vv7wvXpj/Y2r6o1hmH1zTb1xcsfOeT/rBIFAIBAIBAKBQCAQCAQCgUAgEAgEAoFAIBAIBAKBQCAQCAQCgUAgEAgEC5uHf59ZWr/AtvX9F4Q23reh3rj5rvP1xsy+VfXG0u/G6o3xj4Zw+Wv0aL2x/PA19cbs9/VExQkCgUAgEAgEAoFAIBAIBAKBQCAQCAQCgUAgEAgEAoFAIBAIBAKBQCAQCKovTMHlzgkCgUAgEAgEAoFAIBAIBAKBQCAQCAQCgUAgEAgEAoFAIBAIBIL/AH+XmvgyDf3FAAAAAElFTkSuQmCC\", \"iVBORw0KGgoAAAANSUhEUgAAAMgAAADICAYAAACtWK6eAAAAOXRFWHRTb2Z0d2FyZQBNYXRwbG90bGliIHZlcnNpb24zLjguMywgaHR0cHM6Ly9tYXRwbG90bGliLm9yZy/H5lhTAAAACXBIWXMAAA9hAAAPYQGoP6dpAAAErUlEQVR4nO3d36vfcwDH8e/ZOdPU/Apl82NpZrOlpihyQ5vGGJMf25Ufd35sFCVuXCs/LmgNN1ai2UqaFEk4MgmXWxsz09AKaTpt8uN8/AN6XZzXZOnxuP+8zrtTz/O5Oe8+Y8MwDCPgH836rw8AxzOBQCAQCAQCgUAgEAgEAoFAIBAIBAKBQCAQCAQCgUAgEAgEE83DN360oT7Alafvqze2vLKq3vj91P6//qdP6DeWPH2w3nhh52v1xjkTc+uNVfOX1xvHwrvT22f8rDcIBAKBQCAQCAQCgUAgEAgEAoFAIBAIBAKBQCAQCAQCgUAgEAgEAoFAIKguTO3fsbA+wIE/+o1zPz5cbwxf7Ko3Xj74cb1x52Mr6o1HDq6pN149//16Y98zl9cbp+0aqzca3iAQCAQCgUAgEAgEAoFAIBAIBAKBQCAQCAQCgUAgEAgEAoFAIBAIBAKBYGwYhhl/FumzbxfUB7j9jQfqjWGi/7LTvEU/1hs/HDij3rjo0b31xpu7+stOF267r974et3z9cZ7R8frjWvO3zPjZ71BIBAIBAKBQCAQCAQCgUAgEAgEAoFAIBAIBAKBQCAQCAQCgUAgEAgEAkH1hal1r/eXnXavf67euHnZynrj5zVL641Zl/QXt/Y+flG9MTW8XW8s3H603xjdU28M4/3v9MCGmT/rDQKBQCAQCAQCgUAgEAgEAoFAIBAIBAKBQCAQCAQCgUAgEAgEAoFAIBAIqgtTw1h/gKXbNtYbZ97Qn2PnE5vqjbeOzK03HtpxR71x6/p76439t86pN47FF6Yu+OCueqPhDQKBQCAQCAQCgUAgEAgEAoFAIBAIBAKBQCAQCAQCgUAgEAgEAoFAIBAIqgtTE0f7G1N7795cb1y1bG29MT3qv2S0adGF9cbiBd/XG4dfmF1vfLqsv0B2/WW31RuzNp5Yb1Q//z/96XCcEwgEAoFAIBAIBAKBQCAQCAQCgUAgEAgEAoFAIBAIBAKBQCAQCAQCQXVh6uR9/QFWzV9eb8yZ+K7eWPLk/fXGvFv6S1dHzuz/Zg07+otsp1zcf2Fqz8Pn1Rujsf532vAGgUAgEAgEAoFAIBAIBAKBQCAQCAQCgUAgEAgEAoFAIBAIBAKBQCAQCATVhamp1VP1AYbxK+qNX1cc6c/xU38xZ+rs8Xpj7upD9cYvH55Vb1zy7MZ6Y3rBn/XGUyu31huj0cMzftIbBAKBQCAQCAQCgUAgEAgEAoFAIBAIBAKBQCAQCAQCgUAgEAgEAoFAIBCMDcMw45tC04cW1QeY/K2eGE1OLak3Prlpcb2xd8O8emP+5HS9Mbn5xXrjumvX1xvD7v4TZF89eWm98c2DLkzBv0IgEAgEAoFAIBAIBAKBQCAQCAQCgUAgEAgEAoFAIBAIBAKBQCAQCATVF6YWbr2nPsBLa5+vN7a8c3W9MfuOsXpjmNVfdjrp8+/qjb+G/hyjLw/UE8fistOo//BXxRsEAoFAIBAIBAKBQCAQCAQCgUAgEAgEAoFAIBAIBAKBQCAQCAQCgUAgEFRfmIL/O28QCAQCgUAgEAgEAoFAIBAIBAKBQCAQCAQCgUAgEAgEAoFAIBD8DVLGrCBHQkX9AAAAAElFTkSuQmCC\", \"iVBORw0KGgoAAAANSUhEUgAAAMgAAADICAYAAACtWK6eAAAAOXRFWHRTb2Z0d2FyZQBNYXRwbG90bGliIHZlcnNpb24zLjguMywgaHR0cHM6Ly9tYXRwbG90bGliLm9yZy/H5lhTAAAACXBIWXMAAA9hAAAPYQGoP6dpAAAEjklEQVR4nO3dy4uWZQDG4fnUUssKy0Xn0LSUzoJhEARRFFaoBKUDbYQOYJZluGvbQTtgFrVp0yKpRUdbmPtqYRCBpqUWWCS6kA5QpDNf/0Dci7kHRuK69u/to/L73tXDOxgOh8MR4D9Nm+oDwOlMIBAIBAKBQCAQCAQCgUAgEAgEAoFAIBAIBAKBQCAQCAQCwYzm4QU7nqsPMDw+s94YGe8nJsNNyw7WGwc+vqre+Oap1+uNybDikqX9yPLr64ndXzw74We9QSAQCAQCgUAgEAgEAoFAIBAIBAKBQCAQCAQCgUAgEAgEAoFAIBAIBAJBdWFq5OgkXHYa9BOzj/Wd/z2vv3W1Y8GuemPJhQvrjRPjf9Ub86afXW8cfvGWemP+J/3fpeENAoFAIBAIBAKBQCAQCAQCgUAgEAgEAoFAIBAIBAKBQCAQCAQCgUAgEAiqC1N712yvD/Db+D/1xvIPn643BmP9za3F76/vN7b9XG/MWjO93rjyvcfqjUMPvVlvzD/nkXqj4Q0CgUAgEAgEAoFAIBAIBAKBQCAQCAQCgUAgEAgEAoFAIBAIBAKBQCAQCKoLU9e980R9gF2jW+uNRRv31BsHX1pWb5x7uP+9OfDkpfXGnGmz6o25+/oLZJNx6Wqqf8Gn+s+H05pAIBAIBAKBQCAQCAQCgUAgEAgEAoFAIBAIBAKBQCAQCAQCgUAgEAiqC1NjM4f1AbYeu6Pe+GXz0nrj8/u31Bsrv3603lg0eqjeuOfVFfXGiU39/+1wer8xGV/+aniDQCAQCAQCgUAgEAgEAoFAIBAIBAKBQCAQCAQCgUAgEAgEAoFAIBAIBILqwtSWe9+tD3D77KP1xu5139Ubn/55bb0x+PK8emN46lS9sf+Zy+uNHau21xujH2yoNwYnXZiC05ZAIBAIBAKBQCAQCAQCgUAgEAgEAoFAIBAIBAKBQCAQCAQCgUAgEAiqC1Obd45O1jkqi185Um/s33RZvXH1zuP1xvfPL6s3Rob9l51eONJ/peqKz07WG4fXTO1vuDcIBAKBQCAQCAQCgUAgEAgEAoFAIBAIBAKBQCAQCAQCgUAgEAgEAoFAIBgMhxO/XTN+dFF9gLsuvrHe2PrTV/XG6o821hsz/ui/hrRv3Rv1xjVvr683Tp3VX7oamzNebxy8761644yLDk34WW8QCAQCgUAgEAgEAoFAIBAIBAKBQCAQCAQCgUAgEAgEAoFAIBAIBAKBQFBdmJq/7eXJPMuE7X+gv2S08s619caBh8+vNwZj9cTI3rXb643VN9xdb/x+28J649db+0toPz65acLPeoNAIBAIBAKBQCAQCAQCgUAgEAgEAoFAIBAIBAKBQCAQCAQCgUAgEAgEghnNw4P+A0Ij3z74Wr2x6uZV9cYPGy6oN4Zn9v8gCzfsqTeWzHy83lg893i9MRmXnUb6D11VvEEgEAgEAoFAIBAIBAKBQCAQCAQCgUAgEAgEAoFAIBAIBAKBQCAQCAQCQfWFKfi/8waBQCAQCAQCgUAgEAgEAoFAIBAIBAKBQCAQCAQCgUAgEAgEAsG/nq6awDMBbUsAAAAASUVORK5CYII=\", \"iVBORw0KGgoAAAANSUhEUgAAAMgAAADICAYAAACtWK6eAAAAOXRFWHRTb2Z0d2FyZQBNYXRwbG90bGliIHZlcnNpb24zLjguMywgaHR0cHM6Ly9tYXRwbG90bGliLm9yZy/H5lhTAAAACXBIWXMAAA9hAAAPYQGoP6dpAAAEvUlEQVR4nO3dT2jXdRzH8d/+4LQkjAL/YTXXVLxoB22V1aUwPEiRiUFBEMy2/qCtQ8fO1SpahJTHoqIisRpEBLOiEsw/FKKUuqiJ/SHpornk9+sUXeJ1+L0Hhjwe9+9rH8ae+54+fDtarVarAfynzgt9APg/EwgEAoFAIBAIBAKBQCAQCAQCgUAgEAgEAoFAIBAIBAKBQNBdefjqV54pH6DzbL3RxRPN8sbUrfVzNC//q7yx8qlfyhtHti0ub/Sv+rG88d3BJeWNjhm4jHF8+0jbz3qDQCAQCAQCgUAgEAgEAoFAIBAIBAKBQCAQCAQCgUAgEAgEAoFAIBAIBILShamen0uPNxqNRuP83Pplpz966+dYMTZV3tj9+XvljWWnh8sbezeNljeu7Lq0vNF38KHyxtqBo+WNCm8QCAQCgUAgEAgEAoFAIBAIBAKBQCAQCAQCgUAgEAgEAoFAIBAIBAKBQFC6abTjvh3lA9w8+3x5Y+DAlvLGhsH95Y3lEw+WNxZ+Uf+k0v6N88obO0/dUt44tqX+99G7e7C80bih/Ue9QSAQCAQCgUAgEAgEAoFAIBAIBAKBQCAQCAQCgUAgEAgEAoFAIBAIBAJBR6vVavuGzu2d95QP8NHJg+WN9YtWlze+f36gvHHt9q/KG+c2rClvTOx8tbxx/ZND5Y3frqtf/jq8eay8MWfhZNvPeoNAIBAIBAKBQCAQCAQCgUAgEAgEAoFAIBAIBAKBQCAQCAQCgUAgEAgEgtKFqd4XRssHaM2qX6qZc7KrvPHB1qfLG2da9XM8vnRdeaN70YLyxtFtS8obn21+trxx066R8sbkI0+0/aw3CAQCgUAgEAgEAoFAIBAIBAKBQCAQCAQCgUAgEAgEAoFAIBAIBAKBQCDorjw8f2/9AKdu7Chv7B1+rryxes+j5Y2uydnljWuaX5Y3jozULzvtubt+2emBq+qXv/o/mSpvVHiDQCAQCAQCgUAgEAgEAoFAIBAIBAKBQCAQCAQCgUAgEAgEAoFAIBAIBILSF6bumD9cPsCJof7yxvS8ZnljJvT8Xv9/0zVdP8eZBfXfx23rDpU3ftp4WXnj7X3vlzfmLvqh7We9QSAQCAQCgUAgEAgEAoFAIBAIBAKBQCAQCAQCgUAgEAgEAoFAIBAIBAJB6QtT44c+Lh+g782+8sYbd42VN+7dVf/C1Lkr6heV9m2qfy1rzacPlzcm154tbxx7fUV545LOWeWNCm8QCAQCgUAgEAgEAoFAIBAIBAKBQCAQCAQCgUAgEAgEAoFAIBAIBAKBQFD6wlTvi6PlAzR76peMVq1s/wtC//jm697yxkxYvuPX8sb4xLvljf7Xhsobze62/7T+NQP/wk88NnIhfzxcvAQCgUAgEAgEAoFAIBAIBAKBQCAQCAQCgUAgEAgEAoFAIBAIBAKBQFD6wtSs0/W+vh18ubyx7K3h8kbndEd54/D9L5U31o8PljeWvrO1vNH34Z/ljeN39pQ3GvX7dCXeIBAIBAKBQCAQCAQCgUAgEAgEAoFAIBAIBAKBQCAQCAQCgUAgEAgEAoGg9IUpuNh5g0AgEAgEAoFAIBAIBAKBQCAQCAQCgUAgEAgEAoFAIBAIBAKB4G8Ykqwuks2VLgAAAABJRU5ErkJggg==\", \"iVBORw0KGgoAAAANSUhEUgAAAMgAAADICAYAAACtWK6eAAAAOXRFWHRTb2Z0d2FyZQBNYXRwbG90bGliIHZlcnNpb24zLjguMywgaHR0cHM6Ly9tYXRwbG90bGliLm9yZy/H5lhTAAAACXBIWXMAAA9hAAAPYQGoP6dpAAAEvklEQVR4nO3dT2jXdRzH8d9vK3HCJLBoitLClqjRXwkTwhCyFNJTWiCSB2GHIGzRHwgkiC6pGJFKCXUwMOk0TaJBq6DDoAhPbU5BTS2yi5Rhte3brVO8Dr+3UcTjcf+8+Bz2/H1PH9ZumqZpAX+r69++APyXCQQCgUAgEAgEAoFAIBAIBAKBQCAQCAQCgUAgEAgEAoFAILiucrh/367yBRaMlidacz89WR/pu7E8MbF9Xnlj4ehMeeP8mvrv3slN+8obG1ZuKG9cuXN+eeOLo893fNYXBAKBQCAQCAQCgUAgEAgEAoFAIBAIBAKBQCAQCAQCgUAgEAgEAoFAIBCUHkwtOXC5fIHLy28ob5wdXFreuOXgZHlj5/r6668P3nigvDH85pHyRne7p7wxvmNheeOFdcPljVbLgyn4RwgEAoFAIBAIBAKBQCAQCAQCgUAgEAgEAoFAIBAIBAKBQCAQCAQCgaD0YGr8md7yBbp+KU+05i/9obwxsbz+uGdz7/HyxuGrv5U3ls+qP3ZafGSwvHH6iQPljQ2Tj5Y3Bpd0ftYXBAKBQCAQCAQCgUAgEAgEAoFAIBAIBAKBQCAQCAQCgUAgEAgEAoFAIBC0m6ZpOj28dtaT5QsMfjte3tg/cFt549SeleWNa6Hr93Z5Y8u6z8sbhz5eXd6YmdXxn9ZfBu76rrzxyUN7Oz7rCwKBQCAQCAQCgUAgEAgEAoFAIBAIBAKBQCAQCAQCgUAgEAgEAoFAIBAISv9h6sKO+8sXGDq2orwxcN/P5Y2ZOTPljXbPVHnj5uHryxtjr/eVN7p2lCda41v2lTe629fiN3xvxyd9QSAQCAQCgUAgEAgEAoFAIBAIBAKBQCAQCAQCgUAgEAgEAoFAIBAIBAJB6cHUovcmyxc4fmKkvPHlxvpjp21j28obM+fnlDd6P/qmvDFxcGl546vVu8sby94dKm+8tun98sbjhbO+IBAIBAKBQCAQCAQCgUAgEAgEAoFAIBAIBAKBQCAQCAQCgUAgEAgEAoGg9GBq4qXF5Qs8suBSeePUnpXljfHNb5U3Vr38dHlj8tW7yxvd59rljecurC1vTPc05Y1Vsy+WNyp8QSAQCAQCgUAgEAgEAoFAIBAIBAKBQCAQCAQCgUAgEAgEAoFAIBAIBAJB6cHUtXB6V/2x0871H5Y37hnbWt64smqqvNG+Wv/Nmnei/mDqs9l3lDeW3HuuvDHya39546nCWV8QCAQCgUAgEAgEAoFAIBAIBAKBQCAQCAQCgUAgEAgEAoFAIBAIBAKBQFB6MPX2xnfKF9h+bHt5Y+vcn8obr5zpLW90T9cfKt1+sP4ft46P1h+QLT48WN6YXvN9eePhs2fKGxW+IBAIBAKBQCAQCAQCgUAgEAgEAoFAIBAIBAKBQCAQCAQCgUAgEAgEAoGg3TRN0+nhW/fuLl9g92OHyhtDR7eUNxaNTJc32s/+WN6Y2t9X3rj4YP3h1k1flydal1bUN/qP/lHeGB15seOzviAQCAQCgUAgEAgEAoFAIBAIBAKBQCAQCAQCgUAgEAgEAoFAIBAIBAKBoPRgCv7vfEEgEAgEAoFAIBAIBAKBQCAQCAQCgUAgEAgEAoFAIBAIBAKBQPAnwrOiGBVS0gYAAAAASUVORK5CYII=\", \"iVBORw0KGgoAAAANSUhEUgAAAMgAAADICAYAAACtWK6eAAAAOXRFWHRTb2Z0d2FyZQBNYXRwbG90bGliIHZlcnNpb24zLjguMywgaHR0cHM6Ly9tYXRwbG90bGliLm9yZy/H5lhTAAAACXBIWXMAAA9hAAAPYQGoP6dpAAAE0UlEQVR4nO3dT2jXdRzH8e9vTTHMDiJZaPivuTQpqUOBMCHoMkgwq0MZUYLMgtCUDh0KDDwElVCEdOhQlpRWYCaFFHiIUgIjJMv579Cy2IRFpZls326d4nX4vQM9PB7372sftj35nj58O23btg3wn3ou9wHgSiYQCAQCgUAgEAgEAoFAIBAIBAKBQCAQCAQCgUAgEAgEAoGgt/Lw2kPrygf48qul5Y3eC53yxvyP/yxvDG8o/TqbpmmanrGp5Y2XV71V3lg1/Xx5Y/C2e8obE6Oj5Y0Dk7u7ftYbBAKBQCAQCAQCgUAgEAgEAoFAIBAIBAKBQCAQCAQCgUAgEAgEAoFAIBCUbvj8H5edZh2pX3Y6t7z+iZOTa6aXN56784Pyxgv77ytvXNWZLG9cbC+VNybGxsobPctuLm+Ufv5l/elwhRMIBAKBQCAQCAQCgUAgEAgEAoFAIBAIBAKBQCAQCAQCgUAgEAgEAkGnbduubxtN/tJXPsDCA4+XN5bOO1veGDtfvzA1+sOs8kb/tuHyxv7vPi9vfHJ+Wnmjb8q58sbgns3ljVObut/wBoFAIBAIBAKBQCAQCAQCgUAgEAgEAoFAIBAIBAKBQCAQCAQCgUAgEAgEpS9MDWxYXz7A4ddeKW88fOOK8sbMvoX1jd76BaEfn61fQnvodP0LU8d2LSlvzLn/dHljxk3j5Y0KbxAIBAKBQCAQCAQCgUAgEAgEAoFAIBAIBAKBQCAQCAQCgUAgEAgEAoFAULow9fuc0uNN0zTNpe4/cPWv39beVd74+sUd5Y1F7w2VN7YO7i5vPL/vgfLGlJnliebYt/PKG/OX/Vw/SIE3CAQCgUAgEAgEAoFAIBAIBAKBQCAQCAQCgUAgEAgEAoFAIBAIBAKBQCDotG33N5a2Hr23fIA3D64sbxxZvb28cceup8sbfTvHyxudC3+XN7Z99m55Y0qn/pWqZ1Y+WN44/uTc8sbJLd3/bb1BIBAIBAKBQCAQCAQCgUAgEAgEAoFAIBAIBAKBQCAQCAQCgUAgEAgEAkHpwtSC7S+VD9C/bbi8cWZDf3lj9sBIeaN3a/2zTCMrry5vzNs3Xt44/ui15Y2+d/4ob3y6d2d5o+f67v/HvEEgEAgEAoFAIBAIBAKBQCAQCAQCgUAgEAgEAoFAIBAIBAKBQCAQCAQCQenC1MhPN5QPsO7uR8obb3zxdnnjqTOryxsb5x4obwxMK080C/auL28sHjpc3hj58Jbyxl+nZ5Q3Tm3a3PWz3iAQCAQCgUAgEAgEAoFAIBAIBAKBQCAQCAQCgUAgEAgEAoFAIBAIBAKBoLfy8IqPtpQPcOzgq+WNJXvq5+hMlCeax75ZVN6Yc3CyvHHi9R3ljcGh28sbF0/Uv1I1MfNSeaPCGwQCgUAgEAgEAoFAIBAIBAKBQCAQCAQCgUAgEAgEAoFAIBAIBAKBQCAQlC5MLVo2Uj7A6MTF8kbfxkPljcmB5eWNk2umljeuGR4vbyx+/4nyRv+Sc+WN2bf+Wt44+/115Y0KbxAIBAKBQCAQCAQCgUAgEAgEAoFAIBAIBAKBQCAQCAQCgUAgEAgEAoFA0Gnbtr3ch4ArlTcIBAKBQCAQCAQCgUAgEAgEAoFAIBAIBAKBQCAQCAQCgUAgEAj+AYdIt0Bb8F54AAAAAElFTkSuQmCC\", \"iVBORw0KGgoAAAANSUhEUgAAAMgAAADICAYAAACtWK6eAAAAOXRFWHRTb2Z0d2FyZQBNYXRwbG90bGliIHZlcnNpb24zLjguMywgaHR0cHM6Ly9tYXRwbG90bGliLm9yZy/H5lhTAAAACXBIWXMAAA9hAAAPYQGoP6dpAAAEo0lEQVR4nO3dS4iVBRjG8XNmxhBplC6LLlZOTmhBWULZTtuEi9wIaQpFqzTLGtOMchVBN5KZMGu2bboIUotqE9Yq0YSQIpupMdFW1WziJF1m9GvVLp7FeU/MLH6//ffMx8Cfb/Vy2k3TNC3gP/XN9QvAfCYQCAQCgUAgEAgEAoFAIBAIBAKBQCAQCAQCgUAgEAgEAoFgoPLw2iN7yi9w7puryxsLOvXOZwYvljda7fpEqwfHBx9sHCtv3HbJwvLG+hvuKm/88Mrq8saZkd1dP+sLAoFAIBAIBAKBQCAQCAQCgUAgEAgEAoFAIBAIBAKBQCAQCAQCgUAgEAhKB1O9OHbqhYXT9Y3ZRfVrp6+3vF7euPXQE+WNy/tmyxu90ItjpxXjv9ZfZKT7R31BIBAIBAKBQCAQCAQCgUAgEAgEAoFAIBAIBAKBQCAQCAQCgUAgEAgEAkHpYKoXv6h0atOB8sYth3bWX6QHenHsNLznRHlj6QOXljemL5wvb0xsPljeWNl6rLxR4QsCgUAgEAgEAoFAIBAIBAKBQCAQCAQCgUAgEAgEAoFAIBAIBAKBQCAQCEoHU8NPHa+/wKb+8sbwrmPljanRu8sbfTP1C7KfnltT3jj519HyxsOjT5c3Ossuljfmmi8IBAKBQCAQCAQCgUAgEAgEAoFAIBAIBAKBQCAQCAQCgUAgEAgEAoFAICgdTE3trx/3HD7/Y3njwrrV5Y3Tm8fLG71w575HyxvP3ry2vNF5sX7s9Op975Q39n68tbxR4QsCgUAgEAgEAoFAIBAIBAKBQCAQCAQCgUAgEAgEAoFAIBAIBAKBQCAQCNpN0zTdPvzh6VXlFxj55KHyxqLrOuWNgc+XlDc6Q/Ujo5ue+aq8cXDqs/LGhhPbyxutk4vLE39cO1veOLut+1/L8gWBQCAQCAQCgUAgEAgEAoFAIBAIBAKBQCAQCAQCgUAgEAgEAoFAIBAIBKWDqRtH95dfoGmXJ1rt+p1Sq+mvb6x4/rvyxsQLK8sb7Zn6P7X/7/rG8NvT5Y3JR64ob5x5cnfXz/qCQCAQCAQCgUAgEAgEAoFAIBAIBAKBQCAQCAQCgUAgEAgEAoFAIBAIBIKBysNTW8bLL7B+aE15463vj5Q3BvvqB0Lrfu7+l4z+NbnxQHnj9jd2ljeWvnS0vDF29ovyxok/ry9vtFoOpuB/IRAIBAKBQCAQCAQCgUAgEAgEAoFAIBAIBAKBQCAQCAQCgUAgEAgEgtLB1OHfF5dfYHJsVXljaMHx8sby97aXN4Zfrh8ZbXitfkD27bk3yxt3dHaUN3bds6y8MfH4VeWNB0e6f9YXBAKBQCAQCAQCgUAgEAgEAoFAIBAIBAKBQCAQCAQCgUAgEAgEAoFAIBCUDqb2frS1/AI77v20vDH8bv3Y6bKJ+i9MXXNssLzxy/1LyhvL3+/B8deXnfLGqX1Xljf6fitP1P7+3P55mN8EAoFAIBAIBAKBQCAQCAQCgUAgEAgEAoFAIBAIBAKBQCAQCAQCgUDQbpqmmeuXgPnKFwQCgUAgEAgEAoFAIBAIBAKBQCAQCAQCgUAgEAgEAoFAIBAIBP8AMDCbNkWPDOEAAAAASUVORK5CYII=\", \"iVBORw0KGgoAAAANSUhEUgAAAMgAAADICAYAAACtWK6eAAAAOXRFWHRTb2Z0d2FyZQBNYXRwbG90bGliIHZlcnNpb24zLjguMywgaHR0cHM6Ly9tYXRwbG90bGliLm9yZy/H5lhTAAAACXBIWXMAAA9hAAAPYQGoP6dpAAAEqElEQVR4nO3dT2jXdRzH8e3X5i4Vsl0ytRgzZpYgUQZ5MJIohaIIyzCCAmEkwS8tgkEFBbvUKLOBZJFgh8ooCpIZBXUYNKLIJNwKXRDaYTjUoj9U+3XrFK/D7z0oxuNx/772Oez5+54+fDtbrVarA/hXjf/6APB/JhAIBAKBQCAQCAQCgUAgEAgEAoFAIBAIBAKBQCAQCAQCgaCr8nD/i6PlAzxw0yfljYn7rylvtLrqvxXj779e3tiyZmN5Y/qpK8sbHYvoEsRMc3fbz3qDQCAQCAQCgUAgEAgEAoFAIBAIBAKBQCAQCAQCgUAgEAgEAoFAIBAIBILShaneo53lA0wM95Y3Gr3nyhvzfReXN8bOrixvTD9Zv+z06V3PlTdWdF1Y3hh4Y6i8MfjKXHmjo9n+o94gEAgEAoFAIBAIBAKBQCAQCAQCgUAgEAgEAoFAIBAIBAKBQCAQCAQCgaB0YerMuvpniD58+qPyxpFflpc3Pj67pryxc+kP5Y0Dx+qX0FZsq192Wggntu0rbww06peuKrxBIBAIBAKBQCAQCAQCgUAgEAgEAoFAIBAIBAKBQCAQCAQCgUAgEAgEAkFnq9Vq+9bTzY2t5QMcOf1VeeOWS9eVN37fcl15o+fw5+WNzu4l5Y3m8aPljSdGHixvzK2tX6ibunusvNGz7GTbz3qDQCAQCAQCgUAgEAgEAoFAIBAIBAKBQCAQCAQCgUAgEAgEAoFAIBAIBILShan+F0YX4AT1iaXH6yMPPfJueWNk/I7yxuDIifLG7G2ryhtzV9cvO01urf9/rH9nd3nj+4fb3/AGgUAgEAgEAoFAIBAIBAKBQCAQCAQCgUAgEAgEAoFAIBAIBAKBQCAQCARdlYcH958pH2BqqK+88drw8+WNfbM3lje6z9d/b/6anS1vNB//srxxUePX8sb2lRvKG5smj5U3KrxBIBAIBAKBQCAQCAQCgUAgEAgEAoFAIBAIBAKBQCAQCAQCgUAgEAgEAkHpC1O3XjVcPsD0jvqFqcWk8Uf9a1nz3fWvQ/XM1X87L3v2i/LG+MxkeaNxyXftP1v+67CICQQCgUAgEAgEAoFAIBAIBAKBQCAQCAQCgUAgEAgEAoFAIBAIBAKBoHRh6ufTl5cPcP2eZnnjz/U/lTe+vuFAeWPz9h3ljUMHXypvXHtoV3lj1a7PyhuHT9W/dHV+/rfyRt/yU20/6w0CgUAgEAgEAoFAIBAIBAKBQCAQCAQCgUAgEAgEAoFAIBAIBAKBQCAQCEoXpvr3jJYP8PLt+8sbg93nyhsb3360vLEQVu/9sbzxwcR75Y3NV2wob3z7zNryxtQ9Y+WNnmUn237WGwQCgUAgEAgEAoFAIBAIBAKBQCAQCAQCgUAgEAgEAoFAIBAIBAKBQCAQdJWe7qwf4IKOtu9r/WPTwcfKG5099XN8c+/e8sadr95X3hh4a6i8MbhkuryxEFa/ubO8MdNs/1lvEAgEAoFAIBAIBAKBQCAQCAQCgUAgEAgEAoFAIBAIBAKBQCAQCAQCgUBQ+sIULHbeIBAIBAKBQCAQCAQCgUAgEAgEAoFAIBAIBAKBQCAQCAQCgUAg+BsOzKgwTOCMggAAAABJRU5ErkJggg==\", \"iVBORw0KGgoAAAANSUhEUgAAAMgAAADICAYAAACtWK6eAAAAOXRFWHRTb2Z0d2FyZQBNYXRwbG90bGliIHZlcnNpb24zLjguMywgaHR0cHM6Ly9tYXRwbG90bGliLm9yZy/H5lhTAAAACXBIWXMAAA9hAAAPYQGoP6dpAAAEt0lEQVR4nO3dT+jfcwDH8e9vfwwbVkaIw28/adKoMcvftgNryMSBRinzZ7QmDBe15CJCS1kOysFBs9RWW/62IgfErIk1Zk22tc1cJL8283Vw1evwex1Ij8f98+rd79ez9+ndd2Q4HA4HwD+a9G8fAP7LBAKBQCAQCAQCgUAgEAgEAoFAIBAIBAKBQCAQCAQCgUAgEExpPr5u6yP1AXbtOavemLPy63pjZPS8emPLh2/VGzdccl29sfOpsXrj3kVb642Pr5hVbxy66+J6Y9u6Ryf8rRsEAoFAIBAIBAKBQCAQCAQCgUAgEAgEAoFAIBAIBAKBQCAQCAQCgUAgEFQPpiY9PKM+wJw939Ybg8mT64nhj/vrjVu+W1xv7FvWP3b67Nbn641Zk6fXG2PPLKo3BmeO9xsFNwgEAoFAIBAIBAKBQCAQCAQCgUAgEAgEAoFAIBAIBAKBQCAQCAQCgUAgqB5M7Vo+sz7AmiUf1BsbDl5Wb7w6uqHeuGrTY/XGhZv21RsnPz613pj99gP1xuSjI/XG8V9OqDcabhAIBAKBQCAQCAQCgUAgEAgEAoFAIBAIBAKBQCAQCAQCgUAgEAgEAoFAUD2Ymnak72vN1lvrjQse+rzeuPqF1fXGlPH+gdCfh36uN54+fHm9MeXX/n972twj9cbn89bXG4PBxP+3bhAIBAKBQCAQCAQCgUAgEAgEAoFAIBAIBAKBQCAQCAQCgUAgEAgEAoFAUD2YGn3jp/oAO1edU2/8vnR+vTHo3zoNjp80rDf+vGh2vbF17Yx64/zN39cbG796p9441v9JB9OKb90gEAgEAoFAIBAIBAKBQCAQCAQCgUAgEAgEAoFAIBAIBAKBQCAQCAQCgaB6MHX8wMH6ALvv2FRvvHNz8yTmbzvGz6033nvw2npj8NmOeuK3Jy+qN9at2Vxv3HTugnrj0i+P1xvPnj3xb90gEAgEAoFAIBAIBAKBQCAQCAQCgUAgEAgEAoFAIBAIBAKBQCAQCAQCgaB6MHVk2bz6ADfOm1lv7HxitN5Ycs22emPvjSfWG1MWXllvjK78od64ffWqeuOCWbvrjUunf1pvNNwgEAgEAoFAIBAIBAKBQCAQCAQCgUAgEAgEAoFAIBAIBAKBQCAQCAQCgaB6MPXL3GF9gPFZY/XGe7c9V2/c9c3d9cbp2/u/x6H5/cYf551Rb0w6OlJvbNn+fr3x0Xg9UXGDQCAQCAQCgUAgEAgEAoFAIBAIBAKBQCAQCAQCgUAgEAgEAoFAIBAIBILqwdSK6/sHMT8fO6XeGJs6o9449G3/yGgwv5+Y8/KBemPzJxvrjbE3V9QbC5ffV2/sXdo/3Np7/8S/dYNAIBAIBAKBQCAQCAQCgUAgEAgEAoFAIBAIBAKBQCAQCAQCgUAgEAgEgpHhcDjhnzQae/7F+gDb71xbb8xdv6reGOl/2Gnwxe0v1RvLFtxWb+x/5dR64+zlh+uN177sH27dc+HieuPdX1+f8LduEAgEAoFAIBAIBAKBQCAQCAQCgUAgEAgEAoFAIBAIBAKBQCAQCAQCgUBQPZiC/zs3CAQCgUAgEAgEAoFAIBAIBAKBQCAQCAQCgUAgEAgEAoFAIBAI/gK3Zp8/6UAN5gAAAABJRU5ErkJggg==\", \"iVBORw0KGgoAAAANSUhEUgAAAMgAAADICAYAAACtWK6eAAAAOXRFWHRTb2Z0d2FyZQBNYXRwbG90bGliIHZlcnNpb24zLjguMywgaHR0cHM6Ly9tYXRwbG90bGliLm9yZy/H5lhTAAAACXBIWXMAAA9hAAAPYQGoP6dpAAAErUlEQVR4nO3dT2jXdRzH8d9vmV5qRFpKZa1mOrJYBAOjU0ZEaw6CRtRBpH+YYCXUIQKJupQQYWlQhzpEwkjIEGLegg5GYFkR6IYuyrRgONYfS3P7duoWr8Pv/YMiHo/798WXjefvc/rwbTdN07SAf9Tzb78A/JcJBAKBQCAQCAQCgUAgEAgEAoFAIBAIBAKBQCAQCAQCgUAgWFR5+Nqdr5RfoOlCosu+aNffoz7R+mN0rrxx/stLyhsjowfLG5+fXlneWHzvbHmjvXxZeWNickfHzzpBIBAIBAKBQCAQCAQCgUAgEAgEAoFAIBAIBAKBQCAQCAQCgUAgEAgEAkHpwlSrC18Wac/XNy5971B5Y+rlW+ov8m1veaJ98UJ546Xl9b9Hqwsba57fUt7o23+uvFHhBIFAIBAIBAKBQCAQCAQCgUAgEAgEAoFAIBAIBAKBQCAQCAQCgUAgEAgEtQtTXchrzeB35Y2HvzlS3vjst/rFnL0frytvXPFJ/cLUBQ/U/zH945vLGy+MvF/e2N4zVt6ocIJAIBAIBAKBQCAQCAQCgUAgEAgEAoFAIBAIBAKBQCAQCAQCgUAgEAgEgtqFqfrdntbRw1eXN95a31/emHmsftlpYOJEeePIk1eWN0Ym7y5vLJ6t/3Zu/6gLl53a9YkKJwgEAoFAIBAIBAKBQCAQCAQCgUAgEAgEAoFAIBAIBAKBQCAQCAQCgUAgKF2Yuu6Ds+UXOHbfkvLGomtWljdOD/1Z3li7aa68cfnr9QtTZz9cUd44f09T3ujGZaehocn6SIETBAKBQCAQCAQCgUAgEAgEAoFAIBAIBAKBQCAQCAQCgUAgEAgEAoFAIBCULkxdOPNr+QWOj71T3jg0eq68MbZ/a3lj5q7yRKv350/LG1M761/LenfD7vLGxn1byhvDS78qb1Q4QSAQCAQCgUAgEAgEAoFAIBAIBAKBQCAQCAQCgUAgEAgEAoFAIBAIBAJB6cLU0UeXll9g+Kb15Y352fqXnbZ9PVHe2DU3XN7onS5PtAZ2/VTe2LhQv+w08OqJ8saLK0bKG5tWd/6sEwQCgUAgEAgEAoFAIBAIBAKBQCAQCAQCgUAgEAgEAoFAIBAIBAKBQCAQlC5MdcP3Dw2UNxbW1S9MjVz0Znlj4u2byxs/vrakvNHsOVneWLXteHlj3w+HyhtnmvrXw1qt5zp+0gkCgUAgEAgEAoFAIBAIBAKBQCAQCAQCgUAgEAgEAoFAIBAIBAKBQCAQCNpN0zSdPvz7qb7yC9wwvrW8MXn/G+WN1eP1Lyq159vljf5nDpY3Dpw8XN4YHryzvDH9+PXljQOP7Chv9F11quNnnSAQCAQCgUAgEAgEAoFAIBAIBAKBQCAQCAQCgUAgEAgEAoFAIBAIBAKBoPSFqbV7nii/wOSDu8sbG268o7zR82z9stPgrVPljV/KC61W//jm8saq/jPljctu6/yi0t9u3/t0eWP6qc6fdYJAIBAIBAKBQCAQCAQCgUAgEAgEAoFAIBAIBAKBQCAQCAQCgUAgEAgEgtIXpuD/zgkCgUAgEAgEAoFAIBAIBAKBQCAQCAQCgUAgEAgEAoFAIBAIBIK/AH1Fnci7wkcJAAAAAElFTkSuQmCC\", \"iVBORw0KGgoAAAANSUhEUgAAAMgAAADICAYAAACtWK6eAAAAOXRFWHRTb2Z0d2FyZQBNYXRwbG90bGliIHZlcnNpb24zLjguMywgaHR0cHM6Ly9tYXRwbG90bGliLm9yZy/H5lhTAAAACXBIWXMAAA9hAAAPYQGoP6dpAAAEqElEQVR4nO3dS6vWVQDF4fek1hGFBlGRGscQw0skXYxqUFFRJhVCok0kQgIjK7oMwoLKgYRFNTIHDcouEJFRVJKQIJSEGAgFeSnlICQmNuhChNnbF4g1OEso4nnm72Ir/tyjzX9kOBwOB8A/OuPfPgD8lwkEAoFAIBAIBAKBQCAQCAQCgUAgEAgEAoFAIBAIBAKBQCCY3Px47NWN9QFG/ugbnbf+UL0xft/ceuP38/+qN0ZO1RODnctfqDeu3/p4f5D+r2Nw1k/9v4996x+Z8G/dIBAIBAKBQCAQCAQCgUAgEAgEAoFAIBAIBAKBQCAQCAQCgUAgEAgEAoGgezD1fn+A45dNqjdGJvWdz9qwq944+/Nz6o0TT8+uN2bdPb3e2HLnpnrjgZfW1hsztv9YbwzWT/ynbhAIBAKBQCAQCAQCgUAgEAgEAoFAIBAIBAKBQCAQCAQCgUAgEAgEAoFAUD2YOnJr/9hpOKX/pNK3T86uN+Zd0v9ZNo29W2+sOr663jgdTpzqH12dt+e3euPg0/05Gm4QCAQCgUAgEAgEAoFAIBAIBAKBQCAQCAQCgUAgEAgEAoFAIBAIBAKBQFA9mLr4ib31AbYd+rLeWDJ2Vb0xPHNKvbFqcEu9Mbion3jrl/5LV6+tvqPeOLRitN5YOb//8lfDDQKBQCAQCAQCgUAgEAgEAoFAIBAIBAKBQCAQCAQCgUAgEAgEAoFAIBAIqgdT3z1z2Wk4Qv9g6nTYdvCLemPOO2vqjWXX7a433rxyQb0xvm5qvfH9ylfqjYt33lNvPLdo4r91g0AgEAgEAoFAIBAIBAKBQCAQCAQCgUAgEAgEAoFAIBAIBAKBQCAQCASC6sHUhTtO1gd46ObF9cbWw5/XG7v/GKk3ph7r/7/55oq/6o17939Tbywe3VZvLL3p3npj44fv1RuDwVMT/qUbBAKBQCAQCAQCgUAgEAgEAoFAIBAIBAKBQCAQCAQCgUAgEAgEAoFAIBBUD6ambN9TH+CTW6+uN/Y/1j/cOrD5qnpjdLSeGJxx6bx64/VF/UHWPb+i3pj/85F6Y9m0X+uNhhsEAoFAIBAIBAKBQCAQCAQCgUAgEAgEAoFAIBAIBAKBQCAQCAQCgUAgEFQPpjaP9192WvLGNfXGpz/srTdODr+qNxZuWVtvfLTt7Xrjyg39OeY+uKveOPLYtfXG0T/7B1Mzi9+6QSAQCAQCgUAgEAgEAoFAIBAIBAKBQCAQCAQCgUAgEAgEAoFAIBAIBAJB9WDqxh0P9yeY0X8d6vYDt9UbJ284Wm+cenFYbyyddUW98cH4xnrj/q3L641pNx+rNy6YPL3eaLhBIBAIBAKBQCAQCAQCgUAgEAgEAoFAIBAIBAKBQCAQCAQCgUAgEAgEAkH1YGps5on6AJ8t3FpvLJ15eb0x/mz/NaSvV7xcb9y17rp64/qPH603Foz2j52OHTi33pizb029cbh41+cGgUAgEAgEAoFAIBAIBAKBQCAQCAQCgUAgEAgEAoFAIBAIBAKBQCAQCAQjw+Gw/ywS/E+5QSAQCAQCgUAgEAgEAoFAIBAIBAKBQCAQCAQCgUAgEAgEAoFA8DdslZbYvUS3gQAAAABJRU5ErkJggg==\", \"iVBORw0KGgoAAAANSUhEUgAAAMgAAADICAYAAACtWK6eAAAAOXRFWHRTb2Z0d2FyZQBNYXRwbG90bGliIHZlcnNpb24zLjguMywgaHR0cHM6Ly9tYXRwbG90bGliLm9yZy/H5lhTAAAACXBIWXMAAA9hAAAPYQGoP6dpAAAEx0lEQVR4nO3dy4uWdRzG4ffVMbOgRRBMNQZNjk4ggRkElkJGdpAMokxCEKRIw0osJGpTrR1xFSiYC5E8lNaiKUvEEQoDtXAR5Wk8oR1cCCZp6Tz9A3Ev3m+gyHXtn3t+DHzeZ/XjaTdN07SA/zTqah8ArmUCgUAgEAgEAoFAIBAIBAKBQCAQCAQCgUAgEAgEAoFAIBAIuioPj/zaVz5A746F5Y3+14+UNy5Mn1TeeOiDPeWNfVPHlDfWHhsqbwxemFje+Ozh/vLGL+/WzzG89M2On/UGgUAgEAgEAoFAIBAIBAKBQCAQCAQCgUAgEAgEAoFAIBAIBAKBQCAQCASlC1P3DbxaPkC7Z6S8MfLXxfLGqUfqvxX9406XNzateK680dO1r7yx4Jbj5Y2PnphT3ujbcL680Vra+aPeIBAIBAKBQCAQCAQCgUAgEAgEAoFAIBAIBAKBQCAQCAQCgUAgEAgEAoGgdGHq/L1/lw+w87FV5Y2ZNy4rb7w2/evyxtC5+heVJq0+W95ozatPXGma8saTy3eXN745U/+fVniDQCAQCAQCgUAgEAgEAoFAIBAIBAKBQCAQCAQCgUAgEAgEAoFAIBAIBIJ203R+M2bWuPnlA3w1/H1546n+GeWNVk93eeLgwlvLGxM2XaifY8mY8sadn9c3Tj19ubwx/Pja8sao7kOdP1v+63AdEwgEAoFAIBAIBAKBQCAQCAQCgUAgEAgEAoFAIBAIBAKBQCAQCAQCQekLUyeXTS0f4J/mu/JGq/u28sTgjs3ljd5tr5Q35q3fXt7YOH9WeeOP+8eWNybc9Xt5455Ni8obw290/qw3CAQCgUAgEAgEAoFAIBAIBAKBQCAQCAQCgUAgEAgEAoFAIBAIBAKBQCAofWFqy+H6hanlX7xY3jg498PyRt/WxeWNO3aVJ1o3f1r/4taGk9+WNx4cWlLemLjiUnnj/7B9//sdP+sNAoFAIBAIBAKBQCAQCAQCgUAgEAgEAoFAIBAIBAKBQCAQCAQCgUAgEAhKF6Z6B1aWD9D33oHyRnOpfjFn3dFd5Y2Za5eXN3pXHylvXP6t/mWnE5snlzfufvlEeWPwp6HyxqjuQ50/W/7rcB0TCAQCgUAgEAgEAoFAIBAIBAKBQCAQCAQCgUAgEAgEAoFAIBAIBAJB6cLUpTO95QPMfn5heePLLevKGy8cnVXe6LnpXHlj1e17yxuzp80pb1w+Vr/sNHlf/fd364Ep5Y3jC97u+FlvEAgEAoFAIBAIBAKBQCAQCAQCgUAgEAgEAoFAIBAIBAKBQCAQCAQCgUDQVXl4THt0+QDjV9a/qDS6Xe/8h70Tyhs/jpQnWj+/U/+ffnx4Y3njgU+WlTfOrmmXN8Y++md5o8IbBAKBQCAQCAQCgUAgEAgEAoFAIBAIBAKBQCAQCAQCgUAgEAgEAoFAIBCULkztuXilfIA143eXN2YsXlTeuGFK/bdiz0sD5Y25b00rb5y+Ur+o1LehflHp2fU7yxsrtj1T3qjwBoFAIBAIBAKBQCAQCAQCgUAgEAgEAoFAIBAIBAKBQCAQCAQCgUAgEAgE7aZpmqt9CLhWeYNAIBAIBAKBQCAQCAQCgUAgEAgEAoFAIBAIBAKBQCAQCAQCgeBfOh+3aTP4kDUAAAAASUVORK5CYII=\"], \"probs\": [[], [[\"l\", 0.8755099773406982], [\"n\", 0.10992980748414993], [\"B\", 0.012083535082638264], [\"r\", 0.00082892004866153], [\"h\", 0.0007279638666659594]], [[\"i\", 0.9957332015037537], [\"d\", 0.0025727408938109875], [\"l\", 0.0016418624436482787], [\"r\", 4.1034996684174985e-05], [\" \", 6.225563083717134e-06]], [[\"c\", 0.9997331500053406], [\"t\", 0.00024131198006216437], [\"v\", 1.0434857358632144e-05], [\"n\", 5.3658391152566765e-06], [\"e\", 3.975501385866664e-06]], [[\"e\", 0.9992735981941223], [\"l\", 0.00071863824268803], [\"h\", 2.055232926068129e-06], [\"s\", 1.780400452844333e-06], [\"g\", 1.671571681072237e-06]], [[\",\", 0.535291314125061], [\" \", 0.29470759630203247], [\".\", 0.1195189505815506], [\";\", 0.020635556429624557], [\"\\n\", 0.011080645024776459]], [[\"a\", 0.2831249535083771], [\"h\", 0.22528259456157684], [\"v\", 0.2204720675945282], [\"t\", 0.10646021366119385], [\"s\", 0.03500591218471527], [\"...\", 0.0], [\"l\", 3.527221269905567e-05]], [[\"o\", 0.8356541395187378], [\"e\", 0.1582450419664383], [\"a\", 0.005918254144489765], [\"i\", 0.0001620762632228434], [\"u\", 1.815491123124957e-05]], [[\"o\", 0.9963745474815369], [\"u\", 0.0021093105897307396], [\"i\", 0.0005232195253483951], [\"v\", 0.0003872904635500163], [\"n\", 0.00034151921863667667]], [[\"k\", 0.9996428489685059], [\"g\", 0.00016421530744992197], [\"d\", 0.00014604440366383642], [\"l\", 2.7921405489905737e-05], [\"v\", 1.4848672435618937e-05]], [[\"e\", 0.9867146611213684], [\"i\", 0.013129365630447865], [\"y\", 0.00012767635053023696], [\"o\", 8.074265679169912e-06], [\"a\", 7.442307378369151e-06]], [[\"d\", 0.9937102794647217], [\",\", 0.004478887654840946], [\"s\", 0.0009400062263011932], [\"c\", 0.00038765714270994067], [\".\", 0.0002489083562977612]], [[\" \", 0.9735941886901855], [\"\\n\", 0.006581720896065235], [\",\", 0.00451735919341445], [\"N\", 0.004357131663709879], [\"y\", 0.0022249973844736814]], [[\"a\", 0.7073227167129517], [\"u\", 0.13044726848602295], [\"r\", 0.03186856582760811], [\"v\", 0.030834903940558434], [\"o\", 0.030291754752397537]], [[\"t\", 0.5120733976364136], [\"n\", 0.20863354206085205], [\"s\", 0.17267313599586487], [\"c\", 0.07228106260299683], [\"m\", 0.013161120004951954]], [[\" \", 0.8368136286735535], [\"\\n\", 0.120443195104599], [\"w\", 0.03271201252937317], [\"t\", 0.006703078746795654], [\"o\", 0.0027692371513694525]], [[\"t\", 0.5550028085708618], [\"o\", 0.21047639846801758], [\"A\", 0.096893809735775], [\"a\", 0.07460356503725052], [\"i\", 0.030682498589158058]], [[\"h\", 0.9966462254524231], [\"o\", 0.0030134636908769608], [\"w\", 0.00019180412346031517], [\"e\", 3.9739687053952366e-05], [\"r\", 3.5759458114625886e-05]], [[\"e\", 0.9951011538505554], [\"a\", 0.0034404927864670753], [\"i\", 0.0008474248461425304], [\"r\", 0.0005897231749258935], [\"o\", 2.0539808247121982e-05]], [[\" \", 0.851629376411438], [\"m\", 0.1066630631685257], [\"\\n\", 0.022884979844093323], [\"r\", 0.017690230160951614], [\"i\", 0.0008297715103253722]], [[\"c\", 0.11170735955238342], [\"p\", 0.10506026446819305], [\"s\", 0.08616320043802261], [\"m\", 0.08572275191545486], [\"b\", 0.075382299721241], [\"...\", 0.0], [\"k\", 0.0010226782178506255]], [[\"n\", 0.6582589149475098], [\"i\", 0.2729858160018921], [\"e\", 0.06236083805561066], [\"o\", 0.003380953799933195], [\"u\", 0.0021211421117186546]], [[\"n\", 0.9920647740364075], [\"t\", 0.006272712256759405], [\"f\", 0.0009106375509873033], [\"o\", 0.0002644347841851413], [\"d\", 0.00018251473375130445]], [[\"c\", 0.9717944264411926], [\"l\", 0.01969536580145359], [\"d\", 0.007802951615303755], [\"k\", 0.00042311628931201994], [\"g\", 0.00017903989646583796]], [[\" \", 0.5252783894538879], [\"i\", 0.2443062663078308], [\".\", 0.06911429762840271], [\",\", 0.05771844834089279], [\"w\", 0.05075562372803688]], [[\"a\", 0.8219401240348816], [\"m\", 0.07711764425039291], [\"o\", 0.03858966752886772], [\"i\", 0.024427689611911774], [\"v\", 0.019319120794534683], [\"...\", 0.0], [\"s\", 4.73861800855957e-05]], [[\"o\", 0.688497006893158], [\"t\", 0.13390113413333893], [\"l\", 0.07135579735040665], [\"i\", 0.0411137193441391], [\"u\", 0.04091275483369827], [\"...\", 0.0], [\"a\", 0.010467243380844593]], [[\"v\", 0.4229373037815094], [\"i\", 0.22196148335933685], [\"y\", 0.1778213381767273], [\"t\", 0.07391240447759628], [\"w\", 0.032590243965387344]], [[\"d\", 0.9984055161476135], [\"n\", 0.0012202162761241198], [\"v\", 0.00018913170788437128], [\"l\", 8.129946945700794e-05], [\"t\", 3.6163499316899106e-05]], [[\",\", 0.7178599238395691], [\" \", 0.1527584195137024], [\".\", 0.055311720818281174], [\";\", 0.029184749349951744], [\":\", 0.028760820627212524]], [[\"t\", 0.731204092502594], [\"i\", 0.12609824538230896], [\"a\", 0.07153946161270142], [\"l\", 0.009389594197273254], [\"o\", 0.009299377910792828]], [[\"o\", 0.9979963898658752], [\"h\", 0.0019459640607237816], [\"a\", 4.0666320273885503e-05], [\"u\", 1.18659236250096e-05], [\"i\", 2.328946038687718e-06]], [[\"a\", 0.8337935209274292], [\"i\", 0.15166272222995758], [\"e\", 0.01247686892747879], [\"r\", 0.0012573436833918095], [\"o\", 0.0004718313575722277]], [[\" \", 0.9534333348274231], [\"\\n\", 0.031827621161937714], [\"m\", 0.010591243393719196], [\"r\", 0.0015676238108426332], [\"i\", 0.0011417546775192022]], [[\"L\", 0.3223917782306671], [\"D\", 0.15828119218349457], [\"H\", 0.151897132396698], [\"P\", 0.03435228765010834], [\"Q\", 0.03351329639554024], [\"...\", 0.0], [\"c\", 0.004136993084102869]], [[\"o\", 0.890934944152832], [\"a\", 0.06641320884227753], [\"r\", 0.033433947712183], [\"u\", 0.003964596427977085], [\"h\", 0.002580143976956606]], [[\"p\", 0.41665974259376526], [\"m\", 0.22601370513439178], [\"r\", 0.14371690154075623], [\"i\", 0.10747743397951126], [\"u\", 0.07216271758079529], [\"...\", 0.0], [\"t\", 0.0011098211398348212]], [[\"c\", 0.8536295890808105], [\"s\", 0.050454359501600266], [\".\", 0.017947454005479813], [\"t\", 0.015890786424279213], [\" \", 0.015170167200267315], [\"...\", 0.0], [\"e\", 8.372673619305715e-05]], [[\"r\", 0.8699554204940796], [\"s\", 0.12762072682380676], [\"v\", 0.0013273985823616385], [\"d\", 0.0009504655608907342], [\"e\", 6.642628432018682e-05]], [[\"r\", 0.3967820107936859], [\"l\", 0.3119541108608246], [\"b\", 0.2457028329372406], [\"w\", 0.017932014539837837], [\"u\", 0.010713613592088223], [\"...\", 0.0], [\"p\", 0.007240533363074064]], [[\"l\", 0.9999523162841797], [\"t\", 2.2389025616575964e-05], [\"e\", 1.3422036317933816e-05], [\"i\", 9.010562280309387e-06], [\"a\", 2.2534031813847832e-06]], [[\"l\", 0.8726520538330078], [\"x\", 0.04855616018176079], [\"b\", 0.047406259924173355], [\"f\", 0.02033352665603161], [\"n\", 0.0053924694657325745]], [[\"l\", 0.8733606338500977], [\"f\", 0.11682450026273727], [\"b\", 0.005913442000746727], [\"a\", 0.003163280664011836], [\"r\", 0.00024042199947871268]], [[\"r\", 0.9998891353607178], [\"u\", 5.398968642111868e-05], [\"n\", 4.9504233174957335e-05], [\"g\", 2.2894562334840884e-06], [\"v\", 1.973563257706701e-06]], [[\"t\", 0.6142130494117737], [\" \", 0.1580195426940918], [\"r\", 0.08407733589410782], [\"-\", 0.06397001445293427], [\"e\", 0.018719540908932686]], [[\"p\", 0.2695246636867523], [\"j\", 0.15582051873207092], [\"c\", 0.12548613548278809], [\"H\", 0.05705028772354126], [\"a\", 0.050920624285936356], [\"...\", 0.0], [\"i\", 0.018294161185622215]], [[\"t\", 0.517159104347229], [\"s\", 0.27409908175468445], [\"r\", 0.12463357299566269], [\"n\", 0.06462254375219345], [\"m\", 0.012530584819614887]], [[\"d\", 0.9575079083442688], [\"c\", 0.024336781352758408], [\" \", 0.008212316781282425], [\"s\", 0.004004113841801882], [\"n\", 0.003018840914592147]], [[\"a\", 0.5237413644790649], [\"r\", 0.22307096421718597], [\"t\", 0.10637660324573517], [\"i\", 0.032555896788835526], [\"l\", 0.02560945227742195]], [[\"n\", 0.8129113912582397], [\" \", 0.08310618996620178], [\"t\", 0.07293189316987991], [\"\\n\", 0.013200144283473492], [\"d\", 0.005487465299665928]], [[\"t\", 0.4676574468612671], [\"l\", 0.09421670436859131], [\"f\", 0.09364162385463715], [\"d\", 0.07817568629980087], [\"m\", 0.04927540943026543]], [[\"o\", 0.8653504848480225], [\"a\", 0.09862516075372696], [\"i\", 0.03342323377728462], [\"e\", 0.0025071033742278814], [\"u\", 9.11512179300189e-05]], [[\"w\", 0.7711594104766846], [\"n\", 0.11318355053663254], [\"u\", 0.07466264814138412], [\"c\", 0.03936313837766647], [\"i\", 0.0006318152882158756]], [[\" \", 0.45903924107551575], [\"\\n\", 0.36201897263526917], [\",\", 0.08930555731058121], [\"e\", 0.03210141882300377], [\"B\", 0.01450883224606514]], [[\"v\", 0.4190252125263214], [\"t\", 0.35963255167007446], [\"s\", 0.10630752891302109], [\"w\", 0.03486708551645279], [\"f\", 0.029904525727033615]], [[\"o\", 0.9022363424301147], [\"e\", 0.09257623553276062], [\"a\", 0.0033724880777299404], [\"i\", 0.0016594830667600036], [\"u\", 0.00015539873857051134]], [[\"i\", 0.9988045692443848], [\"o\", 0.0007368793594650924], [\"l\", 0.0004282774170860648], [\"a\", 2.9405991881503724e-05], [\"u\", 4.533570745479665e-07]], [[\"c\", 0.9995194673538208], [\"n\", 0.00045369091094471514], [\"t\", 1.233226794283837e-05], [\"m\", 9.817993486649357e-06], [\"s\", 2.1430187189253047e-06]], [[\"e\", 0.9999916553497314], [\"i\", 5.382629751693457e-06], [\"u\", 2.5603467292967252e-06], [\"o\", 2.3283747907498764e-07], [\"a\", 2.123070572679353e-07]]]}');\n",
      "function handle_mouseover(event) {\n",
      "    el = event.target\n",
      "    idx = el.getAttribute('data-idx');\n",
      "    // image of the weights\n",
      "    document.querySelector('.activations img').src = \"data:image/png;base64,\" + db['images'][idx];\n",
      "    // probability for the top tokens\n",
      "    probs = document.querySelector('.infos .probs');\n",
      "    db['probs'][idx].forEach((vals) => {\n",
      "        div = document.createElement('div');\n",
      "        div.classList.add('prob');\n",
      "        prob = document.createElement('div');\n",
      "        prob.textContent = vals[1].toFixed(2);\n",
      "        token = document.createElement('div');\n",
      "        token.classList.add('token');\n",
      "        if (vals[0] === db['tokens'][idx]) { token.classList.add('current'); }\n",
      "        token.textContent = vals[0]\n",
      "        div.appendChild(prob);\n",
      "        div.appendChild(token);\n",
      "        probs.appendChild(div);\n",
      "    });\n",
      "    // saliency maps for tokens\n",
      "    document.querySelectorAll('.tokens .token').forEach((el, i) => {\n",
      "        if (i < idx) {\n",
      "            value = db['colors'][idx][i];\n",
      "            if (value < 0) {\n",
      "                const t = (value + 1) / 1;\n",
      "                red = Math.round(255 * t);\n",
      "                green = Math.round(255 * t);\n",
      "                blue = Math.round(255 * (1 - t) + 255 * t);\n",
      "            } else {\n",
      "                const t = value / 1;\n",
      "                red = Math.round(255);\n",
      "                green = Math.round(255 * (1 - t));\n",
      "                blue = Math.round(255 * (1 - t));\n",
      "            }\n",
      "            el.style.backgroundColor = `rgb(${red}, ${green}, ${blue})`;\n",
      "        }\n",
      "    });\n",
      "}\n",
      "\n",
      "function handle_mouseout(event) {\n",
      "    document.querySelector('.infos .activations img').src = \"data:image/png;base64,\" + db['default_image'];\n",
      "    document.querySelector('.infos .probs').innerHTML = '';\n",
      "    document.querySelectorAll('.token').forEach((el, i) => {\n",
      "        el.style.backgroundColor = '';\n",
      "    });\n",
      "}\n",
      "\n",
      "function start() {\n",
      "    el = document.querySelector('.container .tokens');\n",
      "    db['tokens'].forEach((token, idx) => {\n",
      "        span = document.createElement('span');\n",
      "        span.textContent = token;\n",
      "        span.setAttribute('class', 'token');\n",
      "        span.setAttribute('data-idx', idx);\n",
      "        span.addEventListener('mouseover', handle_mouseover);\n",
      "        span.addEventListener('mouseout', handle_mouseout);\n",
      "        el.appendChild(span);\n",
      "    });\n",
      "    document.querySelector('.activations img').src = \"data:image/png;base64,\" + db['default_image'];\n",
      "}\n",
      "\n",
      "start();\n",
      "})(); // end scope\n",
      "</script>\n",
      "\n"
     ]
    }
   ],
   "source": [
    "# print(build_html_widget(stacked_lstm, 'Alice, said Alice in a little paper all alomer frog to the end.')\n",
    "print(build_html_widget(stacked_lstm, 'Alice looked at the king said the caterpilar in a low voice'))"
   ]
  },
  {
   "cell_type": "code",
   "execution_count": 137,
   "metadata": {},
   "outputs": [
    {
     "name": "stdout",
     "output_type": "stream",
     "text": [
      "Alice as well\n",
      "as she could not one of\n",
      "them.\n",
      "\n",
      "Im\n",
      "Off watching the rights high to reply speak, and, as they were give to every saye tise a real\n",
      "off\n",
      "this clobs; and, on his\n",
      "alans of anxiously round that\n",
      "\n"
     ]
    }
   ],
   "source": [
    "print(stacked_lstm.sample(d_sample=200))"
   ]
  }
 ],
 "metadata": {
  "kernelspec": {
   "display_name": "Python 3",
   "language": "python",
   "name": "python3"
  },
  "language_info": {
   "codemirror_mode": {
    "name": "ipython",
    "version": 3
   },
   "file_extension": ".py",
   "mimetype": "text/x-python",
   "name": "python",
   "nbconvert_exporter": "python",
   "pygments_lexer": "ipython3",
   "version": "3.10.12"
  }
 },
 "nbformat": 4,
 "nbformat_minor": 2
}
